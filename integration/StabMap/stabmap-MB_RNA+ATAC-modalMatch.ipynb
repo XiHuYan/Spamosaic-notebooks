{
 "cells": [
  {
   "cell_type": "code",
   "execution_count": 1,
   "id": "cf4aea00-9a9d-43af-bd0c-4c3e8d8ce5ac",
   "metadata": {},
   "outputs": [
    {
     "name": "stderr",
     "output_type": "stream",
     "text": [
      "/home/xuhua/xuhua_disco/miniforge3/envs/Squidpy/lib/python3.8/site-packages/tqdm/auto.py:21: TqdmWarning: IProgress not found. Please update jupyter and ipywidgets. See https://ipywidgets.readthedocs.io/en/stable/user_install.html\n",
      "  from .autonotebook import tqdm as notebook_tqdm\n"
     ]
    }
   ],
   "source": [
    "import sys, os\n",
    "\n",
    "import numpy as np\n",
    "from umap import UMAP\n",
    "import time\n",
    "import matplotlib.pyplot as plt\n",
    "import pandas as pd  \n",
    "import scanpy as sc\n",
    "import scipy.sparse as sps\n",
    "import scipy.io as sio\n",
    "# import scipy.sparse as sp\n",
    "from os.path import join\n",
    "import h5py\n",
    "import warnings\n",
    "import gc\n",
    "from postp import HARMONY"
   ]
  },
  {
   "cell_type": "code",
   "execution_count": 2,
   "id": "f64d1d4f-1353-44b0-a051-a0a4700ad711",
   "metadata": {},
   "outputs": [],
   "source": [
    "def set_col2cat(ad, cols=[]):\n",
    "    for col in cols:\n",
    "        ad.obs[col] = ad.obs[col].astype('category')\n",
    "\n",
    "def unify_colors(queries, color_key, ref_color_dict):\n",
    "    for q in queries:\n",
    "        q.obs[color_key] = q.obs[color_key].astype('category')\n",
    "        q.uns[f'{color_key}_colors'] = [ref_color_dict[_] for _ in q.obs[color_key].cat.categories]\n",
    "    return queries\n",
    "\n",
    "def get_umap(ad, use_reps=[]):\n",
    "    for use_rep in use_reps:\n",
    "        umap_add_key = f'{use_rep}_umap'\n",
    "        sc.pp.neighbors(ad, use_rep=use_rep, n_neighbors=15)\n",
    "        sc.tl.umap(ad)\n",
    "        ad.obsm[umap_add_key] = ad.obsm['X_umap']\n",
    "    return ad\n",
    "\n",
    "def wrap_warn_plot(adata, basis, color, **kwargs):\n",
    "    with warnings.catch_warnings():\n",
    "        warnings.simplefilter(\"ignore\", category=UserWarning)\n",
    "        sc.pl.embedding(adata, basis=basis, color=color, **kwargs)\n",
    "\n",
    "def wrap_warn_comp_plot(ads, basis, colors, figw=5, figh=4, **kwargs):\n",
    "    with warnings.catch_warnings():\n",
    "        warnings.simplefilter(\"ignore\")\n",
    "        for i, color in enumerate(colors):\n",
    "            _, axes = plt.subplots(1, len(ads), figsize=(figw*len(ads), figh))\n",
    "            for j, ad in enumerate(ads):\n",
    "                sc.pl.embedding(ad, basis=basis, color=color, ax=axes[j], show=False, **kwargs)\n",
    "            plt.show()\n",
    "            \n",
    "os.environ['R_HOME'] = '/disco_500t/xuhua/miniforge3/envs/Seurat5/lib/R'\n",
    "os.environ['R_USER'] = '/disco_500t/xuhua/miniforge3/envs/Seurat5/lib/python3.8/site-packages/rpy2'\n",
    "def mclust_R(adata, num_cluster, modelNames='EEE', used_obsm='STAGATE', random_seed=2020):\n",
    "    np.random.seed(random_seed)\n",
    "    import rpy2.robjects as robjects\n",
    "    robjects.r.library(\"mclust\")\n",
    "\n",
    "    import rpy2.robjects.numpy2ri\n",
    "    rpy2.robjects.numpy2ri.activate()\n",
    "    r_random_seed = robjects.r['set.seed']\n",
    "    r_random_seed(random_seed)\n",
    "    rmclust = robjects.r['Mclust']\n",
    "\n",
    "    res = rmclust(rpy2.robjects.numpy2ri.numpy2rpy(adata.obsm[used_obsm]), num_cluster, modelNames)\n",
    "    mclust_res = np.array(res[-2])\n",
    "\n",
    "    adata.obs['mclust'] = mclust_res\n",
    "    adata.obs['mclust'] = adata.obs['mclust'].astype('int')\n",
    "    adata.obs['mclust'] = adata.obs['mclust'].astype('category')\n",
    "    return adata\n",
    "\n",
    "from scib.metrics import lisi\n",
    "def eval_lisi(\n",
    "        adata,\n",
    "        batch_keys=['domain', 'batch'],\n",
    "        label_keys = ['gt'],\n",
    "        use_rep='X_emb', use_neighbors=False,\n",
    "    ):\n",
    "    res = {}\n",
    "    for key in batch_keys:\n",
    "        adata.obs[key] = adata.obs[key].astype('category')\n",
    "\n",
    "        _lisi = lisi.ilisi_graph(\n",
    "            adata,\n",
    "            key,\n",
    "            'embed' if not use_neighbors else 'knn',\n",
    "            use_rep=use_rep,\n",
    "            k0=90,\n",
    "            subsample=None,\n",
    "            scale=True,\n",
    "            n_cores=1,\n",
    "            verbose=False,\n",
    "        )\n",
    "        res[key+'_iLISI'] = _lisi\n",
    "    for key in label_keys:\n",
    "        adata.obs[key] = adata.obs[key].astype('category')\n",
    "\n",
    "        _lisi = lisi.clisi_graph(\n",
    "            adata,\n",
    "            key,\n",
    "            'embed' if not use_neighbors else 'knn',\n",
    "            use_rep=use_rep,\n",
    "            batch_key=None,\n",
    "            k0=90,\n",
    "            subsample=None,\n",
    "            scale=True,\n",
    "            n_cores=1,\n",
    "            verbose=False,\n",
    "        )\n",
    "        res[key+'_cLISI'] = _lisi\n",
    "    df = pd.DataFrame.from_dict(res, orient='index').T\n",
    "    # df.columns = [_+'_LISI' for _ in df.columns]\n",
    "    return df\n",
    "\n",
    "def eval_ads(ads, ref_key, src_key):\n",
    "    aris = []\n",
    "    for ad in ads:\n",
    "        aris.append(adjusted_rand_score(ad.obs[src_key], ad.obs[ref_key]))\n",
    "    return aris\n",
    "\n",
    "from sklearn.preprocessing import normalize\n",
    "from sklearn.neighbors import KNeighborsClassifier\n",
    "from sklearn.metrics import f1_score\n",
    "def eval_labelTransfer(ad1, ad2, use_rep, lab_key, knn=10):\n",
    "     with warnings.catch_warnings():\n",
    "        warnings.simplefilter(\"ignore\", category=FutureWarning)\n",
    "        neigh1 = KNeighborsClassifier(n_neighbors=knn)\n",
    "        neigh1.fit(ad1.obsm[use_rep], ad1.obs[lab_key].to_list())\n",
    "        pr_lab2 = neigh1.predict(ad2.obsm[use_rep])\n",
    "        f1_1 = f1_score(ad2.obs[lab_key].values, pr_lab2, #labels=['1.0', '2.0', '3.0', '4.0'], \n",
    "                        average='macro')\n",
    "        # acc1 = (pr_lab2 == ad2.obs[lab_key].values).mean()\n",
    "    \n",
    "        neigh2 = KNeighborsClassifier(n_neighbors=knn)\n",
    "        neigh2.fit(ad2.obsm[use_rep], ad2.obs[lab_key].to_list())\n",
    "        pr_lab1 = neigh2.predict(ad1.obsm[use_rep])\n",
    "        # acc2 = (pr_lab1 == ad1.obs[lab_key].values).mean()\n",
    "        f1_2 = f1_score(ad1.obs[lab_key].values, pr_lab1, #labels=['1.0', '2.0', '3.0', '4.0'], \n",
    "                        average='macro')\n",
    "        return (f1_1+f1_2)/2\n"
   ]
  },
  {
   "cell_type": "code",
   "execution_count": 3,
   "id": "eba11bbd-9e1a-4853-9c2e-087aac958fef",
   "metadata": {},
   "outputs": [],
   "source": [
    "def split_ob(ads, ad_ref, ob='obs', key='emb2'):\n",
    "    len_ads = [_.n_obs for _ in ads]\n",
    "    if ob=='obsm':\n",
    "        split_obsms = np.split(ad_ref.obsm[key], np.cumsum(len_ads[:-1]))\n",
    "        for ad, v in zip(ads, split_obsms):\n",
    "            ad.obsm[key] = v\n",
    "    else:\n",
    "        split_obs = np.split(ad_ref.obs[key].to_list(), np.cumsum(len_ads[:-1]))\n",
    "        for ad, v in zip(ads, split_obs):\n",
    "            ad.obs[key] = v\n",
    "    \n",
    "def subset_ad(ad, subset_index):\n",
    "    ad = ad[subset_index].copy()\n",
    "    return ad\n",
    "\n",
    "def flip_coords(ads):\n",
    "    for ad in ads:\n",
    "        ad.obsm['spatial'] = -1 * ad.obsm['spatial']\n",
    "        ad.obsm['spatial'] = ad.obsm['spatial'][:, ::-1]\n",
    "\n",
    "def reorder(ad1, ad2):\n",
    "    shared_barcodes = ad1.obs_names.intersection(ad2.obs_names)\n",
    "    ad1 = ad1[shared_barcodes].copy()\n",
    "    ad2 = ad2[shared_barcodes].copy()\n",
    "    return ad1, ad2\n",
    "\n",
    "def load_peak_expr(_dir):\n",
    "    data = sio.mmread(join(_dir, 'data.mtx'))\n",
    "    cname = pd.read_csv(join(_dir, 'barcode.csv'), index_col=0)['x'].to_list()\n",
    "    feat = pd.read_csv(join(_dir, 'feat.csv'), index_col=0)['x'].to_list()\n",
    "    ad = sc.AnnData(sps.csr_matrix(data.T))\n",
    "    ad.obs_names = cname\n",
    "    ad.var_names = feat\n",
    "    return ad"
   ]
  },
  {
   "cell_type": "markdown",
   "id": "6d6b399a-ad73-48bf-9161-7b4ebec63718",
   "metadata": {},
   "source": [
    "### load metadata"
   ]
  },
  {
   "cell_type": "code",
   "execution_count": 4,
   "id": "056e1b54-a443-41bf-aa3d-5ff645238a33",
   "metadata": {},
   "outputs": [],
   "source": [
    "data_dir = '/disco_500t/xuhua/data/real_mosaic_cases/mouse_brain_rna+atac/'\n",
    "\n",
    "df_mult_rna = pd.read_csv(join(data_dir, 'rna+atac/GSM6204636_MouseBrain_20um_matrix.tsv'), sep='\\t')\n",
    "df_mult_rna_spatial_pos = pd.read_csv(join(data_dir, 'rna+atac/GSM6204623_MouseBrain_20um_spatial_rna_part/tissue_positions_list.csv'), header=None, index_col=0)\n",
    "ad_mult_rna = sc.AnnData(df_mult_rna.T, obsm={'spatial': df_mult_rna_spatial_pos.loc[df_mult_rna.columns, [2, 3]].values})\n",
    "\n",
    "ad_mult_atac = load_peak_expr(join(data_dir, 'rna+atac/For_Imputation_Task/GSM6204623_peak_data'))\n",
    "df_mult_atac_spatial = pd.read_csv(join(data_dir, 'rna+atac/GSM6204623_MouseBrain_20um_spatial_rna_part/tissue_positions_list.csv'), index_col=0, header=None)\n",
    "ad_mult_atac.obsm['spatial'] = df_mult_atac_spatial.loc[ad_mult_atac.obs_names, [2, 3]].values\n",
    "ad_mult_rna, ad_mult_atac = reorder(ad_mult_rna, ad_mult_atac)\n",
    "\n",
    "df_rna = pd.read_csv(join(data_dir, 'rna+atac/GSM6753041_MouseBrain_20um_repATAC_matrix.tsv'), sep='\\t')\n",
    "df_rna_spatial = pd.read_csv(join(data_dir, 'rna+atac/GSM6753041_MouseBrain_20um_repATAC_spatial/tissue_positions_list.csv'), index_col=0, header=None)\n",
    "ad_rna = sc.AnnData(df_rna.T, obsm={'spatial': df_rna_spatial.loc[df_rna.columns, [2, 3]].values})\n",
    "\n",
    "ad_atac = load_peak_expr(join(data_dir, 'rna+atac/For_Imputation_Task/GSM6758284_peak_data'))\n",
    "df_atac_spatial = pd.read_csv(join(data_dir, 'rna+atac/GSM6753041_MouseBrain_20um_repATAC_spatial/tissue_positions_list.csv'), index_col=0, header=None)\n",
    "ad_atac.obsm['spatial'] = df_atac_spatial.loc[ad_atac.obs_names, [2, 3]].values\n",
    "ad_rna, ad_atac = reorder(ad_rna, ad_atac)\n",
    "\n",
    "ad_atac.layers['counts'] = ad_atac.X.copy()\n",
    "ad_rna.layers['counts'] = ad_rna.X.copy()\n",
    "ad_mult_rna.layers['counts'] = ad_mult_rna.X.copy()\n",
    "ad_mult_atac.layers['counts'] = ad_mult_atac.X.copy()\n",
    "\n",
    "shared_gene = ad_mult_rna.var_names.intersection(ad_rna.var_names)\n",
    "ad_mult_rna = ad_mult_rna[:, shared_gene].copy()\n",
    "ad_rna = ad_rna[:, shared_gene].copy()\n",
    "assert (ad_mult_atac.var_names == ad_atac.var_names).all()\n",
    "\n",
    "ad_mult_rna.obs_names = [f'mult-{_}' for _ in ad_mult_rna.obs_names]\n",
    "ad_mult_atac.obs_names = [f'mult-{_}' for _ in ad_mult_atac.obs_names]\n",
    "ad_rna.obs_names = [f'rna-{_}' for _ in ad_rna.obs_names]\n",
    "ad_atac.obs_names = [f'atac-{_}' for _ in ad_atac.obs_names]\n",
    "\n",
    "ad_mult_rna.obs['src'] = ['mult']*ad_mult_rna.n_obs\n",
    "ad_mult_atac.obs['src'] = ['mult']*ad_mult_atac.n_obs\n",
    "ad_rna.obs['src'] = ['rna']*ad_rna.n_obs\n",
    "ad_atac.obs['src'] = ['atac']*ad_atac.n_obs\n",
    "\n",
    "ad_mult_rna.obsm['spatial'][:, 0] = -1 * ad_mult_rna.obsm['spatial'][:, 0]\n",
    "ad_rna.obsm['spatial'][:, 1] = -1 * ad_rna.obsm['spatial'][:, 1]\n",
    "ad_mult_atac.obsm['spatial'][:, 0] = -1 * ad_mult_atac.obsm['spatial'][:, 0]\n",
    "ad_atac.obsm['spatial'][:, 1] = -1 * ad_atac.obsm['spatial'][:, 1]\n",
    "\n",
    "ad_rna.obs['Sample'] = ['S2']*ad_rna.n_obs\n",
    "ad_atac.obs['Sample'] = ['S2']*ad_atac.n_obs"
   ]
  },
  {
   "cell_type": "code",
   "execution_count": 5,
   "id": "552ed9e5-1298-48e4-ad2f-772a9d1e28c9",
   "metadata": {},
   "outputs": [],
   "source": [
    "df = pd.read_csv('./outputs/MB_RNA+ATAC_modalMatch.csv', index_col=0)"
   ]
  },
  {
   "cell_type": "code",
   "execution_count": 6,
   "id": "31bcc82f-b3af-46d3-be77-c6d7d07d4290",
   "metadata": {},
   "outputs": [],
   "source": [
    "ad_mult_rna.obsm['emb'] = df.loc[ad_mult_rna.obs_names].values\n",
    "ad_rna.obsm['emb'] = df.loc[ad_rna.obs_names].values\n",
    "ad_atac.obsm['emb'] = df.loc[ad_atac.obs_names].values"
   ]
  },
  {
   "cell_type": "markdown",
   "id": "41b3d144-cd55-4ac8-a93e-4832f4e412b5",
   "metadata": {},
   "source": [
    "### before harmony"
   ]
  },
  {
   "cell_type": "code",
   "execution_count": 7,
   "id": "1d822120-50d3-4a77-83cf-e7e9e69e3910",
   "metadata": {},
   "outputs": [
    {
     "data": {
      "image/png": "[encoded data removed]",
      "text/plain": [
       "<Figure size 640x480 with 1 Axes>"
      ]
     },
     "metadata": {},
     "output_type": "display_data"
    }
   ],
   "source": [
    "ad_mosaic = sc.concat([ad_mult_rna, ad_rna, ad_atac])\n",
    "ad_mosaic = get_umap(ad_mosaic, ['emb'])\n",
    "\n",
    "wrap_warn_plot(ad_mosaic, 'emb_umap', ['src'])"
   ]
  },
  {
   "cell_type": "code",
   "execution_count": 8,
   "id": "3e928948-b251-44d7-9857-f439d6e93ce9",
   "metadata": {},
   "outputs": [],
   "source": [
    "# lisi_res = eval_lisi(\n",
    "#     ad_mosaic,\n",
    "#     batch_keys=['src'],\n",
    "#     label_keys = [],\n",
    "#     use_rep='emb', use_neighbors=False,\n",
    "# )\n",
    "# lisi_res['src_iLISI'][0]"
   ]
  },
  {
   "cell_type": "code",
   "execution_count": 9,
   "id": "c0e2638e-c659-4a4e-9585-f3bdd012bee9",
   "metadata": {},
   "outputs": [
    {
     "name": "stdout",
     "output_type": "stream",
     "text": [
      "FOSCTTM=0.49233\n",
      "Match_score=0.00000\n"
     ]
    },
    {
     "data": {
      "text/plain": [
       "{'FOSCTTM': 0.49232591324246683, 'Match_score': 1.0912277294060777e-06}"
      ]
     },
     "execution_count": 9,
     "metadata": {},
     "output_type": "execute_result"
    }
   ],
   "source": [
    "from lisi_bridge import eval_bridge\n",
    "eval_bridge(\n",
    "        ad_rna, ad_atac,\n",
    "        label_key=None,\n",
    "        batch_key='Sample',\n",
    "        use_rep='emb',\n",
    "        use_fosc=True, use_acc=False, use_score=True,\n",
    "    )"
   ]
  },
  {
   "cell_type": "markdown",
   "id": "a5b8d10c-0a95-4119-8781-c1ff6c2ccf3f",
   "metadata": {},
   "source": [
    "## after harmony"
   ]
  },
  {
   "cell_type": "code",
   "execution_count": 10,
   "id": "3f855260-c8e6-486b-bc42-ac57c7ddbede",
   "metadata": {},
   "outputs": [
    {
     "name": "stdout",
     "output_type": "stream",
     "text": [
      "Use GPU mode.\n",
      "\tInitialization is completed.\n",
      "\tCompleted 1 / 10 iteration(s).\n",
      "\tCompleted 2 / 10 iteration(s).\n",
      "\tCompleted 3 / 10 iteration(s).\n",
      "\tCompleted 4 / 10 iteration(s).\n",
      "Reach convergence after 4 iteration(s).\n"
     ]
    }
   ],
   "source": [
    "from postp import HARMONY\n",
    "\n",
    "ad_mosaic.obsm['emb_har'] = HARMONY(pd.DataFrame(ad_mosaic.obsm['emb']), ad_mosaic.obs['src'].values)\n",
    "ad_mosaic = get_umap(ad_mosaic, ['emb_har'])\n",
    "split_ob([ad_mult_rna, ad_rna, ad_atac], ad_mosaic, ob='obsm',  key='emb_har')"
   ]
  },
  {
   "cell_type": "code",
   "execution_count": 11,
   "id": "0c7fcb44-286e-4015-abbc-3b5bce0abfdc",
   "metadata": {},
   "outputs": [],
   "source": [
    "# ### evaluation\n",
    "# from sklearn.metrics import adjusted_rand_score\n",
    "\n",
    "# lisi_res = eval_lisi(\n",
    "#     ad_mosaic,\n",
    "#     batch_keys=['src'],\n",
    "#     label_keys = [],\n",
    "#     use_rep='emb_har', use_neighbors=False,\n",
    "# )\n",
    "# r2 = lisi_res['src_iLISI'][0]\n",
    "# r2"
   ]
  },
  {
   "cell_type": "code",
   "execution_count": 12,
   "id": "2270bc5a-8305-444a-b5f7-de3c9add2756",
   "metadata": {},
   "outputs": [
    {
     "name": "stdout",
     "output_type": "stream",
     "text": [
      "FOSCTTM=0.48794\n",
      "Match_score=0.00007\n"
     ]
    },
    {
     "data": {
      "text/plain": [
       "{'FOSCTTM': 0.48793891075377754, 'Match_score': 6.674676278200507e-05}"
      ]
     },
     "execution_count": 12,
     "metadata": {},
     "output_type": "execute_result"
    }
   ],
   "source": [
    "eval_bridge(\n",
    "        ad_rna, ad_atac,\n",
    "        label_key=None,\n",
    "        batch_key='Sample',\n",
    "        use_rep='emb_har',\n",
    "        use_fosc=True, use_acc=False, use_score=True,\n",
    "    )"
   ]
  },
  {
   "cell_type": "markdown",
   "id": "6018140d-6c53-4c0c-94a1-ccace0d21397",
   "metadata": {},
   "source": [
    "### Vis"
   ]
  },
  {
   "cell_type": "code",
   "execution_count": 14,
   "id": "53e8e143-2819-44e5-a184-aa7a2d6023a2",
   "metadata": {},
   "outputs": [],
   "source": [
    "fig_dir = f'/disco_500t/xuhua/gitrepo/BridgeNorm/figures/MB_RNA+ATAC_modalMatch/stabmap'\n",
    "os.makedirs(fig_dir, exist_ok=True)\n",
    "\n",
    "df = pd.DataFrame(ad_mosaic.obsm['emb'], index=ad_mult_rna.obs_names.to_list() + ad_rna.obs_names.to_list() + ad_atac.obs_names.to_list())\n",
    "# df['before_clust'] = ad_mosaic.obs['before_clust'].to_list() \n",
    "df.to_csv(join(fig_dir, 'X_emb.csv'))\n",
    "\n",
    "df = pd.DataFrame(ad_mosaic.obsm['emb_har'], index=ad_mult_rna.obs_names.to_list() + ad_rna.obs_names.to_list() + ad_atac.obs_names.to_list())\n",
    "# df['after_clust'] = ad_mosaic.obs['after_clust'].to_list() \n",
    "df.to_csv(join(fig_dir, 'X_emb_har.csv'))"
   ]
  },
  {
   "cell_type": "code",
   "execution_count": 15,
   "id": "87708ebf-6968-46c2-ad78-a64468fb89f5",
   "metadata": {},
   "outputs": [
    {
     "data": {
      "text/plain": [
       "1"
      ]
     },
     "execution_count": 15,
     "metadata": {},
     "output_type": "execute_result"
    }
   ],
   "source": [
    "1"
   ]
  },
  {
   "cell_type": "code",
   "execution_count": null,
   "id": "8feab970-6d5d-4682-8b41-6a3a82d1967a",
   "metadata": {},
   "outputs": [],
   "source": []
  }
 ],
 "metadata": {
  "kernelspec": {
   "display_name": "Squidpy",
   "language": "python",
   "name": "squidpy"
  },
  "language_info": {
   "codemirror_mode": {
    "name": "ipython",
    "version": 3
   },
   "file_extension": ".py",
   "mimetype": "text/x-python",
   "name": "python",
   "nbconvert_exporter": "python",
   "pygments_lexer": "ipython3",
   "version": "3.8.8"
  }
 },
 "nbformat": 4,
 "nbformat_minor": 5
}
