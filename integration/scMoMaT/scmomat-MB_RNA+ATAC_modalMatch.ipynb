{
 "cells": [
  {
   "cell_type": "code",
   "execution_count": 1,
   "id": "02caeaf7-dd3c-47b4-b1f9-b0bccdc8c567",
   "metadata": {},
   "outputs": [],
   "source": [
    "import sys, os\n",
    "\n",
    "import numpy as np\n",
    "from umap import UMAP\n",
    "import time\n",
    "import torch\n",
    "import matplotlib.pyplot as plt\n",
    "import pandas as pd  \n",
    "import scanpy as sc\n",
    "import scipy.sparse as sps\n",
    "import scipy.io as sio\n",
    "# import scipy.sparse as sp\n",
    "from os.path import join\n",
    "import h5py\n",
    "import warnings\n",
    "import gc\n",
    "\n",
    "import scmomat \n",
    "\n",
    "plt.rcParams[\"font.size\"] = 10\n",
    "os.environ['CUDA_VISIBLE_DEVICES'] = '2'"
   ]
  },
  {
   "cell_type": "code",
   "execution_count": 2,
   "id": "c73b23ed-3fc5-4736-8f75-57e68d874caf",
   "metadata": {},
   "outputs": [],
   "source": [
    "def set_col2cat(ad, cols=[]):\n",
    "    for col in cols:\n",
    "        ad.obs[col] = ad.obs[col].astype('category')\n",
    "\n",
    "def unify_colors(queries, color_key, ref_color_dict):\n",
    "    for q in queries:\n",
    "        q.obs[color_key] = q.obs[color_key].astype('category')\n",
    "        q.uns[f'{color_key}_colors'] = [ref_color_dict[_] for _ in q.obs[color_key].cat.categories]\n",
    "    return queries\n",
    "\n",
    "def get_umap(ad, use_reps=[]):\n",
    "    for use_rep in use_reps:\n",
    "        umap_add_key = f'{use_rep}_umap'\n",
    "        sc.pp.neighbors(ad, use_rep=use_rep, n_neighbors=15)\n",
    "        sc.tl.umap(ad)\n",
    "        ad.obsm[umap_add_key] = ad.obsm['X_umap']\n",
    "    return ad\n",
    "\n",
    "def wrap_warn_plot(adata, basis, color, **kwargs):\n",
    "    with warnings.catch_warnings():\n",
    "        warnings.simplefilter(\"ignore\", category=UserWarning)\n",
    "        sc.pl.embedding(adata, basis=basis, color=color, **kwargs)\n",
    "\n",
    "def wrap_warn_comp_plot(ads, basis, colors, figw=5, figh=4, **kwargs):\n",
    "    with warnings.catch_warnings():\n",
    "        warnings.simplefilter(\"ignore\")\n",
    "        for i, color in enumerate(colors):\n",
    "            _, axes = plt.subplots(1, len(ads), figsize=(figw*len(ads), figh))\n",
    "            for j, ad in enumerate(ads):\n",
    "                sc.pl.embedding(ad, basis=basis, color=color, ax=axes[j], show=False, **kwargs)\n",
    "            plt.show()\n",
    "            \n",
    "os.environ['R_HOME'] = '/disco_500t/xuhua/miniforge3/envs/Seurat5/lib/R'\n",
    "os.environ['R_USER'] = '/disco_500t/xuhua/miniforge3/envs/Seurat5/lib/python3.8/site-packages/rpy2'\n",
    "def mclust_R(adata, num_cluster, modelNames='EEE', used_obsm='STAGATE', random_seed=2020):\n",
    "    np.random.seed(random_seed)\n",
    "    import rpy2.robjects as robjects\n",
    "    robjects.r.library(\"mclust\")\n",
    "\n",
    "    import rpy2.robjects.numpy2ri\n",
    "    rpy2.robjects.numpy2ri.activate()\n",
    "    r_random_seed = robjects.r['set.seed']\n",
    "    r_random_seed(random_seed)\n",
    "    rmclust = robjects.r['Mclust']\n",
    "\n",
    "    res = rmclust(rpy2.robjects.numpy2ri.numpy2rpy(adata.obsm[used_obsm]), num_cluster, modelNames)\n",
    "    mclust_res = np.array(res[-2])\n",
    "\n",
    "    adata.obs['mclust'] = mclust_res\n",
    "    adata.obs['mclust'] = adata.obs['mclust'].astype('int')\n",
    "    adata.obs['mclust'] = adata.obs['mclust'].astype('category')\n",
    "    return adata\n",
    "\n",
    "from scib.metrics import lisi\n",
    "def eval_lisi(\n",
    "        adata,\n",
    "        batch_keys=['domain', 'batch'],\n",
    "        label_keys = ['gt'],\n",
    "        use_rep='X_emb', use_neighbors=False,\n",
    "    ):\n",
    "    res = {}\n",
    "    for key in batch_keys:\n",
    "        adata.obs[key] = adata.obs[key].astype('category')\n",
    "\n",
    "        _lisi = lisi.ilisi_graph(\n",
    "            adata,\n",
    "            key,\n",
    "            'embed' if not use_neighbors else 'knn',\n",
    "            use_rep=use_rep,\n",
    "            k0=90,\n",
    "            subsample=None,\n",
    "            scale=True,\n",
    "            n_cores=1,\n",
    "            verbose=False,\n",
    "        )\n",
    "        res[key+'_iLISI'] = _lisi\n",
    "    for key in label_keys:\n",
    "        adata.obs[key] = adata.obs[key].astype('category')\n",
    "\n",
    "        _lisi = lisi.clisi_graph(\n",
    "            adata,\n",
    "            key,\n",
    "            'embed' if not use_neighbors else 'knn',\n",
    "            use_rep=use_rep,\n",
    "            batch_key=None,\n",
    "            k0=90,\n",
    "            subsample=None,\n",
    "            scale=True,\n",
    "            n_cores=1,\n",
    "            verbose=False,\n",
    "        )\n",
    "        res[key+'_cLISI'] = _lisi\n",
    "    df = pd.DataFrame.from_dict(res, orient='index').T\n",
    "    # df.columns = [_+'_LISI' for _ in df.columns]\n",
    "    return df\n",
    "\n",
    "def eval_ads(ads, ref_key, src_key):\n",
    "    aris = []\n",
    "    for ad in ads:\n",
    "        aris.append(adjusted_rand_score(ad.obs[src_key], ad.obs[ref_key]))\n",
    "    return aris\n",
    "\n",
    "from sklearn.preprocessing import normalize\n",
    "from sklearn.neighbors import KNeighborsClassifier\n",
    "from sklearn.metrics import f1_score\n",
    "def eval_labelTransfer(ad1, ad2, use_rep, lab_key, knn=10):\n",
    "     with warnings.catch_warnings():\n",
    "        warnings.simplefilter(\"ignore\", category=FutureWarning)\n",
    "        neigh1 = KNeighborsClassifier(n_neighbors=knn)\n",
    "        neigh1.fit(ad1.obsm[use_rep], ad1.obs[lab_key].to_list())\n",
    "        pr_lab2 = neigh1.predict(ad2.obsm[use_rep])\n",
    "        f1_1 = f1_score(ad2.obs[lab_key].values, pr_lab2, #labels=['1.0', '2.0', '3.0', '4.0'], \n",
    "                        average='macro')\n",
    "        # acc1 = (pr_lab2 == ad2.obs[lab_key].values).mean()\n",
    "    \n",
    "        neigh2 = KNeighborsClassifier(n_neighbors=knn)\n",
    "        neigh2.fit(ad2.obsm[use_rep], ad2.obs[lab_key].to_list())\n",
    "        pr_lab1 = neigh2.predict(ad1.obsm[use_rep])\n",
    "        # acc2 = (pr_lab1 == ad1.obs[lab_key].values).mean()\n",
    "        f1_2 = f1_score(ad1.obs[lab_key].values, pr_lab1, #labels=['1.0', '2.0', '3.0', '4.0'], \n",
    "                        average='macro')\n",
    "        return (f1_1+f1_2)/2\n"
   ]
  },
  {
   "cell_type": "code",
   "execution_count": 3,
   "id": "20d0a9b2-4197-4b20-8fed-66a298f1e819",
   "metadata": {},
   "outputs": [],
   "source": [
    "def split_ob(ads, ad_ref, ob='obs', key='emb2'):\n",
    "    len_ads = [_.n_obs for _ in ads]\n",
    "    if ob=='obsm':\n",
    "        split_obsms = np.split(ad_ref.obsm[key], np.cumsum(len_ads[:-1]))\n",
    "        for ad, v in zip(ads, split_obsms):\n",
    "            ad.obsm[key] = v\n",
    "    else:\n",
    "        split_obs = np.split(ad_ref.obs[key].to_list(), np.cumsum(len_ads[:-1]))\n",
    "        for ad, v in zip(ads, split_obs):\n",
    "            ad.obs[key] = v\n",
    "    \n",
    "def subset_ad(ad, subset_index):\n",
    "    ad = ad[subset_index].copy()\n",
    "    return ad\n",
    "\n",
    "def flip_coords(ads):\n",
    "    for ad in ads:\n",
    "        ad.obsm['spatial'] = -1 * ad.obsm['spatial']\n",
    "        ad.obsm['spatial'] = ad.obsm['spatial'][:, ::-1]\n",
    "\n",
    "def reorder(ad1, ad2):\n",
    "    shared_barcodes = ad1.obs_names.intersection(ad2.obs_names)\n",
    "    ad1 = ad1[shared_barcodes].copy()\n",
    "    ad2 = ad2[shared_barcodes].copy()\n",
    "    return ad1, ad2\n",
    "\n",
    "def load_peak_expr(_dir):\n",
    "    data = sio.mmread(join(_dir, 'data.mtx'))\n",
    "    cname = pd.read_csv(join(_dir, 'barcode.csv'), index_col=0)['x'].to_list()\n",
    "    feat = pd.read_csv(join(_dir, 'feat.csv'), index_col=0)['x'].to_list()\n",
    "    ad = sc.AnnData(sps.csr_matrix(data.T))\n",
    "    ad.obs_names = cname\n",
    "    ad.var_names = feat\n",
    "    return ad\n"
   ]
  },
  {
   "cell_type": "markdown",
   "id": "f778777f-1e2a-4fca-894b-ad3ae58ed4d5",
   "metadata": {},
   "source": [
    "### load dataset"
   ]
  },
  {
   "cell_type": "code",
   "execution_count": 4,
   "id": "5fc37e1b-ddbd-4171-8c67-f96e7ed590e4",
   "metadata": {},
   "outputs": [
    {
     "name": "stderr",
     "output_type": "stream",
     "text": [
      "/tmp/ipykernel_12508/1271774287.py:5: FutureWarning: X.dtype being converted to np.float32 from int64. In the next version of anndata (0.9) conversion will not be automatic. Pass dtype explicitly to avoid this warning. Pass `AnnData(X, dtype=X.dtype, ...)` to get the future behavour.\n",
      "  ad_mult_rna = sc.AnnData(df_mult_rna.T, obsm={'spatial': df_mult_rna_spatial_pos.loc[df_mult_rna.columns, [2, 3]].values})\n",
      "/tmp/ipykernel_12508/4188962916.py:31: FutureWarning: X.dtype being converted to np.float32 from int64. In the next version of anndata (0.9) conversion will not be automatic. Pass dtype explicitly to avoid this warning. Pass `AnnData(X, dtype=X.dtype, ...)` to get the future behavour.\n",
      "  ad = sc.AnnData(sps.csr_matrix(data.T))\n",
      "/tmp/ipykernel_12508/1271774287.py:14: FutureWarning: X.dtype being converted to np.float32 from int64. In the next version of anndata (0.9) conversion will not be automatic. Pass dtype explicitly to avoid this warning. Pass `AnnData(X, dtype=X.dtype, ...)` to get the future behavour.\n",
      "  ad_rna = sc.AnnData(df_rna.T, obsm={'spatial': df_rna_spatial.loc[df_rna.columns, [2, 3]].values})\n",
      "/tmp/ipykernel_12508/4188962916.py:31: FutureWarning: X.dtype being converted to np.float32 from int64. In the next version of anndata (0.9) conversion will not be automatic. Pass dtype explicitly to avoid this warning. Pass `AnnData(X, dtype=X.dtype, ...)` to get the future behavour.\n",
      "  ad = sc.AnnData(sps.csr_matrix(data.T))\n"
     ]
    }
   ],
   "source": [
    "data_dir = '/disco_500t/xuhua/data/real_mosaic_cases/mouse_brain_rna+atac/'\n",
    "\n",
    "df_mult_rna = pd.read_csv(join(data_dir, 'rna+atac/GSM6204636_MouseBrain_20um_matrix.tsv'), sep='\\t')\n",
    "df_mult_rna_spatial_pos = pd.read_csv(join(data_dir, 'rna+atac/GSM6204623_MouseBrain_20um_spatial_rna_part/tissue_positions_list.csv'), header=None, index_col=0)\n",
    "ad_mult_rna = sc.AnnData(df_mult_rna.T, obsm={'spatial': df_mult_rna_spatial_pos.loc[df_mult_rna.columns, [2, 3]].values})\n",
    "\n",
    "ad_mult_atac = load_peak_expr(join(data_dir, 'rna+atac/For_Imputation_Task/GSM6204623_peak_data'))\n",
    "df_mult_atac_spatial = pd.read_csv(join(data_dir, 'rna+atac/GSM6204623_MouseBrain_20um_spatial_rna_part/tissue_positions_list.csv'), index_col=0, header=None)\n",
    "ad_mult_atac.obsm['spatial'] = df_mult_atac_spatial.loc[ad_mult_atac.obs_names, [2, 3]].values\n",
    "ad_mult_rna, ad_mult_atac = reorder(ad_mult_rna, ad_mult_atac)\n",
    "\n",
    "df_rna = pd.read_csv(join(data_dir, 'rna+atac/GSM6753041_MouseBrain_20um_repATAC_matrix.tsv'), sep='\\t')\n",
    "df_rna_spatial = pd.read_csv(join(data_dir, 'rna+atac/GSM6753041_MouseBrain_20um_repATAC_spatial/tissue_positions_list.csv'), index_col=0, header=None)\n",
    "ad_rna = sc.AnnData(df_rna.T, obsm={'spatial': df_rna_spatial.loc[df_rna.columns, [2, 3]].values})\n",
    "\n",
    "ad_atac = load_peak_expr(join(data_dir, 'rna+atac/For_Imputation_Task/GSM6758284_peak_data'))\n",
    "df_atac_spatial = pd.read_csv(join(data_dir, 'rna+atac/GSM6753041_MouseBrain_20um_repATAC_spatial/tissue_positions_list.csv'), index_col=0, header=None)\n",
    "ad_atac.obsm['spatial'] = df_atac_spatial.loc[ad_atac.obs_names, [2, 3]].values\n",
    "ad_rna, ad_atac = reorder(ad_rna, ad_atac)\n",
    "\n",
    "ad_atac.layers['counts'] = ad_atac.X.copy()\n",
    "ad_rna.layers['counts'] = ad_rna.X.copy()\n",
    "ad_mult_rna.layers['counts'] = ad_mult_rna.X.copy()\n",
    "ad_mult_atac.layers['counts'] = ad_mult_atac.X.copy()\n",
    "\n",
    "shared_gene = ad_mult_rna.var_names.intersection(ad_rna.var_names)\n",
    "ad_mult_rna = ad_mult_rna[:, shared_gene].copy()\n",
    "ad_rna = ad_rna[:, shared_gene].copy()\n",
    "assert (ad_mult_atac.var_names == ad_atac.var_names).all()\n",
    "\n",
    "ad_mult_rna.obs_names = [f'mult-{_}' for _ in ad_mult_rna.obs_names]\n",
    "ad_mult_atac.obs_names = [f'mult-{_}' for _ in ad_mult_atac.obs_names]\n",
    "ad_rna.obs_names = [f'rna-{_}' for _ in ad_rna.obs_names]\n",
    "ad_atac.obs_names = [f'atac-{_}' for _ in ad_atac.obs_names]\n",
    "\n",
    "ad_mult_rna.obs['src'] = ['mult']*ad_mult_rna.n_obs\n",
    "ad_mult_atac.obs['src'] = ['mult']*ad_mult_atac.n_obs\n",
    "ad_rna.obs['src'] = ['rna']*ad_rna.n_obs\n",
    "ad_atac.obs['src'] = ['atac']*ad_atac.n_obs\n",
    "\n",
    "ad_mult_rna.obsm['spatial'][:, 0] = -1 * ad_mult_rna.obsm['spatial'][:, 0]\n",
    "ad_rna.obsm['spatial'][:, 1] = -1 * ad_rna.obsm['spatial'][:, 1]\n",
    "ad_mult_atac.obsm['spatial'][:, 0] = -1 * ad_mult_atac.obsm['spatial'][:, 0]\n",
    "ad_atac.obsm['spatial'][:, 1] = -1 * ad_atac.obsm['spatial'][:, 1]\n",
    "\n",
    "ad_rna.obs['Sample'] = ['S2']*ad_rna.n_obs\n",
    "ad_atac.obs['Sample'] = ['S2']*ad_atac.n_obs"
   ]
  },
  {
   "cell_type": "code",
   "execution_count": 5,
   "id": "d769d955-8ad9-4967-abf6-b35c00183cd4",
   "metadata": {},
   "outputs": [],
   "source": [
    "ad_rna_all = sc.concat([ad_mult_rna, ad_rna])\n",
    "ad_atac_all = sc.concat([ad_mult_atac, ad_atac])\n",
    "\n",
    "sc.pp.highly_variable_genes(ad_rna_all, flavor='seurat_v3', n_top_genes=10000, batch_key='src')\n",
    "hvg_names = ad_rna_all.var.query('highly_variable').index.to_numpy()"
   ]
  },
  {
   "cell_type": "code",
   "execution_count": 6,
   "id": "0c0c1781-a541-4945-98e3-4303c3a27f30",
   "metadata": {},
   "outputs": [],
   "source": [
    "# ac.pp.tfidf(ad_atac_all, scale_factor=1e4)\n",
    "sc.pp.highly_variable_genes(ad_atac_all, flavor='seurat_v3', n_top_genes=100000, batch_key='src')\n",
    "hvp_names = ad_atac_all.var.query('highly_variable').index.to_numpy()"
   ]
  },
  {
   "cell_type": "code",
   "execution_count": 7,
   "id": "748812af-f2d2-4892-aefa-3cc9fef35e72",
   "metadata": {},
   "outputs": [],
   "source": [
    "# def saveR(ad, name, dir):\n",
    "#     sio.mmwrite(join(dir, f'{name}_mat.mtx'), sps.csr_matrix(ad.X))\n",
    "#     pd.DataFrame(ad.obs_names).to_csv(join(dir, f'{name}_cname.csv'))\n",
    "#     pd.DataFrame(ad.var_names).to_csv(join(dir, f'{name}_feat.csv'))\n",
    "\n",
    "# saveR(ad_mult_rna[:, hvg_names], 'bridge_rna', join(data_dir, 'R_data'))\n",
    "# saveR(ad_mult_atac[:, hvp_names], 'bridge_atac', join(data_dir, 'R_data'))\n",
    "# saveR(ad_rna[:, hvg_names], 'test_rna', join(data_dir, 'R_data'))\n",
    "# saveR(ad_atac[:, hvp_names], 'test_atac', join(data_dir, 'R_data'))"
   ]
  },
  {
   "cell_type": "markdown",
   "id": "dae4c586-04ea-4a41-8e50-613b20985318",
   "metadata": {},
   "source": [
    "### prepare count inputs"
   ]
  },
  {
   "cell_type": "code",
   "execution_count": 8,
   "id": "68b948cc-a3c0-4820-a75f-a182e2682d64",
   "metadata": {},
   "outputs": [],
   "source": [
    "# READ IN THE COUNT MATRICES\n",
    "counts_rnas = []\n",
    "for adi in [ad_mult_rna, ad_rna, None]:\n",
    "    if adi is not None:\n",
    "        count = scmomat.preprocess(adi[:, hvg_names].X, modality = \"RNA\", log = False)\n",
    "        counts_rnas.append(count)\n",
    "    else:\n",
    "        counts_rnas.append(None)\n",
    "\n",
    "counts_atacs = []\n",
    "for adi in [ad_mult_atac, None, ad_atac]:\n",
    "    if adi is not None:\n",
    "        count = scmomat.preprocess(adi[:, hvp_names].X.A, modality = \"ATAC\", log = False)\n",
    "        counts_atacs.append(count)\n",
    "    else:\n",
    "        counts_atacs.append(None)"
   ]
  },
  {
   "cell_type": "code",
   "execution_count": 9,
   "id": "315c3f38-aba9-452b-aaae-8712f9361a54",
   "metadata": {},
   "outputs": [],
   "source": [
    "# CREATE THE COUNTS OBJECT\n",
    "n_batches = 3\n",
    "feats_name = {\"rna\": hvg_names, \"atac\": hvp_names}\n",
    "counts = {\"feats_name\": feats_name, \"nbatches\": n_batches, \"rna\":counts_rnas, \"atac\": counts_atacs}"
   ]
  },
  {
   "cell_type": "markdown",
   "id": "a355f3bf-7676-4163-87e5-5530ed998bb5",
   "metadata": {},
   "source": [
    "### step 2: training scmomat"
   ]
  },
  {
   "cell_type": "code",
   "execution_count": 10,
   "id": "e0f78c6a-4f05-4da8-911c-7944b7f5f115",
   "metadata": {
    "scrolled": true
   },
   "outputs": [
    {
     "name": "stdout",
     "output_type": "stream",
     "text": [
      "Input sanity check...\n",
      "Finished.\n",
      "Epoch 1, Validating Loss: 71.6138\n",
      "\t loss reconstruction: 0.06161\n",
      "\t loss regularization: 1.00000\n",
      "Epoch 1000, Validating Loss: 55.9300\n",
      "\t loss reconstruction: 0.05593\n",
      "\t loss regularization: 0.00001\n",
      "Epoch 2000, Validating Loss: 55.5141\n",
      "\t loss reconstruction: 0.05551\n",
      "\t loss regularization: 0.00003\n",
      "Epoch 3000, Validating Loss: 55.3634\n",
      "\t loss reconstruction: 0.05536\n",
      "\t loss regularization: 0.00082\n",
      "Epoch 4000, Validating Loss: 55.2241\n",
      "\t loss reconstruction: 0.05522\n",
      "\t loss regularization: 0.00068\n",
      "running time: 181.57904958724976\n"
     ]
    },
    {
     "data": {
      "text/plain": [
       "[<matplotlib.lines.Line2D at 0x7f0290a2a760>]"
      ]
     },
     "execution_count": 10,
     "metadata": {},
     "output_type": "execute_result"
    },
    {
     "data": {
      "image/png": "[encoded data removed]",
      "text/plain": [
       "<Figure size 640x480 with 1 Axes>"
      ]
     },
     "metadata": {},
     "output_type": "display_data"
    }
   ],
   "source": [
    "# #------------------------------------------------------------------------------------------------------------------------------------\n",
    "# # NOTE: Number of latent dimensions, key hyper-parameter, 20~30 works for most of the cases.\n",
    "K = 50\n",
    "lamb = 0.01 \n",
    "T = 4000     \n",
    "interval = 1000\n",
    "batch_size = 0.1\n",
    "lr = 1e-2\n",
    "seed = 0\n",
    "device = torch.device(\"cuda:2\" if torch.cuda.is_available() else \"cpu\")\n",
    "\n",
    "# #------------------------------------------------------------------------------------------------------------------------------------\n",
    "\n",
    "start_time = time.time()\n",
    "model = scmomat.scmomat_model(counts = counts, K = K, batch_size = batch_size, interval = interval, lr = lr, lamb = lamb, seed = seed, device = device)\n",
    "losses = model.train_func(T = T)\n",
    "end_time = time.time()\n",
    "print(\"running time: \" + str(end_time - start_time))\n",
    "\n",
    "x = np.linspace(0, T, int(T/interval)+1)\n",
    "plt.plot(x, losses)"
   ]
  },
  {
   "cell_type": "markdown",
   "id": "e9ba5181-5a9e-43e0-a315-0d932ddd2436",
   "metadata": {},
   "source": [
    "#### inference"
   ]
  },
  {
   "cell_type": "code",
   "execution_count": 11,
   "id": "ccdd55b4-d783-41f6-b81c-5986aca0e6a5",
   "metadata": {},
   "outputs": [],
   "source": [
    "# umap_op = UMAP(n_components = 2, n_neighbors = 30, min_dist = 0.2, random_state = 0) \n",
    "\n",
    "if True:\n",
    "    zs = model.extract_cell_factors()\n",
    "    # np.save('./outputs/MB_RNA+ATAC/zs.npy', zs)\n",
    "else:\n",
    "    # zs = np.load('./outputs/MB_RNA+ATAC/zs.npy', allow_pickle=True)\n",
    "    pass\n",
    "# x_umap = umap_op.fit_transform(np.concatenate(zs, axis = 0))"
   ]
  },
  {
   "cell_type": "code",
   "execution_count": 12,
   "id": "08b7ede2-e2e0-49f5-88eb-0ce8e6d211f2",
   "metadata": {},
   "outputs": [],
   "source": [
    "# read in the ground truth labels\n",
    "# NOTE: Plot the result before post-processing\n",
    "# labels = [ad_bridge_rna.obs.Combined_Clusters_annotation, ad_test_rna.obs.Combined_Clusters_annotation, ad_test_atac.obs.Combined_Clusters_annotation]\n",
    "batches = ['mult']*ad_mult_rna.shape[0] + ['rna']*ad_rna.shape[0] + ['atac']*ad_atac.shape[0]"
   ]
  },
  {
   "cell_type": "markdown",
   "id": "73ebd17e-5e78-4a3b-9ce9-dcd8bfbf5a56",
   "metadata": {},
   "source": [
    "### eval results"
   ]
  },
  {
   "cell_type": "code",
   "execution_count": 14,
   "id": "faac3c0e-075e-42aa-97a1-3737fb0960eb",
   "metadata": {},
   "outputs": [],
   "source": [
    "ad_mosaic = sc.AnnData(np.vstack(zs), obsm={\"X_emb\":np.vstack(zs)})\n",
    "ad_mosaic.obs['batches'] = np.hstack(batches)\n",
    "split_ob([ad_mult_rna, ad_rna, ad_atac], ad_mosaic, ob='obsm', key='X_emb')"
   ]
  },
  {
   "cell_type": "markdown",
   "id": "48ea1b1e-329a-4a00-ac39-114668a9a681",
   "metadata": {},
   "source": [
    "### before batch corr"
   ]
  },
  {
   "cell_type": "code",
   "execution_count": 16,
   "id": "6aaa8b37-2682-4767-859e-f516429dd80e",
   "metadata": {},
   "outputs": [],
   "source": [
    "# lisi_res = eval_lisi(\n",
    "#     ad_mosaic,\n",
    "#     batch_keys=['batches'],\n",
    "#     label_keys = [],\n",
    "#     use_rep='X_emb', use_neighbors=False,\n",
    "# )\n",
    "# lisi_res['batches_iLISI'][0]"
   ]
  },
  {
   "cell_type": "code",
   "execution_count": 17,
   "id": "e0e69fb5-207e-41a6-9586-d6c8593304ce",
   "metadata": {},
   "outputs": [
    {
     "name": "stdout",
     "output_type": "stream",
     "text": [
      "FOSCTTM=0.29329\n",
      "Match_score=0.00183\n"
     ]
    },
    {
     "data": {
      "text/plain": [
       "{'FOSCTTM': 0.2932923593213739, 'Match_score': 0.001827269810428548}"
      ]
     },
     "execution_count": 17,
     "metadata": {},
     "output_type": "execute_result"
    }
   ],
   "source": [
    "from lisi_bridge import eval_bridge\n",
    "eval_bridge(\n",
    "        ad_rna, ad_atac,\n",
    "        label_key=None,\n",
    "        batch_key='Sample',\n",
    "        use_rep='X_emb',\n",
    "        use_fosc=True, use_acc=False, use_score=True,\n",
    "    )"
   ]
  },
  {
   "cell_type": "markdown",
   "id": "c42e732c-b838-4749-bbb3-a50bae0c45b8",
   "metadata": {},
   "source": [
    "### after batch corr"
   ]
  },
  {
   "cell_type": "code",
   "execution_count": 18,
   "id": "9e1ab3a8-105a-48ae-9907-37548da459c2",
   "metadata": {},
   "outputs": [
    {
     "name": "stdout",
     "output_type": "stream",
     "text": [
      "Use GPU mode.\n",
      "\tInitialization is completed.\n",
      "\tCompleted 1 / 10 iteration(s).\n",
      "\tCompleted 2 / 10 iteration(s).\n",
      "\tCompleted 3 / 10 iteration(s).\n",
      "\tCompleted 4 / 10 iteration(s).\n",
      "\tCompleted 5 / 10 iteration(s).\n",
      "\tCompleted 6 / 10 iteration(s).\n",
      "Reach convergence after 6 iteration(s).\n"
     ]
    }
   ],
   "source": [
    "from batchCorr import HARMONY\n",
    "\n",
    "ad_mosaic.obsm['X_emb_har'] = HARMONY(pd.DataFrame(ad_mosaic.obsm['X_emb']), ad_mosaic.obs['batches'].to_list())\n",
    "# ad_mosaic = get_umap(ad_mosaic, ['X_emb_har'])\n",
    "split_ob([ad_mult_rna, ad_rna, ad_atac], ad_mosaic, ob='obsm', key='X_emb_har')"
   ]
  },
  {
   "cell_type": "code",
   "execution_count": 19,
   "id": "4d499533-5ca9-4c7b-a7a2-8921ffe702d2",
   "metadata": {},
   "outputs": [],
   "source": [
    "# lisi_res = eval_lisi(\n",
    "#     ad_mosaic,\n",
    "#     batch_keys=['batches'],\n",
    "#     label_keys = [],\n",
    "#     use_rep='X_emb_har', use_neighbors=False,\n",
    "# )\n",
    "# r2 = lisi_res['batches_iLISI'][0]"
   ]
  },
  {
   "cell_type": "code",
   "execution_count": 20,
   "id": "5b536438-5584-46e9-bc81-9afea8640f96",
   "metadata": {},
   "outputs": [
    {
     "name": "stdout",
     "output_type": "stream",
     "text": [
      "FOSCTTM=0.27327\n",
      "Match_score=0.00276\n"
     ]
    },
    {
     "data": {
      "text/plain": [
       "{'FOSCTTM': 0.2732660049087339, 'Match_score': 0.0027585483532620095}"
      ]
     },
     "execution_count": 20,
     "metadata": {},
     "output_type": "execute_result"
    }
   ],
   "source": [
    "eval_bridge(\n",
    "        ad_rna, ad_atac,\n",
    "        label_key=None,\n",
    "        batch_key='Sample',\n",
    "        use_rep='X_emb_har',\n",
    "        use_fosc=True, use_acc=False, use_score=True,\n",
    "    )"
   ]
  },
  {
   "cell_type": "markdown",
   "id": "fb55be49-8876-47ab-b513-fef7dd54a7ed",
   "metadata": {},
   "source": [
    "### Vis"
   ]
  },
  {
   "cell_type": "code",
   "execution_count": 22,
   "id": "9e0f255f-5ace-432b-98b1-d390456cf499",
   "metadata": {},
   "outputs": [],
   "source": [
    "fig_dir = f'/disco_500t/xuhua/gitrepo/BridgeNorm/figures/MB_RNA+ATAC_modalMatch/scmomat'\n",
    "os.makedirs(fig_dir, exist_ok=True)\n",
    "\n",
    "df = pd.DataFrame(ad_mosaic.obsm['X_emb'], index=ad_mult_rna.obs_names.to_list() + ad_rna.obs_names.to_list() + ad_atac.obs_names.to_list())\n",
    "df.to_csv(join(fig_dir, 'X_emb.csv'))\n",
    "\n",
    "df = pd.DataFrame(ad_mosaic.obsm['X_emb_har'], index=ad_mult_rna.obs_names.to_list()+ad_rna.obs_names.to_list()+ad_atac.obs_names.to_list())\n",
    "df.to_csv(join(fig_dir, 'X_emb_har.csv'))"
   ]
  },
  {
   "cell_type": "code",
   "execution_count": null,
   "id": "8dbac70c-81c4-4db0-8f29-7444da029899",
   "metadata": {},
   "outputs": [],
   "source": []
  }
 ],
 "metadata": {
  "kernelspec": {
   "display_name": "bento",
   "language": "python",
   "name": "bento"
  },
  "language_info": {
   "codemirror_mode": {
    "name": "ipython",
    "version": 3
   },
   "file_extension": ".py",
   "mimetype": "text/x-python",
   "name": "python",
   "nbconvert_exporter": "python",
   "pygments_lexer": "ipython3",
   "version": "3.8.18"
  }
 },
 "nbformat": 4,
 "nbformat_minor": 5
}
