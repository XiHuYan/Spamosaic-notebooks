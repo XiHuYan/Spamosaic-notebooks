{
 "cells": [
  {
   "cell_type": "code",
   "execution_count": 1,
   "id": "02caeaf7-dd3c-47b4-b1f9-b0bccdc8c567",
   "metadata": {},
   "outputs": [],
   "source": [
    "import sys, os\n",
    "os.environ['R_HOME'] = '/disco_500t/xuhua/miniforge3/envs/Seurat5/lib/R'\n",
    "os.environ['R_USER'] = '/disco_500t/xuhua/miniforge3/envs/Seurat5/lib/python3.8/site-packages/rpy2'\n",
    "\n",
    "import numpy as np\n",
    "from umap import UMAP\n",
    "import time\n",
    "import torch\n",
    "import matplotlib.pyplot as plt\n",
    "import pandas as pd  \n",
    "import scanpy as sc\n",
    "import scipy.sparse as sps\n",
    "import scipy.io as sio\n",
    "# import scipy.sparse as sp\n",
    "from os.path import join\n",
    "import h5py\n",
    "import warnings\n",
    "import gc\n",
    "import gzip\n",
    "from scipy.io import mmread\n",
    "from pathlib import Path, PurePath\n",
    "from sklearn.metrics import adjusted_rand_score\n",
    "\n",
    "import scmomat \n",
    "\n",
    "plt.rcParams[\"font.size\"] = 10"
   ]
  },
  {
   "cell_type": "code",
   "execution_count": 2,
   "id": "c73b23ed-3fc5-4736-8f75-57e68d874caf",
   "metadata": {},
   "outputs": [],
   "source": [
    "def set_col2cat(ad, cols=[]):\n",
    "    for col in cols:\n",
    "        ad.obs[col] = ad.obs[col].astype('category')\n",
    "\n",
    "def unify_colors(queries, color_key, ref_color_dict):\n",
    "    for q in queries:\n",
    "        q.obs[color_key] = q.obs[color_key].astype('category')\n",
    "        q.uns[f'{color_key}_colors'] = [ref_color_dict[_] for _ in q.obs[color_key].cat.categories]\n",
    "    return queries\n",
    "\n",
    "def get_umap(ad, use_reps=[]):\n",
    "    for use_rep in use_reps:\n",
    "        umap_add_key = f'{use_rep}_umap'\n",
    "        sc.pp.neighbors(ad, use_rep=use_rep, n_neighbors=15)\n",
    "        sc.tl.umap(ad)\n",
    "        ad.obsm[umap_add_key] = ad.obsm['X_umap']\n",
    "    return ad\n",
    "\n",
    "def wrap_warn_plot(adata, basis, color, **kwargs):\n",
    "    with warnings.catch_warnings():\n",
    "        warnings.simplefilter(\"ignore\", category=UserWarning)\n",
    "        sc.pl.embedding(adata, basis=basis, color=color, **kwargs)\n",
    "\n",
    "def wrap_warn_comp_plot(ads, basis, colors, figw=5, figh=4, **kwargs):\n",
    "    with warnings.catch_warnings():\n",
    "        warnings.simplefilter(\"ignore\")\n",
    "        for i, color in enumerate(colors):\n",
    "            _, axes = plt.subplots(1, len(ads), figsize=(figw*len(ads), figh))\n",
    "            for j, ad in enumerate(ads):\n",
    "                sc.pl.embedding(ad, basis=basis, color=color, ax=axes[j], show=False, **kwargs)\n",
    "            plt.show()\n",
    "            \n",
    "def mclust_R(adata, num_cluster, modelNames='EEE', used_obsm='STAGATE', random_seed=2020):\n",
    "    np.random.seed(random_seed)\n",
    "    import rpy2.robjects as robjects\n",
    "    robjects.r.library(\"mclust\")\n",
    "\n",
    "    import rpy2.robjects.numpy2ri\n",
    "    rpy2.robjects.numpy2ri.activate()\n",
    "    r_random_seed = robjects.r['set.seed']\n",
    "    r_random_seed(random_seed)\n",
    "    rmclust = robjects.r['Mclust']\n",
    "\n",
    "    res = rmclust(rpy2.robjects.numpy2ri.numpy2rpy(adata.obsm[used_obsm]), num_cluster, modelNames)\n",
    "    mclust_res = np.array(res[-2])\n",
    "\n",
    "    adata.obs['mclust'] = mclust_res\n",
    "    adata.obs['mclust'] = adata.obs['mclust'].astype('int')\n",
    "    adata.obs['mclust'] = adata.obs['mclust'].astype('category')\n",
    "    return adata\n",
    "\n",
    "def load_data(_dir):\n",
    "    feat_names = pd.read_csv(join(_dir, 'features.tsv.gz'), compression='gzip', sep='\\t', header=None)\n",
    "    barcodes   = pd.read_csv(join(_dir, 'barcodes.tsv.gz'), compression='gzip', sep='\\t', header=None)\n",
    "\n",
    "    with gzip.open(join(_dir, 'matrix.mtx.gz'), 'rb') as gzipped_file:\n",
    "        mat = mmread(gzipped_file)\n",
    "\n",
    "    ad = sc.AnnData(sps.csr_matrix(mat.T))\n",
    "    ad.obs_names = barcodes[0].values\n",
    "    ad.var_names = feat_names[1].values\n",
    "    ad.var['id'] = feat_names[0].values\n",
    "    ad.var['type'] = feat_names[2].values\n",
    "    return ad\n",
    "\n",
    "import json\n",
    "import copy\n",
    "from matplotlib.image import imread\n",
    "def load_spatial(path, adata, library_id='0'):\n",
    "    tissue_positions_file = join(path, \"tissue_positions.csv\")\n",
    "    files = dict(\n",
    "        tissue_positions_file=tissue_positions_file,\n",
    "        scalefactors_json_file=join(path, \"scalefactors_json.json\"),\n",
    "        hires_image=join(path, \"tissue_hires_image.png\"),\n",
    "        lowres_image=join(path, \"tissue_lowres_image.png\"),\n",
    "    )\n",
    "    \n",
    "    adata.uns[\"spatial\"] = dict()\n",
    "    adata.uns[\"spatial\"][library_id] = dict()\n",
    "    adata.uns[\"spatial\"][library_id][\"images\"] = dict()\n",
    "    for res in [\"hires\", \"lowres\"]:\n",
    "        try:\n",
    "            adata.uns[\"spatial\"][library_id][\"images\"][res] = imread(\n",
    "                str(files[f\"{res}_image\"])\n",
    "            )\n",
    "        except Exception:\n",
    "            raise OSError(f\"Could not find '{res}_image'\")\n",
    "\n",
    "    # read json scalefactors\n",
    "    adata.uns[\"spatial\"][library_id][\"scalefactors\"] = json.loads(\n",
    "        Path(files[\"scalefactors_json_file\"]).read_bytes()\n",
    "    )\n",
    "\n",
    "    # read coordinates\n",
    "    positions = pd.read_csv(\n",
    "        files[\"tissue_positions_file\"],\n",
    "        header=0 if Path(tissue_positions_file).name == \"tissue_positions.csv\" else None,\n",
    "        index_col=0,\n",
    "    )\n",
    "    positions.columns = [\n",
    "        \"in_tissue\",\n",
    "        \"array_row\",\n",
    "        \"array_col\",\n",
    "        \"pxl_col_in_fullres\",\n",
    "        \"pxl_row_in_fullres\",\n",
    "    ]\n",
    "\n",
    "    adata.obs = adata.obs.join(positions, how=\"left\")\n",
    "\n",
    "    adata.obsm[\"spatial\"] = adata.obs[\n",
    "        [\"pxl_row_in_fullres\", \"pxl_col_in_fullres\"]\n",
    "    ].to_numpy()\n",
    "   \n",
    "    adata.obs.drop(\n",
    "        columns=[\"pxl_row_in_fullres\", \"pxl_col_in_fullres\"],\n",
    "        inplace=True,\n",
    "    )\n",
    "\n",
    "from scib.metrics import lisi\n",
    "def eval_lisi(\n",
    "        adata,\n",
    "        batch_keys=['domain', 'batch'],\n",
    "        label_keys = ['gt'],\n",
    "        use_rep='X_emb', use_neighbors=False,\n",
    "    ):\n",
    "    res = {}\n",
    "    for key in batch_keys:\n",
    "        adata.obs[key] = adata.obs[key].astype('category')\n",
    "\n",
    "        _lisi = lisi.ilisi_graph(\n",
    "            adata,\n",
    "            key,\n",
    "            'embed' if not use_neighbors else 'knn',\n",
    "            use_rep=use_rep,\n",
    "            k0=90,\n",
    "            subsample=None,\n",
    "            scale=True,\n",
    "            n_cores=1,\n",
    "            verbose=False,\n",
    "        )\n",
    "        res[key+'_iLISI'] = _lisi\n",
    "    for key in label_keys:\n",
    "        adata.obs[key] = adata.obs[key].astype('category')\n",
    "\n",
    "        _lisi = lisi.clisi_graph(\n",
    "            adata,\n",
    "            key,\n",
    "            'embed' if not use_neighbors else 'knn',\n",
    "            use_rep=use_rep,\n",
    "            batch_key=None,\n",
    "            k0=90,\n",
    "            subsample=None,\n",
    "            scale=True,\n",
    "            n_cores=1,\n",
    "            verbose=False,\n",
    "        )\n",
    "        res[key+'_cLISI'] = _lisi\n",
    "    df = pd.DataFrame.from_dict(res, orient='index').T\n",
    "    # df.columns = [_+'_LISI' for _ in df.columns]\n",
    "    return df\n",
    "\n",
    "def eval_ads(ads, ref_key, src_key, exclude=[]):\n",
    "    aris = []\n",
    "    for ad in ads:\n",
    "        _mask = ~ad.obs[ref_key].isin(exclude)\n",
    "        gt = ad.obs[ref_key].values[_mask]\n",
    "        pred = ad.obs[src_key].values[_mask]\n",
    "        aris.append(adjusted_rand_score(pred, gt))\n",
    "    return aris\n",
    "\n",
    "from sklearn.preprocessing import normalize\n",
    "from sklearn.neighbors import KNeighborsClassifier\n",
    "from sklearn.metrics import f1_score"
   ]
  },
  {
   "cell_type": "code",
   "execution_count": 3,
   "id": "78cc45d8-f9b9-48e1-8197-c53418da6ce7",
   "metadata": {},
   "outputs": [],
   "source": [
    "def split_ob(ads, ad_ref, ob='obs', key='emb2'):\n",
    "    len_ads = [_.n_obs for _ in ads]\n",
    "    if ob=='obsm':\n",
    "        split_obsms = np.split(ad_ref.obsm[key], np.cumsum(len_ads[:-1]))\n",
    "        for ad, v in zip(ads, split_obsms):\n",
    "            ad.obsm[key] = v\n",
    "    else:\n",
    "        split_obs = np.split(ad_ref.obs[key].to_list(), np.cumsum(len_ads[:-1]))\n",
    "        for ad, v in zip(ads, split_obs):\n",
    "            ad.obs[key] = v\n",
    "    \n",
    "def subset_ad(ad, subset_index):\n",
    "    ad = ad[subset_index].copy()\n",
    "    return ad\n",
    "\n",
    "def set_spatial(ad):\n",
    "    ad.obsm['spatial'] = ad.obs[['array_row', 'array_col']].values\n",
    "    ad.obsm['spatial'] = ad.obsm['spatial'][:, ::-1]\n",
    "    ad.obsm['spatial'][:, 1] = -1 * ad.obsm['spatial'][:, 1]\n",
    "    return ad\n",
    "\n",
    "import copy\n",
    "def std_prep(ad, n_hvg=5000, hvg_flav='v3', scale=False):\n",
    "    ad.X = copy.deepcopy(ad.layers['counts'])\n",
    "    \n",
    "    if n_hvg and hvg_flav=='v3':\n",
    "        sc.pp.highly_variable_genes(ad, n_top_genes=n_hvg, flavor='seurat_v3')\n",
    "    sc.pp.normalize_total(ad, target_sum=1e4)\n",
    "    sc.pp.log1p(ad)\n",
    "    if n_hvg and hvg_flav=='v2':\n",
    "        sc.pp.highly_variable_genes(ad, n_top_genes=n_hvg)\n",
    "    if scale:\n",
    "        sc.pp.scale(ad)\n",
    "    sc.pp.pca(ad, n_comps=min(50, ad.n_vars-1))"
   ]
  },
  {
   "cell_type": "markdown",
   "id": "f778777f-1e2a-4fca-894b-ad3ae58ed4d5",
   "metadata": {},
   "source": [
    "### load dataset"
   ]
  },
  {
   "cell_type": "code",
   "execution_count": 4,
   "id": "5fc37e1b-ddbd-4171-8c67-f96e7ed590e4",
   "metadata": {
    "collapsed": true,
    "jupyter": {
     "outputs_hidden": true
    }
   },
   "outputs": [
    {
     "name": "stderr",
     "output_type": "stream",
     "text": [
      "/tmp/ipykernel_14946/3635794731.py:59: FutureWarning: X.dtype being converted to np.float32 from int64. In the next version of anndata (0.9) conversion will not be automatic. Pass dtype explicitly to avoid this warning. Pass `AnnData(X, dtype=X.dtype, ...)` to get the future behavour.\n",
      "  ad = sc.AnnData(sps.csr_matrix(mat.T))\n",
      "/home/xuhua/xuhua_disco/miniforge3/envs/bento/lib/python3.8/site-packages/anndata/_core/anndata.py:1830: UserWarning: Variable names are not unique. To make them unique, call `.var_names_make_unique`.\n",
      "  utils.warn_names_duplicates(\"var\")\n",
      "/home/xuhua/xuhua_disco/miniforge3/envs/bento/lib/python3.8/site-packages/anndata/_core/anndata.py:1830: UserWarning: Variable names are not unique. To make them unique, call `.var_names_make_unique`.\n",
      "  utils.warn_names_duplicates(\"var\")\n",
      "/home/xuhua/xuhua_disco/miniforge3/envs/bento/lib/python3.8/site-packages/anndata/_core/anndata.py:1830: UserWarning: Variable names are not unique. To make them unique, call `.var_names_make_unique`.\n",
      "  utils.warn_names_duplicates(\"var\")\n",
      "/home/xuhua/xuhua_disco/miniforge3/envs/bento/lib/python3.8/site-packages/anndata/_core/anndata.py:1830: UserWarning: Variable names are not unique. To make them unique, call `.var_names_make_unique`.\n",
      "  utils.warn_names_duplicates(\"var\")\n",
      "/home/xuhua/xuhua_disco/miniforge3/envs/bento/lib/python3.8/site-packages/anndata/_core/anndata.py:1830: UserWarning: Variable names are not unique. To make them unique, call `.var_names_make_unique`.\n",
      "  utils.warn_names_duplicates(\"var\")\n"
     ]
    }
   ],
   "source": [
    "data_dir = '/disco_500t/xuhua/data/spatial_multi_omics/lymp_node/TN-2024-new/outs'\n",
    "\n",
    "ad3 = load_data(join(data_dir, 'filtered_feature_bc_matrix'))\n",
    "ad3_rna = ad3[:, ad3.var['type']=='Gene Expression'].copy()\n",
    "ad3_adt = ad3[:, ad3.var['type']=='Antibody Capture'].copy()\n",
    "load_spatial(join(data_dir, 'spatial'), ad3_rna)\n",
    "load_spatial(join(data_dir, 'spatial'), ad3_adt)\n",
    "\n",
    "ad3_rna.obs['src'] = ad3_adt.obs['src'] = ['s3']*ad3_rna.n_obs\n",
    "ad3_rna.obs_names = [f's3-{x}' for x in ad3_rna.obs_names]\n",
    "ad3_adt.obs_names = [f's3-{x}' for x in ad3_adt.obs_names]\n",
    "\n",
    "ad3_rna.var_names_make_unique()\n",
    "ad3_adt.var_names_make_unique()\n",
    "\n",
    "data_dir = '/disco_500t/xuhua/data/spatial_multi_omics/lymp_tonsil_ramen'\n",
    "\n",
    "ad_a1_rna = sc.read_h5ad(join(data_dir, 'tonsil_A1/adata_RNA.h5ad'))\n",
    "ad_a1_adt = sc.read_h5ad(join(data_dir, 'tonsil_A1/adata_ADT.h5ad'))\n",
    "ad_a1_rna.var_names_make_unique()\n",
    "ad_a1_adt.var_names_make_unique()\n",
    "meta1 = pd.read_csv(join(data_dir, 'tonsil_A1/A1_TNSL_Kwoh.csv'), index_col=0) \n",
    "ad_a1_rna.obs['lab'] = meta1.loc[ad_a1_rna.obs_names, 'manual'].to_list()\n",
    "ad_a1_adt.obs['lab'] = meta1.loc[ad_a1_adt.obs_names, 'manual'].to_list()\n",
    "ad_a1_rna.obs['src'] = ad_a1_adt.obs['src'] = ['s1'] * ad_a1_rna.n_obs\n",
    "ad_a1_rna.obs_names = [f's1-{x}' for x in ad_a1_rna.obs_names]\n",
    "ad_a1_adt.obs_names = [f's1-{x}' for x in ad_a1_adt.obs_names]\n",
    "\n",
    "ad_d1_rna = sc.read_h5ad(join(data_dir, 'tonsil_D1/adata_RNA.h5ad'))\n",
    "ad_d1_adt = sc.read_h5ad(join(data_dir, 'tonsil_D1/adata_ADT.h5ad'))\n",
    "ad_d1_rna.var_names_make_unique()\n",
    "ad_d1_adt.var_names_make_unique()\n",
    "meta2 = pd.read_csv(join(data_dir, 'tonsil_D1/D1_TNSL_cloupe_Kwoh.csv'), index_col=0) \n",
    "ad_d1_rna.obs['lab'] = meta2.loc[ad_d1_rna.obs_names, 'manual'].to_list()\n",
    "ad_d1_adt.obs['lab'] = meta2.loc[ad_d1_adt.obs_names, 'manual'].to_list()\n",
    "ad_d1_rna.obs['src'] = ['s2-rna'] * ad_d1_rna.n_obs\n",
    "ad_d1_adt.obs['src'] = ['s2-adt'] * ad_d1_adt.n_obs\n",
    "ad_d1_rna.obs_names = [f's2-rna-{x}' for x in ad_d1_rna.obs_names]\n",
    "ad_d1_adt.obs_names = [f's2-adt-{x}' for x in ad_d1_adt.obs_names]\n",
    "\n",
    "ad_a1_rna.obs['Sample'] = ad_a1_adt.obs['Sample'] = ['S1']*ad_a1_rna.n_obs\n",
    "ad_d1_rna.obs['Sample'] = ad_d1_adt.obs['Sample'] = ['S2']*ad_d1_rna.n_obs"
   ]
  },
  {
   "cell_type": "code",
   "execution_count": 5,
   "id": "97ba43a5-6346-40c5-bd37-195e6b58943c",
   "metadata": {},
   "outputs": [],
   "source": [
    "ad_rna_all = sc.concat([ad_a1_rna, ad_d1_rna, ad3_rna])\n",
    "ad_adt_all = sc.concat([ad_a1_adt, ad_d1_adt, ad3_adt])\n",
    "\n",
    "sc.pp.highly_variable_genes(ad_rna_all, flavor='seurat_v3', n_top_genes=10000, batch_key='src')\n",
    "hvg_names = ad_rna_all.var.query('highly_variable').index.to_numpy()\n",
    "hvp_names = ad_adt_all.var_names.to_numpy()"
   ]
  },
  {
   "cell_type": "markdown",
   "id": "dae4c586-04ea-4a41-8e50-613b20985318",
   "metadata": {},
   "source": [
    "### prepare count inputs"
   ]
  },
  {
   "cell_type": "code",
   "execution_count": 6,
   "id": "68b948cc-a3c0-4820-a75f-a182e2682d64",
   "metadata": {},
   "outputs": [],
   "source": [
    "# READ IN THE COUNT MATRICES\n",
    "counts_rnas = []\n",
    "for adi in [ad_a1_rna, ad_d1_rna, None]:\n",
    "    if adi is not None:\n",
    "        count = scmomat.preprocess(adi[:, hvg_names].X.A, modality = \"RNA\", log = False)\n",
    "        counts_rnas.append(count)\n",
    "    else:\n",
    "        counts_rnas.append(None)\n",
    "\n",
    "counts_adts = []\n",
    "for adi in [ad_a1_adt, None, ad_d1_adt]:\n",
    "    if adi is not None:\n",
    "        count = scmomat.preprocess(adi[:, hvp_names].X.A, modality = \"ADT\", log = True)\n",
    "        counts_adts.append(count)\n",
    "    else:\n",
    "        counts_adts.append(None)"
   ]
  },
  {
   "cell_type": "code",
   "execution_count": 7,
   "id": "315c3f38-aba9-452b-aaae-8712f9361a54",
   "metadata": {},
   "outputs": [],
   "source": [
    "# CREATE THE COUNTS OBJECT\n",
    "n_batches = 3\n",
    "feats_name = {\"rna\": hvg_names, \"adt\": hvp_names}\n",
    "counts = {\"feats_name\": feats_name, \"nbatches\": n_batches, \"rna\":counts_rnas, \"adt\": counts_adts}"
   ]
  },
  {
   "cell_type": "markdown",
   "id": "a355f3bf-7676-4163-87e5-5530ed998bb5",
   "metadata": {},
   "source": [
    "### step 2: training scmomat"
   ]
  },
  {
   "cell_type": "code",
   "execution_count": 8,
   "id": "e0f78c6a-4f05-4da8-911c-7944b7f5f115",
   "metadata": {},
   "outputs": [
    {
     "name": "stdout",
     "output_type": "stream",
     "text": [
      "Input sanity check...\n",
      "Finished.\n",
      "Epoch 1, Validating Loss: 26.5152\n",
      "\t loss reconstruction: 0.01652\n",
      "\t loss regularization: 1.00000\n",
      "Epoch 1000, Validating Loss: 10.9220\n",
      "\t loss reconstruction: 0.01081\n",
      "\t loss regularization: 0.01169\n",
      "Epoch 2000, Validating Loss: 10.4368\n",
      "\t loss reconstruction: 0.01021\n",
      "\t loss regularization: 0.02244\n",
      "Epoch 3000, Validating Loss: 9.9077\n",
      "\t loss reconstruction: 0.00951\n",
      "\t loss regularization: 0.04008\n",
      "Epoch 4000, Validating Loss: 9.6767\n",
      "\t loss reconstruction: 0.00930\n",
      "\t loss regularization: 0.03782\n",
      "running time: 137.33617687225342\n"
     ]
    },
    {
     "data": {
      "text/plain": [
       "[<matplotlib.lines.Line2D at 0x7fad440a8460>]"
      ]
     },
     "execution_count": 8,
     "metadata": {},
     "output_type": "execute_result"
    },
    {
     "data": {
      "image/png": "[encoded data removed]",
      "text/plain": [
       "<Figure size 640x480 with 1 Axes>"
      ]
     },
     "metadata": {},
     "output_type": "display_data"
    }
   ],
   "source": [
    "#------------------------------------------------------------------------------------------------------------------------------------\n",
    "# NOTE: Number of latent dimensions, key hyper-parameter, 20~30 works for most of the cases.\n",
    "K = 50\n",
    "lamb = 0.01 \n",
    "T = 4000     \n",
    "interval = 1000\n",
    "batch_size = 0.1\n",
    "lr = 1e-2\n",
    "seed = 0\n",
    "device = torch.device(\"cuda:2\" if torch.cuda.is_available() else \"cpu\")\n",
    "\n",
    "#------------------------------------------------------------------------------------------------------------------------------------\n",
    "\n",
    "start_time = time.time()\n",
    "model = scmomat.scmomat_model(counts = counts, K = K, batch_size = batch_size, interval = interval, lr = lr, lamb = lamb, seed = seed, device = device)\n",
    "losses = model.train_func(T = T)\n",
    "end_time = time.time()\n",
    "print(\"running time: \" + str(end_time - start_time))\n",
    "\n",
    "x = np.linspace(0, T, int(T/interval)+1)\n",
    "plt.plot(x, losses)"
   ]
  },
  {
   "cell_type": "markdown",
   "id": "e9ba5181-5a9e-43e0-a315-0d932ddd2436",
   "metadata": {},
   "source": [
    "#### inference"
   ]
  },
  {
   "cell_type": "code",
   "execution_count": 9,
   "id": "ccdd55b4-d783-41f6-b81c-5986aca0e6a5",
   "metadata": {},
   "outputs": [],
   "source": [
    "# umap_op = UMAP(n_components = 2, n_neighbors = 30, min_dist = 0.2, random_state = 0) \n",
    "\n",
    "if True:\n",
    "    zs = model.extract_cell_factors()\n",
    "    # np.save('./outputs/tonsil/rep1-rep2-rep3.npy', zs)\n",
    "else:\n",
    "    pass\n",
    "    # zs = np.load('./outputs/tonsil/rep1-rep2-rep3.npy', allow_pickle=True)\n",
    "    \n",
    "# x_umap = umap_op.fit_transform(np.concatenate(zs, axis = 0))"
   ]
  },
  {
   "cell_type": "code",
   "execution_count": 10,
   "id": "08b7ede2-e2e0-49f5-88eb-0ce8e6d211f2",
   "metadata": {},
   "outputs": [],
   "source": [
    "# read in the ground truth labels\n",
    "# NOTE: Plot the result before post-processing\n",
    "# labels = [ad_a1_rna.obs.label, ad_d1_rna.obs.label, ad_test_adt.obs.label]\n",
    "batches = ad_a1_rna.obs['src'].to_list() + ad_d1_rna.obs['src'].to_list() + ad_d1_adt.obs['src'].to_list()"
   ]
  },
  {
   "cell_type": "markdown",
   "id": "4123dfb0-6426-467e-811f-4e9e3c42d712",
   "metadata": {},
   "source": [
    "### post-processing"
   ]
  },
  {
   "cell_type": "markdown",
   "id": "73ebd17e-5e78-4a3b-9ce9-dcd8bfbf5a56",
   "metadata": {},
   "source": [
    "### eval results"
   ]
  },
  {
   "cell_type": "code",
   "execution_count": 11,
   "id": "faac3c0e-075e-42aa-97a1-3737fb0960eb",
   "metadata": {},
   "outputs": [],
   "source": [
    "ad_mosaic = sc.AnnData(np.vstack(zs), obsm={\"X_emb\":np.vstack(zs)})\n",
    "# ad_mosaic.obs['label'] = np.hstack(labels)\n",
    "ad_mosaic.obs['batches'] = np.hstack(batches)\n",
    "split_ob([ad_a1_adt, ad_d1_rna, ad_d1_adt], ad_mosaic, ob='obsm', key='X_emb')\n"
   ]
  },
  {
   "cell_type": "markdown",
   "id": "8303db0b-cdbe-4afb-b7d8-adc88909e324",
   "metadata": {},
   "source": [
    "### before batch corr"
   ]
  },
  {
   "cell_type": "code",
   "execution_count": 13,
   "id": "6aaa8b37-2682-4767-859e-f516429dd80e",
   "metadata": {},
   "outputs": [],
   "source": [
    "# lisi_res = eval_lisi(\n",
    "#     ad_mosaic,\n",
    "#     batch_keys=['batches'],\n",
    "#     label_keys = [],\n",
    "#     use_rep='X_emb', use_neighbors=False,\n",
    "# )\n",
    "# lisi_res['batches_iLISI'][0]\n"
   ]
  },
  {
   "cell_type": "code",
   "execution_count": 16,
   "id": "8acbd243-aea6-46ca-a2be-cd0837a7e72e",
   "metadata": {},
   "outputs": [
    {
     "name": "stdout",
     "output_type": "stream",
     "text": [
      "FOSCTTM=0.26618\n",
      "Match_score=0.00105\n"
     ]
    },
    {
     "data": {
      "text/plain": [
       "{'FOSCTTM': 0.266179712507898, 'Match_score': 0.0010533830761540997}"
      ]
     },
     "execution_count": 16,
     "metadata": {},
     "output_type": "execute_result"
    }
   ],
   "source": [
    "from lisi_bridge import eval_bridge\n",
    "eval_bridge(\n",
    "        ad_d1_rna, ad_d1_adt,\n",
    "        label_key=None,\n",
    "        batch_key='Sample',\n",
    "        use_rep='X_emb',\n",
    "        use_fosc=True, use_acc=False, use_score=True,\n",
    "    )"
   ]
  },
  {
   "cell_type": "markdown",
   "id": "033153e7-d499-4da3-bb59-1b57392cf428",
   "metadata": {},
   "source": [
    "### after batch corr"
   ]
  },
  {
   "cell_type": "code",
   "execution_count": 17,
   "id": "b974bdfa-5e76-4d7c-a8e5-09666271014d",
   "metadata": {},
   "outputs": [
    {
     "name": "stdout",
     "output_type": "stream",
     "text": [
      "Use GPU mode.\n",
      "\tInitialization is completed.\n",
      "\tCompleted 1 / 10 iteration(s).\n",
      "\tCompleted 2 / 10 iteration(s).\n",
      "\tCompleted 3 / 10 iteration(s).\n",
      "Reach convergence after 3 iteration(s).\n"
     ]
    }
   ],
   "source": [
    "from batchCorr import HARMONY\n",
    "\n",
    "ad_mosaic.obsm['X_emb_har'] = HARMONY(pd.DataFrame(ad_mosaic.obsm['X_emb']), ad_mosaic.obs['batches'].to_list())\n",
    "split_ob([ad_a1_adt, ad_d1_rna, ad_d1_adt], ad_mosaic, ob='obsm', key='X_emb_har')"
   ]
  },
  {
   "cell_type": "code",
   "execution_count": 18,
   "id": "371ae563-9c54-4e1c-8a76-f41105550c86",
   "metadata": {},
   "outputs": [
    {
     "name": "stdout",
     "output_type": "stream",
     "text": [
      "FOSCTTM=0.26224\n",
      "Match_score=0.00145\n"
     ]
    },
    {
     "data": {
      "text/plain": [
       "{'FOSCTTM': 0.2622436134398682, 'Match_score': 0.0014525022887745486}"
      ]
     },
     "execution_count": 18,
     "metadata": {},
     "output_type": "execute_result"
    }
   ],
   "source": [
    "from lisi_bridge import eval_bridge\n",
    "eval_bridge(\n",
    "        ad_d1_rna, ad_d1_adt,\n",
    "        label_key=None,\n",
    "        batch_key='Sample',\n",
    "        use_rep='X_emb_har',\n",
    "        use_fosc=True, use_acc=False, use_score=True,\n",
    "    )"
   ]
  },
  {
   "cell_type": "markdown",
   "id": "56144d93-471c-4449-8b09-2a67106bd7c5",
   "metadata": {},
   "source": [
    "## Vis"
   ]
  },
  {
   "cell_type": "code",
   "execution_count": 19,
   "id": "5ee5571f-d6db-46e0-a574-8e0ebcd52799",
   "metadata": {},
   "outputs": [],
   "source": [
    "fig_dir = f'/disco_500t/xuhua/gitrepo/BridgeNorm/figures/Tonsil_modalMatch/scmomat'\n",
    "os.makedirs(fig_dir, exist_ok=True)\n",
    "\n",
    "df = pd.DataFrame(ad_mosaic.obsm['X_emb'], index=np.hstack([ad_a1_rna.obs_names, ad_d1_rna.obs_names, ad_d1_adt.obs_names]))\n",
    "# df['before_clust'] = ad_mosaic.obs['before_clust'].to_list() \n",
    "df.to_csv(join(fig_dir, 'X_emb.csv'))\n",
    "\n",
    "df = pd.DataFrame(ad_mosaic.obsm['X_emb_har'], index=np.hstack([ad_a1_rna.obs_names, ad_d1_rna.obs_names, ad_d1_adt.obs_names]))\n",
    "# df['after_clust'] = ad_mosaic.obs['after_clust'].to_list() \n",
    "df.to_csv(join(fig_dir, 'X_emb_har.csv'))"
   ]
  },
  {
   "cell_type": "code",
   "execution_count": 20,
   "id": "3f113021-a860-4d33-868e-bf639dc8a246",
   "metadata": {},
   "outputs": [
    {
     "data": {
      "text/plain": [
       "1"
      ]
     },
     "execution_count": 20,
     "metadata": {},
     "output_type": "execute_result"
    }
   ],
   "source": [
    "1"
   ]
  },
  {
   "cell_type": "code",
   "execution_count": null,
   "id": "e642de76-dfdb-442c-82b7-e4122bc4e636",
   "metadata": {},
   "outputs": [],
   "source": []
  }
 ],
 "metadata": {
  "kernelspec": {
   "display_name": "bento",
   "language": "python",
   "name": "bento"
  },
  "language_info": {
   "codemirror_mode": {
    "name": "ipython",
    "version": 3
   },
   "file_extension": ".py",
   "mimetype": "text/x-python",
   "name": "python",
   "nbconvert_exporter": "python",
   "pygments_lexer": "ipython3",
   "version": "3.8.18"
  }
 },
 "nbformat": 4,
 "nbformat_minor": 5
}
