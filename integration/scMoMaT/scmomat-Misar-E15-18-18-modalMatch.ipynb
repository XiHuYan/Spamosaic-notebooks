{
 "cells": [
  {
   "cell_type": "code",
   "execution_count": 1,
   "id": "02caeaf7-dd3c-47b4-b1f9-b0bccdc8c567",
   "metadata": {},
   "outputs": [],
   "source": [
    "import sys, os\n",
    "os.environ['R_HOME'] = '/disco_500t/xuhua/miniforge3/envs/Seurat5/lib/R'\n",
    "os.environ['R_USER'] = '/disco_500t/xuhua/miniforge3/envs/Seurat5/lib/python3.8/site-packages/rpy2'\n",
    "\n",
    "import numpy as np\n",
    "from umap import UMAP\n",
    "import time\n",
    "import torch\n",
    "import matplotlib.pyplot as plt\n",
    "import pandas as pd  \n",
    "import scanpy as sc\n",
    "import scipy.sparse as sps\n",
    "import scipy.io as sio\n",
    "# import scipy.sparse as sp\n",
    "from os.path import join\n",
    "import h5py\n",
    "import warnings\n",
    "import gc\n",
    "\n",
    "import scmomat \n",
    "\n",
    "plt.rcParams[\"font.size\"] = 10"
   ]
  },
  {
   "cell_type": "code",
   "execution_count": 2,
   "id": "c73b23ed-3fc5-4736-8f75-57e68d874caf",
   "metadata": {},
   "outputs": [],
   "source": [
    "def set_col2cat(ad, cols=[]):\n",
    "    for col in cols:\n",
    "        ad.obs[col] = ad.obs[col].astype('category')\n",
    "\n",
    "def unify_colors(queries, color_key, ref_color_dict):\n",
    "    for q in queries:\n",
    "        q.obs[color_key] = q.obs[color_key].astype('category')\n",
    "        q.uns[f'{color_key}_colors'] = [ref_color_dict[_] for _ in q.obs[color_key].cat.categories]\n",
    "    return queries\n",
    "\n",
    "def get_umap(ad, use_reps=[]):\n",
    "    for use_rep in use_reps:\n",
    "        umap_add_key = f'{use_rep}_umap'\n",
    "        sc.pp.neighbors(ad, use_rep=use_rep, n_neighbors=15)\n",
    "        sc.tl.umap(ad)\n",
    "        ad.obsm[umap_add_key] = ad.obsm['X_umap']\n",
    "    return ad\n",
    "\n",
    "def wrap_warn_plot(adata, basis, color, **kwargs):\n",
    "    with warnings.catch_warnings():\n",
    "        warnings.simplefilter(\"ignore\", category=UserWarning)\n",
    "        sc.pl.embedding(adata, basis=basis, color=color, **kwargs)\n",
    "\n",
    "def wrap_warn_comp_plot(ads, basis, colors, figw=5, figh=4, **kwargs):\n",
    "    with warnings.catch_warnings():\n",
    "        warnings.simplefilter(\"ignore\")\n",
    "        for i, color in enumerate(colors):\n",
    "            _, axes = plt.subplots(1, len(ads), figsize=(figw*len(ads), figh))\n",
    "            for j, ad in enumerate(ads):\n",
    "                sc.pl.embedding(ad, basis=basis, color=color, ax=axes[j], show=False, **kwargs)\n",
    "            plt.show()\n",
    "            \n",
    "def mclust_R(adata, num_cluster, modelNames='EEE', used_obsm='STAGATE', random_seed=2020):\n",
    "    np.random.seed(random_seed)\n",
    "    import rpy2.robjects as robjects\n",
    "    robjects.r.library(\"mclust\")\n",
    "\n",
    "    import rpy2.robjects.numpy2ri\n",
    "    rpy2.robjects.numpy2ri.activate()\n",
    "    r_random_seed = robjects.r['set.seed']\n",
    "    r_random_seed(random_seed)\n",
    "    rmclust = robjects.r['Mclust']\n",
    "\n",
    "    res = rmclust(rpy2.robjects.numpy2ri.numpy2rpy(adata.obsm[used_obsm]), num_cluster, modelNames)\n",
    "    mclust_res = np.array(res[-2])\n",
    "\n",
    "    adata.obs['mclust'] = mclust_res\n",
    "    adata.obs['mclust'] = adata.obs['mclust'].astype('int')\n",
    "    adata.obs['mclust'] = adata.obs['mclust'].astype('category')\n",
    "    return adata\n",
    "\n",
    "def load_h5(path):\n",
    "    with h5py.File(path, 'r') as f:\n",
    "        print(f['matrix'].keys())\n",
    "        print(f['matrix']['features'].keys())\n",
    "\n",
    "        barcodes = [_.decode('utf-8') for _ in f['matrix']['barcodes'][:]]\n",
    "        data = f['matrix']['data'][:]\n",
    "        indices = f['matrix']['indices'][:]\n",
    "        indptr = f['matrix']['indptr'][:]\n",
    "        shape = f['matrix']['shape'][:]\n",
    "\n",
    "        feature_type = [_.decode('utf-8') for _ in f['matrix']['features']['feature_type'][:]]\n",
    "        feature_id   = [_.decode('utf-8') for _ in f['matrix']['features']['id'][:]]\n",
    "        feature_name = [_.decode('utf-8') for _ in f['matrix']['features']['name'][:]]\n",
    "        feature_interval = [_.decode('utf-8') for _ in f['matrix']['features']['interval'][:]]\n",
    "\n",
    "\n",
    "        X = sps.csc_matrix(\n",
    "            (data, indices, indptr), \n",
    "            shape = shape\n",
    "        ).tocsc().astype(np.float32).T.toarray()\n",
    "\n",
    "        adata = sc.AnnData(X)\n",
    "        adata.obs_names = barcodes\n",
    "        adata.var_names = feature_id\n",
    "        adata.var['type'] = feature_type\n",
    "        adata.var['name'] = feature_name\n",
    "        adata.var['interval'] = feature_interval\n",
    "    return adata\n",
    "\n",
    "from scib.metrics import lisi\n",
    "def eval_lisi(\n",
    "        adata,\n",
    "        batch_keys=['domain', 'batch'],\n",
    "        label_keys = ['gt'],\n",
    "        use_rep='X_emb', use_neighbors=False,\n",
    "    ):\n",
    "    res = {}\n",
    "    for key in batch_keys:\n",
    "        adata.obs[key] = adata.obs[key].astype('category')\n",
    "\n",
    "        _lisi = lisi.ilisi_graph(\n",
    "            adata,\n",
    "            key,\n",
    "            'embed' if not use_neighbors else 'knn',\n",
    "            use_rep=use_rep,\n",
    "            k0=90,\n",
    "            subsample=None,\n",
    "            scale=True,\n",
    "            n_cores=1,\n",
    "            verbose=False,\n",
    "        )\n",
    "        res[key+'_iLISI'] = _lisi\n",
    "    for key in label_keys:\n",
    "        adata.obs[key] = adata.obs[key].astype('category')\n",
    "\n",
    "        _lisi = lisi.clisi_graph(\n",
    "            adata,\n",
    "            key,\n",
    "            'embed' if not use_neighbors else 'knn',\n",
    "            use_rep=use_rep,\n",
    "            batch_key=None,\n",
    "            k0=90,\n",
    "            subsample=None,\n",
    "            scale=True,\n",
    "            n_cores=1,\n",
    "            verbose=False,\n",
    "        )\n",
    "        res[key+'_cLISI'] = _lisi\n",
    "    df = pd.DataFrame.from_dict(res, orient='index').T\n",
    "    # df.columns = [_+'_LISI' for _ in df.columns]\n",
    "    return df\n",
    "\n",
    "def eval_ads(ads, ref_key, src_key):\n",
    "    aris = []\n",
    "    for ad in ads:\n",
    "        aris.append(adjusted_rand_score(ad.obs[src_key], ad.obs[ref_key]))\n",
    "    return aris\n",
    "\n",
    "from sklearn.preprocessing import normalize\n",
    "from sklearn.neighbors import KNeighborsClassifier\n",
    "from sklearn.metrics import f1_score\n",
    "def eval_labelTransfer(ad1, ad2, use_rep, lab_key, knn=10):\n",
    "     with warnings.catch_warnings():\n",
    "        warnings.simplefilter(\"ignore\", category=FutureWarning)\n",
    "        neigh1 = KNeighborsClassifier(n_neighbors=knn)\n",
    "        neigh1.fit(ad1.obsm[use_rep], ad1.obs[lab_key].to_list())\n",
    "        pr_lab2 = neigh1.predict(ad2.obsm[use_rep])\n",
    "        f1_1 = f1_score(ad2.obs[lab_key].values, pr_lab2, #labels=['1.0', '2.0', '3.0', '4.0'], \n",
    "                        average='macro')\n",
    "        # acc1 = (pr_lab2 == ad2.obs[lab_key].values).mean()\n",
    "    \n",
    "        neigh2 = KNeighborsClassifier(n_neighbors=knn)\n",
    "        neigh2.fit(ad2.obsm[use_rep], ad2.obs[lab_key].to_list())\n",
    "        pr_lab1 = neigh2.predict(ad1.obsm[use_rep])\n",
    "        # acc2 = (pr_lab1 == ad1.obs[lab_key].values).mean()\n",
    "        f1_2 = f1_score(ad1.obs[lab_key].values, pr_lab1, #labels=['1.0', '2.0', '3.0', '4.0'], \n",
    "                        average='macro')\n",
    "        return (f1_1+f1_2)/2\n"
   ]
  },
  {
   "cell_type": "code",
   "execution_count": 3,
   "id": "78cc45d8-f9b9-48e1-8197-c53418da6ce7",
   "metadata": {},
   "outputs": [],
   "source": [
    "def split_ob(ads, ad_ref, ob='obs', key='emb2'):\n",
    "    len_ads = [_.n_obs for _ in ads]\n",
    "    if ob=='obsm':\n",
    "        split_obsms = np.split(ad_ref.obsm[key], np.cumsum(len_ads[:-1]))\n",
    "        for ad, v in zip(ads, split_obsms):\n",
    "            ad.obsm[key] = v\n",
    "    else:\n",
    "        split_obs = np.split(ad_ref.obs[key].to_list(), np.cumsum(len_ads[:-1]))\n",
    "        for ad, v in zip(ads, split_obs):\n",
    "            ad.obs[key] = v\n",
    "    \n",
    "def subset_ad(ad, subset_index):\n",
    "    ad = ad[subset_index].copy()\n",
    "    return ad\n",
    "\n",
    "def set_spatial(ad):\n",
    "    ad.obsm['spatial'] = ad.obs[['array_row', 'array_col']].values\n",
    "    ad.obsm['spatial'] = ad.obsm['spatial'][:, ::-1]\n",
    "    ad.obsm['spatial'][:, 1] = -1 * ad.obsm['spatial'][:, 1]\n",
    "    return ad"
   ]
  },
  {
   "cell_type": "markdown",
   "id": "f778777f-1e2a-4fca-894b-ad3ae58ed4d5",
   "metadata": {},
   "source": [
    "### load dataset"
   ]
  },
  {
   "cell_type": "code",
   "execution_count": 4,
   "id": "5fc37e1b-ddbd-4171-8c67-f96e7ed590e4",
   "metadata": {},
   "outputs": [
    {
     "name": "stdout",
     "output_type": "stream",
     "text": [
      "<KeysViewHDF5 ['barcodes', 'data', 'features', 'indices', 'indptr', 'shape']>\n",
      "<KeysViewHDF5 ['_all_tag_keys', 'feature_type', 'genome', 'id', 'interval', 'name']>\n",
      "<KeysViewHDF5 ['barcodes', 'data', 'features', 'indices', 'indptr', 'shape']>\n",
      "<KeysViewHDF5 ['_all_tag_keys', 'feature_type', 'genome', 'id', 'interval', 'name']>\n",
      "<KeysViewHDF5 ['barcodes', 'data', 'features', 'indices', 'indptr', 'shape']>\n",
      "<KeysViewHDF5 ['_all_tag_keys', 'feature_type', 'genome', 'id', 'interval', 'name']>\n"
     ]
    },
    {
     "name": "stderr",
     "output_type": "stream",
     "text": [
      "/tmp/ipykernel_52790/645333859.py:20: FutureWarning: X.dtype being converted to np.float32 from int64. In the next version of anndata (0.9) conversion will not be automatic. Pass dtype explicitly to avoid this warning. Pass `AnnData(X, dtype=X.dtype, ...)` to get the future behavour.\n",
      "  ad_bridge_atac = sc.AnnData(peak_mat[bridge_mask])\n",
      "/tmp/ipykernel_52790/645333859.py:23: FutureWarning: X.dtype being converted to np.float32 from int64. In the next version of anndata (0.9) conversion will not be automatic. Pass dtype explicitly to avoid this warning. Pass `AnnData(X, dtype=X.dtype, ...)` to get the future behavour.\n",
      "  ad_test2_atac = sc.AnnData(peak_mat[test2_mask])\n"
     ]
    },
    {
     "data": {
      "text/plain": [
       "429"
      ]
     },
     "execution_count": 4,
     "metadata": {},
     "output_type": "execute_result"
    }
   ],
   "source": [
    "data_dir = '/disco_500t/xuhua/data/MISAR_seq/'\n",
    "ad_bridge = load_h5(join(data_dir, 'E15_5-S1_raw_feature_bc_matrix.h5'))\n",
    "ad_test1 = load_h5(join(data_dir, 'E18_5-S1_raw_feature_bc_matrix.h5'))\n",
    "ad_test2 = load_h5(join(data_dir, 'E18_5-S1_raw_feature_bc_matrix.h5'))  # inconsistent peak name across batches\n",
    "peak_mat = sps.csr_matrix(sio.mmread(join(data_dir, 'BaiduDisk/section1/peak_mat.mtx')).T)\n",
    "peak_spot_name = pd.read_csv(join(data_dir, 'BaiduDisk/section1/peak_spot_names.csv')).x.values\n",
    "\n",
    "meta = pd.read_csv(join(data_dir, 'BaiduDisk/section1/meta_data.csv'), index_col=0)\n",
    "\n",
    "ad_bridge.obs_names = [f'E15_5-S1#{_}' for _ in ad_bridge.obs_names]\n",
    "ad_test1.obs_names = [f'E18_5-S1#{_}' for _ in ad_test1.obs_names]\n",
    "ad_test2.obs_names = [f'E18_5-S1#{_}' for _ in ad_test2.obs_names]\n",
    "\n",
    "# split rna and peak\n",
    "ad_bridge_rna = ad_bridge[:, ad_bridge.var['type'] == 'Gene Expression'].copy()\n",
    "ad_test1_rna = ad_test1[:, ad_test1.var['type'] == 'Gene Expression'].copy()\n",
    "\n",
    "# subset peak matrices\n",
    "bridge_mask = np.in1d(peak_spot_name, ad_bridge.obs_names)\n",
    "ad_bridge_atac = sc.AnnData(peak_mat[bridge_mask])\n",
    "ad_bridge_atac.obs_names = peak_spot_name[bridge_mask]\n",
    "test2_mask = np.in1d(peak_spot_name, ad_test2.obs_names)\n",
    "ad_test2_atac = sc.AnnData(peak_mat[test2_mask])\n",
    "ad_test2_atac.obs_names = peak_spot_name[test2_mask]\n",
    "\n",
    "ad_bridge_rna = subset_ad(ad_bridge_rna, ad_bridge_rna.obs_names.intersection(meta.index))\n",
    "ad_test1_rna = subset_ad(ad_test1_rna, ad_test1_rna.obs_names.intersection(meta.index))\n",
    "\n",
    "ad_bridge_rna.obs = meta.loc[ad_bridge_rna.obs_names].copy()\n",
    "ad_bridge_atac.obs = meta.loc[ad_bridge_atac.obs_names].copy()\n",
    "ad_test1_rna.obs = meta.loc[ad_test1_rna.obs_names].copy()\n",
    "ad_test2_atac.obs = meta.loc[ad_test2_atac.obs_names].copy()\n",
    "ad_bridge_rna = set_spatial(ad_bridge_rna)\n",
    "ad_bridge_atac = set_spatial(ad_bridge_atac)\n",
    "ad_test1_rna = set_spatial(ad_test1_rna)\n",
    "ad_test2_atac = set_spatial(ad_test2_atac)\n",
    "\n",
    "set_col2cat(ad_bridge_rna, cols=['ATAC_Clusters', 'RNA_Clusters', 'Combined_Clusters', 'Sample'])\n",
    "set_col2cat(ad_bridge_atac, cols=['ATAC_Clusters', 'RNA_Clusters', 'Combined_Clusters', 'Sample'])\n",
    "set_col2cat(ad_test1_rna, cols=['ATAC_Clusters', 'RNA_Clusters', 'Combined_Clusters', 'Sample'])\n",
    "set_col2cat(ad_test2_atac, cols=['ATAC_Clusters', 'RNA_Clusters', 'Combined_Clusters', 'Sample'])\n",
    "\n",
    "del peak_mat, ad_bridge, ad_test1, ad_test2\n",
    "gc.collect()"
   ]
  },
  {
   "cell_type": "code",
   "execution_count": 5,
   "id": "589916f5-6fae-43c0-99ea-92bc7fae6953",
   "metadata": {},
   "outputs": [
    {
     "name": "stdout",
     "output_type": "stream",
     "text": [
      "True\n"
     ]
    }
   ],
   "source": [
    "ad_bridge_atac = ad_bridge_atac[ad_bridge_rna.obs_names].copy()\n",
    "assert (ad_bridge_rna.obs_names == ad_bridge_atac.obs_names).all()\n",
    "\n",
    "ad_test2_atac = ad_test2_atac[ad_test1_rna.obs_names].copy()\n",
    "print((ad_test1_rna.obs_names == ad_test2_atac.obs_names).all())\n",
    "\n",
    "ad_test1_rna.obs_names = [f'rna_{_}' for _ in ad_test1_rna.obs_names]\n",
    "ad_test2_atac.obs_names = [f'atac_{_}' for _ in ad_test2_atac.obs_names]\n",
    "\n",
    "ad_bridge_rna.obs['src'] = ad_bridge_atac.obs['src'] = ['s1']*ad_bridge_rna.n_obs\n",
    "ad_test1_rna.obs['src'] = ['s2-rna']*ad_test1_rna.n_obs\n",
    "ad_test2_atac.obs['src'] = ['s2-atac']*ad_test2_atac.n_obs\n",
    "ad_test1_rna.obs['Sample'] = ['S2']*ad_test1_rna.n_obs\n",
    "ad_test2_atac.obs['Sample'] = ['S2']*ad_test2_atac.n_obs"
   ]
  },
  {
   "cell_type": "code",
   "execution_count": 6,
   "id": "d769d955-8ad9-4967-abf6-b35c00183cd4",
   "metadata": {},
   "outputs": [],
   "source": [
    "ad_rna_all = sc.concat([ad_bridge_rna, ad_test1_rna])\n",
    "ad_atac_all = sc.concat([ad_bridge_atac, ad_test2_atac])\n",
    "\n",
    "sc.pp.highly_variable_genes(ad_rna_all, flavor='seurat_v3', n_top_genes=10000, batch_key='Sample')\n",
    "hvg_names = ad_rna_all.var.query('highly_variable').index.to_numpy()"
   ]
  },
  {
   "cell_type": "code",
   "execution_count": 7,
   "id": "0c0c1781-a541-4945-98e3-4303c3a27f30",
   "metadata": {},
   "outputs": [],
   "source": [
    "# ac.pp.tfidf(ad_atac_all, scale_factor=1e4)\n",
    "sc.pp.highly_variable_genes(ad_atac_all, flavor='seurat_v3', n_top_genes=50000, batch_key='Sample')\n",
    "\n",
    "hvp_names = ad_atac_all.var.query('highly_variable').index.to_numpy()"
   ]
  },
  {
   "cell_type": "markdown",
   "id": "dae4c586-04ea-4a41-8e50-613b20985318",
   "metadata": {},
   "source": [
    "### prepare count inputs"
   ]
  },
  {
   "cell_type": "code",
   "execution_count": 8,
   "id": "68b948cc-a3c0-4820-a75f-a182e2682d64",
   "metadata": {},
   "outputs": [],
   "source": [
    "# READ IN THE COUNT MATRICES\n",
    "counts_rnas = []\n",
    "for adi in [ad_bridge_rna, ad_test1_rna, None]:\n",
    "    if adi is not None:\n",
    "        count = scmomat.preprocess(adi[:, hvg_names].X, modality = \"RNA\", log = False)\n",
    "        counts_rnas.append(count)\n",
    "    else:\n",
    "        counts_rnas.append(None)\n",
    "\n",
    "counts_atacs = []\n",
    "for adi in [ad_bridge_atac, None, ad_test2_atac]:\n",
    "    if adi is not None:\n",
    "        count = scmomat.preprocess(adi[:, hvp_names].X.A, modality = \"ATAC\", log = False)\n",
    "        counts_atacs.append(count)\n",
    "    else:\n",
    "        counts_atacs.append(None)"
   ]
  },
  {
   "cell_type": "code",
   "execution_count": 9,
   "id": "315c3f38-aba9-452b-aaae-8712f9361a54",
   "metadata": {},
   "outputs": [],
   "source": [
    "# CREATE THE COUNTS OBJECT\n",
    "n_batches = 3\n",
    "feats_name = {\"rna\": hvg_names, \"atac\": hvp_names}\n",
    "counts = {\"feats_name\": feats_name, \"nbatches\": n_batches, \"rna\":counts_rnas, \"atac\": counts_atacs}"
   ]
  },
  {
   "cell_type": "markdown",
   "id": "a355f3bf-7676-4163-87e5-5530ed998bb5",
   "metadata": {},
   "source": [
    "### step 2: training scmomat"
   ]
  },
  {
   "cell_type": "code",
   "execution_count": 10,
   "id": "e0f78c6a-4f05-4da8-911c-7944b7f5f115",
   "metadata": {},
   "outputs": [
    {
     "name": "stdout",
     "output_type": "stream",
     "text": [
      "Input sanity check...\n",
      "Finished.\n",
      "Epoch 1, Validating Loss: 122.4026\n",
      "\t loss reconstruction: 0.11240\n",
      "\t loss regularization: 1.00000\n",
      "Epoch 1000, Validating Loss: 87.9480\n",
      "\t loss reconstruction: 0.08795\n",
      "\t loss regularization: 0.00016\n",
      "Epoch 2000, Validating Loss: 86.1671\n",
      "\t loss reconstruction: 0.08616\n",
      "\t loss regularization: 0.00026\n",
      "Epoch 3000, Validating Loss: 85.6452\n",
      "\t loss reconstruction: 0.08563\n",
      "\t loss regularization: 0.00110\n",
      "Epoch 4000, Validating Loss: 85.3756\n",
      "\t loss reconstruction: 0.08536\n",
      "\t loss regularization: 0.00107\n",
      "running time: 403.03607511520386\n"
     ]
    },
    {
     "data": {
      "text/plain": [
       "[<matplotlib.lines.Line2D at 0x7f6cb0488af0>]"
      ]
     },
     "execution_count": 10,
     "metadata": {},
     "output_type": "execute_result"
    },
    {
     "data": {
      "image/png": "[encoded data removed]",
      "text/plain": [
       "<Figure size 640x480 with 1 Axes>"
      ]
     },
     "metadata": {},
     "output_type": "display_data"
    }
   ],
   "source": [
    "#------------------------------------------------------------------------------------------------------------------------------------\n",
    "# NOTE: Number of latent dimensions, key hyper-parameter, 20~30 works for most of the cases.\n",
    "K = 50\n",
    "lamb = 0.01 \n",
    "T = 4000     \n",
    "interval = 1000\n",
    "batch_size = 0.1\n",
    "lr = 1e-2\n",
    "seed = 0\n",
    "device = torch.device(\"cuda:2\" if torch.cuda.is_available() else \"cpu\")\n",
    "\n",
    "#------------------------------------------------------------------------------------------------------------------------------------\n",
    "\n",
    "start_time = time.time()\n",
    "model = scmomat.scmomat_model(counts = counts, K = K, batch_size = batch_size, interval = interval, lr = lr, lamb = lamb, seed = seed, device = device)\n",
    "losses = model.train_func(T = T)\n",
    "end_time = time.time()\n",
    "print(\"running time: \" + str(end_time - start_time))\n",
    "\n",
    "x = np.linspace(0, T, int(T/interval)+1)\n",
    "plt.plot(x, losses)"
   ]
  },
  {
   "cell_type": "markdown",
   "id": "e9ba5181-5a9e-43e0-a315-0d932ddd2436",
   "metadata": {},
   "source": [
    "#### inference"
   ]
  },
  {
   "cell_type": "code",
   "execution_count": 11,
   "id": "ccdd55b4-d783-41f6-b81c-5986aca0e6a5",
   "metadata": {},
   "outputs": [],
   "source": [
    "# umap_op = UMAP(n_components = 2, n_neighbors = 30, min_dist = 0.2, random_state = 0) \n",
    "\n",
    "if True:\n",
    "    zs = model.extract_cell_factors()\n",
    "    # np.save('./outputs/misar_seq/E15-18-18-zs.npy', zs)\n",
    "else:\n",
    "    # zs = np.load('./outputs/misar_seq/E15-18-18-zs.npy', allow_pickle=True)\n",
    "    pass\n",
    "# x_umap = umap_op.fit_transform(np.concatenate(zs, axis = 0))"
   ]
  },
  {
   "cell_type": "code",
   "execution_count": 12,
   "id": "08b7ede2-e2e0-49f5-88eb-0ce8e6d211f2",
   "metadata": {},
   "outputs": [],
   "source": [
    "# read in the ground truth labels\n",
    "# NOTE: Plot the result before post-processing\n",
    "labels = [ad_bridge_rna.obs.Combined_Clusters_annotation, ad_test1_rna.obs.Combined_Clusters_annotation, ad_test2_atac.obs.Combined_Clusters_annotation]\n",
    "batches = ['bridge']*ad_bridge_rna.shape[0] + ['test-rna']*ad_test1_rna.shape[0] + ['test-atac']*ad_test2_atac.shape[0]"
   ]
  },
  {
   "cell_type": "markdown",
   "id": "73ebd17e-5e78-4a3b-9ce9-dcd8bfbf5a56",
   "metadata": {},
   "source": [
    "### eval results"
   ]
  },
  {
   "cell_type": "code",
   "execution_count": 14,
   "id": "faac3c0e-075e-42aa-97a1-3737fb0960eb",
   "metadata": {},
   "outputs": [],
   "source": [
    "ad_mosaic = sc.AnnData(np.vstack(zs), obsm={\"X_emb\":np.vstack(zs)})\n",
    "ad_mosaic.obs['annot'] = np.hstack(labels)\n",
    "ad_mosaic.obs['batches'] = np.hstack(batches)"
   ]
  },
  {
   "cell_type": "markdown",
   "id": "8303db0b-cdbe-4afb-b7d8-adc88909e324",
   "metadata": {},
   "source": [
    "### before batch corr"
   ]
  },
  {
   "cell_type": "code",
   "execution_count": 15,
   "id": "3cce90ff-a33e-4d06-a1d4-c0de3a916e37",
   "metadata": {},
   "outputs": [
    {
     "name": "stdout",
     "output_type": "stream",
     "text": [
      "FOSCTTM=0.26341\n",
      "Match_score=0.00686\n"
     ]
    },
    {
     "data": {
      "text/plain": [
       "{'FOSCTTM': 0.26340515386063007, 'Match_score': 0.006858028867749701}"
      ]
     },
     "execution_count": 15,
     "metadata": {},
     "output_type": "execute_result"
    }
   ],
   "source": [
    "ad_test1_rna.obsm['X_emb'] = zs[1]\n",
    "ad_test2_atac.obsm['X_emb'] = zs[2]\n",
    "\n",
    "from lisi_bridge import eval_bridge\n",
    "eval_bridge(\n",
    "        ad_test1_rna, ad_test2_atac,\n",
    "        label_key=None,\n",
    "        batch_key='Sample',\n",
    "        use_rep='X_emb',\n",
    "        use_fosc=True, use_acc=False, use_score=True,\n",
    "    )\n"
   ]
  },
  {
   "cell_type": "markdown",
   "id": "033153e7-d499-4da3-bb59-1b57392cf428",
   "metadata": {},
   "source": [
    "### after batch corr"
   ]
  },
  {
   "cell_type": "code",
   "execution_count": 16,
   "id": "3ffa8978-ce75-4c30-bebe-3165fd15d14f",
   "metadata": {},
   "outputs": [
    {
     "name": "stdout",
     "output_type": "stream",
     "text": [
      "Use GPU mode.\n",
      "\tInitialization is completed.\n",
      "\tCompleted 1 / 10 iteration(s).\n",
      "\tCompleted 2 / 10 iteration(s).\n",
      "\tCompleted 3 / 10 iteration(s).\n",
      "\tCompleted 4 / 10 iteration(s).\n",
      "\tCompleted 5 / 10 iteration(s).\n",
      "\tCompleted 6 / 10 iteration(s).\n",
      "Reach convergence after 6 iteration(s).\n"
     ]
    }
   ],
   "source": [
    "from batchCorr import HARMONY\n",
    "\n",
    "ad_mosaic.obsm['X_emb_har'] = HARMONY(pd.DataFrame(ad_mosaic.obsm['X_emb']), ad_mosaic.obs['batches'].to_list())\n",
    "split_ob([ad_bridge_rna, ad_test1_rna, ad_test2_atac], ad_mosaic, ob='obsm', key='X_emb_har')"
   ]
  },
  {
   "cell_type": "code",
   "execution_count": 17,
   "id": "39c6d56c-f82c-41c0-8d50-1ec0b79f8371",
   "metadata": {},
   "outputs": [
    {
     "name": "stdout",
     "output_type": "stream",
     "text": [
      "FOSCTTM=0.24286\n",
      "Match_score=0.00734\n"
     ]
    }
   ],
   "source": [
    "r3 = eval_bridge(\n",
    "        ad_test1_rna, ad_test2_atac,\n",
    "        label_key=None,\n",
    "        batch_key='Sample',\n",
    "        use_rep='X_emb_har',\n",
    "        use_fosc=True, use_acc=False, use_score=True,\n",
    "    )"
   ]
  },
  {
   "cell_type": "markdown",
   "id": "dbe6fe3a-d38a-46fc-b57a-00719bd47fe1",
   "metadata": {},
   "source": [
    "## Vis"
   ]
  },
  {
   "cell_type": "code",
   "execution_count": 19,
   "id": "1e16f656-6d86-4529-9eea-c74e50f9bf3b",
   "metadata": {},
   "outputs": [],
   "source": [
    "fig_dir = f'/disco_500t/xuhua/gitrepo/BridgeNorm/figures/misar_seq/E15-18-18_modalMatch/scmomat'\n",
    "os.makedirs(fig_dir, exist_ok=True)\n",
    "\n",
    "df = pd.DataFrame(ad_mosaic.obsm['X_emb'], index=ad_bridge_rna.obs_names.to_list() + ad_test1_rna.obs_names.to_list() + ad_test2_atac.obs_names.to_list())\n",
    "# df['before_clust'] = ad_mosaic.obs['before_clust'].to_list() \n",
    "df.to_csv(join(fig_dir, 'X_emb.csv'))\n",
    "\n",
    "df = pd.DataFrame(ad_mosaic.obsm['X_emb_har'], index=ad_bridge_rna.obs_names.to_list() + ad_test1_rna.obs_names.to_list() + ad_test2_atac.obs_names.to_list())\n",
    "# df['after_clust'] = ad_mosaic.obs['after_clust'].to_list() \n",
    "df.to_csv(join(fig_dir, 'X_emb_har.csv'))"
   ]
  },
  {
   "cell_type": "code",
   "execution_count": 20,
   "id": "3c6eb302-e5fd-4dd4-a31b-c886fd4c3174",
   "metadata": {},
   "outputs": [
    {
     "data": {
      "text/plain": [
       "1"
      ]
     },
     "execution_count": 20,
     "metadata": {},
     "output_type": "execute_result"
    }
   ],
   "source": [
    "1"
   ]
  },
  {
   "cell_type": "code",
   "execution_count": null,
   "id": "92ff47c4-ac58-4021-b630-3116695236fb",
   "metadata": {},
   "outputs": [],
   "source": []
  }
 ],
 "metadata": {
  "kernelspec": {
   "display_name": "bento",
   "language": "python",
   "name": "bento"
  },
  "language_info": {
   "codemirror_mode": {
    "name": "ipython",
    "version": 3
   },
   "file_extension": ".py",
   "mimetype": "text/x-python",
   "name": "python",
   "nbconvert_exporter": "python",
   "pygments_lexer": "ipython3",
   "version": "3.8.18"
  }
 },
 "nbformat": 4,
 "nbformat_minor": 5
}
