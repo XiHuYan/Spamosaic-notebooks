{
 "cells": [
  {
   "cell_type": "code",
   "execution_count": 1,
   "id": "edc0b626-2aad-4592-98fa-9de090bddba3",
   "metadata": {},
   "outputs": [],
   "source": [
    "import os\n",
    "os.environ['R_HOME'] = '/disco_500t/xuhua/miniforge3/envs/Seurat5/lib/R'\n",
    "os.environ['R_USER'] = '/disco_500t/xuhua/miniforge3/envs/Seurat5/lib/python3.8/site-packages/rpy2'\n",
    "\n",
    "import psutil\n",
    "\n",
    "# Get the current process\n",
    "p = psutil.Process(os.getpid())\n",
    "\n",
    "# Set the process to run only on the first CPU core\n",
    "p.cpu_affinity([5])"
   ]
  },
  {
   "cell_type": "code",
   "execution_count": 2,
   "id": "ecd9ac5b-c3b7-4127-9b9c-117ad93ac971",
   "metadata": {},
   "outputs": [],
   "source": [
    "import os\n",
    "import gc\n",
    "import pandas as pd\n",
    "import pickle\n",
    "import matplotlib.pyplot as plt\n",
    "\n",
    "import anndata as ad\n",
    "import numpy as np\n",
    "import yaml\n",
    "import sys\n",
    "import h5py\n",
    "import logging\n",
    "import scanpy as sc\n",
    "from os.path import join\n",
    "import scipy.sparse as sps\n",
    "from sklearn.cluster import KMeans\n",
    "import gzip\n",
    "from scipy.io import mmread\n",
    "from pathlib import Path, PurePath\n",
    "\n",
    "import scglue\n",
    "\n",
    "import warnings\n",
    "def wrap_warn_plot(adata, basis, color, **kwargs):\n",
    "    with warnings.catch_warnings():\n",
    "        warnings.simplefilter(\"ignore\", category=UserWarning)\n",
    "        sc.pl.embedding(adata, basis=basis, color=color, **kwargs)\n",
    "\n",
    "def get_umap(ad, use_reps=[]):\n",
    "    for use_rep in use_reps:\n",
    "        umap_add_key = f'{use_rep}_umap'\n",
    "        sc.pp.neighbors(ad, use_rep=use_rep, n_neighbors=15)\n",
    "        sc.tl.umap(ad)\n",
    "        ad.obsm[umap_add_key] = ad.obsm['X_umap']\n",
    "    return ad\n",
    "\n",
    "from sklearn.metrics import adjusted_rand_score\n",
    "\n",
    "def split_ob(ads, ad_ref, ob='obs', key='emb2'):\n",
    "    len_ads = [_.n_obs for _ in ads]\n",
    "    if ob=='obsm':\n",
    "        split_obsms = np.split(ad_ref.obsm[key], np.cumsum(len_ads[:-1]))\n",
    "        for ad, v in zip(ads, split_obsms):\n",
    "            ad.obsm[key] = v\n",
    "    else:\n",
    "        split_obs = np.split(ad_ref.obs[key].to_list(), np.cumsum(len_ads[:-1]))\n",
    "        for ad, v in zip(ads, split_obs):\n",
    "            ad.obs[key] = v\n",
    "\n",
    "def eval_ads(ads, ref_key, src_key, exclude=[]):\n",
    "    aris = []\n",
    "    for ad in ads:\n",
    "        _mask = ~ad.obs[ref_key].isin(exclude)\n",
    "        gt = ad.obs[ref_key].values[_mask]\n",
    "        pred = ad.obs[src_key].values[_mask]\n",
    "        aris.append(adjusted_rand_score(pred, gt))\n",
    "    return aris\n",
    "\n",
    "from sklearn.preprocessing import normalize\n",
    "from sklearn.cluster import KMeans\n",
    "def search_louvain(ad, use_rep, n_neighbors=15, n_clusters=5):\n",
    "    sc.pp.neighbors(ad, n_neighbors=n_neighbors, use_rep=use_rep)\n",
    "    rs = np.arange(0.1, 1.0, 0.1)\n",
    "    n_cs = []\n",
    "    for r in rs:\n",
    "        sc.tl.louvain(ad, resolution=r, key_added=f'r={r}')\n",
    "        n_cs.append(ad.obs[f'r={r}'].nunique())\n",
    "    n_cs = np.array(n_cs)\n",
    "    if (n_cs==n_clusters).sum() >= 1:\n",
    "        ri = np.where(n_cs==n_clusters)[0][0]\n",
    "        ad.obs['louvain_k'] = ad.obs[f'r={rs[ri]}'].to_list()\n",
    "    else:\n",
    "        kmeans = KMeans(n_clusters=n_clusters, random_state=0).fit(ad.obsm[use_rep])\n",
    "        ad.obs['louvain_k'] = kmeans.labels_.astype('str')\n",
    "\n",
    "from sklearn.neighbors import KNeighborsClassifier\n",
    "from sklearn.metrics import f1_score\n",
    "def eval_labelTransfer(ad1, ad2, use_rep, lab_key, knn=10):\n",
    "     with warnings.catch_warnings():\n",
    "        warnings.simplefilter(\"ignore\", category=FutureWarning)\n",
    "        neigh1 = KNeighborsClassifier(n_neighbors=knn)\n",
    "        neigh1.fit(ad1.obsm[use_rep], ad1.obs[lab_key].to_list())\n",
    "        pr_lab2 = neigh1.predict(ad2.obsm[use_rep])\n",
    "        f1_1 = f1_score(ad2.obs[lab_key].values, pr_lab2, #labels=['1.0', '2.0', '3.0', '4.0'], \n",
    "                        average='macro')\n",
    "        # acc1 = (pr_lab2 == ad2.obs[lab_key].values).mean()\n",
    "    \n",
    "        neigh2 = KNeighborsClassifier(n_neighbors=knn)\n",
    "        neigh2.fit(ad2.obsm[use_rep], ad2.obs[lab_key].to_list())\n",
    "        pr_lab1 = neigh2.predict(ad1.obsm[use_rep])\n",
    "        # acc2 = (pr_lab1 == ad1.obs[lab_key].values).mean()\n",
    "        f1_2 = f1_score(ad1.obs[lab_key].values, pr_lab1, #labels=['1.0', '2.0', '3.0', '4.0'], \n",
    "                        average='macro')\n",
    "        return (f1_1+f1_2)/2\n",
    "\n",
    "from scib.metrics import lisi\n",
    "def eval_lisi(\n",
    "        adata,\n",
    "        batch_keys=['domain', 'batch'],\n",
    "        label_keys = ['gt'],\n",
    "        use_rep='X_emb', use_neighbors=False,\n",
    "    ):\n",
    "    res = {}\n",
    "    for key in batch_keys:\n",
    "        adata.obs[key] = adata.obs[key].astype('category')\n",
    "\n",
    "        _lisi = lisi.ilisi_graph(\n",
    "            adata,\n",
    "            key,\n",
    "            'embed' if not use_neighbors else 'knn',\n",
    "            use_rep=use_rep,\n",
    "            k0=90,\n",
    "            subsample=None,\n",
    "            scale=True,\n",
    "            n_cores=1,\n",
    "            verbose=False,\n",
    "        )\n",
    "        res[key+'_iLISI'] = _lisi\n",
    "    for key in label_keys:\n",
    "        adata.obs[key] = adata.obs[key].astype('category')\n",
    "\n",
    "        _lisi = lisi.clisi_graph(\n",
    "            adata,\n",
    "            key,\n",
    "            'embed' if not use_neighbors else 'knn',\n",
    "            use_rep=use_rep,\n",
    "            batch_key=None,\n",
    "            k0=90,\n",
    "            subsample=None,\n",
    "            scale=True,\n",
    "            n_cores=1,\n",
    "            verbose=False,\n",
    "        )\n",
    "        res[key+'_cLISI'] = _lisi\n",
    "    df = pd.DataFrame.from_dict(res, orient='index').T\n",
    "    # df.columns = [_+'_LISI' for _ in df.columns]\n",
    "    return df\n",
    "\n",
    "os.environ['R_HOME'] = '/disco_500t/xuhua/miniforge3/envs/Seurat5/lib/R'\n",
    "os.environ['R_USER'] = '/disco_500t/xuhua/miniforge3/envs/Seurat5/lib/python3.8/site-packages/rpy2'\n",
    "def mclust_R(adata, num_cluster, modelNames='EEE', used_obsm='STAGATE', random_seed=2020):\n",
    "    np.random.seed(random_seed)\n",
    "    import rpy2.robjects as robjects\n",
    "    robjects.r.library(\"mclust\")\n",
    "\n",
    "    import rpy2.robjects.numpy2ri\n",
    "    rpy2.robjects.numpy2ri.activate()\n",
    "    r_random_seed = robjects.r['set.seed']\n",
    "    r_random_seed(random_seed)\n",
    "    rmclust = robjects.r['Mclust']\n",
    "\n",
    "    res = rmclust(rpy2.robjects.numpy2ri.numpy2rpy(adata.obsm[used_obsm]), num_cluster, modelNames)\n",
    "    mclust_res = np.array(res[-2])\n",
    "\n",
    "    adata.obs['mclust'] = mclust_res\n",
    "    adata.obs['mclust'] = adata.obs['mclust'].astype('int')\n",
    "    adata.obs['mclust'] = adata.obs['mclust'].astype('category')\n",
    "    return adata\n",
    "\n",
    "def load_data(_dir):\n",
    "    feat_names = pd.read_csv(join(_dir, 'features.tsv.gz'), compression='gzip', sep='\\t', header=None)\n",
    "    barcodes   = pd.read_csv(join(_dir, 'barcodes.tsv.gz'), compression='gzip', sep='\\t', header=None)\n",
    "\n",
    "    with gzip.open(join(_dir, 'matrix.mtx.gz'), 'rb') as gzipped_file:\n",
    "        mat = mmread(gzipped_file)\n",
    "\n",
    "    ad = sc.AnnData(sps.csr_matrix(mat.T))\n",
    "    ad.obs_names = barcodes[0].values\n",
    "    ad.var_names = feat_names[1].values\n",
    "    ad.var['id'] = feat_names[0].values\n",
    "    ad.var['type'] = feat_names[2].values\n",
    "    return ad\n",
    "\n",
    "import json\n",
    "import copy\n",
    "from matplotlib.image import imread\n",
    "def load_spatial(path, adata, library_id='0'):\n",
    "    tissue_positions_file = join(path, \"tissue_positions.csv\")\n",
    "    files = dict(\n",
    "        tissue_positions_file=tissue_positions_file,\n",
    "        scalefactors_json_file=join(path, \"scalefactors_json.json\"),\n",
    "        hires_image=join(path, \"tissue_hires_image.png\"),\n",
    "        lowres_image=join(path, \"tissue_lowres_image.png\"),\n",
    "    )\n",
    "    \n",
    "    adata.uns[\"spatial\"] = dict()\n",
    "    adata.uns[\"spatial\"][library_id] = dict()\n",
    "    adata.uns[\"spatial\"][library_id][\"images\"] = dict()\n",
    "    for res in [\"hires\", \"lowres\"]:\n",
    "        try:\n",
    "            adata.uns[\"spatial\"][library_id][\"images\"][res] = imread(\n",
    "                str(files[f\"{res}_image\"])\n",
    "            )\n",
    "        except Exception:\n",
    "            raise OSError(f\"Could not find '{res}_image'\")\n",
    "\n",
    "    # read json scalefactors\n",
    "    adata.uns[\"spatial\"][library_id][\"scalefactors\"] = json.loads(\n",
    "        Path(files[\"scalefactors_json_file\"]).read_bytes()\n",
    "    )\n",
    "\n",
    "    # adata.uns[\"spatial\"][library_id][\"metadata\"] = {\n",
    "    #     k: (str(attrs[k], \"utf-8\") if isinstance(attrs[k], bytes) else attrs[k])\n",
    "    #     for k in (\"chemistry_description\", \"software_version\")\n",
    "    #     if k in attrs\n",
    "    # }\n",
    "\n",
    "    # read coordinates\n",
    "    positions = pd.read_csv(\n",
    "        files[\"tissue_positions_file\"],\n",
    "        header=0 if Path(tissue_positions_file).name == \"tissue_positions.csv\" else None,\n",
    "        index_col=0,\n",
    "    )\n",
    "    positions.columns = [\n",
    "        \"in_tissue\",\n",
    "        \"array_row\",\n",
    "        \"array_col\",\n",
    "        \"pxl_col_in_fullres\",\n",
    "        \"pxl_row_in_fullres\",\n",
    "    ]\n",
    "    # print(positions.head())\n",
    "\n",
    "    adata.obs = adata.obs.join(positions, how=\"left\")\n",
    "\n",
    "    adata.obsm[\"spatial\"] = adata.obs[\n",
    "        [\"pxl_row_in_fullres\", \"pxl_col_in_fullres\"]\n",
    "    ].to_numpy()\n",
    "   \n",
    "    adata.obs.drop(\n",
    "        columns=[\"pxl_row_in_fullres\", \"pxl_col_in_fullres\"],\n",
    "        inplace=True,\n",
    "    )"
   ]
  },
  {
   "cell_type": "code",
   "execution_count": 3,
   "id": "b032116d-2ac3-4d8f-a11e-d0f2c0a9f8ca",
   "metadata": {},
   "outputs": [],
   "source": [
    "def set_col2cat(ad, cols=[]):\n",
    "    for col in cols:\n",
    "        ad.obs[col] = ad.obs[col].astype('category')\n",
    "\n",
    "def unify_colors(queries, color_key, ref_color_dict):\n",
    "    for q in queries:\n",
    "        q.obs[color_key] = q.obs[color_key].astype('category')\n",
    "        q.uns[f'{color_key}_colors'] = [ref_color_dict[_] for _ in q.obs[color_key].cat.categories]\n",
    "    return queries\n",
    "\n",
    "def subset_ad(ad, subset_index):\n",
    "    ad = ad[subset_index].copy()\n",
    "    return ad\n",
    "\n",
    "def set_spatial(ad):\n",
    "    ad.obsm['spatial'] = ad.obs[['array_row', 'array_col']].values\n",
    "    ad.obsm['spatial'] = ad.obsm['spatial'][:, ::-1]\n",
    "    ad.obsm['spatial'][:, 1] = -1 * ad.obsm['spatial'][:, 1]\n",
    "    return ad\n",
    "\n",
    "import copy\n",
    "def std_prep(ad, n_hvg=5000, hvg_flav='v3', scale=False):\n",
    "    ad.X = copy.deepcopy(ad.layers['counts'])\n",
    "    \n",
    "    if n_hvg and hvg_flav=='v3':\n",
    "        sc.pp.highly_variable_genes(ad, n_top_genes=n_hvg, flavor='seurat_v3')\n",
    "    sc.pp.normalize_total(ad, target_sum=1e4)\n",
    "    sc.pp.log1p(ad)\n",
    "    if n_hvg and hvg_flav=='v2':\n",
    "        sc.pp.highly_variable_genes(ad, n_top_genes=n_hvg)\n",
    "    if scale:\n",
    "        sc.pp.scale(ad)\n",
    "    sc.pp.pca(ad, n_comps=min(50, ad.n_vars-1))"
   ]
  },
  {
   "cell_type": "markdown",
   "id": "98ec56f7-48ef-4d0b-8612-9f645149eb75",
   "metadata": {},
   "source": [
    "### Training and running"
   ]
  },
  {
   "cell_type": "code",
   "execution_count": 4,
   "id": "53ef4fc0-4bc1-44de-9f71-e19dbfbdc8c5",
   "metadata": {},
   "outputs": [],
   "source": [
    "sys.path.insert(0, './resources')\n",
    "import utils\n",
    "import scipy.io as sio"
   ]
  },
  {
   "cell_type": "code",
   "execution_count": 5,
   "id": "1670e9f5-56e7-443c-8398-739c6b077833",
   "metadata": {},
   "outputs": [],
   "source": [
    "out_dir = './cache/Lymph/rep1-rep2-rep3'\n",
    "os.makedirs(out_dir, exist_ok=True)\n",
    "## best setting for simulation experiments\n",
    "n_genes = 5000\n",
    "latent_dim = 20\n",
    "x2u_h_depth = 2\n",
    "x2u_h_dim = 512\n",
    "u2x_h_depth = 1\n",
    "u2x_h_dim = 128\n",
    "du_h_depth = 2\n",
    "du_h_dim = 128\n",
    "dropout = 0.2\n",
    "lam_data = 1.0\n",
    "lam_kl = 1.0\n",
    "lam_align = 2.0\n",
    "lam_cross = 2.0\n",
    "lam_cos = 1.0\n",
    "normalize_u = True\n",
    "random_seed = 5\n",
    "\n",
    "## multiome setting\n",
    "# n_genes = 10000\n",
    "# latent_dim = 50\n",
    "# x2u_h_depth = 2\n",
    "# x2u_h_dim = 512\n",
    "# u2x_h_depth = 1\n",
    "# u2x_h_dim = 256\n",
    "# du_h_depth = 1\n",
    "# du_h_dim = 256\n",
    "# dropout = 0.2\n",
    "# lam_data = 1.0\n",
    "# lam_kl = 0.3\n",
    "# lam_align = 0.02\n",
    "# lam_cross = 1.0\n",
    "# lam_cos = 0.02\n",
    "# normalize_u = True\n",
    "# random_seed = 2\n",
    "\n",
    "max_epochs1 = 200\n",
    "max_epochs2 = 50"
   ]
  },
  {
   "cell_type": "code",
   "execution_count": 6,
   "id": "48d24490-5153-4ede-8e80-a7aee12bf633",
   "metadata": {},
   "outputs": [
    {
     "name": "stderr",
     "output_type": "stream",
     "text": [
      "/home/xuhua/xuhua_disco/miniforge3/envs/Squidpy/lib/python3.8/site-packages/anndata/_core/anndata.py:1840: UserWarning: Variable names are not unique. To make them unique, call `.var_names_make_unique`.\n",
      "  utils.warn_names_duplicates(\"var\")\n",
      "/home/xuhua/xuhua_disco/miniforge3/envs/Squidpy/lib/python3.8/site-packages/anndata/_core/anndata.py:1840: UserWarning: Variable names are not unique. To make them unique, call `.var_names_make_unique`.\n",
      "  utils.warn_names_duplicates(\"var\")\n",
      "/home/xuhua/xuhua_disco/miniforge3/envs/Squidpy/lib/python3.8/site-packages/anndata/_core/anndata.py:1840: UserWarning: Variable names are not unique. To make them unique, call `.var_names_make_unique`.\n",
      "  utils.warn_names_duplicates(\"var\")\n",
      "/home/xuhua/xuhua_disco/miniforge3/envs/Squidpy/lib/python3.8/site-packages/anndata/_core/anndata.py:1840: UserWarning: Variable names are not unique. To make them unique, call `.var_names_make_unique`.\n",
      "  utils.warn_names_duplicates(\"var\")\n",
      "/home/xuhua/xuhua_disco/miniforge3/envs/Squidpy/lib/python3.8/site-packages/anndata/_core/anndata.py:1840: UserWarning: Variable names are not unique. To make them unique, call `.var_names_make_unique`.\n",
      "  utils.warn_names_duplicates(\"var\")\n",
      "/home/xuhua/xuhua_disco/miniforge3/envs/Squidpy/lib/python3.8/site-packages/anndata/_core/anndata.py:1840: UserWarning: Variable names are not unique. To make them unique, call `.var_names_make_unique`.\n",
      "  utils.warn_names_duplicates(\"var\")\n"
     ]
    }
   ],
   "source": [
    "data_dir = '/disco_500t/xuhua/data/spatial_multi_omics/lymp_node/LN-2024-new/outs'\n",
    "\n",
    "ad3 = load_data(join(data_dir, 'filtered_feature_bc_matrix'))\n",
    "ad3_rna = ad3[:, ad3.var['type']=='Gene Expression'].copy()\n",
    "ad3_adt = ad3[:, ad3.var['type']=='Antibody Capture'].copy()\n",
    "load_spatial(join(data_dir, 'spatial'), ad3_rna)\n",
    "load_spatial(join(data_dir, 'spatial'), ad3_adt)\n",
    "\n",
    "ad3_rna.obs['src'] = ad3_adt.obs['src'] = ['s3']*ad3_rna.n_obs\n",
    "ad3_rna.obs_names = [f's3-{x}' for x in ad3_rna.obs_names]\n",
    "ad3_adt.obs_names = [f's3-{x}' for x in ad3_adt.obs_names]\n",
    "\n",
    "ad3_rna.var_names_make_unique()\n",
    "ad3_adt.var_names_make_unique()\n",
    "\n",
    "data_dir = '/disco_500t/xuhua/data/spatial_multi_omics/lymp_tonsil_ramen'\n",
    "\n",
    "ad_a1_rna = sc.read_h5ad(join(data_dir, 'lymph_A1/adata_RNA.h5ad'))\n",
    "ad_a1_adt = sc.read_h5ad(join(data_dir, 'lymph_A1/adata_ADT.h5ad'))\n",
    "meta1 = pd.read_csv(join(data_dir, 'lymph_A1/A1_LN_cloupe_Kwoh.csv'), index_col=0) \n",
    "ad_a1_rna.obs['lab'] = meta1.loc[ad_a1_rna.obs_names, 'manual'].to_list()\n",
    "ad_a1_adt.obs['lab'] = meta1.loc[ad_a1_adt.obs_names, 'manual'].to_list()\n",
    "ad_a1_rna.obs['src'] = ad_a1_adt.obs['src'] = ['s1'] * ad_a1_rna.n_obs\n",
    "ad_a1_rna.obs_names = [f's1-{x}' for x in ad_a1_rna.obs_names]\n",
    "ad_a1_adt.obs_names = [f's1-{x}' for x in ad_a1_adt.obs_names]\n",
    "ad_a1_rna.var_names_make_unique()\n",
    "ad_a1_adt.var_names_make_unique()\n",
    "\n",
    "ad_d1_rna = sc.read_h5ad(join(data_dir, 'lymph_D1/adata_RNA.h5ad'))\n",
    "ad_d1_adt = sc.read_h5ad(join(data_dir, 'lymph_D1/adata_ADT.h5ad'))\n",
    "meta2 = pd.read_csv(join(data_dir, 'lymph_D1/D1_LN_cloupe_Kwoh.csv'), index_col=0) \n",
    "ad_d1_rna.obs['lab'] = meta2.loc[ad_d1_rna.obs_names, 'manual'].to_list()\n",
    "ad_d1_adt.obs['lab'] = meta2.loc[ad_d1_adt.obs_names, 'manual'].to_list()\n",
    "ad_d1_rna.obs['src'] = ad_d1_adt.obs['src'] = ['s2'] * ad_d1_rna.n_obs\n",
    "ad_d1_rna.obs_names = [f's2-{x}' for x in ad_d1_rna.obs_names]\n",
    "ad_d1_adt.obs_names = [f's2-{x}' for x in ad_d1_adt.obs_names]\n",
    "ad_d1_rna.var_names_make_unique()\n",
    "ad_d1_adt.var_names_make_unique()"
   ]
  },
  {
   "cell_type": "code",
   "execution_count": 7,
   "id": "8e2f6c72-a400-4fa3-9180-f30a9441f733",
   "metadata": {},
   "outputs": [],
   "source": [
    "ad_rna_all = sc.concat([ad_a1_rna, ad_d1_rna, ad3_rna])\n",
    "ad_adt_all = sc.concat([ad_a1_adt, ad_d1_adt, ad3_adt])\n",
    "\n",
    "sc.pp.highly_variable_genes(ad_rna_all, flavor='seurat_v3', n_top_genes=10000, batch_key='src')\n",
    "hvg_names = ad_rna_all.var.query('highly_variable').index.to_numpy()\n",
    "hvp_names = ad_adt_all.var_names.to_list()"
   ]
  },
  {
   "cell_type": "code",
   "execution_count": 8,
   "id": "fab5471c-fda8-47f7-b37b-ccd068f22836",
   "metadata": {
    "scrolled": true
   },
   "outputs": [
    {
     "name": "stdout",
     "output_type": "stream",
     "text": [
      "Reading `h5ad` files...\n",
      "Preprocessing GEX...\n",
      "Preprocessing ADT...\n",
      "Building model...\n",
      "[INFO] autodevice: Using GPU 2 as computation device.\n",
      "Compiling model...\n",
      "Training model...\n",
      "[INFO] SCCLUEModel: Setting `align_burnin` = 245\n",
      "[INFO] SCCLUEModel: Setting `patience` = 184\n",
      "[INFO] SCCLUEModel: Setting `reduce_lr_patience` = 62\n",
      "[INFO] SCCLUETrainer: Using training directory: \"/tmp/GLUETMP9xzycsqn\"\n",
      "[INFO] SCCLUETrainer: [Epoch 10] train={'dsc_loss': 0.688, 'gen_loss': 34.893, 'cross_loss': 11.866, 'cos_loss': 0.369, 'x_gex_nll': 0.479, 'x_gex_kl': 0.014, 'x_gex_elbo': 0.493, 'x_other_nll': 11.403, 'x_other_kl': 0.272, 'x_other_elbo': 11.676}, val={'dsc_loss': 0.696, 'gen_loss': 34.62, 'cross_loss': 11.799, 'cos_loss': 0.356, 'x_gex_nll': 0.473, 'x_gex_kl': 0.014, 'x_gex_elbo': 0.487, 'x_other_nll': 11.332, 'x_other_kl': 0.239, 'x_other_elbo': 11.571}, 1.2s elapsed\n",
      "[INFO] SCCLUETrainer: [Epoch 20] train={'dsc_loss': 0.69, 'gen_loss': 32.307, 'cross_loss': 11.036, 'cos_loss': 0.343, 'x_gex_nll': 0.413, 'x_gex_kl': 0.019, 'x_gex_elbo': 0.432, 'x_other_nll': 10.638, 'x_other_kl': 0.202, 'x_other_elbo': 10.839}, val={'dsc_loss': 0.691, 'gen_loss': 32.236, 'cross_loss': 11.017, 'cos_loss': 0.332, 'x_gex_nll': 0.41, 'x_gex_kl': 0.019, 'x_gex_elbo': 0.428, 'x_other_nll': 10.623, 'x_other_kl': 0.201, 'x_other_elbo': 10.824}, 1.2s elapsed\n",
      "[INFO] SCCLUETrainer: [Epoch 30] train={'dsc_loss': 0.691, 'gen_loss': 31.055, 'cross_loss': 10.628, 'cos_loss': 0.336, 'x_gex_nll': 0.369, 'x_gex_kl': 0.019, 'x_gex_elbo': 0.388, 'x_other_nll': 10.274, 'x_other_kl': 0.182, 'x_other_elbo': 10.456}, val={'dsc_loss': 0.693, 'gen_loss': 31.033, 'cross_loss': 10.622, 'cos_loss': 0.349, 'x_gex_nll': 0.365, 'x_gex_kl': 0.019, 'x_gex_elbo': 0.384, 'x_other_nll': 10.275, 'x_other_kl': 0.166, 'x_other_elbo': 10.442}, 1.2s elapsed\n",
      "[INFO] SCCLUETrainer: [Epoch 40] train={'dsc_loss': 0.69, 'gen_loss': 30.145, 'cross_loss': 10.327, 'cos_loss': 0.333, 'x_gex_nll': 0.337, 'x_gex_kl': 0.019, 'x_gex_elbo': 0.356, 'x_other_nll': 10.005, 'x_other_kl': 0.176, 'x_other_elbo': 10.181}, val={'dsc_loss': 0.692, 'gen_loss': 30.123, 'cross_loss': 10.321, 'cos_loss': 0.333, 'x_gex_nll': 0.336, 'x_gex_kl': 0.019, 'x_gex_elbo': 0.355, 'x_other_nll': 9.999, 'x_other_kl': 0.178, 'x_other_elbo': 10.177}, 1.0s elapsed\n",
      "[INFO] SCCLUETrainer: [Epoch 50] train={'dsc_loss': 0.69, 'gen_loss': 29.402, 'cross_loss': 10.078, 'cos_loss': 0.326, 'x_gex_nll': 0.314, 'x_gex_kl': 0.019, 'x_gex_elbo': 0.333, 'x_other_nll': 9.781, 'x_other_kl': 0.187, 'x_other_elbo': 9.968}, val={'dsc_loss': 0.693, 'gen_loss': 29.425, 'cross_loss': 10.083, 'cos_loss': 0.345, 'x_gex_nll': 0.314, 'x_gex_kl': 0.019, 'x_gex_elbo': 0.333, 'x_other_nll': 9.779, 'x_other_kl': 0.188, 'x_other_elbo': 9.968}, 1.2s elapsed\n",
      "[INFO] SCCLUETrainer: [Epoch 60] train={'dsc_loss': 0.691, 'gen_loss': 28.891, 'cross_loss': 9.904, 'cos_loss': 0.319, 'x_gex_nll': 0.299, 'x_gex_kl': 0.018, 'x_gex_elbo': 0.317, 'x_other_nll': 9.627, 'x_other_kl': 0.202, 'x_other_elbo': 9.829}, val={'dsc_loss': 0.69, 'gen_loss': 28.936, 'cross_loss': 9.915, 'cos_loss': 0.33, 'x_gex_nll': 0.3, 'x_gex_kl': 0.019, 'x_gex_elbo': 0.319, 'x_other_nll': 9.64, 'x_other_kl': 0.198, 'x_other_elbo': 9.838}, 1.0s elapsed\n",
      "[INFO] SCCLUETrainer: [Epoch 70] train={'dsc_loss': 0.691, 'gen_loss': 28.548, 'cross_loss': 9.786, 'cos_loss': 0.313, 'x_gex_nll': 0.293, 'x_gex_kl': 0.018, 'x_gex_elbo': 0.311, 'x_other_nll': 9.517, 'x_other_kl': 0.217, 'x_other_elbo': 9.734}, val={'dsc_loss': 0.688, 'gen_loss': 28.623, 'cross_loss': 9.808, 'cos_loss': 0.325, 'x_gex_nll': 0.294, 'x_gex_kl': 0.018, 'x_gex_elbo': 0.312, 'x_other_nll': 9.523, 'x_other_kl': 0.223, 'x_other_elbo': 9.745}, 0.9s elapsed\n",
      "[INFO] SCCLUETrainer: [Epoch 80] train={'dsc_loss': 0.69, 'gen_loss': 28.299, 'cross_loss': 9.7, 'cos_loss': 0.309, 'x_gex_nll': 0.29, 'x_gex_kl': 0.018, 'x_gex_elbo': 0.308, 'x_other_nll': 9.433, 'x_other_kl': 0.232, 'x_other_elbo': 9.664}, val={'dsc_loss': 0.689, 'gen_loss': 28.379, 'cross_loss': 9.723, 'cos_loss': 0.317, 'x_gex_nll': 0.293, 'x_gex_kl': 0.018, 'x_gex_elbo': 0.311, 'x_other_nll': 9.427, 'x_other_kl': 0.257, 'x_other_elbo': 9.683}, 1.0s elapsed\n",
      "[INFO] SCCLUETrainer: [Epoch 90] train={'dsc_loss': 0.69, 'gen_loss': 28.121, 'cross_loss': 9.633, 'cos_loss': 0.296, 'x_gex_nll': 0.29, 'x_gex_kl': 0.018, 'x_gex_elbo': 0.308, 'x_other_nll': 9.369, 'x_other_kl': 0.261, 'x_other_elbo': 9.63}, val={'dsc_loss': 0.687, 'gen_loss': 28.205, 'cross_loss': 9.657, 'cos_loss': 0.32, 'x_gex_nll': 0.289, 'x_gex_kl': 0.018, 'x_gex_elbo': 0.307, 'x_other_nll': 9.38, 'x_other_kl': 0.258, 'x_other_elbo': 9.639}, 1.1s elapsed\n",
      "[INFO] SCCLUETrainer: [Epoch 100] train={'dsc_loss': 0.691, 'gen_loss': 28.041, 'cross_loss': 9.601, 'cos_loss': 0.296, 'x_gex_nll': 0.289, 'x_gex_kl': 0.018, 'x_gex_elbo': 0.307, 'x_other_nll': 9.337, 'x_other_kl': 0.279, 'x_other_elbo': 9.616}, val={'dsc_loss': 0.686, 'gen_loss': 28.145, 'cross_loss': 9.635, 'cos_loss': 0.32, 'x_gex_nll': 0.289, 'x_gex_kl': 0.017, 'x_gex_elbo': 0.307, 'x_other_nll': 9.33, 'x_other_kl': 0.29, 'x_other_elbo': 9.62}, 0.9s elapsed\n",
      "[INFO] SCCLUETrainer: [Epoch 110] train={'dsc_loss': 0.691, 'gen_loss': 27.955, 'cross_loss': 9.569, 'cos_loss': 0.289, 'x_gex_nll': 0.288, 'x_gex_kl': 0.018, 'x_gex_elbo': 0.306, 'x_other_nll': 9.305, 'x_other_kl': 0.299, 'x_other_elbo': 9.604}, val={'dsc_loss': 0.687, 'gen_loss': 28.099, 'cross_loss': 9.618, 'cos_loss': 0.323, 'x_gex_nll': 0.291, 'x_gex_kl': 0.018, 'x_gex_elbo': 0.309, 'x_other_nll': 9.293, 'x_other_kl': 0.311, 'x_other_elbo': 9.603}, 1.1s elapsed\n",
      "[INFO] SCCLUETrainer: [Epoch 120] train={'dsc_loss': 0.691, 'gen_loss': 27.912, 'cross_loss': 9.552, 'cos_loss': 0.285, 'x_gex_nll': 0.289, 'x_gex_kl': 0.018, 'x_gex_elbo': 0.307, 'x_other_nll': 9.287, 'x_other_kl': 0.31, 'x_other_elbo': 9.597}, val={'dsc_loss': 0.682, 'gen_loss': 28.061, 'cross_loss': 9.591, 'cos_loss': 0.329, 'x_gex_nll': 0.29, 'x_gex_kl': 0.018, 'x_gex_elbo': 0.308, 'x_other_nll': 9.29, 'x_other_kl': 0.316, 'x_other_elbo': 9.606}, 1.0s elapsed\n",
      "[INFO] SCCLUETrainer: [Epoch 130] train={'dsc_loss': 0.69, 'gen_loss': 27.884, 'cross_loss': 9.539, 'cos_loss': 0.283, 'x_gex_nll': 0.289, 'x_gex_kl': 0.018, 'x_gex_elbo': 0.307, 'x_other_nll': 9.274, 'x_other_kl': 0.322, 'x_other_elbo': 9.596}, val={'dsc_loss': 0.681, 'gen_loss': 28.074, 'cross_loss': 9.6, 'cos_loss': 0.324, 'x_gex_nll': 0.29, 'x_gex_kl': 0.018, 'x_gex_elbo': 0.307, 'x_other_nll': 9.288, 'x_other_kl': 0.316, 'x_other_elbo': 9.605}, 1.1s elapsed\n",
      "[INFO] SCCLUETrainer: [Epoch 140] train={'dsc_loss': 0.688, 'gen_loss': 27.883, 'cross_loss': 9.535, 'cos_loss': 0.281, 'x_gex_nll': 0.289, 'x_gex_kl': 0.018, 'x_gex_elbo': 0.306, 'x_other_nll': 9.273, 'x_other_kl': 0.33, 'x_other_elbo': 9.602}, val={'dsc_loss': 0.678, 'gen_loss': 28.074, 'cross_loss': 9.6, 'cos_loss': 0.322, 'x_gex_nll': 0.29, 'x_gex_kl': 0.017, 'x_gex_elbo': 0.308, 'x_other_nll': 9.269, 'x_other_kl': 0.331, 'x_other_elbo': 9.6}, 1.0s elapsed\n",
      "[INFO] SCCLUETrainer: [Epoch 150] train={'dsc_loss': 0.69, 'gen_loss': 27.879, 'cross_loss': 9.533, 'cos_loss': 0.277, 'x_gex_nll': 0.289, 'x_gex_kl': 0.018, 'x_gex_elbo': 0.307, 'x_other_nll': 9.27, 'x_other_kl': 0.34, 'x_other_elbo': 9.61}, val={'dsc_loss': 0.677, 'gen_loss': 28.142, 'cross_loss': 9.618, 'cos_loss': 0.321, 'x_gex_nll': 0.292, 'x_gex_kl': 0.017, 'x_gex_elbo': 0.309, 'x_other_nll': 9.281, 'x_other_kl': 0.349, 'x_other_elbo': 9.63}, 1.4s elapsed\n",
      "[INFO] SCCLUETrainer: [Epoch 160] train={'dsc_loss': 0.689, 'gen_loss': 27.85, 'cross_loss': 9.521, 'cos_loss': 0.279, 'x_gex_nll': 0.288, 'x_gex_kl': 0.018, 'x_gex_elbo': 0.306, 'x_other_nll': 9.258, 'x_other_kl': 0.341, 'x_other_elbo': 9.6}, val={'dsc_loss': 0.677, 'gen_loss': 28.146, 'cross_loss': 9.614, 'cos_loss': 0.328, 'x_gex_nll': 0.289, 'x_gex_kl': 0.018, 'x_gex_elbo': 0.307, 'x_other_nll': 9.296, 'x_other_kl': 0.341, 'x_other_elbo': 9.637}, 0.8s elapsed\n",
      "[INFO] SCCLUETrainer: [Epoch 170] train={'dsc_loss': 0.689, 'gen_loss': 27.836, 'cross_loss': 9.515, 'cos_loss': 0.277, 'x_gex_nll': 0.289, 'x_gex_kl': 0.018, 'x_gex_elbo': 0.307, 'x_other_nll': 9.254, 'x_other_kl': 0.348, 'x_other_elbo': 9.602}, val={'dsc_loss': 0.681, 'gen_loss': 28.079, 'cross_loss': 9.588, 'cos_loss': 0.32, 'x_gex_nll': 0.291, 'x_gex_kl': 0.018, 'x_gex_elbo': 0.308, 'x_other_nll': 9.275, 'x_other_kl': 0.362, 'x_other_elbo': 9.637}, 1.0s elapsed\n",
      "[INFO] SCCLUETrainer: [Epoch 180] train={'dsc_loss': 0.689, 'gen_loss': 27.815, 'cross_loss': 9.505, 'cos_loss': 0.28, 'x_gex_nll': 0.289, 'x_gex_kl': 0.017, 'x_gex_elbo': 0.306, 'x_other_nll': 9.247, 'x_other_kl': 0.35, 'x_other_elbo': 9.597}, val={'dsc_loss': 0.677, 'gen_loss': 28.169, 'cross_loss': 9.62, 'cos_loss': 0.334, 'x_gex_nll': 0.29, 'x_gex_kl': 0.017, 'x_gex_elbo': 0.307, 'x_other_nll': 9.301, 'x_other_kl': 0.342, 'x_other_elbo': 9.643}, 0.9s elapsed\n",
      "[INFO] SCCLUETrainer: [Epoch 190] train={'dsc_loss': 0.688, 'gen_loss': 27.815, 'cross_loss': 9.505, 'cos_loss': 0.279, 'x_gex_nll': 0.288, 'x_gex_kl': 0.018, 'x_gex_elbo': 0.306, 'x_other_nll': 9.247, 'x_other_kl': 0.349, 'x_other_elbo': 9.596}, val={'dsc_loss': 0.673, 'gen_loss': 28.106, 'cross_loss': 9.61, 'cos_loss': 0.326, 'x_gex_nll': 0.29, 'x_gex_kl': 0.018, 'x_gex_elbo': 0.308, 'x_other_nll': 9.245, 'x_other_kl': 0.352, 'x_other_elbo': 9.597}, 1.0s elapsed\n",
      "[INFO] SCCLUETrainer: [Epoch 200] train={'dsc_loss': 0.688, 'gen_loss': 27.812, 'cross_loss': 9.501, 'cos_loss': 0.274, 'x_gex_nll': 0.289, 'x_gex_kl': 0.018, 'x_gex_elbo': 0.307, 'x_other_nll': 9.242, 'x_other_kl': 0.361, 'x_other_elbo': 9.604}, val={'dsc_loss': 0.678, 'gen_loss': 28.056, 'cross_loss': 9.584, 'cos_loss': 0.326, 'x_gex_nll': 0.291, 'x_gex_kl': 0.018, 'x_gex_elbo': 0.309, 'x_other_nll': 9.245, 'x_other_kl': 0.362, 'x_other_elbo': 9.608}, 1.1s elapsed\n",
      "[INFO] EarlyStopping: No usable checkpoint found. Skipping checkpoint restoration.\n",
      "[INFO] Transferrable: Copied: encoders.0.linear_0.weight\n"
     ]
    },
    {
     "name": "stderr",
     "output_type": "stream",
     "text": [
      "INFO:Transferrable:Copied: encoders.0.linear_0.weight\n"
     ]
    },
    {
     "name": "stdout",
     "output_type": "stream",
     "text": [
      "[INFO] Transferrable: Copied: encoders.0.linear_0.bias\n"
     ]
    },
    {
     "name": "stderr",
     "output_type": "stream",
     "text": [
      "INFO:Transferrable:Copied: encoders.0.linear_0.bias\n"
     ]
    },
    {
     "name": "stdout",
     "output_type": "stream",
     "text": [
      "[INFO] Transferrable: Copied: encoders.0.bn_0.weight\n"
     ]
    },
    {
     "name": "stderr",
     "output_type": "stream",
     "text": [
      "INFO:Transferrable:Copied: encoders.0.bn_0.weight\n"
     ]
    },
    {
     "name": "stdout",
     "output_type": "stream",
     "text": [
      "[INFO] Transferrable: Copied: encoders.0.bn_0.bias\n"
     ]
    },
    {
     "name": "stderr",
     "output_type": "stream",
     "text": [
      "INFO:Transferrable:Copied: encoders.0.bn_0.bias\n"
     ]
    },
    {
     "name": "stdout",
     "output_type": "stream",
     "text": [
      "[INFO] Transferrable: Copied: encoders.0.linear_1.weight\n"
     ]
    },
    {
     "name": "stderr",
     "output_type": "stream",
     "text": [
      "INFO:Transferrable:Copied: encoders.0.linear_1.weight\n"
     ]
    },
    {
     "name": "stdout",
     "output_type": "stream",
     "text": [
      "[INFO] Transferrable: Copied: encoders.0.linear_1.bias\n"
     ]
    },
    {
     "name": "stderr",
     "output_type": "stream",
     "text": [
      "INFO:Transferrable:Copied: encoders.0.linear_1.bias\n"
     ]
    },
    {
     "name": "stdout",
     "output_type": "stream",
     "text": [
      "[INFO] Transferrable: Copied: encoders.0.bn_1.weight\n"
     ]
    },
    {
     "name": "stderr",
     "output_type": "stream",
     "text": [
      "INFO:Transferrable:Copied: encoders.0.bn_1.weight\n"
     ]
    },
    {
     "name": "stdout",
     "output_type": "stream",
     "text": [
      "[INFO] Transferrable: Copied: encoders.0.bn_1.bias\n"
     ]
    },
    {
     "name": "stderr",
     "output_type": "stream",
     "text": [
      "INFO:Transferrable:Copied: encoders.0.bn_1.bias\n"
     ]
    },
    {
     "name": "stdout",
     "output_type": "stream",
     "text": [
      "[INFO] Transferrable: Copied: encoders.0.loc.weight\n"
     ]
    },
    {
     "name": "stderr",
     "output_type": "stream",
     "text": [
      "INFO:Transferrable:Copied: encoders.0.loc.weight\n"
     ]
    },
    {
     "name": "stdout",
     "output_type": "stream",
     "text": [
      "[INFO] Transferrable: Copied: encoders.0.loc.bias\n"
     ]
    },
    {
     "name": "stderr",
     "output_type": "stream",
     "text": [
      "INFO:Transferrable:Copied: encoders.0.loc.bias\n"
     ]
    },
    {
     "name": "stdout",
     "output_type": "stream",
     "text": [
      "[INFO] Transferrable: Copied: encoders.0.std_lin.weight\n"
     ]
    },
    {
     "name": "stderr",
     "output_type": "stream",
     "text": [
      "INFO:Transferrable:Copied: encoders.0.std_lin.weight\n"
     ]
    },
    {
     "name": "stdout",
     "output_type": "stream",
     "text": [
      "[INFO] Transferrable: Copied: encoders.0.std_lin.bias\n"
     ]
    },
    {
     "name": "stderr",
     "output_type": "stream",
     "text": [
      "INFO:Transferrable:Copied: encoders.0.std_lin.bias\n"
     ]
    },
    {
     "name": "stdout",
     "output_type": "stream",
     "text": [
      "[INFO] Transferrable: Copied: encoders.1.linear_0.weight\n"
     ]
    },
    {
     "name": "stderr",
     "output_type": "stream",
     "text": [
      "INFO:Transferrable:Copied: encoders.1.linear_0.weight\n"
     ]
    },
    {
     "name": "stdout",
     "output_type": "stream",
     "text": [
      "[INFO] Transferrable: Copied: encoders.1.linear_0.bias\n"
     ]
    },
    {
     "name": "stderr",
     "output_type": "stream",
     "text": [
      "INFO:Transferrable:Copied: encoders.1.linear_0.bias\n"
     ]
    },
    {
     "name": "stdout",
     "output_type": "stream",
     "text": [
      "[INFO] Transferrable: Copied: encoders.1.bn_0.weight\n"
     ]
    },
    {
     "name": "stderr",
     "output_type": "stream",
     "text": [
      "INFO:Transferrable:Copied: encoders.1.bn_0.weight\n"
     ]
    },
    {
     "name": "stdout",
     "output_type": "stream",
     "text": [
      "[INFO] Transferrable: Copied: encoders.1.bn_0.bias\n"
     ]
    },
    {
     "name": "stderr",
     "output_type": "stream",
     "text": [
      "INFO:Transferrable:Copied: encoders.1.bn_0.bias\n"
     ]
    },
    {
     "name": "stdout",
     "output_type": "stream",
     "text": [
      "[INFO] Transferrable: Copied: encoders.1.linear_1.weight\n"
     ]
    },
    {
     "name": "stderr",
     "output_type": "stream",
     "text": [
      "INFO:Transferrable:Copied: encoders.1.linear_1.weight\n"
     ]
    },
    {
     "name": "stdout",
     "output_type": "stream",
     "text": [
      "[INFO] Transferrable: Copied: encoders.1.linear_1.bias\n"
     ]
    },
    {
     "name": "stderr",
     "output_type": "stream",
     "text": [
      "INFO:Transferrable:Copied: encoders.1.linear_1.bias\n"
     ]
    },
    {
     "name": "stdout",
     "output_type": "stream",
     "text": [
      "[INFO] Transferrable: Copied: encoders.1.bn_1.weight\n"
     ]
    },
    {
     "name": "stderr",
     "output_type": "stream",
     "text": [
      "INFO:Transferrable:Copied: encoders.1.bn_1.weight\n"
     ]
    },
    {
     "name": "stdout",
     "output_type": "stream",
     "text": [
      "[INFO] Transferrable: Copied: encoders.1.bn_1.bias\n"
     ]
    },
    {
     "name": "stderr",
     "output_type": "stream",
     "text": [
      "INFO:Transferrable:Copied: encoders.1.bn_1.bias\n"
     ]
    },
    {
     "name": "stdout",
     "output_type": "stream",
     "text": [
      "[INFO] Transferrable: Copied: encoders.1.loc.weight\n"
     ]
    },
    {
     "name": "stderr",
     "output_type": "stream",
     "text": [
      "INFO:Transferrable:Copied: encoders.1.loc.weight\n"
     ]
    },
    {
     "name": "stdout",
     "output_type": "stream",
     "text": [
      "[INFO] Transferrable: Copied: encoders.1.loc.bias\n"
     ]
    },
    {
     "name": "stderr",
     "output_type": "stream",
     "text": [
      "INFO:Transferrable:Copied: encoders.1.loc.bias\n"
     ]
    },
    {
     "name": "stdout",
     "output_type": "stream",
     "text": [
      "[INFO] Transferrable: Copied: encoders.1.std_lin.weight\n"
     ]
    },
    {
     "name": "stderr",
     "output_type": "stream",
     "text": [
      "INFO:Transferrable:Copied: encoders.1.std_lin.weight\n"
     ]
    },
    {
     "name": "stdout",
     "output_type": "stream",
     "text": [
      "[INFO] Transferrable: Copied: encoders.1.std_lin.bias\n"
     ]
    },
    {
     "name": "stderr",
     "output_type": "stream",
     "text": [
      "INFO:Transferrable:Copied: encoders.1.std_lin.bias\n"
     ]
    },
    {
     "name": "stdout",
     "output_type": "stream",
     "text": [
      "[INFO] Transferrable: Copied: est_l.weight\n"
     ]
    },
    {
     "name": "stderr",
     "output_type": "stream",
     "text": [
      "INFO:Transferrable:Copied: est_l.weight\n"
     ]
    },
    {
     "name": "stdout",
     "output_type": "stream",
     "text": [
      "[INFO] Transferrable: Copied: est_l.bias\n"
     ]
    },
    {
     "name": "stderr",
     "output_type": "stream",
     "text": [
      "INFO:Transferrable:Copied: est_l.bias\n"
     ]
    },
    {
     "name": "stdout",
     "output_type": "stream",
     "text": [
      "[INFO] Transferrable: Copied: encoders.0.bn_0.running_mean\n"
     ]
    },
    {
     "name": "stderr",
     "output_type": "stream",
     "text": [
      "INFO:Transferrable:Copied: encoders.0.bn_0.running_mean\n"
     ]
    },
    {
     "name": "stdout",
     "output_type": "stream",
     "text": [
      "[INFO] Transferrable: Copied: encoders.0.bn_0.running_var\n"
     ]
    },
    {
     "name": "stderr",
     "output_type": "stream",
     "text": [
      "INFO:Transferrable:Copied: encoders.0.bn_0.running_var\n"
     ]
    },
    {
     "name": "stdout",
     "output_type": "stream",
     "text": [
      "[INFO] Transferrable: Copied: encoders.0.bn_0.num_batches_tracked\n"
     ]
    },
    {
     "name": "stderr",
     "output_type": "stream",
     "text": [
      "INFO:Transferrable:Copied: encoders.0.bn_0.num_batches_tracked\n"
     ]
    },
    {
     "name": "stdout",
     "output_type": "stream",
     "text": [
      "[INFO] Transferrable: Copied: encoders.0.bn_1.running_mean\n"
     ]
    },
    {
     "name": "stderr",
     "output_type": "stream",
     "text": [
      "INFO:Transferrable:Copied: encoders.0.bn_1.running_mean\n"
     ]
    },
    {
     "name": "stdout",
     "output_type": "stream",
     "text": [
      "[INFO] Transferrable: Copied: encoders.0.bn_1.running_var\n"
     ]
    },
    {
     "name": "stderr",
     "output_type": "stream",
     "text": [
      "INFO:Transferrable:Copied: encoders.0.bn_1.running_var\n"
     ]
    },
    {
     "name": "stdout",
     "output_type": "stream",
     "text": [
      "[INFO] Transferrable: Copied: encoders.0.bn_1.num_batches_tracked\n"
     ]
    },
    {
     "name": "stderr",
     "output_type": "stream",
     "text": [
      "INFO:Transferrable:Copied: encoders.0.bn_1.num_batches_tracked\n"
     ]
    },
    {
     "name": "stdout",
     "output_type": "stream",
     "text": [
      "[INFO] Transferrable: Copied: encoders.1.bn_0.running_mean\n"
     ]
    },
    {
     "name": "stderr",
     "output_type": "stream",
     "text": [
      "INFO:Transferrable:Copied: encoders.1.bn_0.running_mean\n"
     ]
    },
    {
     "name": "stdout",
     "output_type": "stream",
     "text": [
      "[INFO] Transferrable: Copied: encoders.1.bn_0.running_var\n"
     ]
    },
    {
     "name": "stderr",
     "output_type": "stream",
     "text": [
      "INFO:Transferrable:Copied: encoders.1.bn_0.running_var\n"
     ]
    },
    {
     "name": "stdout",
     "output_type": "stream",
     "text": [
      "[INFO] Transferrable: Copied: encoders.1.bn_0.num_batches_tracked\n"
     ]
    },
    {
     "name": "stderr",
     "output_type": "stream",
     "text": [
      "INFO:Transferrable:Copied: encoders.1.bn_0.num_batches_tracked\n"
     ]
    },
    {
     "name": "stdout",
     "output_type": "stream",
     "text": [
      "[INFO] Transferrable: Copied: encoders.1.bn_1.running_mean\n"
     ]
    },
    {
     "name": "stderr",
     "output_type": "stream",
     "text": [
      "INFO:Transferrable:Copied: encoders.1.bn_1.running_mean\n"
     ]
    },
    {
     "name": "stdout",
     "output_type": "stream",
     "text": [
      "[INFO] Transferrable: Copied: encoders.1.bn_1.running_var\n"
     ]
    },
    {
     "name": "stderr",
     "output_type": "stream",
     "text": [
      "INFO:Transferrable:Copied: encoders.1.bn_1.running_var\n"
     ]
    },
    {
     "name": "stdout",
     "output_type": "stream",
     "text": [
      "[INFO] Transferrable: Copied: encoders.1.bn_1.num_batches_tracked\n"
     ]
    },
    {
     "name": "stderr",
     "output_type": "stream",
     "text": [
      "INFO:Transferrable:Copied: encoders.1.bn_1.num_batches_tracked\n"
     ]
    },
    {
     "name": "stdout",
     "output_type": "stream",
     "text": [
      "[INFO] BatchedTransferrable: Copied: scale_lin\n"
     ]
    },
    {
     "name": "stderr",
     "output_type": "stream",
     "text": [
      "INFO:BatchedTransferrable:Copied: scale_lin\n"
     ]
    },
    {
     "name": "stdout",
     "output_type": "stream",
     "text": [
      "[INFO] BatchedTransferrable: Copied: bias\n"
     ]
    },
    {
     "name": "stderr",
     "output_type": "stream",
     "text": [
      "INFO:BatchedTransferrable:Copied: bias\n"
     ]
    },
    {
     "name": "stdout",
     "output_type": "stream",
     "text": [
      "[INFO] BatchedTransferrable: Copied: log_theta\n"
     ]
    },
    {
     "name": "stderr",
     "output_type": "stream",
     "text": [
      "INFO:BatchedTransferrable:Copied: log_theta\n"
     ]
    },
    {
     "name": "stdout",
     "output_type": "stream",
     "text": [
      "[INFO] BatchedTransferrable: Copied: linear_0.weight\n"
     ]
    },
    {
     "name": "stderr",
     "output_type": "stream",
     "text": [
      "INFO:BatchedTransferrable:Copied: linear_0.weight\n"
     ]
    },
    {
     "name": "stdout",
     "output_type": "stream",
     "text": [
      "[INFO] BatchedTransferrable: Copied: linear_0.bias\n"
     ]
    },
    {
     "name": "stderr",
     "output_type": "stream",
     "text": [
      "INFO:BatchedTransferrable:Copied: linear_0.bias\n"
     ]
    },
    {
     "name": "stdout",
     "output_type": "stream",
     "text": [
      "[INFO] BatchedTransferrable: Copied: bn_0.weight\n"
     ]
    },
    {
     "name": "stderr",
     "output_type": "stream",
     "text": [
      "INFO:BatchedTransferrable:Copied: bn_0.weight\n"
     ]
    },
    {
     "name": "stdout",
     "output_type": "stream",
     "text": [
      "[INFO] BatchedTransferrable: Copied: bn_0.bias\n"
     ]
    },
    {
     "name": "stderr",
     "output_type": "stream",
     "text": [
      "INFO:BatchedTransferrable:Copied: bn_0.bias\n"
     ]
    },
    {
     "name": "stdout",
     "output_type": "stream",
     "text": [
      "[INFO] BatchedTransferrable: Copied: loc.weight\n"
     ]
    },
    {
     "name": "stderr",
     "output_type": "stream",
     "text": [
      "INFO:BatchedTransferrable:Copied: loc.weight\n"
     ]
    },
    {
     "name": "stdout",
     "output_type": "stream",
     "text": [
      "[INFO] BatchedTransferrable: Copied: loc.bias\n"
     ]
    },
    {
     "name": "stderr",
     "output_type": "stream",
     "text": [
      "INFO:BatchedTransferrable:Copied: loc.bias\n"
     ]
    },
    {
     "name": "stdout",
     "output_type": "stream",
     "text": [
      "[INFO] BatchedTransferrable: Copied: bn_0.running_mean\n"
     ]
    },
    {
     "name": "stderr",
     "output_type": "stream",
     "text": [
      "INFO:BatchedTransferrable:Copied: bn_0.running_mean\n"
     ]
    },
    {
     "name": "stdout",
     "output_type": "stream",
     "text": [
      "[INFO] BatchedTransferrable: Copied: bn_0.running_var\n"
     ]
    },
    {
     "name": "stderr",
     "output_type": "stream",
     "text": [
      "INFO:BatchedTransferrable:Copied: bn_0.running_var\n"
     ]
    },
    {
     "name": "stdout",
     "output_type": "stream",
     "text": [
      "[INFO] BatchedTransferrable: Copied: bn_0.num_batches_tracked\n"
     ]
    },
    {
     "name": "stderr",
     "output_type": "stream",
     "text": [
      "INFO:BatchedTransferrable:Copied: bn_0.num_batches_tracked\n"
     ]
    },
    {
     "name": "stdout",
     "output_type": "stream",
     "text": [
      "[INFO] Transferrable: Copied: encoders.0.linear_0.weight\n"
     ]
    },
    {
     "name": "stderr",
     "output_type": "stream",
     "text": [
      "INFO:Transferrable:Copied: encoders.0.linear_0.weight\n"
     ]
    },
    {
     "name": "stdout",
     "output_type": "stream",
     "text": [
      "[INFO] Transferrable: Copied: encoders.0.linear_0.bias\n"
     ]
    },
    {
     "name": "stderr",
     "output_type": "stream",
     "text": [
      "INFO:Transferrable:Copied: encoders.0.linear_0.bias\n"
     ]
    },
    {
     "name": "stdout",
     "output_type": "stream",
     "text": [
      "[INFO] Transferrable: Copied: encoders.0.bn_0.weight\n"
     ]
    },
    {
     "name": "stderr",
     "output_type": "stream",
     "text": [
      "INFO:Transferrable:Copied: encoders.0.bn_0.weight\n"
     ]
    },
    {
     "name": "stdout",
     "output_type": "stream",
     "text": [
      "[INFO] Transferrable: Copied: encoders.0.bn_0.bias\n"
     ]
    },
    {
     "name": "stderr",
     "output_type": "stream",
     "text": [
      "INFO:Transferrable:Copied: encoders.0.bn_0.bias\n"
     ]
    },
    {
     "name": "stdout",
     "output_type": "stream",
     "text": [
      "[INFO] Transferrable: Copied: encoders.0.linear_1.weight\n"
     ]
    },
    {
     "name": "stderr",
     "output_type": "stream",
     "text": [
      "INFO:Transferrable:Copied: encoders.0.linear_1.weight\n"
     ]
    },
    {
     "name": "stdout",
     "output_type": "stream",
     "text": [
      "[INFO] Transferrable: Copied: encoders.0.linear_1.bias\n"
     ]
    },
    {
     "name": "stderr",
     "output_type": "stream",
     "text": [
      "INFO:Transferrable:Copied: encoders.0.linear_1.bias\n"
     ]
    },
    {
     "name": "stdout",
     "output_type": "stream",
     "text": [
      "[INFO] Transferrable: Copied: encoders.0.bn_1.weight\n"
     ]
    },
    {
     "name": "stderr",
     "output_type": "stream",
     "text": [
      "INFO:Transferrable:Copied: encoders.0.bn_1.weight\n"
     ]
    },
    {
     "name": "stdout",
     "output_type": "stream",
     "text": [
      "[INFO] Transferrable: Copied: encoders.0.bn_1.bias\n"
     ]
    },
    {
     "name": "stderr",
     "output_type": "stream",
     "text": [
      "INFO:Transferrable:Copied: encoders.0.bn_1.bias\n"
     ]
    },
    {
     "name": "stdout",
     "output_type": "stream",
     "text": [
      "[INFO] Transferrable: Copied: encoders.0.loc.weight\n"
     ]
    },
    {
     "name": "stderr",
     "output_type": "stream",
     "text": [
      "INFO:Transferrable:Copied: encoders.0.loc.weight\n"
     ]
    },
    {
     "name": "stdout",
     "output_type": "stream",
     "text": [
      "[INFO] Transferrable: Copied: encoders.0.loc.bias\n"
     ]
    },
    {
     "name": "stderr",
     "output_type": "stream",
     "text": [
      "INFO:Transferrable:Copied: encoders.0.loc.bias\n"
     ]
    },
    {
     "name": "stdout",
     "output_type": "stream",
     "text": [
      "[INFO] Transferrable: Copied: encoders.0.std_lin.weight\n"
     ]
    },
    {
     "name": "stderr",
     "output_type": "stream",
     "text": [
      "INFO:Transferrable:Copied: encoders.0.std_lin.weight\n"
     ]
    },
    {
     "name": "stdout",
     "output_type": "stream",
     "text": [
      "[INFO] Transferrable: Copied: encoders.0.std_lin.bias\n"
     ]
    },
    {
     "name": "stderr",
     "output_type": "stream",
     "text": [
      "INFO:Transferrable:Copied: encoders.0.std_lin.bias\n"
     ]
    },
    {
     "name": "stdout",
     "output_type": "stream",
     "text": [
      "[INFO] Transferrable: Copied: encoders.1.linear_0.weight\n"
     ]
    },
    {
     "name": "stderr",
     "output_type": "stream",
     "text": [
      "INFO:Transferrable:Copied: encoders.1.linear_0.weight\n"
     ]
    },
    {
     "name": "stdout",
     "output_type": "stream",
     "text": [
      "[INFO] Transferrable: Copied: encoders.1.linear_0.bias\n"
     ]
    },
    {
     "name": "stderr",
     "output_type": "stream",
     "text": [
      "INFO:Transferrable:Copied: encoders.1.linear_0.bias\n"
     ]
    },
    {
     "name": "stdout",
     "output_type": "stream",
     "text": [
      "[INFO] Transferrable: Copied: encoders.1.bn_0.weight\n"
     ]
    },
    {
     "name": "stderr",
     "output_type": "stream",
     "text": [
      "INFO:Transferrable:Copied: encoders.1.bn_0.weight\n"
     ]
    },
    {
     "name": "stdout",
     "output_type": "stream",
     "text": [
      "[INFO] Transferrable: Copied: encoders.1.bn_0.bias\n"
     ]
    },
    {
     "name": "stderr",
     "output_type": "stream",
     "text": [
      "INFO:Transferrable:Copied: encoders.1.bn_0.bias\n"
     ]
    },
    {
     "name": "stdout",
     "output_type": "stream",
     "text": [
      "[INFO] Transferrable: Copied: encoders.1.linear_1.weight\n"
     ]
    },
    {
     "name": "stderr",
     "output_type": "stream",
     "text": [
      "INFO:Transferrable:Copied: encoders.1.linear_1.weight\n"
     ]
    },
    {
     "name": "stdout",
     "output_type": "stream",
     "text": [
      "[INFO] Transferrable: Copied: encoders.1.linear_1.bias\n"
     ]
    },
    {
     "name": "stderr",
     "output_type": "stream",
     "text": [
      "INFO:Transferrable:Copied: encoders.1.linear_1.bias\n"
     ]
    },
    {
     "name": "stdout",
     "output_type": "stream",
     "text": [
      "[INFO] Transferrable: Copied: encoders.1.bn_1.weight\n"
     ]
    },
    {
     "name": "stderr",
     "output_type": "stream",
     "text": [
      "INFO:Transferrable:Copied: encoders.1.bn_1.weight\n"
     ]
    },
    {
     "name": "stdout",
     "output_type": "stream",
     "text": [
      "[INFO] Transferrable: Copied: encoders.1.bn_1.bias\n"
     ]
    },
    {
     "name": "stderr",
     "output_type": "stream",
     "text": [
      "INFO:Transferrable:Copied: encoders.1.bn_1.bias\n"
     ]
    },
    {
     "name": "stdout",
     "output_type": "stream",
     "text": [
      "[INFO] Transferrable: Copied: encoders.1.loc.weight\n"
     ]
    },
    {
     "name": "stderr",
     "output_type": "stream",
     "text": [
      "INFO:Transferrable:Copied: encoders.1.loc.weight\n"
     ]
    },
    {
     "name": "stdout",
     "output_type": "stream",
     "text": [
      "[INFO] Transferrable: Copied: encoders.1.loc.bias\n"
     ]
    },
    {
     "name": "stderr",
     "output_type": "stream",
     "text": [
      "INFO:Transferrable:Copied: encoders.1.loc.bias\n"
     ]
    },
    {
     "name": "stdout",
     "output_type": "stream",
     "text": [
      "[INFO] Transferrable: Copied: encoders.1.std_lin.weight\n"
     ]
    },
    {
     "name": "stderr",
     "output_type": "stream",
     "text": [
      "INFO:Transferrable:Copied: encoders.1.std_lin.weight\n"
     ]
    },
    {
     "name": "stdout",
     "output_type": "stream",
     "text": [
      "[INFO] Transferrable: Copied: encoders.1.std_lin.bias\n"
     ]
    },
    {
     "name": "stderr",
     "output_type": "stream",
     "text": [
      "INFO:Transferrable:Copied: encoders.1.std_lin.bias\n"
     ]
    },
    {
     "name": "stdout",
     "output_type": "stream",
     "text": [
      "[INFO] Transferrable: Copied: est_l.weight\n"
     ]
    },
    {
     "name": "stderr",
     "output_type": "stream",
     "text": [
      "INFO:Transferrable:Copied: est_l.weight\n"
     ]
    },
    {
     "name": "stdout",
     "output_type": "stream",
     "text": [
      "[INFO] Transferrable: Copied: est_l.bias\n"
     ]
    },
    {
     "name": "stderr",
     "output_type": "stream",
     "text": [
      "INFO:Transferrable:Copied: est_l.bias\n"
     ]
    },
    {
     "name": "stdout",
     "output_type": "stream",
     "text": [
      "[INFO] Transferrable: Copied: encoders.0.bn_0.running_mean\n"
     ]
    },
    {
     "name": "stderr",
     "output_type": "stream",
     "text": [
      "INFO:Transferrable:Copied: encoders.0.bn_0.running_mean\n"
     ]
    },
    {
     "name": "stdout",
     "output_type": "stream",
     "text": [
      "[INFO] Transferrable: Copied: encoders.0.bn_0.running_var\n"
     ]
    },
    {
     "name": "stderr",
     "output_type": "stream",
     "text": [
      "INFO:Transferrable:Copied: encoders.0.bn_0.running_var\n"
     ]
    },
    {
     "name": "stdout",
     "output_type": "stream",
     "text": [
      "[INFO] Transferrable: Copied: encoders.0.bn_0.num_batches_tracked\n"
     ]
    },
    {
     "name": "stderr",
     "output_type": "stream",
     "text": [
      "INFO:Transferrable:Copied: encoders.0.bn_0.num_batches_tracked\n"
     ]
    },
    {
     "name": "stdout",
     "output_type": "stream",
     "text": [
      "[INFO] Transferrable: Copied: encoders.0.bn_1.running_mean\n"
     ]
    },
    {
     "name": "stderr",
     "output_type": "stream",
     "text": [
      "INFO:Transferrable:Copied: encoders.0.bn_1.running_mean\n"
     ]
    },
    {
     "name": "stdout",
     "output_type": "stream",
     "text": [
      "[INFO] Transferrable: Copied: encoders.0.bn_1.running_var\n"
     ]
    },
    {
     "name": "stderr",
     "output_type": "stream",
     "text": [
      "INFO:Transferrable:Copied: encoders.0.bn_1.running_var\n"
     ]
    },
    {
     "name": "stdout",
     "output_type": "stream",
     "text": [
      "[INFO] Transferrable: Copied: encoders.0.bn_1.num_batches_tracked\n"
     ]
    },
    {
     "name": "stderr",
     "output_type": "stream",
     "text": [
      "INFO:Transferrable:Copied: encoders.0.bn_1.num_batches_tracked\n"
     ]
    },
    {
     "name": "stdout",
     "output_type": "stream",
     "text": [
      "[INFO] Transferrable: Copied: encoders.1.bn_0.running_mean\n"
     ]
    },
    {
     "name": "stderr",
     "output_type": "stream",
     "text": [
      "INFO:Transferrable:Copied: encoders.1.bn_0.running_mean\n"
     ]
    },
    {
     "name": "stdout",
     "output_type": "stream",
     "text": [
      "[INFO] Transferrable: Copied: encoders.1.bn_0.running_var\n"
     ]
    },
    {
     "name": "stderr",
     "output_type": "stream",
     "text": [
      "INFO:Transferrable:Copied: encoders.1.bn_0.running_var\n"
     ]
    },
    {
     "name": "stdout",
     "output_type": "stream",
     "text": [
      "[INFO] Transferrable: Copied: encoders.1.bn_0.num_batches_tracked\n"
     ]
    },
    {
     "name": "stderr",
     "output_type": "stream",
     "text": [
      "INFO:Transferrable:Copied: encoders.1.bn_0.num_batches_tracked\n"
     ]
    },
    {
     "name": "stdout",
     "output_type": "stream",
     "text": [
      "[INFO] Transferrable: Copied: encoders.1.bn_1.running_mean\n"
     ]
    },
    {
     "name": "stderr",
     "output_type": "stream",
     "text": [
      "INFO:Transferrable:Copied: encoders.1.bn_1.running_mean\n"
     ]
    },
    {
     "name": "stdout",
     "output_type": "stream",
     "text": [
      "[INFO] Transferrable: Copied: encoders.1.bn_1.running_var\n"
     ]
    },
    {
     "name": "stderr",
     "output_type": "stream",
     "text": [
      "INFO:Transferrable:Copied: encoders.1.bn_1.running_var\n"
     ]
    },
    {
     "name": "stdout",
     "output_type": "stream",
     "text": [
      "[INFO] Transferrable: Copied: encoders.1.bn_1.num_batches_tracked\n"
     ]
    },
    {
     "name": "stderr",
     "output_type": "stream",
     "text": [
      "INFO:Transferrable:Copied: encoders.1.bn_1.num_batches_tracked\n"
     ]
    },
    {
     "name": "stdout",
     "output_type": "stream",
     "text": [
      "[INFO] BatchedTransferrable: Copied: scale_lin\n"
     ]
    },
    {
     "name": "stderr",
     "output_type": "stream",
     "text": [
      "INFO:BatchedTransferrable:Copied: scale_lin\n"
     ]
    },
    {
     "name": "stdout",
     "output_type": "stream",
     "text": [
      "[INFO] BatchedTransferrable: Copied: bias\n"
     ]
    },
    {
     "name": "stderr",
     "output_type": "stream",
     "text": [
      "INFO:BatchedTransferrable:Copied: bias\n"
     ]
    },
    {
     "name": "stdout",
     "output_type": "stream",
     "text": [
      "[INFO] BatchedTransferrable: Copied: log_theta\n"
     ]
    },
    {
     "name": "stderr",
     "output_type": "stream",
     "text": [
      "INFO:BatchedTransferrable:Copied: log_theta\n"
     ]
    },
    {
     "name": "stdout",
     "output_type": "stream",
     "text": [
      "[INFO] BatchedTransferrable: Copied: linear_0.weight\n"
     ]
    },
    {
     "name": "stderr",
     "output_type": "stream",
     "text": [
      "INFO:BatchedTransferrable:Copied: linear_0.weight\n"
     ]
    },
    {
     "name": "stdout",
     "output_type": "stream",
     "text": [
      "[INFO] BatchedTransferrable: Copied: linear_0.bias\n"
     ]
    },
    {
     "name": "stderr",
     "output_type": "stream",
     "text": [
      "INFO:BatchedTransferrable:Copied: linear_0.bias\n"
     ]
    },
    {
     "name": "stdout",
     "output_type": "stream",
     "text": [
      "[INFO] BatchedTransferrable: Copied: bn_0.weight\n"
     ]
    },
    {
     "name": "stderr",
     "output_type": "stream",
     "text": [
      "INFO:BatchedTransferrable:Copied: bn_0.weight\n"
     ]
    },
    {
     "name": "stdout",
     "output_type": "stream",
     "text": [
      "[INFO] BatchedTransferrable: Copied: bn_0.bias\n"
     ]
    },
    {
     "name": "stderr",
     "output_type": "stream",
     "text": [
      "INFO:BatchedTransferrable:Copied: bn_0.bias\n"
     ]
    },
    {
     "name": "stdout",
     "output_type": "stream",
     "text": [
      "[INFO] BatchedTransferrable: Copied: loc.weight\n"
     ]
    },
    {
     "name": "stderr",
     "output_type": "stream",
     "text": [
      "INFO:BatchedTransferrable:Copied: loc.weight\n"
     ]
    },
    {
     "name": "stdout",
     "output_type": "stream",
     "text": [
      "[INFO] BatchedTransferrable: Copied: loc.bias\n"
     ]
    },
    {
     "name": "stderr",
     "output_type": "stream",
     "text": [
      "INFO:BatchedTransferrable:Copied: loc.bias\n"
     ]
    },
    {
     "name": "stdout",
     "output_type": "stream",
     "text": [
      "[INFO] BatchedTransferrable: Copied: bn_0.running_mean\n"
     ]
    },
    {
     "name": "stderr",
     "output_type": "stream",
     "text": [
      "INFO:BatchedTransferrable:Copied: bn_0.running_mean\n"
     ]
    },
    {
     "name": "stdout",
     "output_type": "stream",
     "text": [
      "[INFO] BatchedTransferrable: Copied: bn_0.running_var\n"
     ]
    },
    {
     "name": "stderr",
     "output_type": "stream",
     "text": [
      "INFO:BatchedTransferrable:Copied: bn_0.running_var\n"
     ]
    },
    {
     "name": "stdout",
     "output_type": "stream",
     "text": [
      "[INFO] BatchedTransferrable: Copied: bn_0.num_batches_tracked\n"
     ]
    },
    {
     "name": "stderr",
     "output_type": "stream",
     "text": [
      "INFO:BatchedTransferrable:Copied: bn_0.num_batches_tracked\n"
     ]
    },
    {
     "name": "stdout",
     "output_type": "stream",
     "text": [
      "[INFO] BatchedTransferrable: Copied: linear_0.weight\n"
     ]
    },
    {
     "name": "stderr",
     "output_type": "stream",
     "text": [
      "INFO:BatchedTransferrable:Copied: linear_0.weight\n"
     ]
    },
    {
     "name": "stdout",
     "output_type": "stream",
     "text": [
      "[INFO] BatchedTransferrable: Copied: linear_0.bias\n"
     ]
    },
    {
     "name": "stderr",
     "output_type": "stream",
     "text": [
      "INFO:BatchedTransferrable:Copied: linear_0.bias\n"
     ]
    },
    {
     "name": "stdout",
     "output_type": "stream",
     "text": [
      "[INFO] BatchedTransferrable: Copied: linear_1.weight\n"
     ]
    },
    {
     "name": "stderr",
     "output_type": "stream",
     "text": [
      "INFO:BatchedTransferrable:Copied: linear_1.weight\n"
     ]
    },
    {
     "name": "stdout",
     "output_type": "stream",
     "text": [
      "[INFO] BatchedTransferrable: Copied: linear_1.bias\n"
     ]
    },
    {
     "name": "stderr",
     "output_type": "stream",
     "text": [
      "INFO:BatchedTransferrable:Copied: linear_1.bias\n"
     ]
    },
    {
     "name": "stdout",
     "output_type": "stream",
     "text": [
      "[INFO] BatchedTransferrable: Copied: pred.weight\n"
     ]
    },
    {
     "name": "stderr",
     "output_type": "stream",
     "text": [
      "INFO:BatchedTransferrable:Copied: pred.weight\n"
     ]
    },
    {
     "name": "stdout",
     "output_type": "stream",
     "text": [
      "[INFO] BatchedTransferrable: Copied: pred.bias\n"
     ]
    },
    {
     "name": "stderr",
     "output_type": "stream",
     "text": [
      "INFO:BatchedTransferrable:Copied: pred.bias\n"
     ]
    },
    {
     "name": "stdout",
     "output_type": "stream",
     "text": [
      "[INFO] SCCLUETrainer: Using training directory: \"/tmp/GLUETMPfd_dzzwc\"\n"
     ]
    },
    {
     "name": "stderr",
     "output_type": "stream",
     "text": [
      "INFO:SCCLUETrainer:Using training directory: \"/tmp/GLUETMPfd_dzzwc\"\n"
     ]
    },
    {
     "name": "stdout",
     "output_type": "stream",
     "text": [
      "[INFO] SCCLUETrainer: [Epoch 10] train={'dsc_loss': 0.688, 'gen_loss': 28.343, 'cross_loss': 9.766, 'cos_loss': 0.153, 'x_gex_nll': 0.236, 'x_gex_kl': 0.014, 'x_gex_elbo': 0.25, 'x_other_nll': 9.54, 'x_other_kl': 0.245, 'x_other_elbo': 9.785}, val={'dsc_loss': 0.683, 'gen_loss': 28.133, 'cross_loss': 9.694, 'cos_loss': 0.157, 'x_gex_nll': 0.24, 'x_gex_kl': 0.014, 'x_gex_elbo': 0.254, 'x_other_nll': 9.454, 'x_other_kl': 0.246, 'x_other_elbo': 9.7}, 3.6s elapsed\n"
     ]
    },
    {
     "name": "stderr",
     "output_type": "stream",
     "text": [
      "INFO:SCCLUETrainer:[Epoch 10] train={'dsc_loss': 0.688, 'gen_loss': 28.343, 'cross_loss': 9.766, 'cos_loss': 0.153, 'x_gex_nll': 0.236, 'x_gex_kl': 0.014, 'x_gex_elbo': 0.25, 'x_other_nll': 9.54, 'x_other_kl': 0.245, 'x_other_elbo': 9.785}, val={'dsc_loss': 0.683, 'gen_loss': 28.133, 'cross_loss': 9.694, 'cos_loss': 0.157, 'x_gex_nll': 0.24, 'x_gex_kl': 0.014, 'x_gex_elbo': 0.254, 'x_other_nll': 9.454, 'x_other_kl': 0.246, 'x_other_elbo': 9.7}, 3.6s elapsed\n"
     ]
    },
    {
     "name": "stdout",
     "output_type": "stream",
     "text": [
      "[INFO] SCCLUETrainer: [Epoch 20] train={'dsc_loss': 0.688, 'gen_loss': 27.922, 'cross_loss': 9.613, 'cos_loss': 0.154, 'x_gex_nll': 0.238, 'x_gex_kl': 0.013, 'x_gex_elbo': 0.251, 'x_other_nll': 9.395, 'x_other_kl': 0.271, 'x_other_elbo': 9.666}, val={'dsc_loss': 0.687, 'gen_loss': 27.786, 'cross_loss': 9.566, 'cos_loss': 0.156, 'x_gex_nll': 0.239, 'x_gex_kl': 0.014, 'x_gex_elbo': 0.253, 'x_other_nll': 9.329, 'x_other_kl': 0.29, 'x_other_elbo': 9.619}, 2.5s elapsed\n"
     ]
    },
    {
     "name": "stderr",
     "output_type": "stream",
     "text": [
      "INFO:SCCLUETrainer:[Epoch 20] train={'dsc_loss': 0.688, 'gen_loss': 27.922, 'cross_loss': 9.613, 'cos_loss': 0.154, 'x_gex_nll': 0.238, 'x_gex_kl': 0.013, 'x_gex_elbo': 0.251, 'x_other_nll': 9.395, 'x_other_kl': 0.271, 'x_other_elbo': 9.666}, val={'dsc_loss': 0.687, 'gen_loss': 27.786, 'cross_loss': 9.566, 'cos_loss': 0.156, 'x_gex_nll': 0.239, 'x_gex_kl': 0.014, 'x_gex_elbo': 0.253, 'x_other_nll': 9.329, 'x_other_kl': 0.29, 'x_other_elbo': 9.619}, 2.5s elapsed\n"
     ]
    },
    {
     "name": "stdout",
     "output_type": "stream",
     "text": [
      "Epoch 00020: reducing learning rate of group 0 to 1.0000e-04.\n",
      "Epoch 00020: reducing learning rate of group 0 to 1.0000e-04.\n",
      "[INFO] SCCLUETrainer: [Epoch 30] train={'dsc_loss': 0.69, 'gen_loss': 27.847, 'cross_loss': 9.588, 'cos_loss': 0.151, 'x_gex_nll': 0.236, 'x_gex_kl': 0.013, 'x_gex_elbo': 0.25, 'x_other_nll': 9.373, 'x_other_kl': 0.276, 'x_other_elbo': 9.65}, val={'dsc_loss': 0.678, 'gen_loss': 27.713, 'cross_loss': 9.543, 'cos_loss': 0.161, 'x_gex_nll': 0.239, 'x_gex_kl': 0.013, 'x_gex_elbo': 0.252, 'x_other_nll': 9.3, 'x_other_kl': 0.27, 'x_other_elbo': 9.57}, 3.4s elapsed\n"
     ]
    },
    {
     "name": "stderr",
     "output_type": "stream",
     "text": [
      "INFO:SCCLUETrainer:[Epoch 30] train={'dsc_loss': 0.69, 'gen_loss': 27.847, 'cross_loss': 9.588, 'cos_loss': 0.151, 'x_gex_nll': 0.236, 'x_gex_kl': 0.013, 'x_gex_elbo': 0.25, 'x_other_nll': 9.373, 'x_other_kl': 0.276, 'x_other_elbo': 9.65}, val={'dsc_loss': 0.678, 'gen_loss': 27.713, 'cross_loss': 9.543, 'cos_loss': 0.161, 'x_gex_nll': 0.239, 'x_gex_kl': 0.013, 'x_gex_elbo': 0.252, 'x_other_nll': 9.3, 'x_other_kl': 0.27, 'x_other_elbo': 9.57}, 3.4s elapsed\n"
     ]
    },
    {
     "name": "stdout",
     "output_type": "stream",
     "text": [
      "Epoch 00038: reducing learning rate of group 0 to 1.0000e-05.\n",
      "Epoch 00038: reducing learning rate of group 0 to 1.0000e-05.\n",
      "[INFO] SCCLUETrainer: [Epoch 40] train={'dsc_loss': 0.689, 'gen_loss': 27.811, 'cross_loss': 9.577, 'cos_loss': 0.149, 'x_gex_nll': 0.237, 'x_gex_kl': 0.013, 'x_gex_elbo': 0.25, 'x_other_nll': 9.351, 'x_other_kl': 0.284, 'x_other_elbo': 9.635}, val={'dsc_loss': 0.681, 'gen_loss': 27.675, 'cross_loss': 9.525, 'cos_loss': 0.158, 'x_gex_nll': 0.24, 'x_gex_kl': 0.013, 'x_gex_elbo': 0.253, 'x_other_nll': 9.297, 'x_other_kl': 0.278, 'x_other_elbo': 9.575}, 2.9s elapsed\n"
     ]
    },
    {
     "name": "stderr",
     "output_type": "stream",
     "text": [
      "INFO:SCCLUETrainer:[Epoch 40] train={'dsc_loss': 0.689, 'gen_loss': 27.811, 'cross_loss': 9.577, 'cos_loss': 0.149, 'x_gex_nll': 0.237, 'x_gex_kl': 0.013, 'x_gex_elbo': 0.25, 'x_other_nll': 9.351, 'x_other_kl': 0.284, 'x_other_elbo': 9.635}, val={'dsc_loss': 0.681, 'gen_loss': 27.675, 'cross_loss': 9.525, 'cos_loss': 0.158, 'x_gex_nll': 0.24, 'x_gex_kl': 0.013, 'x_gex_elbo': 0.253, 'x_other_nll': 9.297, 'x_other_kl': 0.278, 'x_other_elbo': 9.575}, 2.9s elapsed\n",
      "2024-05-17 15:09:32,342 ignite.handlers.early_stopping.EarlyStopping INFO: EarlyStopping: Stop training\n"
     ]
    },
    {
     "name": "stdout",
     "output_type": "stream",
     "text": [
      "Epoch 00042: reducing learning rate of group 0 to 1.0000e-06.\n",
      "Epoch 00042: reducing learning rate of group 0 to 1.0000e-06.\n",
      "[INFO] EarlyStopping: Restoring checkpoint \"38\"...\n"
     ]
    },
    {
     "name": "stderr",
     "output_type": "stream",
     "text": [
      "INFO:EarlyStopping:Restoring checkpoint \"38\"...\n"
     ]
    },
    {
     "name": "stdout",
     "output_type": "stream",
     "text": [
      "[INFO] EarlyStopping: Restoring checkpoint \"38\"...\n"
     ]
    },
    {
     "name": "stderr",
     "output_type": "stream",
     "text": [
      "INFO:EarlyStopping:Restoring checkpoint \"38\"...\n"
     ]
    }
   ],
   "source": [
    "input_train_mod1 = ad_a1_rna[:, hvg_names].copy()\n",
    "input_train_mod2 = ad_a1_adt[:, hvp_names].copy()\n",
    "input_test_mod1 = ad_d1_rna[:, hvg_names].copy()\n",
    "input_test_mod2 = ad3_adt[:, hvp_names].copy()\n",
    "\n",
    "input_train_mod1.X = sps.csr_matrix(input_train_mod1.X)\n",
    "input_train_mod2.X = sps.csr_matrix(input_train_mod2.X)\n",
    "input_train_mod1.layers['counts'] = sps.csr_matrix(input_train_mod1.X)\n",
    "input_train_mod2.layers['counts'] = sps.csr_matrix(input_train_mod2.X)\n",
    "input_test_mod1.X = sps.csr_matrix(input_test_mod1.X)\n",
    "input_test_mod2.X = sps.csr_matrix(input_test_mod2.X)\n",
    "input_test_mod1.layers['counts'] = sps.csr_matrix(input_test_mod1.X)\n",
    "input_test_mod2.layers['counts'] = sps.csr_matrix(input_test_mod2.X)\n",
    "\n",
    "input_train_mod1.obs[\"uid\"] = [f\"train-{i}\" for i in range(input_train_mod1.shape[0])]\n",
    "input_train_mod2.obs[\"uid\"] = [f\"train-{i}\" for i in range(input_train_mod2.shape[0])]\n",
    "input_test_mod1.obs[\"uid\"] = [f\"test-mod1-{i}\" for i in range(input_test_mod1.shape[0])]\n",
    "input_test_mod2.obs[\"uid\"] = [f\"test-mod2-{i}\" for i in range(input_test_mod2.shape[0])]\n",
    "\n",
    "input_train_mod1.obs['batch'] = input_train_mod1.obs['src'].to_list()\n",
    "input_train_mod2.obs['batch'] = input_train_mod2.obs['src'].to_list()\n",
    "input_test_mod1.obs['batch'] = input_test_mod1.obs['src'].to_list()\n",
    "input_test_mod2.obs['batch'] = input_test_mod2.obs['src'].to_list()\n",
    "\n",
    "print('Reading `h5ad` files...')\n",
    "omics = \"cite\"\n",
    "\n",
    "gex = input_train_mod1\n",
    "other = input_train_mod2\n",
    "\n",
    "print('Preprocessing GEX...')\n",
    "gex_prep = utils.GEXPreprocessing(n_comps=100, n_genes=n_genes, merge_adt=omics == \"cite\")\n",
    "gex_prep.fit_transform(gex)\n",
    "print('Preprocessing ADT...')\n",
    "other_prep = utils.ADTPreprocessing(n_comps=100)\n",
    "other_prep.fit_transform(other)\n",
    "\n",
    "with open(os.path.join(out_dir, \"prep.pickle\"), \"wb\") as f:\n",
    "    pickle.dump({\n",
    "        \"gex_prep\": gex_prep,\n",
    "        \"other_prep\": other_prep\n",
    "    }, f)\n",
    "\n",
    "with open(f\"{out_dir}/hyperparams.yaml\", \"w\") as f:\n",
    "    yaml.dump({\n",
    "        \"n_genes\": n_genes,\n",
    "        \"latent_dim\": latent_dim,\n",
    "        \"x2u_h_depth\": x2u_h_depth,\n",
    "        \"x2u_h_dim\": x2u_h_dim,\n",
    "        \"u2x_h_depth\": u2x_h_depth,\n",
    "        \"u2x_h_dim\": u2x_h_dim,\n",
    "        \"du_h_depth\": du_h_depth,\n",
    "        \"du_h_dim\": du_h_dim,\n",
    "        \"dropout\": dropout,\n",
    "        \"lam_data\": lam_data,\n",
    "        \"lam_kl\": lam_kl,\n",
    "        \"lam_align\": lam_align,\n",
    "        \"lam_cross\": lam_cross,\n",
    "        \"lam_cos\": lam_cos,\n",
    "        \"normalize_u\": normalize_u,\n",
    "        \"random_seed\": random_seed\n",
    "    }, f)\n",
    "\n",
    "scglue.models.configure_dataset(\n",
    "    gex, \"NB\", use_highly_variable=True,\n",
    "    use_layer=\"counts\", use_rep=\"X_pca\",\n",
    "    use_batch=\"batch\", use_uid=\"uid\"\n",
    ")\n",
    "scglue.models.configure_dataset(\n",
    "    other, \"NB\", use_highly_variable=True,\n",
    "    use_layer=\"counts\", use_rep=\"X_pca\",\n",
    "    use_batch=\"batch\", use_uid=\"uid\"\n",
    ")\n",
    "\n",
    "print('Building model...')\n",
    "model = scglue.models.SCCLUEModel(\n",
    "    {\"gex\": gex, \"other\": other},\n",
    "    latent_dim=latent_dim,\n",
    "    x2u_h_depth=x2u_h_depth,\n",
    "    x2u_h_dim=x2u_h_dim,\n",
    "    u2x_h_depth=u2x_h_depth,\n",
    "    u2x_h_dim=u2x_h_dim,\n",
    "    du_h_depth=du_h_depth,\n",
    "    du_h_dim=du_h_dim,\n",
    "    dropout=dropout,\n",
    "    shared_batches=False,\n",
    "    random_seed=random_seed\n",
    ")\n",
    "\n",
    "print('Compiling model...')\n",
    "model.compile(\n",
    "    lam_data=lam_data, lam_kl=lam_kl, lam_align=lam_align,\n",
    "    lam_cross=lam_cross, lam_cos=lam_cos, normalize_u=normalize_u,\n",
    "    domain_weight={\"gex\": 1, \"other\": 1}\n",
    ")\n",
    "\n",
    "# help(model.fit)\n",
    "print('Training model...')\n",
    "model.fit(\n",
    "    {\"gex\": gex, \"other\": other}, max_epochs=max_epochs1,\n",
    ")\n",
    "model.save(os.path.join(out_dir, \"pretrain.dill\"))\n",
    "\n",
    "# ===============================\n",
    "#               stage 2\n",
    "# ===============================\n",
    "\n",
    "logging.info('Concatenating training and test data...')\n",
    "input_mod1 = ad.concat(\n",
    "    {\"train\": input_train_mod1, \"test\": input_test_mod1},\n",
    "    axis=0, join=\"outer\", merge=\"same\", label=\"group\",\n",
    "    fill_value=0, index_unique=\"-\"\n",
    ")\n",
    "input_mod1.uns[\"feature_type\"] = 'GEX'\n",
    "\n",
    "input_mod2 = ad.concat(\n",
    "    {\"train\": input_train_mod2, \"test\": input_test_mod2},\n",
    "    axis=0, join=\"outer\", merge=\"same\", label=\"group\",\n",
    "    fill_value=0, index_unique=\"-\"\n",
    ")\n",
    "input_mod2.uns[\"feature_type\"] = 'ADT'\n",
    "\n",
    "gex, other = input_mod1, input_mod2\n",
    "\n",
    "logging.info('Reading preprocessors...')\n",
    "with open(os.path.join(\n",
    "       out_dir, \"prep.pickle\"\n",
    "), \"rb\") as f:\n",
    "    prep = pickle.load(f)\n",
    "    gex_prep = prep[\"gex_prep\"]\n",
    "    other_prep = prep[\"other_prep\"]\n",
    "\n",
    "logging.info('Preprocessing...')\n",
    "gex_prep.transform(gex)\n",
    "other_prep.transform(other)\n",
    "\n",
    "logging.info('Fine-tuning model...')\n",
    "scglue.models.configure_dataset(\n",
    "    gex, \"NB\", use_highly_variable=True,\n",
    "    use_layer=\"counts\", use_rep=\"X_pca\",\n",
    "    use_batch=\"batch\", use_uid=\"uid\"\n",
    ")\n",
    "scglue.models.configure_dataset(\n",
    "    other, \"NB\", use_highly_variable=True,\n",
    "    use_layer=\"counts\", use_rep=\"X_pca\",\n",
    "    use_batch=\"batch\", use_uid=\"uid\"\n",
    ")\n",
    "\n",
    "with open(os.path.join(\n",
    "        out_dir, \"hyperparams.yaml\"\n",
    "), \"r\") as f:\n",
    "    hyperparams = yaml.load(f, Loader=yaml.Loader)\n",
    "\n",
    "logging.info('Building model...')\n",
    "model = scglue.models.SCCLUEModel(\n",
    "    {\"gex\": gex, \"other\": other},\n",
    "    latent_dim=hyperparams[\"latent_dim\"],\n",
    "    x2u_h_depth=hyperparams[\"x2u_h_depth\"],\n",
    "    x2u_h_dim=hyperparams[\"x2u_h_dim\"],\n",
    "    u2x_h_depth=hyperparams[\"u2x_h_depth\"],\n",
    "    u2x_h_dim=hyperparams[\"u2x_h_dim\"],\n",
    "    du_h_depth=hyperparams[\"du_h_depth\"],\n",
    "    du_h_dim=hyperparams[\"du_h_dim\"],\n",
    "    dropout=hyperparams[\"dropout\"],\n",
    "    shared_batches=False,\n",
    "    random_seed=hyperparams[\"random_seed\"]\n",
    ")\n",
    "# print(model.net)\n",
    "\n",
    "logging.info('Adopting pretrained weights...')\n",
    "model.adopt_pretrained_model(scglue.models.load_model(os.path.join(\n",
    "    out_dir, \"pretrain.dill\"\n",
    ")))\n",
    "\n",
    "logging.info('Compiling model...')\n",
    "model.compile(\n",
    "    lam_data=hyperparams[\"lam_data\"],\n",
    "    lam_kl=hyperparams[\"lam_kl\"],\n",
    "    lam_align=hyperparams[\"lam_align\"],\n",
    "    lam_cross=hyperparams[\"lam_cross\"],\n",
    "    lam_cos=hyperparams[\"lam_cos\"],\n",
    "    normalize_u=hyperparams[\"normalize_u\"],\n",
    "    domain_weight={\"gex\": 1, \"other\": 1},\n",
    "    lr=1e-3  # TODO: Fine-tuning learning rate\n",
    ")\n",
    "\n",
    "logging.info('Training model...')\n",
    "model.fit(\n",
    "    {\"gex\": gex, \"other\": other},\n",
    "    align_burnin=0, max_epochs=max_epochs2,\n",
    "    patience=8, reduce_lr_patience=3\n",
    ")\n",
    "\n",
    "logging.info('Projecting cell embeddings...')\n",
    "gex.obsm[\"X_model\"] = model.encode_data(\"gex\", gex)\n",
    "other.obsm[\"X_model\"] = model.encode_data(\"other\", other)\n",
    "\n",
    "input_train_mod1.obsm['emb'] = gex.obsm[\"X_model\"][:input_train_mod1.n_obs]\n",
    "input_test_mod1.obsm['emb'] = gex.obsm[\"X_model\"][input_train_mod1.n_obs:]\n",
    "\n",
    "input_train_mod2.obsm['emb'] = other.obsm[\"X_model\"][:input_train_mod2.n_obs]\n",
    "input_test_mod2.obsm['emb'] = other.obsm[\"X_model\"][input_train_mod2.n_obs:]\n",
    "\n",
    "ad_train_mean_enc = sc.AnnData(\n",
    "    (input_train_mod1.obsm['emb'] + input_train_mod2.obsm['emb'])/2, \n",
    "    obs=input_train_mod1.obs.copy()\n",
    ")\n",
    "ad_train_mean_enc.obsm['emb'] = ad_train_mean_enc.X.copy()\n",
    "ad_train_mean_enc.obsm['spatial'] = input_train_mod1.obsm['spatial']\n",
    "ad_mosaic = sc.concat([ad_train_mean_enc, input_test_mod1, input_test_mod2])"
   ]
  },
  {
   "cell_type": "code",
   "execution_count": 9,
   "id": "86a8db04-e0f8-41d8-98bf-5aa92e9f771e",
   "metadata": {},
   "outputs": [
    {
     "name": "stderr",
     "output_type": "stream",
     "text": [
      "/home/xuhua/xuhua_disco/miniforge3/envs/Squidpy/lib/python3.8/site-packages/tqdm/auto.py:21: TqdmWarning: IProgress not found. Please update jupyter and ipywidgets. See https://ipywidgets.readthedocs.io/en/stable/user_install.html\n",
      "  from .autonotebook import tqdm as notebook_tqdm\n"
     ]
    },
    {
     "data": {
      "image/png": "[encoded data removed]",
      "text/plain": [
       "<Figure size 640x480 with 1 Axes>"
      ]
     },
     "metadata": {},
     "output_type": "display_data"
    }
   ],
   "source": [
    "ad_mosaic = get_umap(ad_mosaic, ['emb'])\n",
    "wrap_warn_plot(ad_mosaic, 'emb_umap', ['src'])"
   ]
  },
  {
   "cell_type": "code",
   "execution_count": 10,
   "id": "b42fd90b-34ca-4217-bcd0-0fd3e2562a95",
   "metadata": {},
   "outputs": [
    {
     "data": {
      "text/plain": [
       "0.5984740170222236"
      ]
     },
     "execution_count": 10,
     "metadata": {},
     "output_type": "execute_result"
    }
   ],
   "source": [
    "lisi_res = eval_lisi(\n",
    "    ad_mosaic,\n",
    "    batch_keys=['batch'],\n",
    "    label_keys = [],\n",
    "    use_rep='emb', use_neighbors=False,\n",
    ")\n",
    "lisi_res['batch_iLISI'][0]"
   ]
  },
  {
   "cell_type": "markdown",
   "id": "18d51ae9-4cb0-4511-a33a-753cb83efb27",
   "metadata": {},
   "source": [
    "### batch corr"
   ]
  },
  {
   "cell_type": "code",
   "execution_count": 11,
   "id": "236b48f8-f3f0-4c5e-8b81-11c10cf9f704",
   "metadata": {},
   "outputs": [
    {
     "name": "stdout",
     "output_type": "stream",
     "text": [
      "Use GPU mode.\n",
      "\tInitialization is completed.\n",
      "\tCompleted 1 / 10 iteration(s).\n",
      "\tCompleted 2 / 10 iteration(s).\n",
      "\tCompleted 3 / 10 iteration(s).\n",
      "\tCompleted 4 / 10 iteration(s).\n",
      "\tCompleted 5 / 10 iteration(s).\n",
      "\tCompleted 6 / 10 iteration(s).\n",
      "\tCompleted 7 / 10 iteration(s).\n",
      "\tCompleted 8 / 10 iteration(s).\n",
      "Reach convergence after 8 iteration(s).\n"
     ]
    }
   ],
   "source": [
    "from batchCorr import HARMONY\n",
    "\n",
    "ad_mosaic.obsm['emb_har'] = HARMONY(pd.DataFrame(ad_mosaic.obsm['emb']), ad_mosaic.obs['src'].to_list())\n",
    "split_ob([ad_train_mean_enc, input_test_mod1, input_test_mod2], ad_mosaic, ob='obsm', key='emb_har')"
   ]
  },
  {
   "cell_type": "code",
   "execution_count": 12,
   "id": "3789a3ea-f852-47b1-ab64-d0a63232cf90",
   "metadata": {},
   "outputs": [
    {
     "data": {
      "text/plain": [
       "0.7992852638417136"
      ]
     },
     "execution_count": 12,
     "metadata": {},
     "output_type": "execute_result"
    }
   ],
   "source": [
    "lisi_res = eval_lisi(\n",
    "    ad_mosaic,\n",
    "    batch_keys=['batch'],\n",
    "    label_keys = [],\n",
    "    use_rep='emb_har', use_neighbors=False,\n",
    ")\n",
    "lisi_res['batch_iLISI'][0]"
   ]
  },
  {
   "cell_type": "markdown",
   "id": "cf68a65a-fcb1-4151-a164-6ef7ba04cb23",
   "metadata": {},
   "source": [
    "## vis"
   ]
  },
  {
   "cell_type": "code",
   "execution_count": 13,
   "id": "812844dd-9167-41a3-9507-ad93b3b361f5",
   "metadata": {},
   "outputs": [],
   "source": [
    "fig_dir = f'/disco_500t/xuhua/gitrepo/BridgeNorm/figures/Lymph_3slices_fuck/clue'\n",
    "os.makedirs(fig_dir, exist_ok=True)\n",
    "\n",
    "df = pd.DataFrame(ad_mosaic.obsm['emb'], index=ad_mosaic.obs_names)\n",
    "# df['before_clust'] = ad_mosaic.obs['before_clust'].to_list() \n",
    "df.to_csv(join(fig_dir, 'X_emb.csv'))\n",
    "\n",
    "df = pd.DataFrame(ad_mosaic.obsm['emb_har'], index=ad_mosaic.obs_names)\n",
    "# df['after_clust'] = ad_mosaic.obs['after_clust'].to_list() \n",
    "df.to_csv(join(fig_dir, 'X_emb_har.csv'))"
   ]
  },
  {
   "cell_type": "code",
   "execution_count": null,
   "id": "d64e83ee-1b4b-4c24-8e3b-11eff0442548",
   "metadata": {},
   "outputs": [],
   "source": []
  }
 ],
 "metadata": {
  "kernelspec": {
   "display_name": "Squidpy",
   "language": "python",
   "name": "squidpy"
  },
  "language_info": {
   "codemirror_mode": {
    "name": "ipython",
    "version": 3
   },
   "file_extension": ".py",
   "mimetype": "text/x-python",
   "name": "python",
   "nbconvert_exporter": "python",
   "pygments_lexer": "ipython3",
   "version": "3.8.8"
  }
 },
 "nbformat": 4,
 "nbformat_minor": 5
}
