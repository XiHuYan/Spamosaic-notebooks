{
 "cells": [
  {
   "cell_type": "code",
   "execution_count": 1,
   "id": "edc0b626-2aad-4592-98fa-9de090bddba3",
   "metadata": {},
   "outputs": [],
   "source": [
    "import os\n",
    "os.environ['R_HOME'] = '/disco_500t/xuhua/miniforge3/envs/Seurat5/lib/R'\n",
    "os.environ['R_USER'] = '/disco_500t/xuhua/miniforge3/envs/Seurat5/lib/python3.8/site-packages/rpy2'\n",
    "\n",
    "import psutil\n",
    "\n",
    "# Get the current process\n",
    "# p = psutil.Process(os.getpid())\n",
    "\n",
    "# # Set the process to run only on the first CPU core\n",
    "# p.cpu_affinity([5])"
   ]
  },
  {
   "cell_type": "code",
   "execution_count": 2,
   "id": "ecd9ac5b-c3b7-4127-9b9c-117ad93ac971",
   "metadata": {},
   "outputs": [],
   "source": [
    "import os\n",
    "import gc\n",
    "import pandas as pd\n",
    "import pickle\n",
    "import matplotlib.pyplot as plt\n",
    "\n",
    "import anndata as ad\n",
    "import numpy as np\n",
    "import yaml\n",
    "import sys\n",
    "import h5py\n",
    "import logging\n",
    "import scanpy as sc\n",
    "from os.path import join\n",
    "import scipy.sparse as sps\n",
    "from sklearn.cluster import KMeans\n",
    "\n",
    "import scglue\n",
    "\n",
    "import warnings\n",
    "def wrap_warn_plot(adata, basis, color, **kwargs):\n",
    "    with warnings.catch_warnings():\n",
    "        warnings.simplefilter(\"ignore\", category=UserWarning)\n",
    "        sc.pl.embedding(adata, basis=basis, color=color, **kwargs)\n",
    "\n",
    "def get_umap(ad, use_reps=[]):\n",
    "    for use_rep in use_reps:\n",
    "        umap_add_key = f'{use_rep}_umap'\n",
    "        sc.pp.neighbors(ad, use_rep=use_rep, n_neighbors=15)\n",
    "        sc.tl.umap(ad)\n",
    "        ad.obsm[umap_add_key] = ad.obsm['X_umap']\n",
    "    return ad\n",
    "\n",
    "from sklearn.metrics import adjusted_rand_score\n",
    "\n",
    "def split_ob(ads, ad_ref, ob='obs', key='emb2'):\n",
    "    len_ads = [_.n_obs for _ in ads]\n",
    "    if ob=='obsm':\n",
    "        split_obsms = np.split(ad_ref.obsm[key], np.cumsum(len_ads[:-1]))\n",
    "        for ad, v in zip(ads, split_obsms):\n",
    "            ad.obsm[key] = v\n",
    "    else:\n",
    "        split_obs = np.split(ad_ref.obs[key].to_list(), np.cumsum(len_ads[:-1]))\n",
    "        for ad, v in zip(ads, split_obs):\n",
    "            ad.obs[key] = v\n",
    "\n",
    "def eval_ads(ads, ref_key, src_key):\n",
    "    aris = []\n",
    "    for ad in ads:\n",
    "        aris.append(adjusted_rand_score(ad.obs[src_key], ad.obs[ref_key]))\n",
    "    return aris\n",
    "\n",
    "from sklearn.preprocessing import normalize\n",
    "from sklearn.cluster import KMeans\n",
    "def search_louvain(ad, use_rep, n_neighbors=15, n_clusters=5):\n",
    "    sc.pp.neighbors(ad, n_neighbors=n_neighbors, use_rep=use_rep)\n",
    "    rs = np.arange(0.1, 1.0, 0.1)\n",
    "    n_cs = []\n",
    "    for r in rs:\n",
    "        sc.tl.louvain(ad, resolution=r, key_added=f'r={r}')\n",
    "        n_cs.append(ad.obs[f'r={r}'].nunique())\n",
    "    n_cs = np.array(n_cs)\n",
    "    if (n_cs==n_clusters).sum() >= 1:\n",
    "        ri = np.where(n_cs==n_clusters)[0][0]\n",
    "        ad.obs['louvain_k'] = ad.obs[f'r={rs[ri]}'].to_list()\n",
    "    else:\n",
    "        kmeans = KMeans(n_clusters=n_clusters, random_state=0).fit(ad.obsm[use_rep])\n",
    "        ad.obs['louvain_k'] = kmeans.labels_.astype('str')\n",
    "\n",
    "from sklearn.neighbors import KNeighborsClassifier\n",
    "from sklearn.metrics import f1_score\n",
    "def eval_labelTransfer(ad1, ad2, use_rep, lab_key, knn=10):\n",
    "     with warnings.catch_warnings():\n",
    "        warnings.simplefilter(\"ignore\", category=FutureWarning)\n",
    "        neigh1 = KNeighborsClassifier(n_neighbors=knn)\n",
    "        neigh1.fit(ad1.obsm[use_rep], ad1.obs[lab_key].to_list())\n",
    "        pr_lab2 = neigh1.predict(ad2.obsm[use_rep])\n",
    "        f1_1 = f1_score(ad2.obs[lab_key].values, pr_lab2, #labels=['1.0', '2.0', '3.0', '4.0'], \n",
    "                        average='macro')\n",
    "        # acc1 = (pr_lab2 == ad2.obs[lab_key].values).mean()\n",
    "    \n",
    "        neigh2 = KNeighborsClassifier(n_neighbors=knn)\n",
    "        neigh2.fit(ad2.obsm[use_rep], ad2.obs[lab_key].to_list())\n",
    "        pr_lab1 = neigh2.predict(ad1.obsm[use_rep])\n",
    "        # acc2 = (pr_lab1 == ad1.obs[lab_key].values).mean()\n",
    "        f1_2 = f1_score(ad1.obs[lab_key].values, pr_lab1, #labels=['1.0', '2.0', '3.0', '4.0'], \n",
    "                        average='macro')\n",
    "        return (f1_1+f1_2)/2\n",
    "\n",
    "from scib.metrics import lisi\n",
    "def eval_lisi(\n",
    "        adata,\n",
    "        batch_keys=['domain', 'batch'],\n",
    "        label_keys = ['gt'],\n",
    "        use_rep='X_emb', use_neighbors=False,\n",
    "    ):\n",
    "    res = {}\n",
    "    for key in batch_keys:\n",
    "        adata.obs[key] = adata.obs[key].astype('category')\n",
    "\n",
    "        _lisi = lisi.ilisi_graph(\n",
    "            adata,\n",
    "            key,\n",
    "            'embed' if not use_neighbors else 'knn',\n",
    "            use_rep=use_rep,\n",
    "            k0=90,\n",
    "            subsample=None,\n",
    "            scale=True,\n",
    "            n_cores=1,\n",
    "            verbose=False,\n",
    "        )\n",
    "        res[key+'_iLISI'] = _lisi\n",
    "    for key in label_keys:\n",
    "        adata.obs[key] = adata.obs[key].astype('category')\n",
    "\n",
    "        _lisi = lisi.clisi_graph(\n",
    "            adata,\n",
    "            key,\n",
    "            'embed' if not use_neighbors else 'knn',\n",
    "            use_rep=use_rep,\n",
    "            batch_key=None,\n",
    "            k0=90,\n",
    "            subsample=None,\n",
    "            scale=True,\n",
    "            n_cores=1,\n",
    "            verbose=False,\n",
    "        )\n",
    "        res[key+'_cLISI'] = _lisi\n",
    "    df = pd.DataFrame.from_dict(res, orient='index').T\n",
    "    # df.columns = [_+'_LISI' for _ in df.columns]\n",
    "    return df\n",
    "\n",
    "os.environ['R_HOME'] = '/disco_500t/xuhua/miniforge3/envs/Seurat5/lib/R'\n",
    "os.environ['R_USER'] = '/disco_500t/xuhua/miniforge3/envs/Seurat5/lib/python3.8/site-packages/rpy2'\n",
    "def mclust_R(adata, num_cluster, modelNames='EEE', used_obsm='STAGATE', random_seed=2020):\n",
    "    np.random.seed(random_seed)\n",
    "    import rpy2.robjects as robjects\n",
    "    robjects.r.library(\"mclust\")\n",
    "\n",
    "    import rpy2.robjects.numpy2ri\n",
    "    rpy2.robjects.numpy2ri.activate()\n",
    "    r_random_seed = robjects.r['set.seed']\n",
    "    r_random_seed(random_seed)\n",
    "    rmclust = robjects.r['Mclust']\n",
    "\n",
    "    res = rmclust(rpy2.robjects.numpy2ri.numpy2rpy(adata.obsm[used_obsm]), num_cluster, modelNames)\n",
    "    mclust_res = np.array(res[-2])\n",
    "\n",
    "    adata.obs['mclust'] = mclust_res\n",
    "    adata.obs['mclust'] = adata.obs['mclust'].astype('int')\n",
    "    adata.obs['mclust'] = adata.obs['mclust'].astype('category')\n",
    "    return adata\n",
    "\n",
    "def flip_coords(ads):\n",
    "    for ad in ads:\n",
    "        ad.obsm['spatial'] = -1 * ad.obsm['spatial']\n",
    "        ad.obsm['spatial'] = ad.obsm['spatial'][:, ::-1]\n",
    "\n",
    "def reorder(ad1, ad2):\n",
    "    shared_barcodes = ad1.obs_names.intersection(ad2.obs_names)\n",
    "    ad1 = ad1[shared_barcodes].copy()\n",
    "    ad2 = ad2[shared_barcodes].copy()\n",
    "    return ad1, ad2\n",
    "\n",
    "def load_peak_expr(_dir):\n",
    "    data = sio.mmread(join(_dir, 'data.mtx'))\n",
    "    cname = pd.read_csv(join(_dir, 'barcode.csv'), index_col=0)['x'].to_list()\n",
    "    feat = pd.read_csv(join(_dir, 'feat.csv'), index_col=0)['x'].to_list()\n",
    "    ad = sc.AnnData(sps.csr_matrix(data.T))\n",
    "    ad.obs_names = cname\n",
    "    ad.var_names = feat\n",
    "    return ad"
   ]
  },
  {
   "cell_type": "code",
   "execution_count": 3,
   "id": "b032116d-2ac3-4d8f-a11e-d0f2c0a9f8ca",
   "metadata": {},
   "outputs": [],
   "source": [
    "def set_col2cat(ad, cols=[]):\n",
    "    for col in cols:\n",
    "        ad.obs[col] = ad.obs[col].astype('category')\n",
    "\n",
    "def unify_colors(queries, color_key, ref_color_dict):\n",
    "    for q in queries:\n",
    "        q.obs[color_key] = q.obs[color_key].astype('category')\n",
    "        q.uns[f'{color_key}_colors'] = [ref_color_dict[_] for _ in q.obs[color_key].cat.categories]\n",
    "    return queries\n",
    "\n",
    "def subset_ad(ad, subset_index):\n",
    "    ad = ad[subset_index].copy()\n",
    "    return ad"
   ]
  },
  {
   "cell_type": "markdown",
   "id": "98ec56f7-48ef-4d0b-8612-9f645149eb75",
   "metadata": {},
   "source": [
    "### Training and running"
   ]
  },
  {
   "cell_type": "code",
   "execution_count": 4,
   "id": "53ef4fc0-4bc1-44de-9f71-e19dbfbdc8c5",
   "metadata": {},
   "outputs": [],
   "source": [
    "sys.path.insert(0, './resources')\n",
    "import utils\n",
    "import scipy.io as sio"
   ]
  },
  {
   "cell_type": "code",
   "execution_count": 5,
   "id": "1670e9f5-56e7-443c-8398-739c6b077833",
   "metadata": {},
   "outputs": [],
   "source": [
    "out_dir = './cache/MB_RNA+H3K27ac'\n",
    "os.makedirs(out_dir, exist_ok=True)\n",
    "## best setting for simulation experiments\n",
    "# n_genes = 10000\n",
    "# x2u_h_depth = 2\n",
    "# x2u_h_dim = 512 \n",
    "# u2x_h_depth = 1\n",
    "# du_h_depth = 2\n",
    "# dropout = 0.2\n",
    "# lam_data = 1.0\n",
    "# lam_kl = 1.0  \n",
    "# lam_align = 2.0   \n",
    "# lam_cross = 2.0 \n",
    "# lam_cos = 1.0 \n",
    "# normalize_u = True\n",
    "# random_seed = 5\n",
    "# latent_dim = 50\n",
    "# u2x_h_dim = 256\n",
    "# du_h_dim  = u2x_h_dim\n",
    "# du_h_depth = 2\n",
    "\n",
    "## multiome setting\n",
    "n_genes = 10000\n",
    "latent_dim = 50\n",
    "x2u_h_depth = 2\n",
    "x2u_h_dim = 512\n",
    "u2x_h_depth = 1\n",
    "u2x_h_dim = 256\n",
    "du_h_depth = 1\n",
    "du_h_dim = 256\n",
    "dropout = 0.2\n",
    "lam_data = 1.0\n",
    "lam_kl = 0.3\n",
    "lam_align = 0.02\n",
    "lam_cross = 1.0\n",
    "lam_cos = 0.02\n",
    "normalize_u = True\n",
    "random_seed = 2\n",
    "\n",
    "max_epochs1 = 400\n",
    "max_epochs2 = 50"
   ]
  },
  {
   "cell_type": "code",
   "execution_count": 6,
   "id": "483008e2-611d-483d-8c83-9907445d3350",
   "metadata": {},
   "outputs": [],
   "source": [
    "data_dir = '/disco_500t/xuhua/data/real_mosaic_cases/mouse_brain_rna+H3K27ac/rna+atac'\n",
    "\n",
    "df_rep1_rna = pd.read_csv(join(data_dir, 'GSM6204635_MouseBrain_20um_H3K27ac_matrix.tsv'), sep='\\t')\n",
    "df_rep1_spatial = pd.read_csv(join(data_dir, 'GSM6204621_spatial/tissue_positions_list.csv'), header=None, index_col=0)\n",
    "ad_rep1_rna = sc.AnnData(df_rep1_rna.T, obsm={'spatial': df_rep1_spatial.loc[df_rep1_rna.columns, [2, 3]].values})\n",
    "ad_rep1_rna.obs['src'] = ['s1']*ad_rep1_rna.n_obs\n",
    "\n",
    "ad_rep1_atac = load_peak_expr(join(data_dir, 'GSM6204621_peak_data'))\n",
    "ad_rep1_atac.obs['src'] = ['s1']*ad_rep1_atac.n_obs\n",
    "ad_rep1_atac.obsm['spatial'] = df_rep1_spatial.loc[ad_rep1_atac.obs_names, [2, 3]].values\n",
    "ad_rep1_rna, ad_rep1_atac = reorder(ad_rep1_rna, ad_rep1_atac)\n",
    "\n",
    "df_rep2_rna = pd.read_csv(join(data_dir, 'GSM6753042_MouseBrain_20um_repH3K27ac_matrix.tsv'), sep='\\t')\n",
    "df_rep2_spatial = pd.read_csv(join(data_dir, 'GSM6753042_spatial/tissue_positions_list.csv'), header=None, index_col=0)\n",
    "ad_rep2_rna = sc.AnnData(df_rep2_rna.T, obsm={'spatial': df_rep2_spatial.loc[df_rep2_rna.columns, [2, 3]].values})\n",
    "ad_rep2_rna.obs['src'] = ['s3']*ad_rep2_rna.n_obs\n",
    "\n",
    "ad_rep2_atac = load_peak_expr(join(data_dir, 'GSM6753042_peak_data'))\n",
    "ad_rep2_atac.obs['src'] = ['s3']*ad_rep2_atac.n_obs\n",
    "ad_rep2_atac.obsm['spatial'] = df_rep2_spatial.loc[ad_rep2_atac.obs_names, [2, 3]].values\n",
    "ad_rep2_rna, ad_rep2_atac = reorder(ad_rep2_rna, ad_rep2_atac)\n",
    "\n",
    "df_rna = pd.read_csv('/disco_500t/xuhua/data/real_mosaic_cases/mouse_brain_rna+atac/rna+atac/GSM6204636_MouseBrain_20um_matrix.tsv', sep='\\t')\n",
    "df_rna_spatial_pos = pd.read_csv('/disco_500t/xuhua/data/real_mosaic_cases/mouse_brain_rna+atac/rna+atac/GSM6204623_MouseBrain_20um_spatial_rna_part/tissue_positions_list.csv', header=None, index_col=0)\n",
    "ad_rna = sc.AnnData(df_rna.T, obsm={'spatial': df_rna_spatial_pos.loc[df_rna.columns, [2, 3]].values})\n",
    "ad_rna.obs['src'] = ['s2']*ad_rna.n_obs\n",
    "\n",
    "shared_gene = ad_rep1_rna.var_names.intersection(ad_rna.var_names)\n",
    "ad_rep1_rna = ad_rep1_rna[:, shared_gene].copy()\n",
    "ad_rna = ad_rna[:, shared_gene].copy()\n",
    "\n",
    "shared_peak = ad_rep1_atac.var_names.intersection(ad_rep2_atac.var_names)\n",
    "ad_rep1_atac = ad_rep1_atac[:, shared_peak].copy()\n",
    "ad_rep2_atac = ad_rep2_atac[:, shared_peak].copy()\n",
    "\n",
    "ad_rep1_rna.obs_names = [f's1-{x}' for x in ad_rep1_rna.obs_names]\n",
    "ad_rep1_atac.obs_names = [f's1-{x}' for x in ad_rep1_atac.obs_names]\n",
    "ad_rep2_rna.obs_names = [f's3-{x}' for x in ad_rep2_rna.obs_names]\n",
    "ad_rep2_atac.obs_names = [f's3-{x}' for x in ad_rep2_atac.obs_names]\n",
    "ad_rna.obs_names = [f's2-{x}' for x in ad_rna.obs_names]\n",
    "\n",
    "ad_rep1_rna.obsm['spatial'][:, 0] = -1 * ad_rep1_rna.obsm['spatial'][:, 0]\n",
    "ad_rep2_rna.obsm['spatial'] = -1 * ad_rep2_rna.obsm['spatial']\n",
    "ad_rna.obsm['spatial'][:, 0] = -1 * ad_rna.obsm['spatial'][:, 0]\n",
    "ad_rep1_atac.obsm['spatial'][:, 0] = -1 * ad_rep1_atac.obsm['spatial'][:, 0]\n",
    "ad_rep2_atac.obsm['spatial'] = -1 * ad_rep2_atac.obsm['spatial']"
   ]
  },
  {
   "cell_type": "code",
   "execution_count": 7,
   "id": "e9574153-be4c-4fcb-b55b-f40d7d4d9dab",
   "metadata": {},
   "outputs": [],
   "source": [
    "ad_mult_rna = ad_rep1_rna\n",
    "ad_mult_atac = ad_rep1_atac\n",
    "ad_atac = ad_rep2_atac"
   ]
  },
  {
   "cell_type": "code",
   "execution_count": 8,
   "id": "5307794b-6c91-4076-baa0-809c0f72502c",
   "metadata": {},
   "outputs": [],
   "source": [
    "ad_rna_all = sc.concat([ad_mult_rna, ad_rna])\n",
    "ad_atac_all = sc.concat([ad_mult_atac, ad_atac])\n",
    "\n",
    "sc.pp.highly_variable_genes(ad_rna_all, flavor='seurat_v3', n_top_genes=10000, batch_key='src')\n",
    "hvg_names = ad_rna_all.var.query('highly_variable').index.to_numpy()\n",
    "\n",
    "sc.pp.highly_variable_genes(ad_atac_all, flavor='seurat_v3', n_top_genes=100000, batch_key='src')\n",
    "hvp_names = ad_atac_all.var.query('highly_variable').index.to_numpy()"
   ]
  },
  {
   "cell_type": "code",
   "execution_count": 9,
   "id": "9d08e0d5-c172-4496-a5b1-ba7456098398",
   "metadata": {},
   "outputs": [],
   "source": [
    "ad_mult_rna = ad_mult_rna[:, hvg_names].copy()\n",
    "ad_rna = ad_rna[:, hvg_names].copy()\n",
    "ad_mult_atac = ad_mult_atac[:, hvp_names].copy()\n",
    "ad_atac = ad_atac[:, hvp_names].copy()"
   ]
  },
  {
   "cell_type": "code",
   "execution_count": 10,
   "id": "fab5471c-fda8-47f7-b37b-ccd068f22836",
   "metadata": {
    "scrolled": true
   },
   "outputs": [
    {
     "name": "stdout",
     "output_type": "stream",
     "text": [
      "Reading `h5ad` files...\n",
      "Preprocessing GEX...\n",
      "Preprocessing ATAC...\n",
      "Building model...\n",
      "[INFO] autodevice: Using GPU 2 as computation device.\n",
      "Compiling model...\n",
      "Training model...\n",
      "[INFO] SCCLUEModel: Setting `align_burnin` = 358\n",
      "[INFO] SCCLUEModel: Setting `patience` = 269\n",
      "[INFO] SCCLUEModel: Setting `reduce_lr_patience` = 90\n",
      "[INFO] SCCLUETrainer: Using training directory: \"/tmp/GLUETMP6_xr9xz5\"\n",
      "[INFO] SCCLUETrainer: [Epoch 10] train={'dsc_loss': 0.668, 'gen_loss': 1.088, 'cross_loss': 0.545, 'cos_loss': 0.271, 'x_gex_nll': 0.383, 'x_gex_kl': 0.016, 'x_gex_elbo': 0.388, 'x_other_nll': 0.161, 'x_other_kl': 0.007, 'x_other_elbo': 0.163}, val={'dsc_loss': 0.672, 'gen_loss': 1.118, 'cross_loss': 0.559, 'cos_loss': 0.282, 'x_gex_nll': 0.388, 'x_gex_kl': 0.013, 'x_gex_elbo': 0.392, 'x_other_nll': 0.173, 'x_other_kl': 0.006, 'x_other_elbo': 0.175}, 0.8s elapsed\n",
      "[INFO] SCCLUETrainer: [Epoch 20] train={'dsc_loss': 0.621, 'gen_loss': 0.923, 'cross_loss': 0.462, 'cos_loss': 0.229, 'x_gex_nll': 0.316, 'x_gex_kl': 0.02, 'x_gex_elbo': 0.322, 'x_other_nll': 0.143, 'x_other_kl': 0.008, 'x_other_elbo': 0.146}, val={'dsc_loss': 0.653, 'gen_loss': 0.987, 'cross_loss': 0.492, 'cos_loss': 0.247, 'x_gex_nll': 0.332, 'x_gex_kl': 0.017, 'x_gex_elbo': 0.337, 'x_other_nll': 0.164, 'x_other_kl': 0.007, 'x_other_elbo': 0.166}, 0.8s elapsed\n",
      "[INFO] SCCLUETrainer: [Epoch 30] train={'dsc_loss': 0.618, 'gen_loss': 0.819, 'cross_loss': 0.411, 'cos_loss': 0.181, 'x_gex_nll': 0.275, 'x_gex_kl': 0.021, 'x_gex_elbo': 0.282, 'x_other_nll': 0.133, 'x_other_kl': 0.008, 'x_other_elbo': 0.135}, val={'dsc_loss': 0.635, 'gen_loss': 0.902, 'cross_loss': 0.448, 'cos_loss': 0.207, 'x_gex_nll': 0.298, 'x_gex_kl': 0.019, 'x_gex_elbo': 0.304, 'x_other_nll': 0.157, 'x_other_kl': 0.008, 'x_other_elbo': 0.159}, 0.8s elapsed\n",
      "[INFO] SCCLUETrainer: [Epoch 40] train={'dsc_loss': 0.635, 'gen_loss': 0.752, 'cross_loss': 0.378, 'cos_loss': 0.163, 'x_gex_nll': 0.251, 'x_gex_kl': 0.021, 'x_gex_elbo': 0.257, 'x_other_nll': 0.124, 'x_other_kl': 0.008, 'x_other_elbo': 0.127}, val={'dsc_loss': 0.635, 'gen_loss': 0.845, 'cross_loss': 0.42, 'cos_loss': 0.202, 'x_gex_nll': 0.276, 'x_gex_kl': 0.019, 'x_gex_elbo': 0.282, 'x_other_nll': 0.15, 'x_other_kl': 0.008, 'x_other_elbo': 0.152}, 0.7s elapsed\n",
      "[INFO] SCCLUETrainer: [Epoch 50] train={'dsc_loss': 0.635, 'gen_loss': 0.706, 'cross_loss': 0.355, 'cos_loss': 0.159, 'x_gex_nll': 0.235, 'x_gex_kl': 0.02, 'x_gex_elbo': 0.241, 'x_other_nll': 0.117, 'x_other_kl': 0.008, 'x_other_elbo': 0.12}, val={'dsc_loss': 0.654, 'gen_loss': 0.805, 'cross_loss': 0.4, 'cos_loss': 0.21, 'x_gex_nll': 0.261, 'x_gex_kl': 0.019, 'x_gex_elbo': 0.267, 'x_other_nll': 0.145, 'x_other_kl': 0.008, 'x_other_elbo': 0.147}, 0.7s elapsed\n",
      "[INFO] SCCLUETrainer: [Epoch 60] train={'dsc_loss': 0.653, 'gen_loss': 0.675, 'cross_loss': 0.339, 'cos_loss': 0.158, 'x_gex_nll': 0.225, 'x_gex_kl': 0.02, 'x_gex_elbo': 0.231, 'x_other_nll': 0.112, 'x_other_kl': 0.008, 'x_other_elbo': 0.114}, val={'dsc_loss': 0.649, 'gen_loss': 0.782, 'cross_loss': 0.388, 'cos_loss': 0.221, 'x_gex_nll': 0.253, 'x_gex_kl': 0.019, 'x_gex_elbo': 0.259, 'x_other_nll': 0.141, 'x_other_kl': 0.008, 'x_other_elbo': 0.144}, 0.7s elapsed\n",
      "[INFO] SCCLUETrainer: [Epoch 70] train={'dsc_loss': 0.648, 'gen_loss': 0.653, 'cross_loss': 0.329, 'cos_loss': 0.154, 'x_gex_nll': 0.219, 'x_gex_kl': 0.02, 'x_gex_elbo': 0.225, 'x_other_nll': 0.107, 'x_other_kl': 0.008, 'x_other_elbo': 0.11}, val={'dsc_loss': 0.641, 'gen_loss': 0.767, 'cross_loss': 0.38, 'cos_loss': 0.218, 'x_gex_nll': 0.248, 'x_gex_kl': 0.019, 'x_gex_elbo': 0.254, 'x_other_nll': 0.139, 'x_other_kl': 0.008, 'x_other_elbo': 0.142}, 0.7s elapsed\n",
      "[INFO] SCCLUETrainer: [Epoch 80] train={'dsc_loss': 0.655, 'gen_loss': 0.637, 'cross_loss': 0.32, 'cos_loss': 0.152, 'x_gex_nll': 0.214, 'x_gex_kl': 0.02, 'x_gex_elbo': 0.22, 'x_other_nll': 0.104, 'x_other_kl': 0.008, 'x_other_elbo': 0.107}, val={'dsc_loss': 0.657, 'gen_loss': 0.753, 'cross_loss': 0.373, 'cos_loss': 0.225, 'x_gex_nll': 0.243, 'x_gex_kl': 0.019, 'x_gex_elbo': 0.249, 'x_other_nll': 0.137, 'x_other_kl': 0.008, 'x_other_elbo': 0.14}, 0.9s elapsed\n",
      "[INFO] SCCLUETrainer: [Epoch 90] train={'dsc_loss': 0.649, 'gen_loss': 0.628, 'cross_loss': 0.316, 'cos_loss': 0.15, 'x_gex_nll': 0.211, 'x_gex_kl': 0.02, 'x_gex_elbo': 0.217, 'x_other_nll': 0.102, 'x_other_kl': 0.008, 'x_other_elbo': 0.105}, val={'dsc_loss': 0.642, 'gen_loss': 0.75, 'cross_loss': 0.371, 'cos_loss': 0.227, 'x_gex_nll': 0.243, 'x_gex_kl': 0.019, 'x_gex_elbo': 0.248, 'x_other_nll': 0.136, 'x_other_kl': 0.008, 'x_other_elbo': 0.139}, 0.8s elapsed\n",
      "[INFO] SCCLUETrainer: [Epoch 100] train={'dsc_loss': 0.657, 'gen_loss': 0.622, 'cross_loss': 0.313, 'cos_loss': 0.148, 'x_gex_nll': 0.21, 'x_gex_kl': 0.02, 'x_gex_elbo': 0.215, 'x_other_nll': 0.101, 'x_other_kl': 0.008, 'x_other_elbo': 0.103}, val={'dsc_loss': 0.652, 'gen_loss': 0.751, 'cross_loss': 0.372, 'cos_loss': 0.232, 'x_gex_nll': 0.243, 'x_gex_kl': 0.019, 'x_gex_elbo': 0.249, 'x_other_nll': 0.137, 'x_other_kl': 0.008, 'x_other_elbo': 0.139}, 0.7s elapsed\n",
      "[INFO] SCCLUETrainer: [Epoch 110] train={'dsc_loss': 0.651, 'gen_loss': 0.618, 'cross_loss': 0.311, 'cos_loss': 0.15, 'x_gex_nll': 0.208, 'x_gex_kl': 0.02, 'x_gex_elbo': 0.214, 'x_other_nll': 0.1, 'x_other_kl': 0.008, 'x_other_elbo': 0.103}, val={'dsc_loss': 0.64, 'gen_loss': 0.753, 'cross_loss': 0.372, 'cos_loss': 0.236, 'x_gex_nll': 0.244, 'x_gex_kl': 0.019, 'x_gex_elbo': 0.249, 'x_other_nll': 0.137, 'x_other_kl': 0.008, 'x_other_elbo': 0.139}, 0.8s elapsed\n",
      "[INFO] SCCLUETrainer: [Epoch 120] train={'dsc_loss': 0.658, 'gen_loss': 0.617, 'cross_loss': 0.311, 'cos_loss': 0.145, 'x_gex_nll': 0.208, 'x_gex_kl': 0.02, 'x_gex_elbo': 0.214, 'x_other_nll': 0.1, 'x_other_kl': 0.008, 'x_other_elbo': 0.102}, val={'dsc_loss': 0.639, 'gen_loss': 0.75, 'cross_loss': 0.37, 'cos_loss': 0.237, 'x_gex_nll': 0.243, 'x_gex_kl': 0.019, 'x_gex_elbo': 0.249, 'x_other_nll': 0.136, 'x_other_kl': 0.008, 'x_other_elbo': 0.139}, 0.8s elapsed\n",
      "[INFO] SCCLUETrainer: [Epoch 130] train={'dsc_loss': 0.656, 'gen_loss': 0.615, 'cross_loss': 0.309, 'cos_loss': 0.147, 'x_gex_nll': 0.208, 'x_gex_kl': 0.02, 'x_gex_elbo': 0.214, 'x_other_nll': 0.099, 'x_other_kl': 0.008, 'x_other_elbo': 0.102}, val={'dsc_loss': 0.653, 'gen_loss': 0.753, 'cross_loss': 0.373, 'cos_loss': 0.241, 'x_gex_nll': 0.244, 'x_gex_kl': 0.019, 'x_gex_elbo': 0.25, 'x_other_nll': 0.137, 'x_other_kl': 0.008, 'x_other_elbo': 0.139}, 0.8s elapsed\n",
      "[INFO] SCCLUETrainer: [Epoch 140] train={'dsc_loss': 0.663, 'gen_loss': 0.613, 'cross_loss': 0.309, 'cos_loss': 0.147, 'x_gex_nll': 0.207, 'x_gex_kl': 0.02, 'x_gex_elbo': 0.213, 'x_other_nll': 0.1, 'x_other_kl': 0.008, 'x_other_elbo': 0.102}, val={'dsc_loss': 0.667, 'gen_loss': 0.756, 'cross_loss': 0.374, 'cos_loss': 0.247, 'x_gex_nll': 0.246, 'x_gex_kl': 0.019, 'x_gex_elbo': 0.251, 'x_other_nll': 0.137, 'x_other_kl': 0.008, 'x_other_elbo': 0.139}, 0.7s elapsed\n",
      "[INFO] SCCLUETrainer: [Epoch 150] train={'dsc_loss': 0.656, 'gen_loss': 0.612, 'cross_loss': 0.308, 'cos_loss': 0.146, 'x_gex_nll': 0.207, 'x_gex_kl': 0.02, 'x_gex_elbo': 0.213, 'x_other_nll': 0.099, 'x_other_kl': 0.008, 'x_other_elbo': 0.101}, val={'dsc_loss': 0.656, 'gen_loss': 0.756, 'cross_loss': 0.374, 'cos_loss': 0.249, 'x_gex_nll': 0.245, 'x_gex_kl': 0.019, 'x_gex_elbo': 0.251, 'x_other_nll': 0.137, 'x_other_kl': 0.008, 'x_other_elbo': 0.139}, 0.8s elapsed\n",
      "[INFO] SCCLUETrainer: [Epoch 160] train={'dsc_loss': 0.659, 'gen_loss': 0.611, 'cross_loss': 0.308, 'cos_loss': 0.147, 'x_gex_nll': 0.207, 'x_gex_kl': 0.02, 'x_gex_elbo': 0.213, 'x_other_nll': 0.099, 'x_other_kl': 0.008, 'x_other_elbo': 0.101}, val={'dsc_loss': 0.637, 'gen_loss': 0.759, 'cross_loss': 0.375, 'cos_loss': 0.252, 'x_gex_nll': 0.246, 'x_gex_kl': 0.019, 'x_gex_elbo': 0.252, 'x_other_nll': 0.137, 'x_other_kl': 0.008, 'x_other_elbo': 0.14}, 0.8s elapsed\n",
      "[INFO] SCCLUETrainer: [Epoch 170] train={'dsc_loss': 0.667, 'gen_loss': 0.61, 'cross_loss': 0.307, 'cos_loss': 0.146, 'x_gex_nll': 0.207, 'x_gex_kl': 0.02, 'x_gex_elbo': 0.213, 'x_other_nll': 0.098, 'x_other_kl': 0.008, 'x_other_elbo': 0.101}, val={'dsc_loss': 0.64, 'gen_loss': 0.759, 'cross_loss': 0.376, 'cos_loss': 0.26, 'x_gex_nll': 0.246, 'x_gex_kl': 0.019, 'x_gex_elbo': 0.252, 'x_other_nll': 0.137, 'x_other_kl': 0.008, 'x_other_elbo': 0.14}, 0.8s elapsed\n",
      "[INFO] SCCLUETrainer: [Epoch 180] train={'dsc_loss': 0.665, 'gen_loss': 0.609, 'cross_loss': 0.307, 'cos_loss': 0.148, 'x_gex_nll': 0.206, 'x_gex_kl': 0.02, 'x_gex_elbo': 0.212, 'x_other_nll': 0.098, 'x_other_kl': 0.008, 'x_other_elbo': 0.101}, val={'dsc_loss': 0.639, 'gen_loss': 0.762, 'cross_loss': 0.377, 'cos_loss': 0.268, 'x_gex_nll': 0.247, 'x_gex_kl': 0.019, 'x_gex_elbo': 0.252, 'x_other_nll': 0.138, 'x_other_kl': 0.008, 'x_other_elbo': 0.14}, 0.7s elapsed\n",
      "[INFO] SCCLUETrainer: [Epoch 190] train={'dsc_loss': 0.666, 'gen_loss': 0.608, 'cross_loss': 0.306, 'cos_loss': 0.148, 'x_gex_nll': 0.206, 'x_gex_kl': 0.02, 'x_gex_elbo': 0.212, 'x_other_nll': 0.098, 'x_other_kl': 0.008, 'x_other_elbo': 0.1}, val={'dsc_loss': 0.643, 'gen_loss': 0.764, 'cross_loss': 0.378, 'cos_loss': 0.27, 'x_gex_nll': 0.247, 'x_gex_kl': 0.019, 'x_gex_elbo': 0.253, 'x_other_nll': 0.138, 'x_other_kl': 0.008, 'x_other_elbo': 0.141}, 0.8s elapsed\n",
      "[INFO] SCCLUETrainer: [Epoch 200] train={'dsc_loss': 0.665, 'gen_loss': 0.607, 'cross_loss': 0.306, 'cos_loss': 0.146, 'x_gex_nll': 0.206, 'x_gex_kl': 0.02, 'x_gex_elbo': 0.212, 'x_other_nll': 0.098, 'x_other_kl': 0.008, 'x_other_elbo': 0.1}, val={'dsc_loss': 0.654, 'gen_loss': 0.762, 'cross_loss': 0.377, 'cos_loss': 0.269, 'x_gex_nll': 0.247, 'x_gex_kl': 0.019, 'x_gex_elbo': 0.253, 'x_other_nll': 0.138, 'x_other_kl': 0.008, 'x_other_elbo': 0.14}, 0.8s elapsed\n",
      "[INFO] SCCLUETrainer: [Epoch 210] train={'dsc_loss': 0.666, 'gen_loss': 0.606, 'cross_loss': 0.305, 'cos_loss': 0.145, 'x_gex_nll': 0.206, 'x_gex_kl': 0.02, 'x_gex_elbo': 0.211, 'x_other_nll': 0.098, 'x_other_kl': 0.008, 'x_other_elbo': 0.1}, val={'dsc_loss': 0.661, 'gen_loss': 0.767, 'cross_loss': 0.38, 'cos_loss': 0.266, 'x_gex_nll': 0.248, 'x_gex_kl': 0.019, 'x_gex_elbo': 0.254, 'x_other_nll': 0.139, 'x_other_kl': 0.008, 'x_other_elbo': 0.141}, 0.8s elapsed\n",
      "[INFO] SCCLUETrainer: [Epoch 220] train={'dsc_loss': 0.672, 'gen_loss': 0.606, 'cross_loss': 0.306, 'cos_loss': 0.144, 'x_gex_nll': 0.205, 'x_gex_kl': 0.02, 'x_gex_elbo': 0.211, 'x_other_nll': 0.098, 'x_other_kl': 0.008, 'x_other_elbo': 0.1}, val={'dsc_loss': 0.661, 'gen_loss': 0.767, 'cross_loss': 0.38, 'cos_loss': 0.266, 'x_gex_nll': 0.248, 'x_gex_kl': 0.019, 'x_gex_elbo': 0.254, 'x_other_nll': 0.139, 'x_other_kl': 0.008, 'x_other_elbo': 0.142}, 0.8s elapsed\n",
      "[INFO] SCCLUETrainer: [Epoch 230] train={'dsc_loss': 0.667, 'gen_loss': 0.606, 'cross_loss': 0.305, 'cos_loss': 0.146, 'x_gex_nll': 0.205, 'x_gex_kl': 0.02, 'x_gex_elbo': 0.211, 'x_other_nll': 0.097, 'x_other_kl': 0.008, 'x_other_elbo': 0.1}, val={'dsc_loss': 0.648, 'gen_loss': 0.763, 'cross_loss': 0.377, 'cos_loss': 0.272, 'x_gex_nll': 0.247, 'x_gex_kl': 0.019, 'x_gex_elbo': 0.253, 'x_other_nll': 0.138, 'x_other_kl': 0.008, 'x_other_elbo': 0.14}, 0.8s elapsed\n",
      "[INFO] SCCLUETrainer: [Epoch 240] train={'dsc_loss': 0.657, 'gen_loss': 0.604, 'cross_loss': 0.305, 'cos_loss': 0.143, 'x_gex_nll': 0.205, 'x_gex_kl': 0.02, 'x_gex_elbo': 0.211, 'x_other_nll': 0.097, 'x_other_kl': 0.008, 'x_other_elbo': 0.099}, val={'dsc_loss': 0.644, 'gen_loss': 0.767, 'cross_loss': 0.38, 'cos_loss': 0.273, 'x_gex_nll': 0.249, 'x_gex_kl': 0.019, 'x_gex_elbo': 0.254, 'x_other_nll': 0.138, 'x_other_kl': 0.008, 'x_other_elbo': 0.141}, 0.8s elapsed\n",
      "[INFO] SCCLUETrainer: [Epoch 250] train={'dsc_loss': 0.669, 'gen_loss': 0.604, 'cross_loss': 0.304, 'cos_loss': 0.144, 'x_gex_nll': 0.205, 'x_gex_kl': 0.02, 'x_gex_elbo': 0.211, 'x_other_nll': 0.097, 'x_other_kl': 0.008, 'x_other_elbo': 0.099}, val={'dsc_loss': 0.639, 'gen_loss': 0.767, 'cross_loss': 0.379, 'cos_loss': 0.274, 'x_gex_nll': 0.248, 'x_gex_kl': 0.019, 'x_gex_elbo': 0.254, 'x_other_nll': 0.139, 'x_other_kl': 0.008, 'x_other_elbo': 0.141}, 0.8s elapsed\n",
      "[INFO] SCCLUETrainer: [Epoch 260] train={'dsc_loss': 0.668, 'gen_loss': 0.604, 'cross_loss': 0.304, 'cos_loss': 0.14, 'x_gex_nll': 0.205, 'x_gex_kl': 0.02, 'x_gex_elbo': 0.211, 'x_other_nll': 0.097, 'x_other_kl': 0.008, 'x_other_elbo': 0.099}, val={'dsc_loss': 0.628, 'gen_loss': 0.768, 'cross_loss': 0.379, 'cos_loss': 0.27, 'x_gex_nll': 0.249, 'x_gex_kl': 0.019, 'x_gex_elbo': 0.254, 'x_other_nll': 0.139, 'x_other_kl': 0.008, 'x_other_elbo': 0.141}, 0.8s elapsed\n",
      "[INFO] SCCLUETrainer: [Epoch 270] train={'dsc_loss': 0.663, 'gen_loss': 0.603, 'cross_loss': 0.304, 'cos_loss': 0.14, 'x_gex_nll': 0.205, 'x_gex_kl': 0.02, 'x_gex_elbo': 0.21, 'x_other_nll': 0.096, 'x_other_kl': 0.008, 'x_other_elbo': 0.099}, val={'dsc_loss': 0.633, 'gen_loss': 0.769, 'cross_loss': 0.38, 'cos_loss': 0.273, 'x_gex_nll': 0.249, 'x_gex_kl': 0.019, 'x_gex_elbo': 0.255, 'x_other_nll': 0.139, 'x_other_kl': 0.008, 'x_other_elbo': 0.141}, 0.8s elapsed\n",
      "[INFO] SCCLUETrainer: [Epoch 280] train={'dsc_loss': 0.653, 'gen_loss': 0.602, 'cross_loss': 0.303, 'cos_loss': 0.14, 'x_gex_nll': 0.205, 'x_gex_kl': 0.02, 'x_gex_elbo': 0.21, 'x_other_nll': 0.096, 'x_other_kl': 0.008, 'x_other_elbo': 0.099}, val={'dsc_loss': 0.629, 'gen_loss': 0.767, 'cross_loss': 0.379, 'cos_loss': 0.271, 'x_gex_nll': 0.248, 'x_gex_kl': 0.019, 'x_gex_elbo': 0.254, 'x_other_nll': 0.139, 'x_other_kl': 0.008, 'x_other_elbo': 0.142}, 0.8s elapsed\n",
      "[INFO] SCCLUETrainer: [Epoch 290] train={'dsc_loss': 0.657, 'gen_loss': 0.603, 'cross_loss': 0.304, 'cos_loss': 0.141, 'x_gex_nll': 0.205, 'x_gex_kl': 0.02, 'x_gex_elbo': 0.21, 'x_other_nll': 0.097, 'x_other_kl': 0.008, 'x_other_elbo': 0.099}, val={'dsc_loss': 0.625, 'gen_loss': 0.769, 'cross_loss': 0.38, 'cos_loss': 0.274, 'x_gex_nll': 0.248, 'x_gex_kl': 0.019, 'x_gex_elbo': 0.254, 'x_other_nll': 0.139, 'x_other_kl': 0.008, 'x_other_elbo': 0.142}, 0.8s elapsed\n",
      "[INFO] SCCLUETrainer: [Epoch 300] train={'dsc_loss': 0.66, 'gen_loss': 0.602, 'cross_loss': 0.303, 'cos_loss': 0.14, 'x_gex_nll': 0.205, 'x_gex_kl': 0.02, 'x_gex_elbo': 0.21, 'x_other_nll': 0.096, 'x_other_kl': 0.008, 'x_other_elbo': 0.099}, val={'dsc_loss': 0.628, 'gen_loss': 0.769, 'cross_loss': 0.38, 'cos_loss': 0.281, 'x_gex_nll': 0.248, 'x_gex_kl': 0.019, 'x_gex_elbo': 0.254, 'x_other_nll': 0.14, 'x_other_kl': 0.008, 'x_other_elbo': 0.142}, 0.8s elapsed\n",
      "[INFO] SCCLUETrainer: [Epoch 310] train={'dsc_loss': 0.666, 'gen_loss': 0.601, 'cross_loss': 0.303, 'cos_loss': 0.14, 'x_gex_nll': 0.204, 'x_gex_kl': 0.02, 'x_gex_elbo': 0.21, 'x_other_nll': 0.096, 'x_other_kl': 0.008, 'x_other_elbo': 0.099}, val={'dsc_loss': 0.629, 'gen_loss': 0.77, 'cross_loss': 0.381, 'cos_loss': 0.277, 'x_gex_nll': 0.249, 'x_gex_kl': 0.019, 'x_gex_elbo': 0.255, 'x_other_nll': 0.139, 'x_other_kl': 0.008, 'x_other_elbo': 0.141}, 0.9s elapsed\n",
      "[INFO] SCCLUETrainer: [Epoch 320] train={'dsc_loss': 0.659, 'gen_loss': 0.602, 'cross_loss': 0.303, 'cos_loss': 0.138, 'x_gex_nll': 0.205, 'x_gex_kl': 0.02, 'x_gex_elbo': 0.21, 'x_other_nll': 0.096, 'x_other_kl': 0.008, 'x_other_elbo': 0.099}, val={'dsc_loss': 0.619, 'gen_loss': 0.77, 'cross_loss': 0.381, 'cos_loss': 0.276, 'x_gex_nll': 0.25, 'x_gex_kl': 0.019, 'x_gex_elbo': 0.256, 'x_other_nll': 0.139, 'x_other_kl': 0.008, 'x_other_elbo': 0.141}, 0.8s elapsed\n",
      "[INFO] SCCLUETrainer: [Epoch 330] train={'dsc_loss': 0.66, 'gen_loss': 0.601, 'cross_loss': 0.303, 'cos_loss': 0.14, 'x_gex_nll': 0.204, 'x_gex_kl': 0.02, 'x_gex_elbo': 0.21, 'x_other_nll': 0.096, 'x_other_kl': 0.008, 'x_other_elbo': 0.099}, val={'dsc_loss': 0.614, 'gen_loss': 0.773, 'cross_loss': 0.382, 'cos_loss': 0.283, 'x_gex_nll': 0.25, 'x_gex_kl': 0.019, 'x_gex_elbo': 0.256, 'x_other_nll': 0.14, 'x_other_kl': 0.008, 'x_other_elbo': 0.142}, 0.8s elapsed\n",
      "[INFO] SCCLUETrainer: [Epoch 340] train={'dsc_loss': 0.653, 'gen_loss': 0.601, 'cross_loss': 0.303, 'cos_loss': 0.141, 'x_gex_nll': 0.204, 'x_gex_kl': 0.02, 'x_gex_elbo': 0.21, 'x_other_nll': 0.096, 'x_other_kl': 0.008, 'x_other_elbo': 0.099}, val={'dsc_loss': 0.624, 'gen_loss': 0.769, 'cross_loss': 0.38, 'cos_loss': 0.287, 'x_gex_nll': 0.249, 'x_gex_kl': 0.019, 'x_gex_elbo': 0.255, 'x_other_nll': 0.139, 'x_other_kl': 0.008, 'x_other_elbo': 0.141}, 0.8s elapsed\n",
      "[INFO] SCCLUETrainer: [Epoch 350] train={'dsc_loss': 0.658, 'gen_loss': 0.6, 'cross_loss': 0.302, 'cos_loss': 0.139, 'x_gex_nll': 0.204, 'x_gex_kl': 0.02, 'x_gex_elbo': 0.21, 'x_other_nll': 0.096, 'x_other_kl': 0.008, 'x_other_elbo': 0.098}, val={'dsc_loss': 0.623, 'gen_loss': 0.772, 'cross_loss': 0.382, 'cos_loss': 0.28, 'x_gex_nll': 0.25, 'x_gex_kl': 0.019, 'x_gex_elbo': 0.256, 'x_other_nll': 0.139, 'x_other_kl': 0.008, 'x_other_elbo': 0.141}, 0.8s elapsed\n",
      "[INFO] SCCLUETrainer: [Epoch 360] train={'dsc_loss': 0.659, 'gen_loss': 0.6, 'cross_loss': 0.302, 'cos_loss': 0.136, 'x_gex_nll': 0.204, 'x_gex_kl': 0.02, 'x_gex_elbo': 0.21, 'x_other_nll': 0.096, 'x_other_kl': 0.008, 'x_other_elbo': 0.098}, val={'dsc_loss': 0.647, 'gen_loss': 0.772, 'cross_loss': 0.381, 'cos_loss': 0.274, 'x_gex_nll': 0.25, 'x_gex_kl': 0.019, 'x_gex_elbo': 0.255, 'x_other_nll': 0.14, 'x_other_kl': 0.008, 'x_other_elbo': 0.142}, 0.8s elapsed\n",
      "[INFO] SCCLUETrainer: [Epoch 370] train={'dsc_loss': 0.659, 'gen_loss': 0.599, 'cross_loss': 0.302, 'cos_loss': 0.136, 'x_gex_nll': 0.204, 'x_gex_kl': 0.02, 'x_gex_elbo': 0.21, 'x_other_nll': 0.096, 'x_other_kl': 0.008, 'x_other_elbo': 0.098}, val={'dsc_loss': 0.625, 'gen_loss': 0.773, 'cross_loss': 0.382, 'cos_loss': 0.272, 'x_gex_nll': 0.252, 'x_gex_kl': 0.019, 'x_gex_elbo': 0.257, 'x_other_nll': 0.139, 'x_other_kl': 0.008, 'x_other_elbo': 0.141}, 0.8s elapsed\n",
      "[INFO] SCCLUETrainer: [Epoch 380] train={'dsc_loss': 0.67, 'gen_loss': 0.599, 'cross_loss': 0.302, 'cos_loss': 0.135, 'x_gex_nll': 0.204, 'x_gex_kl': 0.02, 'x_gex_elbo': 0.21, 'x_other_nll': 0.096, 'x_other_kl': 0.008, 'x_other_elbo': 0.098}, val={'dsc_loss': 0.631, 'gen_loss': 0.777, 'cross_loss': 0.384, 'cos_loss': 0.273, 'x_gex_nll': 0.252, 'x_gex_kl': 0.019, 'x_gex_elbo': 0.258, 'x_other_nll': 0.14, 'x_other_kl': 0.008, 'x_other_elbo': 0.143}, 0.8s elapsed\n",
      "[INFO] SCCLUETrainer: [Epoch 390] train={'dsc_loss': 0.654, 'gen_loss': 0.599, 'cross_loss': 0.302, 'cos_loss': 0.133, 'x_gex_nll': 0.204, 'x_gex_kl': 0.02, 'x_gex_elbo': 0.209, 'x_other_nll': 0.096, 'x_other_kl': 0.008, 'x_other_elbo': 0.098}, val={'dsc_loss': 0.609, 'gen_loss': 0.772, 'cross_loss': 0.381, 'cos_loss': 0.271, 'x_gex_nll': 0.25, 'x_gex_kl': 0.019, 'x_gex_elbo': 0.256, 'x_other_nll': 0.14, 'x_other_kl': 0.008, 'x_other_elbo': 0.142}, 0.8s elapsed\n",
      "[INFO] SCCLUETrainer: [Epoch 400] train={'dsc_loss': 0.659, 'gen_loss': 0.598, 'cross_loss': 0.301, 'cos_loss': 0.133, 'x_gex_nll': 0.204, 'x_gex_kl': 0.02, 'x_gex_elbo': 0.21, 'x_other_nll': 0.096, 'x_other_kl': 0.008, 'x_other_elbo': 0.098}, val={'dsc_loss': 0.629, 'gen_loss': 0.771, 'cross_loss': 0.38, 'cos_loss': 0.276, 'x_gex_nll': 0.25, 'x_gex_kl': 0.019, 'x_gex_elbo': 0.256, 'x_other_nll': 0.139, 'x_other_kl': 0.008, 'x_other_elbo': 0.141}, 0.8s elapsed\n",
      "[INFO] EarlyStopping: Restoring checkpoint \"397\"...\n",
      "[INFO] Transferrable: Copied: encoders.0.linear_0.weight\n"
     ]
    },
    {
     "name": "stderr",
     "output_type": "stream",
     "text": [
      "INFO:Transferrable:Copied: encoders.0.linear_0.weight\n"
     ]
    },
    {
     "name": "stdout",
     "output_type": "stream",
     "text": [
      "[INFO] Transferrable: Copied: encoders.0.linear_0.bias\n"
     ]
    },
    {
     "name": "stderr",
     "output_type": "stream",
     "text": [
      "INFO:Transferrable:Copied: encoders.0.linear_0.bias\n"
     ]
    },
    {
     "name": "stdout",
     "output_type": "stream",
     "text": [
      "[INFO] Transferrable: Copied: encoders.0.bn_0.weight\n"
     ]
    },
    {
     "name": "stderr",
     "output_type": "stream",
     "text": [
      "INFO:Transferrable:Copied: encoders.0.bn_0.weight\n"
     ]
    },
    {
     "name": "stdout",
     "output_type": "stream",
     "text": [
      "[INFO] Transferrable: Copied: encoders.0.bn_0.bias\n"
     ]
    },
    {
     "name": "stderr",
     "output_type": "stream",
     "text": [
      "INFO:Transferrable:Copied: encoders.0.bn_0.bias\n"
     ]
    },
    {
     "name": "stdout",
     "output_type": "stream",
     "text": [
      "[INFO] Transferrable: Copied: encoders.0.linear_1.weight\n"
     ]
    },
    {
     "name": "stderr",
     "output_type": "stream",
     "text": [
      "INFO:Transferrable:Copied: encoders.0.linear_1.weight\n"
     ]
    },
    {
     "name": "stdout",
     "output_type": "stream",
     "text": [
      "[INFO] Transferrable: Copied: encoders.0.linear_1.bias\n"
     ]
    },
    {
     "name": "stderr",
     "output_type": "stream",
     "text": [
      "INFO:Transferrable:Copied: encoders.0.linear_1.bias\n"
     ]
    },
    {
     "name": "stdout",
     "output_type": "stream",
     "text": [
      "[INFO] Transferrable: Copied: encoders.0.bn_1.weight\n"
     ]
    },
    {
     "name": "stderr",
     "output_type": "stream",
     "text": [
      "INFO:Transferrable:Copied: encoders.0.bn_1.weight\n"
     ]
    },
    {
     "name": "stdout",
     "output_type": "stream",
     "text": [
      "[INFO] Transferrable: Copied: encoders.0.bn_1.bias\n"
     ]
    },
    {
     "name": "stderr",
     "output_type": "stream",
     "text": [
      "INFO:Transferrable:Copied: encoders.0.bn_1.bias\n"
     ]
    },
    {
     "name": "stdout",
     "output_type": "stream",
     "text": [
      "[INFO] Transferrable: Copied: encoders.0.loc.weight\n"
     ]
    },
    {
     "name": "stderr",
     "output_type": "stream",
     "text": [
      "INFO:Transferrable:Copied: encoders.0.loc.weight\n"
     ]
    },
    {
     "name": "stdout",
     "output_type": "stream",
     "text": [
      "[INFO] Transferrable: Copied: encoders.0.loc.bias\n"
     ]
    },
    {
     "name": "stderr",
     "output_type": "stream",
     "text": [
      "INFO:Transferrable:Copied: encoders.0.loc.bias\n"
     ]
    },
    {
     "name": "stdout",
     "output_type": "stream",
     "text": [
      "[INFO] Transferrable: Copied: encoders.0.std_lin.weight\n"
     ]
    },
    {
     "name": "stderr",
     "output_type": "stream",
     "text": [
      "INFO:Transferrable:Copied: encoders.0.std_lin.weight\n"
     ]
    },
    {
     "name": "stdout",
     "output_type": "stream",
     "text": [
      "[INFO] Transferrable: Copied: encoders.0.std_lin.bias\n"
     ]
    },
    {
     "name": "stderr",
     "output_type": "stream",
     "text": [
      "INFO:Transferrable:Copied: encoders.0.std_lin.bias\n"
     ]
    },
    {
     "name": "stdout",
     "output_type": "stream",
     "text": [
      "[INFO] Transferrable: Copied: encoders.1.linear_0.weight\n"
     ]
    },
    {
     "name": "stderr",
     "output_type": "stream",
     "text": [
      "INFO:Transferrable:Copied: encoders.1.linear_0.weight\n"
     ]
    },
    {
     "name": "stdout",
     "output_type": "stream",
     "text": [
      "[INFO] Transferrable: Copied: encoders.1.linear_0.bias\n"
     ]
    },
    {
     "name": "stderr",
     "output_type": "stream",
     "text": [
      "INFO:Transferrable:Copied: encoders.1.linear_0.bias\n"
     ]
    },
    {
     "name": "stdout",
     "output_type": "stream",
     "text": [
      "[INFO] Transferrable: Copied: encoders.1.bn_0.weight\n"
     ]
    },
    {
     "name": "stderr",
     "output_type": "stream",
     "text": [
      "INFO:Transferrable:Copied: encoders.1.bn_0.weight\n"
     ]
    },
    {
     "name": "stdout",
     "output_type": "stream",
     "text": [
      "[INFO] Transferrable: Copied: encoders.1.bn_0.bias\n"
     ]
    },
    {
     "name": "stderr",
     "output_type": "stream",
     "text": [
      "INFO:Transferrable:Copied: encoders.1.bn_0.bias\n"
     ]
    },
    {
     "name": "stdout",
     "output_type": "stream",
     "text": [
      "[INFO] Transferrable: Copied: encoders.1.linear_1.weight\n"
     ]
    },
    {
     "name": "stderr",
     "output_type": "stream",
     "text": [
      "INFO:Transferrable:Copied: encoders.1.linear_1.weight\n"
     ]
    },
    {
     "name": "stdout",
     "output_type": "stream",
     "text": [
      "[INFO] Transferrable: Copied: encoders.1.linear_1.bias\n"
     ]
    },
    {
     "name": "stderr",
     "output_type": "stream",
     "text": [
      "INFO:Transferrable:Copied: encoders.1.linear_1.bias\n"
     ]
    },
    {
     "name": "stdout",
     "output_type": "stream",
     "text": [
      "[INFO] Transferrable: Copied: encoders.1.bn_1.weight\n"
     ]
    },
    {
     "name": "stderr",
     "output_type": "stream",
     "text": [
      "INFO:Transferrable:Copied: encoders.1.bn_1.weight\n"
     ]
    },
    {
     "name": "stdout",
     "output_type": "stream",
     "text": [
      "[INFO] Transferrable: Copied: encoders.1.bn_1.bias\n"
     ]
    },
    {
     "name": "stderr",
     "output_type": "stream",
     "text": [
      "INFO:Transferrable:Copied: encoders.1.bn_1.bias\n"
     ]
    },
    {
     "name": "stdout",
     "output_type": "stream",
     "text": [
      "[INFO] Transferrable: Copied: encoders.1.loc.weight\n"
     ]
    },
    {
     "name": "stderr",
     "output_type": "stream",
     "text": [
      "INFO:Transferrable:Copied: encoders.1.loc.weight\n"
     ]
    },
    {
     "name": "stdout",
     "output_type": "stream",
     "text": [
      "[INFO] Transferrable: Copied: encoders.1.loc.bias\n"
     ]
    },
    {
     "name": "stderr",
     "output_type": "stream",
     "text": [
      "INFO:Transferrable:Copied: encoders.1.loc.bias\n"
     ]
    },
    {
     "name": "stdout",
     "output_type": "stream",
     "text": [
      "[INFO] Transferrable: Copied: encoders.1.std_lin.weight\n"
     ]
    },
    {
     "name": "stderr",
     "output_type": "stream",
     "text": [
      "INFO:Transferrable:Copied: encoders.1.std_lin.weight\n"
     ]
    },
    {
     "name": "stdout",
     "output_type": "stream",
     "text": [
      "[INFO] Transferrable: Copied: encoders.1.std_lin.bias\n"
     ]
    },
    {
     "name": "stderr",
     "output_type": "stream",
     "text": [
      "INFO:Transferrable:Copied: encoders.1.std_lin.bias\n"
     ]
    },
    {
     "name": "stdout",
     "output_type": "stream",
     "text": [
      "[INFO] Transferrable: Copied: est_l.weight\n"
     ]
    },
    {
     "name": "stderr",
     "output_type": "stream",
     "text": [
      "INFO:Transferrable:Copied: est_l.weight\n"
     ]
    },
    {
     "name": "stdout",
     "output_type": "stream",
     "text": [
      "[INFO] Transferrable: Copied: est_l.bias\n"
     ]
    },
    {
     "name": "stderr",
     "output_type": "stream",
     "text": [
      "INFO:Transferrable:Copied: est_l.bias\n"
     ]
    },
    {
     "name": "stdout",
     "output_type": "stream",
     "text": [
      "[INFO] Transferrable: Copied: encoders.0.bn_0.running_mean\n"
     ]
    },
    {
     "name": "stderr",
     "output_type": "stream",
     "text": [
      "INFO:Transferrable:Copied: encoders.0.bn_0.running_mean\n"
     ]
    },
    {
     "name": "stdout",
     "output_type": "stream",
     "text": [
      "[INFO] Transferrable: Copied: encoders.0.bn_0.running_var\n"
     ]
    },
    {
     "name": "stderr",
     "output_type": "stream",
     "text": [
      "INFO:Transferrable:Copied: encoders.0.bn_0.running_var\n"
     ]
    },
    {
     "name": "stdout",
     "output_type": "stream",
     "text": [
      "[INFO] Transferrable: Copied: encoders.0.bn_0.num_batches_tracked\n"
     ]
    },
    {
     "name": "stderr",
     "output_type": "stream",
     "text": [
      "INFO:Transferrable:Copied: encoders.0.bn_0.num_batches_tracked\n"
     ]
    },
    {
     "name": "stdout",
     "output_type": "stream",
     "text": [
      "[INFO] Transferrable: Copied: encoders.0.bn_1.running_mean\n"
     ]
    },
    {
     "name": "stderr",
     "output_type": "stream",
     "text": [
      "INFO:Transferrable:Copied: encoders.0.bn_1.running_mean\n"
     ]
    },
    {
     "name": "stdout",
     "output_type": "stream",
     "text": [
      "[INFO] Transferrable: Copied: encoders.0.bn_1.running_var\n"
     ]
    },
    {
     "name": "stderr",
     "output_type": "stream",
     "text": [
      "INFO:Transferrable:Copied: encoders.0.bn_1.running_var\n"
     ]
    },
    {
     "name": "stdout",
     "output_type": "stream",
     "text": [
      "[INFO] Transferrable: Copied: encoders.0.bn_1.num_batches_tracked\n"
     ]
    },
    {
     "name": "stderr",
     "output_type": "stream",
     "text": [
      "INFO:Transferrable:Copied: encoders.0.bn_1.num_batches_tracked\n"
     ]
    },
    {
     "name": "stdout",
     "output_type": "stream",
     "text": [
      "[INFO] Transferrable: Copied: encoders.1.bn_0.running_mean\n"
     ]
    },
    {
     "name": "stderr",
     "output_type": "stream",
     "text": [
      "INFO:Transferrable:Copied: encoders.1.bn_0.running_mean\n"
     ]
    },
    {
     "name": "stdout",
     "output_type": "stream",
     "text": [
      "[INFO] Transferrable: Copied: encoders.1.bn_0.running_var\n"
     ]
    },
    {
     "name": "stderr",
     "output_type": "stream",
     "text": [
      "INFO:Transferrable:Copied: encoders.1.bn_0.running_var\n"
     ]
    },
    {
     "name": "stdout",
     "output_type": "stream",
     "text": [
      "[INFO] Transferrable: Copied: encoders.1.bn_0.num_batches_tracked\n"
     ]
    },
    {
     "name": "stderr",
     "output_type": "stream",
     "text": [
      "INFO:Transferrable:Copied: encoders.1.bn_0.num_batches_tracked\n"
     ]
    },
    {
     "name": "stdout",
     "output_type": "stream",
     "text": [
      "[INFO] Transferrable: Copied: encoders.1.bn_1.running_mean\n"
     ]
    },
    {
     "name": "stderr",
     "output_type": "stream",
     "text": [
      "INFO:Transferrable:Copied: encoders.1.bn_1.running_mean\n"
     ]
    },
    {
     "name": "stdout",
     "output_type": "stream",
     "text": [
      "[INFO] Transferrable: Copied: encoders.1.bn_1.running_var\n"
     ]
    },
    {
     "name": "stderr",
     "output_type": "stream",
     "text": [
      "INFO:Transferrable:Copied: encoders.1.bn_1.running_var\n"
     ]
    },
    {
     "name": "stdout",
     "output_type": "stream",
     "text": [
      "[INFO] Transferrable: Copied: encoders.1.bn_1.num_batches_tracked\n"
     ]
    },
    {
     "name": "stderr",
     "output_type": "stream",
     "text": [
      "INFO:Transferrable:Copied: encoders.1.bn_1.num_batches_tracked\n"
     ]
    },
    {
     "name": "stdout",
     "output_type": "stream",
     "text": [
      "[INFO] BatchedTransferrable: Copied: scale_lin\n"
     ]
    },
    {
     "name": "stderr",
     "output_type": "stream",
     "text": [
      "INFO:BatchedTransferrable:Copied: scale_lin\n"
     ]
    },
    {
     "name": "stdout",
     "output_type": "stream",
     "text": [
      "[INFO] BatchedTransferrable: Copied: bias\n"
     ]
    },
    {
     "name": "stderr",
     "output_type": "stream",
     "text": [
      "INFO:BatchedTransferrable:Copied: bias\n"
     ]
    },
    {
     "name": "stdout",
     "output_type": "stream",
     "text": [
      "[INFO] BatchedTransferrable: Copied: log_theta\n"
     ]
    },
    {
     "name": "stderr",
     "output_type": "stream",
     "text": [
      "INFO:BatchedTransferrable:Copied: log_theta\n"
     ]
    },
    {
     "name": "stdout",
     "output_type": "stream",
     "text": [
      "[INFO] BatchedTransferrable: Copied: linear_0.weight\n"
     ]
    },
    {
     "name": "stderr",
     "output_type": "stream",
     "text": [
      "INFO:BatchedTransferrable:Copied: linear_0.weight\n"
     ]
    },
    {
     "name": "stdout",
     "output_type": "stream",
     "text": [
      "[INFO] BatchedTransferrable: Copied: linear_0.bias\n"
     ]
    },
    {
     "name": "stderr",
     "output_type": "stream",
     "text": [
      "INFO:BatchedTransferrable:Copied: linear_0.bias\n"
     ]
    },
    {
     "name": "stdout",
     "output_type": "stream",
     "text": [
      "[INFO] BatchedTransferrable: Copied: bn_0.weight\n"
     ]
    },
    {
     "name": "stderr",
     "output_type": "stream",
     "text": [
      "INFO:BatchedTransferrable:Copied: bn_0.weight\n"
     ]
    },
    {
     "name": "stdout",
     "output_type": "stream",
     "text": [
      "[INFO] BatchedTransferrable: Copied: bn_0.bias\n"
     ]
    },
    {
     "name": "stderr",
     "output_type": "stream",
     "text": [
      "INFO:BatchedTransferrable:Copied: bn_0.bias\n"
     ]
    },
    {
     "name": "stdout",
     "output_type": "stream",
     "text": [
      "[INFO] BatchedTransferrable: Copied: loc.weight\n"
     ]
    },
    {
     "name": "stderr",
     "output_type": "stream",
     "text": [
      "INFO:BatchedTransferrable:Copied: loc.weight\n"
     ]
    },
    {
     "name": "stdout",
     "output_type": "stream",
     "text": [
      "[INFO] BatchedTransferrable: Copied: loc.bias\n"
     ]
    },
    {
     "name": "stderr",
     "output_type": "stream",
     "text": [
      "INFO:BatchedTransferrable:Copied: loc.bias\n"
     ]
    },
    {
     "name": "stdout",
     "output_type": "stream",
     "text": [
      "[INFO] BatchedTransferrable: Copied: bn_0.running_mean\n"
     ]
    },
    {
     "name": "stderr",
     "output_type": "stream",
     "text": [
      "INFO:BatchedTransferrable:Copied: bn_0.running_mean\n"
     ]
    },
    {
     "name": "stdout",
     "output_type": "stream",
     "text": [
      "[INFO] BatchedTransferrable: Copied: bn_0.running_var\n"
     ]
    },
    {
     "name": "stderr",
     "output_type": "stream",
     "text": [
      "INFO:BatchedTransferrable:Copied: bn_0.running_var\n"
     ]
    },
    {
     "name": "stdout",
     "output_type": "stream",
     "text": [
      "[INFO] BatchedTransferrable: Copied: bn_0.num_batches_tracked\n"
     ]
    },
    {
     "name": "stderr",
     "output_type": "stream",
     "text": [
      "INFO:BatchedTransferrable:Copied: bn_0.num_batches_tracked\n"
     ]
    },
    {
     "name": "stdout",
     "output_type": "stream",
     "text": [
      "[INFO] Transferrable: Copied: encoders.0.linear_0.weight\n"
     ]
    },
    {
     "name": "stderr",
     "output_type": "stream",
     "text": [
      "INFO:Transferrable:Copied: encoders.0.linear_0.weight\n"
     ]
    },
    {
     "name": "stdout",
     "output_type": "stream",
     "text": [
      "[INFO] Transferrable: Copied: encoders.0.linear_0.bias\n"
     ]
    },
    {
     "name": "stderr",
     "output_type": "stream",
     "text": [
      "INFO:Transferrable:Copied: encoders.0.linear_0.bias\n"
     ]
    },
    {
     "name": "stdout",
     "output_type": "stream",
     "text": [
      "[INFO] Transferrable: Copied: encoders.0.bn_0.weight\n"
     ]
    },
    {
     "name": "stderr",
     "output_type": "stream",
     "text": [
      "INFO:Transferrable:Copied: encoders.0.bn_0.weight\n"
     ]
    },
    {
     "name": "stdout",
     "output_type": "stream",
     "text": [
      "[INFO] Transferrable: Copied: encoders.0.bn_0.bias\n"
     ]
    },
    {
     "name": "stderr",
     "output_type": "stream",
     "text": [
      "INFO:Transferrable:Copied: encoders.0.bn_0.bias\n"
     ]
    },
    {
     "name": "stdout",
     "output_type": "stream",
     "text": [
      "[INFO] Transferrable: Copied: encoders.0.linear_1.weight\n"
     ]
    },
    {
     "name": "stderr",
     "output_type": "stream",
     "text": [
      "INFO:Transferrable:Copied: encoders.0.linear_1.weight\n"
     ]
    },
    {
     "name": "stdout",
     "output_type": "stream",
     "text": [
      "[INFO] Transferrable: Copied: encoders.0.linear_1.bias\n"
     ]
    },
    {
     "name": "stderr",
     "output_type": "stream",
     "text": [
      "INFO:Transferrable:Copied: encoders.0.linear_1.bias\n"
     ]
    },
    {
     "name": "stdout",
     "output_type": "stream",
     "text": [
      "[INFO] Transferrable: Copied: encoders.0.bn_1.weight\n"
     ]
    },
    {
     "name": "stderr",
     "output_type": "stream",
     "text": [
      "INFO:Transferrable:Copied: encoders.0.bn_1.weight\n"
     ]
    },
    {
     "name": "stdout",
     "output_type": "stream",
     "text": [
      "[INFO] Transferrable: Copied: encoders.0.bn_1.bias\n"
     ]
    },
    {
     "name": "stderr",
     "output_type": "stream",
     "text": [
      "INFO:Transferrable:Copied: encoders.0.bn_1.bias\n"
     ]
    },
    {
     "name": "stdout",
     "output_type": "stream",
     "text": [
      "[INFO] Transferrable: Copied: encoders.0.loc.weight\n"
     ]
    },
    {
     "name": "stderr",
     "output_type": "stream",
     "text": [
      "INFO:Transferrable:Copied: encoders.0.loc.weight\n"
     ]
    },
    {
     "name": "stdout",
     "output_type": "stream",
     "text": [
      "[INFO] Transferrable: Copied: encoders.0.loc.bias\n"
     ]
    },
    {
     "name": "stderr",
     "output_type": "stream",
     "text": [
      "INFO:Transferrable:Copied: encoders.0.loc.bias\n"
     ]
    },
    {
     "name": "stdout",
     "output_type": "stream",
     "text": [
      "[INFO] Transferrable: Copied: encoders.0.std_lin.weight\n"
     ]
    },
    {
     "name": "stderr",
     "output_type": "stream",
     "text": [
      "INFO:Transferrable:Copied: encoders.0.std_lin.weight\n"
     ]
    },
    {
     "name": "stdout",
     "output_type": "stream",
     "text": [
      "[INFO] Transferrable: Copied: encoders.0.std_lin.bias\n"
     ]
    },
    {
     "name": "stderr",
     "output_type": "stream",
     "text": [
      "INFO:Transferrable:Copied: encoders.0.std_lin.bias\n"
     ]
    },
    {
     "name": "stdout",
     "output_type": "stream",
     "text": [
      "[INFO] Transferrable: Copied: encoders.1.linear_0.weight\n"
     ]
    },
    {
     "name": "stderr",
     "output_type": "stream",
     "text": [
      "INFO:Transferrable:Copied: encoders.1.linear_0.weight\n"
     ]
    },
    {
     "name": "stdout",
     "output_type": "stream",
     "text": [
      "[INFO] Transferrable: Copied: encoders.1.linear_0.bias\n"
     ]
    },
    {
     "name": "stderr",
     "output_type": "stream",
     "text": [
      "INFO:Transferrable:Copied: encoders.1.linear_0.bias\n"
     ]
    },
    {
     "name": "stdout",
     "output_type": "stream",
     "text": [
      "[INFO] Transferrable: Copied: encoders.1.bn_0.weight\n"
     ]
    },
    {
     "name": "stderr",
     "output_type": "stream",
     "text": [
      "INFO:Transferrable:Copied: encoders.1.bn_0.weight\n"
     ]
    },
    {
     "name": "stdout",
     "output_type": "stream",
     "text": [
      "[INFO] Transferrable: Copied: encoders.1.bn_0.bias\n"
     ]
    },
    {
     "name": "stderr",
     "output_type": "stream",
     "text": [
      "INFO:Transferrable:Copied: encoders.1.bn_0.bias\n"
     ]
    },
    {
     "name": "stdout",
     "output_type": "stream",
     "text": [
      "[INFO] Transferrable: Copied: encoders.1.linear_1.weight\n"
     ]
    },
    {
     "name": "stderr",
     "output_type": "stream",
     "text": [
      "INFO:Transferrable:Copied: encoders.1.linear_1.weight\n"
     ]
    },
    {
     "name": "stdout",
     "output_type": "stream",
     "text": [
      "[INFO] Transferrable: Copied: encoders.1.linear_1.bias\n"
     ]
    },
    {
     "name": "stderr",
     "output_type": "stream",
     "text": [
      "INFO:Transferrable:Copied: encoders.1.linear_1.bias\n"
     ]
    },
    {
     "name": "stdout",
     "output_type": "stream",
     "text": [
      "[INFO] Transferrable: Copied: encoders.1.bn_1.weight\n"
     ]
    },
    {
     "name": "stderr",
     "output_type": "stream",
     "text": [
      "INFO:Transferrable:Copied: encoders.1.bn_1.weight\n"
     ]
    },
    {
     "name": "stdout",
     "output_type": "stream",
     "text": [
      "[INFO] Transferrable: Copied: encoders.1.bn_1.bias\n"
     ]
    },
    {
     "name": "stderr",
     "output_type": "stream",
     "text": [
      "INFO:Transferrable:Copied: encoders.1.bn_1.bias\n"
     ]
    },
    {
     "name": "stdout",
     "output_type": "stream",
     "text": [
      "[INFO] Transferrable: Copied: encoders.1.loc.weight\n"
     ]
    },
    {
     "name": "stderr",
     "output_type": "stream",
     "text": [
      "INFO:Transferrable:Copied: encoders.1.loc.weight\n"
     ]
    },
    {
     "name": "stdout",
     "output_type": "stream",
     "text": [
      "[INFO] Transferrable: Copied: encoders.1.loc.bias\n"
     ]
    },
    {
     "name": "stderr",
     "output_type": "stream",
     "text": [
      "INFO:Transferrable:Copied: encoders.1.loc.bias\n"
     ]
    },
    {
     "name": "stdout",
     "output_type": "stream",
     "text": [
      "[INFO] Transferrable: Copied: encoders.1.std_lin.weight\n"
     ]
    },
    {
     "name": "stderr",
     "output_type": "stream",
     "text": [
      "INFO:Transferrable:Copied: encoders.1.std_lin.weight\n"
     ]
    },
    {
     "name": "stdout",
     "output_type": "stream",
     "text": [
      "[INFO] Transferrable: Copied: encoders.1.std_lin.bias\n"
     ]
    },
    {
     "name": "stderr",
     "output_type": "stream",
     "text": [
      "INFO:Transferrable:Copied: encoders.1.std_lin.bias\n"
     ]
    },
    {
     "name": "stdout",
     "output_type": "stream",
     "text": [
      "[INFO] Transferrable: Copied: est_l.weight\n"
     ]
    },
    {
     "name": "stderr",
     "output_type": "stream",
     "text": [
      "INFO:Transferrable:Copied: est_l.weight\n"
     ]
    },
    {
     "name": "stdout",
     "output_type": "stream",
     "text": [
      "[INFO] Transferrable: Copied: est_l.bias\n"
     ]
    },
    {
     "name": "stderr",
     "output_type": "stream",
     "text": [
      "INFO:Transferrable:Copied: est_l.bias\n"
     ]
    },
    {
     "name": "stdout",
     "output_type": "stream",
     "text": [
      "[INFO] Transferrable: Copied: encoders.0.bn_0.running_mean\n"
     ]
    },
    {
     "name": "stderr",
     "output_type": "stream",
     "text": [
      "INFO:Transferrable:Copied: encoders.0.bn_0.running_mean\n"
     ]
    },
    {
     "name": "stdout",
     "output_type": "stream",
     "text": [
      "[INFO] Transferrable: Copied: encoders.0.bn_0.running_var\n"
     ]
    },
    {
     "name": "stderr",
     "output_type": "stream",
     "text": [
      "INFO:Transferrable:Copied: encoders.0.bn_0.running_var\n"
     ]
    },
    {
     "name": "stdout",
     "output_type": "stream",
     "text": [
      "[INFO] Transferrable: Copied: encoders.0.bn_0.num_batches_tracked\n"
     ]
    },
    {
     "name": "stderr",
     "output_type": "stream",
     "text": [
      "INFO:Transferrable:Copied: encoders.0.bn_0.num_batches_tracked\n"
     ]
    },
    {
     "name": "stdout",
     "output_type": "stream",
     "text": [
      "[INFO] Transferrable: Copied: encoders.0.bn_1.running_mean\n"
     ]
    },
    {
     "name": "stderr",
     "output_type": "stream",
     "text": [
      "INFO:Transferrable:Copied: encoders.0.bn_1.running_mean\n"
     ]
    },
    {
     "name": "stdout",
     "output_type": "stream",
     "text": [
      "[INFO] Transferrable: Copied: encoders.0.bn_1.running_var\n"
     ]
    },
    {
     "name": "stderr",
     "output_type": "stream",
     "text": [
      "INFO:Transferrable:Copied: encoders.0.bn_1.running_var\n"
     ]
    },
    {
     "name": "stdout",
     "output_type": "stream",
     "text": [
      "[INFO] Transferrable: Copied: encoders.0.bn_1.num_batches_tracked\n"
     ]
    },
    {
     "name": "stderr",
     "output_type": "stream",
     "text": [
      "INFO:Transferrable:Copied: encoders.0.bn_1.num_batches_tracked\n"
     ]
    },
    {
     "name": "stdout",
     "output_type": "stream",
     "text": [
      "[INFO] Transferrable: Copied: encoders.1.bn_0.running_mean\n"
     ]
    },
    {
     "name": "stderr",
     "output_type": "stream",
     "text": [
      "INFO:Transferrable:Copied: encoders.1.bn_0.running_mean\n"
     ]
    },
    {
     "name": "stdout",
     "output_type": "stream",
     "text": [
      "[INFO] Transferrable: Copied: encoders.1.bn_0.running_var\n"
     ]
    },
    {
     "name": "stderr",
     "output_type": "stream",
     "text": [
      "INFO:Transferrable:Copied: encoders.1.bn_0.running_var\n"
     ]
    },
    {
     "name": "stdout",
     "output_type": "stream",
     "text": [
      "[INFO] Transferrable: Copied: encoders.1.bn_0.num_batches_tracked\n"
     ]
    },
    {
     "name": "stderr",
     "output_type": "stream",
     "text": [
      "INFO:Transferrable:Copied: encoders.1.bn_0.num_batches_tracked\n"
     ]
    },
    {
     "name": "stdout",
     "output_type": "stream",
     "text": [
      "[INFO] Transferrable: Copied: encoders.1.bn_1.running_mean\n"
     ]
    },
    {
     "name": "stderr",
     "output_type": "stream",
     "text": [
      "INFO:Transferrable:Copied: encoders.1.bn_1.running_mean\n"
     ]
    },
    {
     "name": "stdout",
     "output_type": "stream",
     "text": [
      "[INFO] Transferrable: Copied: encoders.1.bn_1.running_var\n"
     ]
    },
    {
     "name": "stderr",
     "output_type": "stream",
     "text": [
      "INFO:Transferrable:Copied: encoders.1.bn_1.running_var\n"
     ]
    },
    {
     "name": "stdout",
     "output_type": "stream",
     "text": [
      "[INFO] Transferrable: Copied: encoders.1.bn_1.num_batches_tracked\n"
     ]
    },
    {
     "name": "stderr",
     "output_type": "stream",
     "text": [
      "INFO:Transferrable:Copied: encoders.1.bn_1.num_batches_tracked\n"
     ]
    },
    {
     "name": "stdout",
     "output_type": "stream",
     "text": [
      "[INFO] BatchedTransferrable: Copied: scale_lin\n"
     ]
    },
    {
     "name": "stderr",
     "output_type": "stream",
     "text": [
      "INFO:BatchedTransferrable:Copied: scale_lin\n"
     ]
    },
    {
     "name": "stdout",
     "output_type": "stream",
     "text": [
      "[INFO] BatchedTransferrable: Copied: bias\n"
     ]
    },
    {
     "name": "stderr",
     "output_type": "stream",
     "text": [
      "INFO:BatchedTransferrable:Copied: bias\n"
     ]
    },
    {
     "name": "stdout",
     "output_type": "stream",
     "text": [
      "[INFO] BatchedTransferrable: Copied: log_theta\n"
     ]
    },
    {
     "name": "stderr",
     "output_type": "stream",
     "text": [
      "INFO:BatchedTransferrable:Copied: log_theta\n"
     ]
    },
    {
     "name": "stdout",
     "output_type": "stream",
     "text": [
      "[INFO] BatchedTransferrable: Copied: linear_0.weight\n"
     ]
    },
    {
     "name": "stderr",
     "output_type": "stream",
     "text": [
      "INFO:BatchedTransferrable:Copied: linear_0.weight\n"
     ]
    },
    {
     "name": "stdout",
     "output_type": "stream",
     "text": [
      "[INFO] BatchedTransferrable: Copied: linear_0.bias\n"
     ]
    },
    {
     "name": "stderr",
     "output_type": "stream",
     "text": [
      "INFO:BatchedTransferrable:Copied: linear_0.bias\n"
     ]
    },
    {
     "name": "stdout",
     "output_type": "stream",
     "text": [
      "[INFO] BatchedTransferrable: Copied: bn_0.weight\n"
     ]
    },
    {
     "name": "stderr",
     "output_type": "stream",
     "text": [
      "INFO:BatchedTransferrable:Copied: bn_0.weight\n"
     ]
    },
    {
     "name": "stdout",
     "output_type": "stream",
     "text": [
      "[INFO] BatchedTransferrable: Copied: bn_0.bias\n"
     ]
    },
    {
     "name": "stderr",
     "output_type": "stream",
     "text": [
      "INFO:BatchedTransferrable:Copied: bn_0.bias\n"
     ]
    },
    {
     "name": "stdout",
     "output_type": "stream",
     "text": [
      "[INFO] BatchedTransferrable: Copied: loc.weight\n"
     ]
    },
    {
     "name": "stderr",
     "output_type": "stream",
     "text": [
      "INFO:BatchedTransferrable:Copied: loc.weight\n"
     ]
    },
    {
     "name": "stdout",
     "output_type": "stream",
     "text": [
      "[INFO] BatchedTransferrable: Copied: loc.bias\n"
     ]
    },
    {
     "name": "stderr",
     "output_type": "stream",
     "text": [
      "INFO:BatchedTransferrable:Copied: loc.bias\n"
     ]
    },
    {
     "name": "stdout",
     "output_type": "stream",
     "text": [
      "[INFO] BatchedTransferrable: Copied: bn_0.running_mean\n"
     ]
    },
    {
     "name": "stderr",
     "output_type": "stream",
     "text": [
      "INFO:BatchedTransferrable:Copied: bn_0.running_mean\n"
     ]
    },
    {
     "name": "stdout",
     "output_type": "stream",
     "text": [
      "[INFO] BatchedTransferrable: Copied: bn_0.running_var\n"
     ]
    },
    {
     "name": "stderr",
     "output_type": "stream",
     "text": [
      "INFO:BatchedTransferrable:Copied: bn_0.running_var\n"
     ]
    },
    {
     "name": "stdout",
     "output_type": "stream",
     "text": [
      "[INFO] BatchedTransferrable: Copied: bn_0.num_batches_tracked\n"
     ]
    },
    {
     "name": "stderr",
     "output_type": "stream",
     "text": [
      "INFO:BatchedTransferrable:Copied: bn_0.num_batches_tracked\n"
     ]
    },
    {
     "name": "stdout",
     "output_type": "stream",
     "text": [
      "[INFO] BatchedTransferrable: Copied: linear_0.weight\n"
     ]
    },
    {
     "name": "stderr",
     "output_type": "stream",
     "text": [
      "INFO:BatchedTransferrable:Copied: linear_0.weight\n"
     ]
    },
    {
     "name": "stdout",
     "output_type": "stream",
     "text": [
      "[INFO] BatchedTransferrable: Copied: linear_0.bias\n"
     ]
    },
    {
     "name": "stderr",
     "output_type": "stream",
     "text": [
      "INFO:BatchedTransferrable:Copied: linear_0.bias\n"
     ]
    },
    {
     "name": "stdout",
     "output_type": "stream",
     "text": [
      "[INFO] BatchedTransferrable: Copied: pred.weight\n"
     ]
    },
    {
     "name": "stderr",
     "output_type": "stream",
     "text": [
      "INFO:BatchedTransferrable:Copied: pred.weight\n"
     ]
    },
    {
     "name": "stdout",
     "output_type": "stream",
     "text": [
      "[INFO] BatchedTransferrable: Copied: pred.bias\n"
     ]
    },
    {
     "name": "stderr",
     "output_type": "stream",
     "text": [
      "INFO:BatchedTransferrable:Copied: pred.bias\n"
     ]
    },
    {
     "name": "stdout",
     "output_type": "stream",
     "text": [
      "[INFO] SCCLUETrainer: Using training directory: \"/tmp/GLUETMPprrats2w\"\n"
     ]
    },
    {
     "name": "stderr",
     "output_type": "stream",
     "text": [
      "INFO:SCCLUETrainer:Using training directory: \"/tmp/GLUETMPprrats2w\"\n"
     ]
    },
    {
     "name": "stdout",
     "output_type": "stream",
     "text": [
      "Epoch 00007: reducing learning rate of group 0 to 1.0000e-04.\n",
      "Epoch 00007: reducing learning rate of group 0 to 1.0000e-04.\n",
      "[INFO] SCCLUETrainer: [Epoch 10] train={'dsc_loss': 0.681, 'gen_loss': 0.646, 'cross_loss': 0.327, 'cos_loss': 0.088, 'x_gex_nll': 0.208, 'x_gex_kl': 0.016, 'x_gex_elbo': 0.213, 'x_other_nll': 0.116, 'x_other_kl': 0.006, 'x_other_elbo': 0.118}, val={'dsc_loss': 0.662, 'gen_loss': 0.676, 'cross_loss': 0.338, 'cos_loss': 0.106, 'x_gex_nll': 0.217, 'x_gex_kl': 0.015, 'x_gex_elbo': 0.221, 'x_other_nll': 0.125, 'x_other_kl': 0.006, 'x_other_elbo': 0.127}, 2.2s elapsed\n"
     ]
    },
    {
     "name": "stderr",
     "output_type": "stream",
     "text": [
      "INFO:SCCLUETrainer:[Epoch 10] train={'dsc_loss': 0.681, 'gen_loss': 0.646, 'cross_loss': 0.327, 'cos_loss': 0.088, 'x_gex_nll': 0.208, 'x_gex_kl': 0.016, 'x_gex_elbo': 0.213, 'x_other_nll': 0.116, 'x_other_kl': 0.006, 'x_other_elbo': 0.118}, val={'dsc_loss': 0.662, 'gen_loss': 0.676, 'cross_loss': 0.338, 'cos_loss': 0.106, 'x_gex_nll': 0.217, 'x_gex_kl': 0.015, 'x_gex_elbo': 0.221, 'x_other_nll': 0.125, 'x_other_kl': 0.006, 'x_other_elbo': 0.127}, 2.2s elapsed\n",
      "2024-04-23 20:56:29,336 ignite.handlers.early_stopping.EarlyStopping INFO: EarlyStopping: Stop training\n"
     ]
    },
    {
     "name": "stdout",
     "output_type": "stream",
     "text": [
      "Epoch 00011: reducing learning rate of group 0 to 1.0000e-05.\n",
      "Epoch 00011: reducing learning rate of group 0 to 1.0000e-05.\n",
      "[INFO] EarlyStopping: Restoring checkpoint \"8\"...\n"
     ]
    },
    {
     "name": "stderr",
     "output_type": "stream",
     "text": [
      "INFO:EarlyStopping:Restoring checkpoint \"8\"...\n"
     ]
    },
    {
     "name": "stdout",
     "output_type": "stream",
     "text": [
      "[INFO] EarlyStopping: Restoring checkpoint \"8\"...\n"
     ]
    },
    {
     "name": "stderr",
     "output_type": "stream",
     "text": [
      "INFO:EarlyStopping:Restoring checkpoint \"8\"...\n"
     ]
    }
   ],
   "source": [
    "input_train_mod1 = ad_mult_rna\n",
    "input_train_mod2 = ad_mult_atac\n",
    "input_test_mod1 = ad_rna\n",
    "input_test_mod2 = ad_atac\n",
    "\n",
    "input_train_mod1.X = sps.csr_matrix(input_train_mod1.X)\n",
    "input_train_mod2.X = sps.csr_matrix(input_train_mod2.X)\n",
    "input_train_mod1.layers['counts'] = sps.csr_matrix(input_train_mod1.X)\n",
    "input_train_mod2.layers['counts'] = sps.csr_matrix(input_train_mod2.X)\n",
    "input_test_mod1.X = sps.csr_matrix(input_test_mod1.X)\n",
    "input_test_mod2.X = sps.csr_matrix(input_test_mod2.X)\n",
    "input_test_mod1.layers['counts'] = sps.csr_matrix(input_test_mod1.X)\n",
    "input_test_mod2.layers['counts'] = sps.csr_matrix(input_test_mod2.X)\n",
    "\n",
    "input_train_mod1.obs[\"uid\"] = [f\"train-{i}\" for i in range(input_train_mod1.shape[0])]\n",
    "input_train_mod2.obs[\"uid\"] = [f\"train-{i}\" for i in range(input_train_mod2.shape[0])]\n",
    "input_test_mod1.obs[\"uid\"] = [f\"test-mod1-{i}\" for i in range(input_test_mod1.shape[0])]\n",
    "input_test_mod2.obs[\"uid\"] = [f\"test-mod2-{i}\" for i in range(input_test_mod2.shape[0])]\n",
    "\n",
    "input_train_mod1.obs['batch'] = 'mult'\n",
    "input_train_mod2.obs['batch'] = 'mult'\n",
    "input_test_mod1.obs['batch'] = 'rna'\n",
    "input_test_mod2.obs['batch'] = 'atac'\n",
    "\n",
    "print('Reading `h5ad` files...')\n",
    "omics = \"multiome\"\n",
    "\n",
    "gex = input_train_mod1\n",
    "other = input_train_mod2\n",
    "\n",
    "print('Preprocessing GEX...')\n",
    "gex_prep = utils.GEXPreprocessing(n_comps=100, n_genes=n_genes, merge_adt=omics == \"cite\")\n",
    "gex_prep.fit_transform(gex)\n",
    "print('Preprocessing ATAC...')\n",
    "other_prep = utils.ATACPreprocessing(n_comps=100)\n",
    "other_prep.fit_transform(other)\n",
    "\n",
    "with open(os.path.join(out_dir, \"prep.pickle\"), \"wb\") as f:\n",
    "    pickle.dump({\n",
    "        \"gex_prep\": gex_prep,\n",
    "        \"other_prep\": other_prep\n",
    "    }, f)\n",
    "\n",
    "with open(f\"{out_dir}/hyperparams.yaml\", \"w\") as f:\n",
    "    yaml.dump({\n",
    "        \"n_genes\": n_genes,\n",
    "        \"latent_dim\": latent_dim,\n",
    "        \"x2u_h_depth\": x2u_h_depth,\n",
    "        \"x2u_h_dim\": x2u_h_dim,\n",
    "        \"u2x_h_depth\": u2x_h_depth,\n",
    "        \"u2x_h_dim\": u2x_h_dim,\n",
    "        \"du_h_depth\": du_h_depth,\n",
    "        \"du_h_dim\": du_h_dim,\n",
    "        \"dropout\": dropout,\n",
    "        \"lam_data\": lam_data,\n",
    "        \"lam_kl\": lam_kl,\n",
    "        \"lam_align\": lam_align,\n",
    "        \"lam_cross\": lam_cross,\n",
    "        \"lam_cos\": lam_cos,\n",
    "        \"normalize_u\": normalize_u,\n",
    "        \"random_seed\": random_seed\n",
    "    }, f)\n",
    "\n",
    "scglue.models.configure_dataset(\n",
    "    gex, \"NB\", use_highly_variable=True,\n",
    "    use_layer=\"counts\", use_rep=\"X_pca\",\n",
    "    use_batch=\"batch\", use_uid=\"uid\"\n",
    ")\n",
    "scglue.models.configure_dataset(\n",
    "    other, \"NB\", use_highly_variable=True,\n",
    "    use_layer=\"counts\", use_rep=\"X_lsi\",\n",
    "    use_batch=\"batch\", use_uid=\"uid\"\n",
    ")\n",
    "\n",
    "print('Building model...')\n",
    "model = scglue.models.SCCLUEModel(\n",
    "    {\"gex\": gex, \"other\": other},\n",
    "    latent_dim=latent_dim,\n",
    "    x2u_h_depth=x2u_h_depth,\n",
    "    x2u_h_dim=x2u_h_dim,\n",
    "    u2x_h_depth=u2x_h_depth,\n",
    "    u2x_h_dim=u2x_h_dim,\n",
    "    du_h_depth=du_h_depth,\n",
    "    du_h_dim=du_h_dim,\n",
    "    dropout=dropout,\n",
    "    shared_batches=False,\n",
    "    random_seed=random_seed\n",
    ")\n",
    "\n",
    "print('Compiling model...')\n",
    "model.compile(\n",
    "    lam_data=lam_data, lam_kl=lam_kl, lam_align=lam_align,\n",
    "    lam_cross=lam_cross, lam_cos=lam_cos, normalize_u=normalize_u,\n",
    "    domain_weight={\"gex\": 1, \"other\": 1}\n",
    ")\n",
    "\n",
    "# help(model.fit)\n",
    "print('Training model...')\n",
    "model.fit(\n",
    "    {\"gex\": gex, \"other\": other}, max_epochs=max_epochs1,\n",
    ")\n",
    "model.save(os.path.join(out_dir, \"pretrain.dill\"))\n",
    "\n",
    "# ===============================\n",
    "#               stage 2\n",
    "# ===============================\n",
    "\n",
    "logging.info('Concatenating training and test data...')\n",
    "input_mod1 = ad.concat(\n",
    "    {\"train\": input_train_mod1, \"test\": input_test_mod1},\n",
    "    axis=0, join=\"outer\", merge=\"same\", label=\"group\",\n",
    "    fill_value=0, index_unique=\"-\"\n",
    ")\n",
    "input_mod1.uns[\"feature_type\"] = 'GEX'\n",
    "\n",
    "input_mod2 = ad.concat(\n",
    "    {\"train\": input_train_mod2, \"test\": input_test_mod2},\n",
    "    axis=0, join=\"outer\", merge=\"same\", label=\"group\",\n",
    "    fill_value=0, index_unique=\"-\"\n",
    ")\n",
    "input_mod2.uns[\"feature_type\"] = 'ATAC'\n",
    "\n",
    "gex, other = input_mod1, input_mod2\n",
    "\n",
    "logging.info('Reading preprocessors...')\n",
    "with open(os.path.join(\n",
    "       out_dir, \"prep.pickle\"\n",
    "), \"rb\") as f:\n",
    "    prep = pickle.load(f)\n",
    "    gex_prep = prep[\"gex_prep\"]\n",
    "    other_prep = prep[\"other_prep\"]\n",
    "\n",
    "logging.info('Preprocessing...')\n",
    "gex_prep.transform(gex)\n",
    "other_prep.transform(other)\n",
    "\n",
    "logging.info('Fine-tuning model...')\n",
    "scglue.models.configure_dataset(\n",
    "    gex, \"NB\", use_highly_variable=True,\n",
    "    use_layer=\"counts\", use_rep=\"X_pca\",\n",
    "    use_batch=\"batch\", use_uid=\"uid\"\n",
    ")\n",
    "scglue.models.configure_dataset(\n",
    "    other, \"NB\", use_highly_variable=True,\n",
    "    use_layer=\"counts\", use_rep=\"X_lsi\",\n",
    "    use_batch=\"batch\", use_uid=\"uid\"\n",
    ")\n",
    "\n",
    "with open(os.path.join(\n",
    "        out_dir, \"hyperparams.yaml\"\n",
    "), \"r\") as f:\n",
    "    hyperparams = yaml.load(f, Loader=yaml.Loader)\n",
    "\n",
    "logging.info('Building model...')\n",
    "model = scglue.models.SCCLUEModel(\n",
    "    {\"gex\": gex, \"other\": other},\n",
    "    latent_dim=hyperparams[\"latent_dim\"],\n",
    "    x2u_h_depth=hyperparams[\"x2u_h_depth\"],\n",
    "    x2u_h_dim=hyperparams[\"x2u_h_dim\"],\n",
    "    u2x_h_depth=hyperparams[\"u2x_h_depth\"],\n",
    "    u2x_h_dim=hyperparams[\"u2x_h_dim\"],\n",
    "    du_h_depth=hyperparams[\"du_h_depth\"],\n",
    "    du_h_dim=hyperparams[\"du_h_dim\"],\n",
    "    dropout=hyperparams[\"dropout\"],\n",
    "    shared_batches=False,\n",
    "    random_seed=hyperparams[\"random_seed\"]\n",
    ")\n",
    "# print(model.net)\n",
    "\n",
    "logging.info('Adopting pretrained weights...')\n",
    "model.adopt_pretrained_model(scglue.models.load_model(os.path.join(\n",
    "    out_dir, \"pretrain.dill\"\n",
    ")))\n",
    "\n",
    "logging.info('Compiling model...')\n",
    "model.compile(\n",
    "    lam_data=hyperparams[\"lam_data\"],\n",
    "    lam_kl=hyperparams[\"lam_kl\"],\n",
    "    lam_align=hyperparams[\"lam_align\"],\n",
    "    lam_cross=hyperparams[\"lam_cross\"],\n",
    "    lam_cos=hyperparams[\"lam_cos\"],\n",
    "    normalize_u=hyperparams[\"normalize_u\"],\n",
    "    domain_weight={\"gex\": 1, \"other\": 1},\n",
    "    lr=1e-3  # TODO: Fine-tuning learning rate\n",
    ")\n",
    "\n",
    "logging.info('Training model...')\n",
    "model.fit(\n",
    "    {\"gex\": gex, \"other\": other},\n",
    "    align_burnin=0, max_epochs=max_epochs2,\n",
    "    patience=8, reduce_lr_patience=3\n",
    ")\n",
    "\n",
    "logging.info('Projecting cell embeddings...')\n",
    "gex.obsm[\"X_model\"] = model.encode_data(\"gex\", gex)\n",
    "other.obsm[\"X_model\"] = model.encode_data(\"other\", other)\n",
    "\n",
    "input_train_mod1.obsm['emb'] = gex.obsm[\"X_model\"][:input_train_mod1.n_obs]\n",
    "input_test_mod1.obsm['emb'] = gex.obsm[\"X_model\"][input_train_mod1.n_obs:]\n",
    "\n",
    "input_train_mod2.obsm['emb'] = other.obsm[\"X_model\"][:input_train_mod2.n_obs]\n",
    "input_test_mod2.obsm['emb'] = other.obsm[\"X_model\"][input_train_mod2.n_obs:]\n",
    "\n",
    "ad_train_mean_enc = sc.AnnData(\n",
    "    (input_train_mod1.obsm['emb'] + input_train_mod2.obsm['emb'])/2, \n",
    "    obs=input_train_mod1.obs.copy()\n",
    ")\n",
    "ad_train_mean_enc.obsm['emb'] = ad_train_mean_enc.X.copy()\n",
    "ad_train_mean_enc.obsm['spatial'] = input_train_mod1.obsm['spatial']\n",
    "ad_mosaic = sc.concat([ad_train_mean_enc, input_test_mod1, input_test_mod2])\n",
    "# ad_mosaic = get_umap(ad_mosaic, ['emb'])\n",
    "\n",
    "# wrap_warn_plot(ad_mosaic, 'emb_umap', ['batch', 'kmeans', 'louvain_k', 'gt'])\n",
    "# plt.figure(figsize=(18, 6))\n",
    "# wrap_warn_plot(ad_train_mean_enc, 'spatial', ['kmeans', 'louvain_k', 'gt'], s=200)\n",
    "# wrap_warn_plot(input_test_mod1, 'spatial', ['kmeans', 'louvain_k', 'gt'], s=200)\n",
    "# wrap_warn_plot(input_test_mod2, 'spatial', ['kmeans', 'louvain_k', 'gt'], s=200)"
   ]
  },
  {
   "cell_type": "code",
   "execution_count": 11,
   "id": "c3b0136b-4e66-42bd-a7a6-d225998f87b7",
   "metadata": {},
   "outputs": [],
   "source": [
    "# try:\n",
    "    \n",
    "#     # from sklearn.cluster import KMeans\n",
    "#     # print(\"mclust failed, try kmeans\")\n",
    "#     # kmeans = KMeans(n_clusters=ad_mosaic.obs['Combined_Clusters_annotation'].nunique(), random_state=0).fit(ad_mosaic.obsm['emb'])\n",
    "#     # ad_mosaic.obs['kmeans'] = kmeans.labels_.astype('str')\n",
    "#     # clust_key = 'kmeans'\n",
    "\n",
    "#     ad_mosaic = mclust_R(ad_mosaic, ad_mosaic.obs.Combined_Clusters_annotation.nunique(), used_obsm='emb')  \n",
    "#     clust_key = 'mclust'\n",
    "   \n",
    "# except:\n",
    "\n",
    "#     # ad_mosaic = mclust_R(ad_mosaic, ad_mosaic.obs.Combined_Clusters_annotation.nunique(), used_obsm='emb')  \n",
    "#     # clust_key = 'mclust'\n",
    "\n",
    "#     from sklearn.cluster import KMeans\n",
    "#     print(\"mclust failed, try kmeans\")\n",
    "#     kmeans = KMeans(n_clusters=ad_mosaic.obs['Combined_Clusters_annotation'].nunique(), random_state=0).fit(ad_mosaic.obsm['emb'])\n",
    "#     ad_mosaic.obs['kmeans'] = kmeans.labels_.astype('str')\n",
    "#     clust_key = 'kmeans'\n",
    "    \n",
    "# split_ob([ad_train_mean_enc, input_test_mod1, input_test_mod2], ad_mosaic, ob='obs',  key=clust_key)\n",
    "# ad_mosaic.obs['before_clust'] = ad_mosaic.obs[clust_key].to_list()"
   ]
  },
  {
   "cell_type": "code",
   "execution_count": 12,
   "id": "b42fd90b-34ca-4217-bcd0-0fd3e2562a95",
   "metadata": {},
   "outputs": [
    {
     "name": "stderr",
     "output_type": "stream",
     "text": [
      "/home/xuhua/xuhua_disco/miniforge3/envs/Squidpy/lib/python3.8/site-packages/tqdm/auto.py:21: TqdmWarning: IProgress not found. Please update jupyter and ipywidgets. See https://ipywidgets.readthedocs.io/en/stable/user_install.html\n",
      "  from .autonotebook import tqdm as notebook_tqdm\n"
     ]
    },
    {
     "data": {
      "text/plain": [
       "0.5587771797231336"
      ]
     },
     "execution_count": 12,
     "metadata": {},
     "output_type": "execute_result"
    }
   ],
   "source": [
    "lisi_res = eval_lisi(\n",
    "    ad_mosaic,\n",
    "    batch_keys=['src'],\n",
    "    label_keys = [],\n",
    "    use_rep='emb', use_neighbors=False,\n",
    ")\n",
    "lisi_res['src_iLISI'][0]"
   ]
  },
  {
   "cell_type": "markdown",
   "id": "18d51ae9-4cb0-4511-a33a-753cb83efb27",
   "metadata": {},
   "source": [
    "### batch corr"
   ]
  },
  {
   "cell_type": "code",
   "execution_count": 13,
   "id": "692ac0f9-786c-4405-9079-15299a47aaf3",
   "metadata": {},
   "outputs": [
    {
     "name": "stdout",
     "output_type": "stream",
     "text": [
      "Use GPU mode.\n",
      "\tInitialization is completed.\n",
      "\tCompleted 1 / 10 iteration(s).\n",
      "\tCompleted 2 / 10 iteration(s).\n",
      "\tCompleted 3 / 10 iteration(s).\n",
      "\tCompleted 4 / 10 iteration(s).\n",
      "\tCompleted 5 / 10 iteration(s).\n",
      "\tCompleted 6 / 10 iteration(s).\n",
      "Reach convergence after 6 iteration(s).\n"
     ]
    }
   ],
   "source": [
    "from batchCorr import HARMONY\n",
    "\n",
    "ad_mosaic.obsm['emb_har'] = HARMONY(pd.DataFrame(ad_mosaic.obsm['emb']), ad_mosaic.obs['src'].to_list())\n",
    "split_ob([ad_train_mean_enc, input_test_mod1, input_test_mod2], ad_mosaic, ob='obsm', key='emb_har')"
   ]
  },
  {
   "cell_type": "code",
   "execution_count": 15,
   "id": "2c2a5009-b7bb-497d-aa19-e047ebcc0081",
   "metadata": {},
   "outputs": [],
   "source": [
    "lisi_res = eval_lisi(\n",
    "    ad_mosaic,\n",
    "    batch_keys=['src'],\n",
    "    label_keys = [],\n",
    "    use_rep='emb_har', use_neighbors=False,\n",
    ")\n",
    "r2 = lisi_res['src_iLISI'][0]"
   ]
  },
  {
   "cell_type": "code",
   "execution_count": 16,
   "id": "1157a348-975a-4b3b-aee6-aade2b95e0a0",
   "metadata": {},
   "outputs": [
    {
     "data": {
      "text/plain": [
       "0.6582880234914108"
      ]
     },
     "execution_count": 16,
     "metadata": {},
     "output_type": "execute_result"
    }
   ],
   "source": [
    "r2"
   ]
  },
  {
   "cell_type": "code",
   "execution_count": 17,
   "id": "f5f6b316-b6c6-4089-83a8-cf5df2fb99b3",
   "metadata": {},
   "outputs": [],
   "source": [
    "fig_dir = f'/disco_500t/xuhua/gitrepo/BridgeNorm/figures/MB_RNA+H3K27ac/clue'\n",
    "os.makedirs(fig_dir, exist_ok=True)\n",
    "\n",
    "df = pd.DataFrame(ad_mosaic.obsm['emb'], index=ad_mosaic.obs_names.to_list())\n",
    "# df['before_clust'] = ad_mosaic.obs['before_clust'].to_list() \n",
    "df.to_csv(join(fig_dir, 'X_emb.csv'))\n",
    "\n",
    "df = pd.DataFrame(ad_mosaic.obsm['emb_har'], index=ad_mosaic.obs_names.to_list())\n",
    "# df['after_clust'] = ad_mosaic.obs['after_clust'].to_list() \n",
    "df.to_csv(join(fig_dir, 'X_emb_har.csv'))"
   ]
  },
  {
   "cell_type": "code",
   "execution_count": null,
   "id": "48573b6e-4928-4ba2-85b1-dbacf119069d",
   "metadata": {},
   "outputs": [],
   "source": [
    "1"
   ]
  },
  {
   "cell_type": "code",
   "execution_count": null,
   "id": "733b4157-144a-4947-b199-ebb048e1975b",
   "metadata": {},
   "outputs": [],
   "source": []
  }
 ],
 "metadata": {
  "kernelspec": {
   "display_name": "Squidpy",
   "language": "python",
   "name": "squidpy"
  },
  "language_info": {
   "codemirror_mode": {
    "name": "ipython",
    "version": 3
   },
   "file_extension": ".py",
   "mimetype": "text/x-python",
   "name": "python",
   "nbconvert_exporter": "python",
   "pygments_lexer": "ipython3",
   "version": "3.8.8"
  }
 },
 "nbformat": 4,
 "nbformat_minor": 5
}
