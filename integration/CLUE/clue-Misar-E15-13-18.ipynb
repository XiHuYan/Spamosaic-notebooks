{
 "cells": [
  {
   "cell_type": "code",
   "execution_count": 2,
   "id": "edc0b626-2aad-4592-98fa-9de090bddba3",
   "metadata": {},
   "outputs": [],
   "source": [
    "import os\n",
    "os.environ['R_HOME'] = '/disco_500t/xuhua/miniforge3/envs/Seurat5/lib/R'\n",
    "os.environ['R_USER'] = '/disco_500t/xuhua/miniforge3/envs/Seurat5/lib/python3.8/site-packages/rpy2'\n",
    "\n",
    "import psutil\n",
    "\n",
    "# Get the current process\n",
    "p = psutil.Process(os.getpid())\n",
    "\n",
    "# Set the process to run only on the first CPU core\n",
    "p.cpu_affinity([5])"
   ]
  },
  {
   "cell_type": "code",
   "execution_count": 1,
   "id": "ecd9ac5b-c3b7-4127-9b9c-117ad93ac971",
   "metadata": {},
   "outputs": [],
   "source": [
    "import os\n",
    "import gc\n",
    "import pandas as pd\n",
    "import pickle\n",
    "import matplotlib.pyplot as plt\n",
    "\n",
    "import anndata as ad\n",
    "import numpy as np\n",
    "import yaml\n",
    "import sys\n",
    "import h5py\n",
    "import logging\n",
    "import scanpy as sc\n",
    "from os.path import join\n",
    "import scipy.sparse as sps\n",
    "from sklearn.cluster import KMeans\n",
    "\n",
    "import scglue\n",
    "\n",
    "import warnings\n",
    "def wrap_warn_plot(adata, basis, color, **kwargs):\n",
    "    with warnings.catch_warnings():\n",
    "        warnings.simplefilter(\"ignore\", category=UserWarning)\n",
    "        sc.pl.embedding(adata, basis=basis, color=color, **kwargs)\n",
    "\n",
    "def get_umap(ad, use_reps=[]):\n",
    "    for use_rep in use_reps:\n",
    "        umap_add_key = f'{use_rep}_umap'\n",
    "        sc.pp.neighbors(ad, use_rep=use_rep, n_neighbors=15)\n",
    "        sc.tl.umap(ad)\n",
    "        ad.obsm[umap_add_key] = ad.obsm['X_umap']\n",
    "    return ad\n",
    "\n",
    "from sklearn.metrics import adjusted_rand_score\n",
    "\n",
    "def split_ob(ads, ad_ref, ob='obs', key='emb2'):\n",
    "    len_ads = [_.n_obs for _ in ads]\n",
    "    if ob=='obsm':\n",
    "        split_obsms = np.split(ad_ref.obsm[key], np.cumsum(len_ads[:-1]))\n",
    "        for ad, v in zip(ads, split_obsms):\n",
    "            ad.obsm[key] = v\n",
    "    else:\n",
    "        split_obs = np.split(ad_ref.obs[key].to_list(), np.cumsum(len_ads[:-1]))\n",
    "        for ad, v in zip(ads, split_obs):\n",
    "            ad.obs[key] = v\n",
    "\n",
    "def eval_ads(ads, ref_key, src_key):\n",
    "    aris = []\n",
    "    for ad in ads:\n",
    "        aris.append(adjusted_rand_score(ad.obs[src_key], ad.obs[ref_key]))\n",
    "    return aris\n",
    "\n",
    "from sklearn.preprocessing import normalize\n",
    "from sklearn.cluster import KMeans\n",
    "def search_louvain(ad, use_rep, n_neighbors=15, n_clusters=5):\n",
    "    sc.pp.neighbors(ad, n_neighbors=n_neighbors, use_rep=use_rep)\n",
    "    rs = np.arange(0.1, 1.0, 0.1)\n",
    "    n_cs = []\n",
    "    for r in rs:\n",
    "        sc.tl.louvain(ad, resolution=r, key_added=f'r={r}')\n",
    "        n_cs.append(ad.obs[f'r={r}'].nunique())\n",
    "    n_cs = np.array(n_cs)\n",
    "    if (n_cs==n_clusters).sum() >= 1:\n",
    "        ri = np.where(n_cs==n_clusters)[0][0]\n",
    "        ad.obs['louvain_k'] = ad.obs[f'r={rs[ri]}'].to_list()\n",
    "    else:\n",
    "        kmeans = KMeans(n_clusters=n_clusters, random_state=0).fit(ad.obsm[use_rep])\n",
    "        ad.obs['louvain_k'] = kmeans.labels_.astype('str')\n",
    "\n",
    "from sklearn.neighbors import KNeighborsClassifier\n",
    "from sklearn.metrics import f1_score\n",
    "def eval_labelTransfer(ad1, ad2, use_rep, lab_key, knn=10):\n",
    "     with warnings.catch_warnings():\n",
    "        warnings.simplefilter(\"ignore\", category=FutureWarning)\n",
    "        neigh1 = KNeighborsClassifier(n_neighbors=knn)\n",
    "        neigh1.fit(ad1.obsm[use_rep], ad1.obs[lab_key].to_list())\n",
    "        pr_lab2 = neigh1.predict(ad2.obsm[use_rep])\n",
    "        f1_1 = f1_score(ad2.obs[lab_key].values, pr_lab2, #labels=['1.0', '2.0', '3.0', '4.0'], \n",
    "                        average='macro')\n",
    "        # acc1 = (pr_lab2 == ad2.obs[lab_key].values).mean()\n",
    "    \n",
    "        neigh2 = KNeighborsClassifier(n_neighbors=knn)\n",
    "        neigh2.fit(ad2.obsm[use_rep], ad2.obs[lab_key].to_list())\n",
    "        pr_lab1 = neigh2.predict(ad1.obsm[use_rep])\n",
    "        # acc2 = (pr_lab1 == ad1.obs[lab_key].values).mean()\n",
    "        f1_2 = f1_score(ad1.obs[lab_key].values, pr_lab1, #labels=['1.0', '2.0', '3.0', '4.0'], \n",
    "                        average='macro')\n",
    "        return (f1_1+f1_2)/2\n",
    "\n",
    "from scib.metrics import lisi\n",
    "def eval_lisi(\n",
    "        adata,\n",
    "        batch_keys=['domain', 'batch'],\n",
    "        label_keys = ['gt'],\n",
    "        use_rep='X_emb', use_neighbors=False,\n",
    "    ):\n",
    "    res = {}\n",
    "    for key in batch_keys:\n",
    "        adata.obs[key] = adata.obs[key].astype('category')\n",
    "\n",
    "        _lisi = lisi.ilisi_graph(\n",
    "            adata,\n",
    "            key,\n",
    "            'embed' if not use_neighbors else 'knn',\n",
    "            use_rep=use_rep,\n",
    "            k0=90,\n",
    "            subsample=None,\n",
    "            scale=True,\n",
    "            n_cores=1,\n",
    "            verbose=False,\n",
    "        )\n",
    "        res[key+'_iLISI'] = _lisi\n",
    "    for key in label_keys:\n",
    "        adata.obs[key] = adata.obs[key].astype('category')\n",
    "\n",
    "        _lisi = lisi.clisi_graph(\n",
    "            adata,\n",
    "            key,\n",
    "            'embed' if not use_neighbors else 'knn',\n",
    "            use_rep=use_rep,\n",
    "            batch_key=None,\n",
    "            k0=90,\n",
    "            subsample=None,\n",
    "            scale=True,\n",
    "            n_cores=1,\n",
    "            verbose=False,\n",
    "        )\n",
    "        res[key+'_cLISI'] = _lisi\n",
    "    df = pd.DataFrame.from_dict(res, orient='index').T\n",
    "    # df.columns = [_+'_LISI' for _ in df.columns]\n",
    "    return df\n",
    "\n",
    "os.environ['R_HOME'] = '/disco_500t/xuhua/miniforge3/envs/Seurat5/lib/R'\n",
    "os.environ['R_USER'] = '/disco_500t/xuhua/miniforge3/envs/Seurat5/lib/python3.8/site-packages/rpy2'\n",
    "def mclust_R(adata, num_cluster, modelNames='EEE', used_obsm='STAGATE', random_seed=2020):\n",
    "    np.random.seed(random_seed)\n",
    "    import rpy2.robjects as robjects\n",
    "    robjects.r.library(\"mclust\")\n",
    "\n",
    "    import rpy2.robjects.numpy2ri\n",
    "    rpy2.robjects.numpy2ri.activate()\n",
    "    r_random_seed = robjects.r['set.seed']\n",
    "    r_random_seed(random_seed)\n",
    "    rmclust = robjects.r['Mclust']\n",
    "\n",
    "    res = rmclust(rpy2.robjects.numpy2ri.numpy2rpy(adata.obsm[used_obsm]), num_cluster, modelNames)\n",
    "    mclust_res = np.array(res[-2])\n",
    "\n",
    "    adata.obs['mclust'] = mclust_res\n",
    "    adata.obs['mclust'] = adata.obs['mclust'].astype('int')\n",
    "    adata.obs['mclust'] = adata.obs['mclust'].astype('category')\n",
    "    return adata\n",
    "\n",
    "def load_h5(path):\n",
    "    with h5py.File(path, 'r') as f:\n",
    "        print(f['matrix'].keys())\n",
    "        print(f['matrix']['features'].keys())\n",
    "\n",
    "        barcodes = [_.decode('utf-8') for _ in f['matrix']['barcodes'][:]]\n",
    "        data = f['matrix']['data'][:]\n",
    "        indices = f['matrix']['indices'][:]\n",
    "        indptr = f['matrix']['indptr'][:]\n",
    "        shape = f['matrix']['shape'][:]\n",
    "\n",
    "        feature_type = [_.decode('utf-8') for _ in f['matrix']['features']['feature_type'][:]]\n",
    "        feature_id   = [_.decode('utf-8') for _ in f['matrix']['features']['id'][:]]\n",
    "        feature_name = [_.decode('utf-8') for _ in f['matrix']['features']['name'][:]]\n",
    "        feature_interval = [_.decode('utf-8') for _ in f['matrix']['features']['interval'][:]]\n",
    "\n",
    "\n",
    "        X = sps.csc_matrix(\n",
    "            (data, indices, indptr), \n",
    "            shape = shape\n",
    "        ).tocsc().astype(np.float32).T.toarray()\n",
    "\n",
    "        adata = sc.AnnData(X)\n",
    "        adata.obs_names = barcodes\n",
    "        adata.var_names = feature_id\n",
    "        adata.var['type'] = feature_type\n",
    "        adata.var['name'] = feature_name\n",
    "        adata.var['interval'] = feature_interval\n",
    "    return adata"
   ]
  },
  {
   "cell_type": "code",
   "execution_count": 2,
   "id": "bb0d7b2d-fa4e-4f1e-964c-ea1807772927",
   "metadata": {},
   "outputs": [
    {
     "data": {
      "text/plain": [
       "'0.1.1'"
      ]
     },
     "execution_count": 2,
     "metadata": {},
     "output_type": "execute_result"
    }
   ],
   "source": [
    "scglue.__version__"
   ]
  },
  {
   "cell_type": "code",
   "execution_count": 4,
   "id": "b032116d-2ac3-4d8f-a11e-d0f2c0a9f8ca",
   "metadata": {},
   "outputs": [],
   "source": [
    "def set_col2cat(ad, cols=[]):\n",
    "    for col in cols:\n",
    "        ad.obs[col] = ad.obs[col].astype('category')\n",
    "\n",
    "def unify_colors(queries, color_key, ref_color_dict):\n",
    "    for q in queries:\n",
    "        q.obs[color_key] = q.obs[color_key].astype('category')\n",
    "        q.uns[f'{color_key}_colors'] = [ref_color_dict[_] for _ in q.obs[color_key].cat.categories]\n",
    "    return queries\n",
    "\n",
    "def subset_ad(ad, subset_index):\n",
    "    ad = ad[subset_index].copy()\n",
    "    return ad\n",
    "\n",
    "def set_spatial(ad):\n",
    "    ad.obsm['spatial'] = ad.obs[['array_row', 'array_col']].values\n",
    "    ad.obsm['spatial'] = ad.obsm['spatial'][:, ::-1]\n",
    "    ad.obsm['spatial'][:, 1] = -1 * ad.obsm['spatial'][:, 1]\n",
    "    return ad"
   ]
  },
  {
   "cell_type": "markdown",
   "id": "98ec56f7-48ef-4d0b-8612-9f645149eb75",
   "metadata": {},
   "source": [
    "### Training and running"
   ]
  },
  {
   "cell_type": "code",
   "execution_count": 5,
   "id": "53ef4fc0-4bc1-44de-9f71-e19dbfbdc8c5",
   "metadata": {},
   "outputs": [],
   "source": [
    "sys.path.insert(0, './resources')\n",
    "import utils\n",
    "import scipy.io as sio"
   ]
  },
  {
   "cell_type": "code",
   "execution_count": 6,
   "id": "1670e9f5-56e7-443c-8398-739c6b077833",
   "metadata": {},
   "outputs": [],
   "source": [
    "out_dir = './cache/misar_seq/E15-13-18'\n",
    "os.makedirs(out_dir, exist_ok=True)\n",
    "## best setting for simulation experiments\n",
    "# n_genes = 10000\n",
    "# x2u_h_depth = 2\n",
    "# x2u_h_dim = 512 \n",
    "# u2x_h_depth = 1\n",
    "# du_h_depth = 2\n",
    "# dropout = 0.2\n",
    "# lam_data = 1.0\n",
    "# lam_kl = 1.0  \n",
    "# lam_align = 2.0   \n",
    "# lam_cross = 2.0 \n",
    "# lam_cos = 1.0 \n",
    "# normalize_u = True\n",
    "# random_seed = 5\n",
    "# latent_dim = 50\n",
    "# u2x_h_dim = 256\n",
    "# du_h_dim  = u2x_h_dim\n",
    "# du_h_depth = 2\n",
    "\n",
    "## multiome setting\n",
    "n_genes = 10000\n",
    "latent_dim = 50\n",
    "x2u_h_depth = 2\n",
    "x2u_h_dim = 512\n",
    "u2x_h_depth = 1\n",
    "u2x_h_dim = 256\n",
    "du_h_depth = 1\n",
    "du_h_dim = 256\n",
    "dropout = 0.2\n",
    "lam_data = 1.0\n",
    "lam_kl = 0.3\n",
    "lam_align = 0.02\n",
    "lam_cross = 1.0\n",
    "lam_cos = 0.02\n",
    "normalize_u = True\n",
    "random_seed = 2\n",
    "\n",
    "max_epochs1 = 400\n",
    "max_epochs2 = 50"
   ]
  },
  {
   "cell_type": "code",
   "execution_count": 7,
   "id": "483008e2-611d-483d-8c83-9907445d3350",
   "metadata": {},
   "outputs": [
    {
     "name": "stdout",
     "output_type": "stream",
     "text": [
      "<KeysViewHDF5 ['barcodes', 'data', 'features', 'indices', 'indptr', 'shape']>\n",
      "<KeysViewHDF5 ['_all_tag_keys', 'feature_type', 'genome', 'id', 'interval', 'name']>\n",
      "<KeysViewHDF5 ['barcodes', 'data', 'features', 'indices', 'indptr', 'shape']>\n",
      "<KeysViewHDF5 ['_all_tag_keys', 'feature_type', 'genome', 'id', 'interval', 'name']>\n",
      "<KeysViewHDF5 ['barcodes', 'data', 'features', 'indices', 'indptr', 'shape']>\n",
      "<KeysViewHDF5 ['_all_tag_keys', 'feature_type', 'genome', 'id', 'interval', 'name']>\n"
     ]
    },
    {
     "data": {
      "text/plain": [
       "1609"
      ]
     },
     "execution_count": 7,
     "metadata": {},
     "output_type": "execute_result"
    }
   ],
   "source": [
    "data_dir = '/disco_500t/xuhua/data/MISAR_seq/'\n",
    "ad_bridge = load_h5(join(data_dir, 'E15_5-S1_raw_feature_bc_matrix.h5'))\n",
    "ad_test1 = load_h5(join(data_dir, 'E13_5-S1_raw_feature_bc_matrix.h5'))\n",
    "ad_test2 = load_h5(join(data_dir, 'E18_5-S1_raw_feature_bc_matrix.h5'))  # inconsistent peak name across batches\n",
    "peak_mat = sps.csr_matrix(sio.mmread(join(data_dir, 'BaiduDisk/section1/peak_mat.mtx')).T)\n",
    "peak_spot_name = pd.read_csv(join(data_dir, 'BaiduDisk/section1/peak_spot_names.csv')).x.values\n",
    "\n",
    "meta = pd.read_csv(join(data_dir, 'BaiduDisk/section1/meta_data.csv'), index_col=0)\n",
    "\n",
    "ad_bridge.obs_names = [f'E15_5-S1#{_}' for _ in ad_bridge.obs_names]\n",
    "ad_test1.obs_names = [f'E13_5-S1#{_}' for _ in ad_test1.obs_names]\n",
    "ad_test2.obs_names = [f'E18_5-S1#{_}' for _ in ad_test2.obs_names]\n",
    "\n",
    "# split rna and peak\n",
    "ad_bridge_rna = ad_bridge[:, ad_bridge.var['type'] == 'Gene Expression'].copy()\n",
    "ad_test1_rna = ad_test1[:, ad_test1.var['type'] == 'Gene Expression'].copy()\n",
    "\n",
    "# subset peak matrices\n",
    "bridge_mask = np.in1d(peak_spot_name, ad_bridge.obs_names)\n",
    "ad_bridge_atac = sc.AnnData(peak_mat[bridge_mask])\n",
    "ad_bridge_atac.obs_names = peak_spot_name[bridge_mask]\n",
    "test2_mask = np.in1d(peak_spot_name, ad_test2.obs_names)\n",
    "ad_test2_atac = sc.AnnData(peak_mat[test2_mask])\n",
    "ad_test2_atac.obs_names = peak_spot_name[test2_mask]\n",
    "\n",
    "ad_bridge_rna = subset_ad(ad_bridge_rna, ad_bridge_rna.obs_names.intersection(meta.index))\n",
    "ad_test1_rna = subset_ad(ad_test1_rna, ad_test1_rna.obs_names.intersection(meta.index))\n",
    "\n",
    "ad_bridge_rna.obs = meta.loc[ad_bridge_rna.obs_names].copy()\n",
    "ad_bridge_atac.obs = meta.loc[ad_bridge_atac.obs_names].copy()\n",
    "ad_test1_rna.obs = meta.loc[ad_test1_rna.obs_names].copy()\n",
    "ad_test2_atac.obs = meta.loc[ad_test2_atac.obs_names].copy()\n",
    "ad_bridge_rna = set_spatial(ad_bridge_rna)\n",
    "ad_bridge_atac = set_spatial(ad_bridge_atac)\n",
    "ad_test1_rna = set_spatial(ad_test1_rna)\n",
    "ad_test2_atac = set_spatial(ad_test2_atac)\n",
    "\n",
    "set_col2cat(ad_bridge_rna, cols=['ATAC_Clusters', 'RNA_Clusters', 'Combined_Clusters', 'Sample'])\n",
    "set_col2cat(ad_bridge_atac, cols=['ATAC_Clusters', 'RNA_Clusters', 'Combined_Clusters', 'Sample'])\n",
    "set_col2cat(ad_test1_rna, cols=['ATAC_Clusters', 'RNA_Clusters', 'Combined_Clusters', 'Sample'])\n",
    "set_col2cat(ad_test2_atac, cols=['ATAC_Clusters', 'RNA_Clusters', 'Combined_Clusters', 'Sample'])\n",
    "\n",
    "del peak_mat, ad_bridge, ad_test1, ad_test2\n",
    "gc.collect()"
   ]
  },
  {
   "cell_type": "code",
   "execution_count": 8,
   "id": "48d24490-5153-4ede-8e80-a7aee12bf633",
   "metadata": {},
   "outputs": [
    {
     "data": {
      "text/plain": [
       "((1949, 10000), (1949, 50000))"
      ]
     },
     "execution_count": 8,
     "metadata": {},
     "output_type": "execute_result"
    }
   ],
   "source": [
    "ad_bridge_atac = ad_bridge_atac[ad_bridge_rna.obs_names].copy()\n",
    "assert (ad_bridge_rna.obs_names == ad_bridge_atac.obs_names).all()\n",
    "\n",
    "ad_rna_all = sc.concat([ad_bridge_rna, ad_test1_rna])\n",
    "ad_atac_all = sc.concat([ad_bridge_atac, ad_test2_atac])\n",
    "\n",
    "sc.pp.highly_variable_genes(ad_rna_all, flavor='seurat_v3', n_top_genes=10000, batch_key='Sample')\n",
    "hvg_names = ad_rna_all.var.query('highly_variable').index.to_numpy()\n",
    "\n",
    "# ac.pp.tfidf(ad_atac_all, scale_factor=1e4)\n",
    "sc.pp.highly_variable_genes(ad_atac_all, flavor='seurat_v3', n_top_genes=50000, batch_key='Sample')\n",
    "\n",
    "hvp_names = ad_atac_all.var.query('highly_variable').index.to_numpy()\n",
    "\n",
    "ad_bridge_rna = ad_bridge_rna[:, hvg_names].copy()\n",
    "ad_bridge_atac = ad_bridge_atac[:, hvp_names].copy()\n",
    "ad_test1_rna = ad_test1_rna[:, hvg_names].copy()\n",
    "ad_test2_atac = ad_test2_atac[:, hvp_names].copy()\n",
    "\n",
    "ad_bridge_rna.shape, ad_bridge_atac.shape"
   ]
  },
  {
   "cell_type": "code",
   "execution_count": 9,
   "id": "fab5471c-fda8-47f7-b37b-ccd068f22836",
   "metadata": {
    "scrolled": true
   },
   "outputs": [
    {
     "name": "stdout",
     "output_type": "stream",
     "text": [
      "Reading `h5ad` files...\n",
      "Preprocessing GEX...\n",
      "Preprocessing ATAC...\n",
      "Building model...\n",
      "[INFO] autodevice: Using GPU 2 as computation device.\n",
      "Compiling model...\n",
      "Training model...\n",
      "[INFO] SCCLUEModel: Setting `align_burnin` = 438\n",
      "[INFO] SCCLUEModel: Setting `patience` = 329\n",
      "[INFO] SCCLUEModel: Setting `reduce_lr_patience` = 110\n",
      "[INFO] SCCLUETrainer: Using training directory: \"/tmp/GLUETMPvis9vops\"\n",
      "[INFO] SCCLUETrainer: [Epoch 10] train={'dsc_loss': 0.648, 'gen_loss': 3.944, 'cross_loss': 1.973, 'cos_loss': 0.239, 'x_gex_nll': 1.111, 'x_gex_kl': 0.018, 'x_gex_elbo': 1.116, 'x_other_nll': 0.861, 'x_other_kl': 0.009, 'x_other_elbo': 0.864}, val={'dsc_loss': 0.643, 'gen_loss': 3.801, 'cross_loss': 1.9, 'cos_loss': 0.241, 'x_gex_nll': 1.048, 'x_gex_kl': 0.015, 'x_gex_elbo': 1.053, 'x_other_nll': 0.854, 'x_other_kl': 0.008, 'x_other_elbo': 0.856}, 0.6s elapsed\n",
      "[INFO] SCCLUETrainer: [Epoch 20] train={'dsc_loss': 0.637, 'gen_loss': 3.521, 'cross_loss': 1.762, 'cos_loss': 0.215, 'x_gex_nll': 0.981, 'x_gex_kl': 0.019, 'x_gex_elbo': 0.987, 'x_other_nll': 0.778, 'x_other_kl': 0.008, 'x_other_elbo': 0.781}, val={'dsc_loss': 0.668, 'gen_loss': 3.412, 'cross_loss': 1.706, 'cos_loss': 0.219, 'x_gex_nll': 0.928, 'x_gex_kl': 0.017, 'x_gex_elbo': 0.933, 'x_other_nll': 0.779, 'x_other_kl': 0.008, 'x_other_elbo': 0.782}, 0.6s elapsed\n",
      "[INFO] SCCLUETrainer: [Epoch 30] train={'dsc_loss': 0.636, 'gen_loss': 3.155, 'cross_loss': 1.579, 'cos_loss': 0.214, 'x_gex_nll': 0.876, 'x_gex_kl': 0.02, 'x_gex_elbo': 0.882, 'x_other_nll': 0.7, 'x_other_kl': 0.008, 'x_other_elbo': 0.703}, val={'dsc_loss': 0.663, 'gen_loss': 3.089, 'cross_loss': 1.544, 'cos_loss': 0.238, 'x_gex_nll': 0.835, 'x_gex_kl': 0.017, 'x_gex_elbo': 0.841, 'x_other_nll': 0.711, 'x_other_kl': 0.008, 'x_other_elbo': 0.714}, 0.6s elapsed\n",
      "[INFO] SCCLUETrainer: [Epoch 40] train={'dsc_loss': 0.633, 'gen_loss': 2.859, 'cross_loss': 1.431, 'cos_loss': 0.213, 'x_gex_nll': 0.796, 'x_gex_kl': 0.02, 'x_gex_elbo': 0.802, 'x_other_nll': 0.632, 'x_other_kl': 0.008, 'x_other_elbo': 0.635}, val={'dsc_loss': 0.649, 'gen_loss': 2.818, 'cross_loss': 1.406, 'cos_loss': 0.254, 'x_gex_nll': 0.767, 'x_gex_kl': 0.019, 'x_gex_elbo': 0.773, 'x_other_nll': 0.644, 'x_other_kl': 0.008, 'x_other_elbo': 0.646}, 0.6s elapsed\n",
      "[INFO] SCCLUETrainer: [Epoch 50] train={'dsc_loss': 0.642, 'gen_loss': 2.609, 'cross_loss': 1.306, 'cos_loss': 0.212, 'x_gex_nll': 0.731, 'x_gex_kl': 0.02, 'x_gex_elbo': 0.737, 'x_other_nll': 0.572, 'x_other_kl': 0.008, 'x_other_elbo': 0.575}, val={'dsc_loss': 0.693, 'gen_loss': 2.613, 'cross_loss': 1.305, 'cos_loss': 0.26, 'x_gex_nll': 0.708, 'x_gex_kl': 0.02, 'x_gex_elbo': 0.714, 'x_other_nll': 0.6, 'x_other_kl': 0.008, 'x_other_elbo': 0.602}, 0.6s elapsed\n",
      "[INFO] SCCLUETrainer: [Epoch 60] train={'dsc_loss': 0.64, 'gen_loss': 2.419, 'cross_loss': 1.211, 'cos_loss': 0.208, 'x_gex_nll': 0.682, 'x_gex_kl': 0.02, 'x_gex_elbo': 0.688, 'x_other_nll': 0.527, 'x_other_kl': 0.008, 'x_other_elbo': 0.529}, val={'dsc_loss': 0.679, 'gen_loss': 2.416, 'cross_loss': 1.206, 'cos_loss': 0.269, 'x_gex_nll': 0.66, 'x_gex_kl': 0.02, 'x_gex_elbo': 0.666, 'x_other_nll': 0.55, 'x_other_kl': 0.008, 'x_other_elbo': 0.552}, 0.6s elapsed\n",
      "[INFO] SCCLUETrainer: [Epoch 70] train={'dsc_loss': 0.646, 'gen_loss': 2.26, 'cross_loss': 1.132, 'cos_loss': 0.197, 'x_gex_nll': 0.638, 'x_gex_kl': 0.02, 'x_gex_elbo': 0.644, 'x_other_nll': 0.49, 'x_other_kl': 0.008, 'x_other_elbo': 0.493}, val={'dsc_loss': 0.67, 'gen_loss': 2.28, 'cross_loss': 1.138, 'cos_loss': 0.266, 'x_gex_nll': 0.621, 'x_gex_kl': 0.019, 'x_gex_elbo': 0.627, 'x_other_nll': 0.521, 'x_other_kl': 0.008, 'x_other_elbo': 0.523}, 0.6s elapsed\n",
      "[INFO] SCCLUETrainer: [Epoch 80] train={'dsc_loss': 0.641, 'gen_loss': 2.124, 'cross_loss': 1.064, 'cos_loss': 0.189, 'x_gex_nll': 0.599, 'x_gex_kl': 0.02, 'x_gex_elbo': 0.605, 'x_other_nll': 0.462, 'x_other_kl': 0.008, 'x_other_elbo': 0.465}, val={'dsc_loss': 0.673, 'gen_loss': 2.162, 'cross_loss': 1.079, 'cos_loss': 0.272, 'x_gex_nll': 0.589, 'x_gex_kl': 0.019, 'x_gex_elbo': 0.595, 'x_other_nll': 0.494, 'x_other_kl': 0.008, 'x_other_elbo': 0.496}, 0.6s elapsed\n",
      "[INFO] SCCLUETrainer: [Epoch 90] train={'dsc_loss': 0.658, 'gen_loss': 2.004, 'cross_loss': 1.004, 'cos_loss': 0.183, 'x_gex_nll': 0.564, 'x_gex_kl': 0.02, 'x_gex_elbo': 0.57, 'x_other_nll': 0.437, 'x_other_kl': 0.008, 'x_other_elbo': 0.44}, val={'dsc_loss': 0.678, 'gen_loss': 2.062, 'cross_loss': 1.029, 'cos_loss': 0.274, 'x_gex_nll': 0.56, 'x_gex_kl': 0.02, 'x_gex_elbo': 0.565, 'x_other_nll': 0.473, 'x_other_kl': 0.008, 'x_other_elbo': 0.476}, 0.6s elapsed\n",
      "[INFO] SCCLUETrainer: [Epoch 100] train={'dsc_loss': 0.663, 'gen_loss': 1.902, 'cross_loss': 0.953, 'cos_loss': 0.179, 'x_gex_nll': 0.534, 'x_gex_kl': 0.02, 'x_gex_elbo': 0.54, 'x_other_nll': 0.416, 'x_other_kl': 0.008, 'x_other_elbo': 0.419}, val={'dsc_loss': 0.688, 'gen_loss': 1.972, 'cross_loss': 0.984, 'cos_loss': 0.273, 'x_gex_nll': 0.533, 'x_gex_kl': 0.02, 'x_gex_elbo': 0.54, 'x_other_nll': 0.454, 'x_other_kl': 0.008, 'x_other_elbo': 0.457}, 0.7s elapsed\n",
      "[INFO] SCCLUETrainer: [Epoch 110] train={'dsc_loss': 0.655, 'gen_loss': 1.83, 'cross_loss': 0.917, 'cos_loss': 0.172, 'x_gex_nll': 0.511, 'x_gex_kl': 0.02, 'x_gex_elbo': 0.517, 'x_other_nll': 0.403, 'x_other_kl': 0.008, 'x_other_elbo': 0.406}, val={'dsc_loss': 0.678, 'gen_loss': 1.911, 'cross_loss': 0.953, 'cos_loss': 0.272, 'x_gex_nll': 0.517, 'x_gex_kl': 0.02, 'x_gex_elbo': 0.523, 'x_other_nll': 0.441, 'x_other_kl': 0.008, 'x_other_elbo': 0.443}, 0.6s elapsed\n",
      "[INFO] SCCLUETrainer: [Epoch 120] train={'dsc_loss': 0.655, 'gen_loss': 1.772, 'cross_loss': 0.888, 'cos_loss': 0.168, 'x_gex_nll': 0.495, 'x_gex_kl': 0.02, 'x_gex_elbo': 0.501, 'x_other_nll': 0.391, 'x_other_kl': 0.008, 'x_other_elbo': 0.393}, val={'dsc_loss': 0.679, 'gen_loss': 1.84, 'cross_loss': 0.917, 'cos_loss': 0.276, 'x_gex_nll': 0.498, 'x_gex_kl': 0.02, 'x_gex_elbo': 0.504, 'x_other_nll': 0.425, 'x_other_kl': 0.008, 'x_other_elbo': 0.427}, 0.6s elapsed\n",
      "[INFO] SCCLUETrainer: [Epoch 130] train={'dsc_loss': 0.654, 'gen_loss': 1.719, 'cross_loss': 0.861, 'cos_loss': 0.166, 'x_gex_nll': 0.482, 'x_gex_kl': 0.02, 'x_gex_elbo': 0.488, 'x_other_nll': 0.377, 'x_other_kl': 0.008, 'x_other_elbo': 0.379}, val={'dsc_loss': 0.685, 'gen_loss': 1.815, 'cross_loss': 0.904, 'cos_loss': 0.279, 'x_gex_nll': 0.492, 'x_gex_kl': 0.02, 'x_gex_elbo': 0.498, 'x_other_nll': 0.418, 'x_other_kl': 0.008, 'x_other_elbo': 0.421}, 0.6s elapsed\n",
      "[INFO] SCCLUETrainer: [Epoch 140] train={'dsc_loss': 0.651, 'gen_loss': 1.675, 'cross_loss': 0.839, 'cos_loss': 0.163, 'x_gex_nll': 0.472, 'x_gex_kl': 0.02, 'x_gex_elbo': 0.478, 'x_other_nll': 0.365, 'x_other_kl': 0.008, 'x_other_elbo': 0.368}, val={'dsc_loss': 0.686, 'gen_loss': 1.773, 'cross_loss': 0.883, 'cos_loss': 0.282, 'x_gex_nll': 0.481, 'x_gex_kl': 0.02, 'x_gex_elbo': 0.487, 'x_other_nll': 0.409, 'x_other_kl': 0.008, 'x_other_elbo': 0.411}, 0.6s elapsed\n",
      "[INFO] SCCLUETrainer: [Epoch 150] train={'dsc_loss': 0.648, 'gen_loss': 1.656, 'cross_loss': 0.83, 'cos_loss': 0.159, 'x_gex_nll': 0.467, 'x_gex_kl': 0.021, 'x_gex_elbo': 0.473, 'x_other_nll': 0.36, 'x_other_kl': 0.008, 'x_other_elbo': 0.362}, val={'dsc_loss': 0.682, 'gen_loss': 1.757, 'cross_loss': 0.874, 'cos_loss': 0.288, 'x_gex_nll': 0.477, 'x_gex_kl': 0.021, 'x_gex_elbo': 0.483, 'x_other_nll': 0.405, 'x_other_kl': 0.008, 'x_other_elbo': 0.408}, 0.6s elapsed\n",
      "[INFO] SCCLUETrainer: [Epoch 160] train={'dsc_loss': 0.655, 'gen_loss': 1.627, 'cross_loss': 0.815, 'cos_loss': 0.158, 'x_gex_nll': 0.461, 'x_gex_kl': 0.021, 'x_gex_elbo': 0.467, 'x_other_nll': 0.352, 'x_other_kl': 0.008, 'x_other_elbo': 0.354}, val={'dsc_loss': 0.688, 'gen_loss': 1.745, 'cross_loss': 0.868, 'cos_loss': 0.285, 'x_gex_nll': 0.474, 'x_gex_kl': 0.021, 'x_gex_elbo': 0.481, 'x_other_nll': 0.402, 'x_other_kl': 0.008, 'x_other_elbo': 0.405}, 0.6s elapsed\n",
      "[INFO] SCCLUETrainer: [Epoch 170] train={'dsc_loss': 0.651, 'gen_loss': 1.625, 'cross_loss': 0.815, 'cos_loss': 0.156, 'x_gex_nll': 0.46, 'x_gex_kl': 0.021, 'x_gex_elbo': 0.466, 'x_other_nll': 0.351, 'x_other_kl': 0.008, 'x_other_elbo': 0.354}, val={'dsc_loss': 0.685, 'gen_loss': 1.736, 'cross_loss': 0.863, 'cos_loss': 0.289, 'x_gex_nll': 0.472, 'x_gex_kl': 0.021, 'x_gex_elbo': 0.478, 'x_other_nll': 0.4, 'x_other_kl': 0.008, 'x_other_elbo': 0.403}, 0.6s elapsed\n",
      "[INFO] SCCLUETrainer: [Epoch 180] train={'dsc_loss': 0.658, 'gen_loss': 1.619, 'cross_loss': 0.811, 'cos_loss': 0.155, 'x_gex_nll': 0.458, 'x_gex_kl': 0.021, 'x_gex_elbo': 0.464, 'x_other_nll': 0.352, 'x_other_kl': 0.009, 'x_other_elbo': 0.354}, val={'dsc_loss': 0.695, 'gen_loss': 1.742, 'cross_loss': 0.866, 'cos_loss': 0.293, 'x_gex_nll': 0.475, 'x_gex_kl': 0.022, 'x_gex_elbo': 0.481, 'x_other_nll': 0.4, 'x_other_kl': 0.008, 'x_other_elbo': 0.403}, 0.6s elapsed\n",
      "[INFO] SCCLUETrainer: [Epoch 190] train={'dsc_loss': 0.656, 'gen_loss': 1.61, 'cross_loss': 0.807, 'cos_loss': 0.155, 'x_gex_nll': 0.455, 'x_gex_kl': 0.021, 'x_gex_elbo': 0.462, 'x_other_nll': 0.349, 'x_other_kl': 0.009, 'x_other_elbo': 0.352}, val={'dsc_loss': 0.693, 'gen_loss': 1.748, 'cross_loss': 0.868, 'cos_loss': 0.292, 'x_gex_nll': 0.471, 'x_gex_kl': 0.021, 'x_gex_elbo': 0.478, 'x_other_nll': 0.408, 'x_other_kl': 0.008, 'x_other_elbo': 0.411}, 0.7s elapsed\n",
      "[INFO] SCCLUETrainer: [Epoch 200] train={'dsc_loss': 0.648, 'gen_loss': 1.607, 'cross_loss': 0.805, 'cos_loss': 0.152, 'x_gex_nll': 0.455, 'x_gex_kl': 0.021, 'x_gex_elbo': 0.462, 'x_other_nll': 0.348, 'x_other_kl': 0.009, 'x_other_elbo': 0.35}, val={'dsc_loss': 0.681, 'gen_loss': 1.739, 'cross_loss': 0.863, 'cos_loss': 0.293, 'x_gex_nll': 0.47, 'x_gex_kl': 0.021, 'x_gex_elbo': 0.477, 'x_other_nll': 0.405, 'x_other_kl': 0.008, 'x_other_elbo': 0.407}, 0.6s elapsed\n",
      "[INFO] SCCLUETrainer: [Epoch 210] train={'dsc_loss': 0.655, 'gen_loss': 1.596, 'cross_loss': 0.8, 'cos_loss': 0.152, 'x_gex_nll': 0.451, 'x_gex_kl': 0.021, 'x_gex_elbo': 0.457, 'x_other_nll': 0.346, 'x_other_kl': 0.009, 'x_other_elbo': 0.349}, val={'dsc_loss': 0.688, 'gen_loss': 1.713, 'cross_loss': 0.851, 'cos_loss': 0.294, 'x_gex_nll': 0.462, 'x_gex_kl': 0.021, 'x_gex_elbo': 0.468, 'x_other_nll': 0.4, 'x_other_kl': 0.008, 'x_other_elbo': 0.402}, 0.6s elapsed\n",
      "[INFO] SCCLUETrainer: [Epoch 220] train={'dsc_loss': 0.654, 'gen_loss': 1.597, 'cross_loss': 0.801, 'cos_loss': 0.151, 'x_gex_nll': 0.451, 'x_gex_kl': 0.021, 'x_gex_elbo': 0.457, 'x_other_nll': 0.347, 'x_other_kl': 0.009, 'x_other_elbo': 0.349}, val={'dsc_loss': 0.678, 'gen_loss': 1.749, 'cross_loss': 0.868, 'cos_loss': 0.294, 'x_gex_nll': 0.47, 'x_gex_kl': 0.022, 'x_gex_elbo': 0.477, 'x_other_nll': 0.41, 'x_other_kl': 0.008, 'x_other_elbo': 0.412}, 0.6s elapsed\n",
      "[INFO] SCCLUETrainer: [Epoch 230] train={'dsc_loss': 0.653, 'gen_loss': 1.593, 'cross_loss': 0.798, 'cos_loss': 0.15, 'x_gex_nll': 0.45, 'x_gex_kl': 0.021, 'x_gex_elbo': 0.457, 'x_other_nll': 0.346, 'x_other_kl': 0.009, 'x_other_elbo': 0.348}, val={'dsc_loss': 0.684, 'gen_loss': 1.727, 'cross_loss': 0.856, 'cos_loss': 0.298, 'x_gex_nll': 0.466, 'x_gex_kl': 0.022, 'x_gex_elbo': 0.473, 'x_other_nll': 0.403, 'x_other_kl': 0.008, 'x_other_elbo': 0.405}, 0.6s elapsed\n",
      "[INFO] SCCLUETrainer: [Epoch 240] train={'dsc_loss': 0.657, 'gen_loss': 1.595, 'cross_loss': 0.799, 'cos_loss': 0.148, 'x_gex_nll': 0.45, 'x_gex_kl': 0.021, 'x_gex_elbo': 0.456, 'x_other_nll': 0.347, 'x_other_kl': 0.009, 'x_other_elbo': 0.349}, val={'dsc_loss': 0.723, 'gen_loss': 1.763, 'cross_loss': 0.875, 'cos_loss': 0.293, 'x_gex_nll': 0.476, 'x_gex_kl': 0.022, 'x_gex_elbo': 0.482, 'x_other_nll': 0.412, 'x_other_kl': 0.008, 'x_other_elbo': 0.414}, 0.6s elapsed\n",
      "[INFO] SCCLUETrainer: [Epoch 250] train={'dsc_loss': 0.648, 'gen_loss': 1.585, 'cross_loss': 0.794, 'cos_loss': 0.147, 'x_gex_nll': 0.448, 'x_gex_kl': 0.022, 'x_gex_elbo': 0.454, 'x_other_nll': 0.344, 'x_other_kl': 0.009, 'x_other_elbo': 0.347}, val={'dsc_loss': 0.693, 'gen_loss': 1.749, 'cross_loss': 0.868, 'cos_loss': 0.296, 'x_gex_nll': 0.469, 'x_gex_kl': 0.022, 'x_gex_elbo': 0.476, 'x_other_nll': 0.41, 'x_other_kl': 0.008, 'x_other_elbo': 0.413}, 0.6s elapsed\n",
      "[INFO] SCCLUETrainer: [Epoch 260] train={'dsc_loss': 0.648, 'gen_loss': 1.582, 'cross_loss': 0.793, 'cos_loss': 0.147, 'x_gex_nll': 0.446, 'x_gex_kl': 0.022, 'x_gex_elbo': 0.453, 'x_other_nll': 0.344, 'x_other_kl': 0.009, 'x_other_elbo': 0.346}, val={'dsc_loss': 0.694, 'gen_loss': 1.749, 'cross_loss': 0.868, 'cos_loss': 0.298, 'x_gex_nll': 0.469, 'x_gex_kl': 0.022, 'x_gex_elbo': 0.476, 'x_other_nll': 0.41, 'x_other_kl': 0.008, 'x_other_elbo': 0.413}, 0.6s elapsed\n",
      "[INFO] SCCLUETrainer: [Epoch 270] train={'dsc_loss': 0.653, 'gen_loss': 1.581, 'cross_loss': 0.793, 'cos_loss': 0.146, 'x_gex_nll': 0.446, 'x_gex_kl': 0.022, 'x_gex_elbo': 0.452, 'x_other_nll': 0.344, 'x_other_kl': 0.009, 'x_other_elbo': 0.346}, val={'dsc_loss': 0.676, 'gen_loss': 1.746, 'cross_loss': 0.866, 'cos_loss': 0.293, 'x_gex_nll': 0.469, 'x_gex_kl': 0.022, 'x_gex_elbo': 0.476, 'x_other_nll': 0.409, 'x_other_kl': 0.008, 'x_other_elbo': 0.412}, 0.6s elapsed\n",
      "[INFO] SCCLUETrainer: [Epoch 280] train={'dsc_loss': 0.645, 'gen_loss': 1.59, 'cross_loss': 0.796, 'cos_loss': 0.143, 'x_gex_nll': 0.448, 'x_gex_kl': 0.022, 'x_gex_elbo': 0.455, 'x_other_nll': 0.346, 'x_other_kl': 0.009, 'x_other_elbo': 0.349}, val={'dsc_loss': 0.683, 'gen_loss': 1.769, 'cross_loss': 0.878, 'cos_loss': 0.291, 'x_gex_nll': 0.471, 'x_gex_kl': 0.022, 'x_gex_elbo': 0.478, 'x_other_nll': 0.418, 'x_other_kl': 0.008, 'x_other_elbo': 0.421}, 0.6s elapsed\n",
      "[INFO] SCCLUETrainer: [Epoch 290] train={'dsc_loss': 0.65, 'gen_loss': 1.579, 'cross_loss': 0.792, 'cos_loss': 0.141, 'x_gex_nll': 0.446, 'x_gex_kl': 0.022, 'x_gex_elbo': 0.452, 'x_other_nll': 0.343, 'x_other_kl': 0.009, 'x_other_elbo': 0.346}, val={'dsc_loss': 0.686, 'gen_loss': 1.751, 'cross_loss': 0.87, 'cos_loss': 0.291, 'x_gex_nll': 0.47, 'x_gex_kl': 0.023, 'x_gex_elbo': 0.477, 'x_other_nll': 0.41, 'x_other_kl': 0.009, 'x_other_elbo': 0.412}, 0.6s elapsed\n",
      "[INFO] SCCLUETrainer: [Epoch 300] train={'dsc_loss': 0.65, 'gen_loss': 1.58, 'cross_loss': 0.792, 'cos_loss': 0.141, 'x_gex_nll': 0.446, 'x_gex_kl': 0.022, 'x_gex_elbo': 0.452, 'x_other_nll': 0.344, 'x_other_kl': 0.009, 'x_other_elbo': 0.346}, val={'dsc_loss': 0.683, 'gen_loss': 1.735, 'cross_loss': 0.86, 'cos_loss': 0.295, 'x_gex_nll': 0.467, 'x_gex_kl': 0.022, 'x_gex_elbo': 0.474, 'x_other_nll': 0.406, 'x_other_kl': 0.008, 'x_other_elbo': 0.409}, 0.6s elapsed\n",
      "[INFO] SCCLUETrainer: [Epoch 310] train={'dsc_loss': 0.648, 'gen_loss': 1.584, 'cross_loss': 0.794, 'cos_loss': 0.139, 'x_gex_nll': 0.446, 'x_gex_kl': 0.022, 'x_gex_elbo': 0.452, 'x_other_nll': 0.345, 'x_other_kl': 0.009, 'x_other_elbo': 0.348}, val={'dsc_loss': 0.675, 'gen_loss': 1.752, 'cross_loss': 0.869, 'cos_loss': 0.29, 'x_gex_nll': 0.47, 'x_gex_kl': 0.022, 'x_gex_elbo': 0.476, 'x_other_nll': 0.411, 'x_other_kl': 0.008, 'x_other_elbo': 0.414}, 0.6s elapsed\n",
      "[INFO] SCCLUETrainer: [Epoch 320] train={'dsc_loss': 0.65, 'gen_loss': 1.581, 'cross_loss': 0.792, 'cos_loss': 0.139, 'x_gex_nll': 0.445, 'x_gex_kl': 0.022, 'x_gex_elbo': 0.452, 'x_other_nll': 0.344, 'x_other_kl': 0.009, 'x_other_elbo': 0.347}, val={'dsc_loss': 0.69, 'gen_loss': 1.755, 'cross_loss': 0.871, 'cos_loss': 0.292, 'x_gex_nll': 0.47, 'x_gex_kl': 0.023, 'x_gex_elbo': 0.476, 'x_other_nll': 0.413, 'x_other_kl': 0.008, 'x_other_elbo': 0.416}, 0.6s elapsed\n",
      "[INFO] SCCLUETrainer: [Epoch 330] train={'dsc_loss': 0.653, 'gen_loss': 1.576, 'cross_loss': 0.79, 'cos_loss': 0.139, 'x_gex_nll': 0.444, 'x_gex_kl': 0.022, 'x_gex_elbo': 0.45, 'x_other_nll': 0.344, 'x_other_kl': 0.009, 'x_other_elbo': 0.346}, val={'dsc_loss': 0.66, 'gen_loss': 1.752, 'cross_loss': 0.869, 'cos_loss': 0.286, 'x_gex_nll': 0.469, 'x_gex_kl': 0.023, 'x_gex_elbo': 0.475, 'x_other_nll': 0.413, 'x_other_kl': 0.008, 'x_other_elbo': 0.415}, 0.6s elapsed\n",
      "[INFO] SCCLUETrainer: [Epoch 340] train={'dsc_loss': 0.655, 'gen_loss': 1.582, 'cross_loss': 0.793, 'cos_loss': 0.139, 'x_gex_nll': 0.446, 'x_gex_kl': 0.022, 'x_gex_elbo': 0.453, 'x_other_nll': 0.344, 'x_other_kl': 0.009, 'x_other_elbo': 0.347}, val={'dsc_loss': 0.671, 'gen_loss': 1.754, 'cross_loss': 0.871, 'cos_loss': 0.295, 'x_gex_nll': 0.469, 'x_gex_kl': 0.023, 'x_gex_elbo': 0.476, 'x_other_nll': 0.413, 'x_other_kl': 0.008, 'x_other_elbo': 0.415}, 0.6s elapsed\n",
      "[INFO] SCCLUETrainer: [Epoch 350] train={'dsc_loss': 0.646, 'gen_loss': 1.574, 'cross_loss': 0.789, 'cos_loss': 0.136, 'x_gex_nll': 0.444, 'x_gex_kl': 0.022, 'x_gex_elbo': 0.451, 'x_other_nll': 0.342, 'x_other_kl': 0.009, 'x_other_elbo': 0.345}, val={'dsc_loss': 0.672, 'gen_loss': 1.754, 'cross_loss': 0.871, 'cos_loss': 0.292, 'x_gex_nll': 0.47, 'x_gex_kl': 0.023, 'x_gex_elbo': 0.477, 'x_other_nll': 0.411, 'x_other_kl': 0.009, 'x_other_elbo': 0.414}, 0.6s elapsed\n",
      "[INFO] SCCLUETrainer: [Epoch 360] train={'dsc_loss': 0.655, 'gen_loss': 1.573, 'cross_loss': 0.788, 'cos_loss': 0.137, 'x_gex_nll': 0.444, 'x_gex_kl': 0.022, 'x_gex_elbo': 0.45, 'x_other_nll': 0.342, 'x_other_kl': 0.009, 'x_other_elbo': 0.345}, val={'dsc_loss': 0.68, 'gen_loss': 1.754, 'cross_loss': 0.871, 'cos_loss': 0.294, 'x_gex_nll': 0.47, 'x_gex_kl': 0.023, 'x_gex_elbo': 0.477, 'x_other_nll': 0.412, 'x_other_kl': 0.008, 'x_other_elbo': 0.414}, 0.7s elapsed\n",
      "[INFO] SCCLUETrainer: [Epoch 370] train={'dsc_loss': 0.649, 'gen_loss': 1.58, 'cross_loss': 0.792, 'cos_loss': 0.136, 'x_gex_nll': 0.445, 'x_gex_kl': 0.022, 'x_gex_elbo': 0.452, 'x_other_nll': 0.344, 'x_other_kl': 0.009, 'x_other_elbo': 0.347}, val={'dsc_loss': 0.668, 'gen_loss': 1.772, 'cross_loss': 0.879, 'cos_loss': 0.287, 'x_gex_nll': 0.475, 'x_gex_kl': 0.023, 'x_gex_elbo': 0.482, 'x_other_nll': 0.416, 'x_other_kl': 0.008, 'x_other_elbo': 0.419}, 0.6s elapsed\n",
      "[INFO] SCCLUETrainer: [Epoch 380] train={'dsc_loss': 0.655, 'gen_loss': 1.573, 'cross_loss': 0.789, 'cos_loss': 0.136, 'x_gex_nll': 0.443, 'x_gex_kl': 0.022, 'x_gex_elbo': 0.45, 'x_other_nll': 0.343, 'x_other_kl': 0.009, 'x_other_elbo': 0.345}, val={'dsc_loss': 0.647, 'gen_loss': 1.752, 'cross_loss': 0.87, 'cos_loss': 0.292, 'x_gex_nll': 0.47, 'x_gex_kl': 0.023, 'x_gex_elbo': 0.477, 'x_other_nll': 0.411, 'x_other_kl': 0.009, 'x_other_elbo': 0.413}, 0.7s elapsed\n",
      "[INFO] SCCLUETrainer: [Epoch 390] train={'dsc_loss': 0.647, 'gen_loss': 1.57, 'cross_loss': 0.786, 'cos_loss': 0.135, 'x_gex_nll': 0.443, 'x_gex_kl': 0.022, 'x_gex_elbo': 0.449, 'x_other_nll': 0.341, 'x_other_kl': 0.009, 'x_other_elbo': 0.344}, val={'dsc_loss': 0.668, 'gen_loss': 1.756, 'cross_loss': 0.872, 'cos_loss': 0.293, 'x_gex_nll': 0.47, 'x_gex_kl': 0.023, 'x_gex_elbo': 0.477, 'x_other_nll': 0.412, 'x_other_kl': 0.009, 'x_other_elbo': 0.414}, 0.6s elapsed\n",
      "[INFO] SCCLUETrainer: [Epoch 400] train={'dsc_loss': 0.642, 'gen_loss': 1.578, 'cross_loss': 0.79, 'cos_loss': 0.136, 'x_gex_nll': 0.444, 'x_gex_kl': 0.022, 'x_gex_elbo': 0.451, 'x_other_nll': 0.344, 'x_other_kl': 0.009, 'x_other_elbo': 0.347}, val={'dsc_loss': 0.635, 'gen_loss': 1.755, 'cross_loss': 0.87, 'cos_loss': 0.296, 'x_gex_nll': 0.471, 'x_gex_kl': 0.023, 'x_gex_elbo': 0.478, 'x_other_nll': 0.411, 'x_other_kl': 0.008, 'x_other_elbo': 0.414}, 0.7s elapsed\n",
      "[INFO] EarlyStopping: No usable checkpoint found. Skipping checkpoint restoration.\n",
      "[INFO] Transferrable: Copied: encoders.0.linear_0.weight\n"
     ]
    },
    {
     "name": "stderr",
     "output_type": "stream",
     "text": [
      "INFO:Transferrable:Copied: encoders.0.linear_0.weight\n"
     ]
    },
    {
     "name": "stdout",
     "output_type": "stream",
     "text": [
      "[INFO] Transferrable: Copied: encoders.0.linear_0.bias\n"
     ]
    },
    {
     "name": "stderr",
     "output_type": "stream",
     "text": [
      "INFO:Transferrable:Copied: encoders.0.linear_0.bias\n"
     ]
    },
    {
     "name": "stdout",
     "output_type": "stream",
     "text": [
      "[INFO] Transferrable: Copied: encoders.0.bn_0.weight\n"
     ]
    },
    {
     "name": "stderr",
     "output_type": "stream",
     "text": [
      "INFO:Transferrable:Copied: encoders.0.bn_0.weight\n"
     ]
    },
    {
     "name": "stdout",
     "output_type": "stream",
     "text": [
      "[INFO] Transferrable: Copied: encoders.0.bn_0.bias\n"
     ]
    },
    {
     "name": "stderr",
     "output_type": "stream",
     "text": [
      "INFO:Transferrable:Copied: encoders.0.bn_0.bias\n"
     ]
    },
    {
     "name": "stdout",
     "output_type": "stream",
     "text": [
      "[INFO] Transferrable: Copied: encoders.0.linear_1.weight\n"
     ]
    },
    {
     "name": "stderr",
     "output_type": "stream",
     "text": [
      "INFO:Transferrable:Copied: encoders.0.linear_1.weight\n"
     ]
    },
    {
     "name": "stdout",
     "output_type": "stream",
     "text": [
      "[INFO] Transferrable: Copied: encoders.0.linear_1.bias\n"
     ]
    },
    {
     "name": "stderr",
     "output_type": "stream",
     "text": [
      "INFO:Transferrable:Copied: encoders.0.linear_1.bias\n"
     ]
    },
    {
     "name": "stdout",
     "output_type": "stream",
     "text": [
      "[INFO] Transferrable: Copied: encoders.0.bn_1.weight\n"
     ]
    },
    {
     "name": "stderr",
     "output_type": "stream",
     "text": [
      "INFO:Transferrable:Copied: encoders.0.bn_1.weight\n"
     ]
    },
    {
     "name": "stdout",
     "output_type": "stream",
     "text": [
      "[INFO] Transferrable: Copied: encoders.0.bn_1.bias\n"
     ]
    },
    {
     "name": "stderr",
     "output_type": "stream",
     "text": [
      "INFO:Transferrable:Copied: encoders.0.bn_1.bias\n"
     ]
    },
    {
     "name": "stdout",
     "output_type": "stream",
     "text": [
      "[INFO] Transferrable: Copied: encoders.0.loc.weight\n"
     ]
    },
    {
     "name": "stderr",
     "output_type": "stream",
     "text": [
      "INFO:Transferrable:Copied: encoders.0.loc.weight\n"
     ]
    },
    {
     "name": "stdout",
     "output_type": "stream",
     "text": [
      "[INFO] Transferrable: Copied: encoders.0.loc.bias\n"
     ]
    },
    {
     "name": "stderr",
     "output_type": "stream",
     "text": [
      "INFO:Transferrable:Copied: encoders.0.loc.bias\n"
     ]
    },
    {
     "name": "stdout",
     "output_type": "stream",
     "text": [
      "[INFO] Transferrable: Copied: encoders.0.std_lin.weight\n"
     ]
    },
    {
     "name": "stderr",
     "output_type": "stream",
     "text": [
      "INFO:Transferrable:Copied: encoders.0.std_lin.weight\n"
     ]
    },
    {
     "name": "stdout",
     "output_type": "stream",
     "text": [
      "[INFO] Transferrable: Copied: encoders.0.std_lin.bias\n"
     ]
    },
    {
     "name": "stderr",
     "output_type": "stream",
     "text": [
      "INFO:Transferrable:Copied: encoders.0.std_lin.bias\n"
     ]
    },
    {
     "name": "stdout",
     "output_type": "stream",
     "text": [
      "[INFO] Transferrable: Copied: encoders.1.linear_0.weight\n"
     ]
    },
    {
     "name": "stderr",
     "output_type": "stream",
     "text": [
      "INFO:Transferrable:Copied: encoders.1.linear_0.weight\n"
     ]
    },
    {
     "name": "stdout",
     "output_type": "stream",
     "text": [
      "[INFO] Transferrable: Copied: encoders.1.linear_0.bias\n"
     ]
    },
    {
     "name": "stderr",
     "output_type": "stream",
     "text": [
      "INFO:Transferrable:Copied: encoders.1.linear_0.bias\n"
     ]
    },
    {
     "name": "stdout",
     "output_type": "stream",
     "text": [
      "[INFO] Transferrable: Copied: encoders.1.bn_0.weight\n"
     ]
    },
    {
     "name": "stderr",
     "output_type": "stream",
     "text": [
      "INFO:Transferrable:Copied: encoders.1.bn_0.weight\n"
     ]
    },
    {
     "name": "stdout",
     "output_type": "stream",
     "text": [
      "[INFO] Transferrable: Copied: encoders.1.bn_0.bias\n"
     ]
    },
    {
     "name": "stderr",
     "output_type": "stream",
     "text": [
      "INFO:Transferrable:Copied: encoders.1.bn_0.bias\n"
     ]
    },
    {
     "name": "stdout",
     "output_type": "stream",
     "text": [
      "[INFO] Transferrable: Copied: encoders.1.linear_1.weight\n"
     ]
    },
    {
     "name": "stderr",
     "output_type": "stream",
     "text": [
      "INFO:Transferrable:Copied: encoders.1.linear_1.weight\n"
     ]
    },
    {
     "name": "stdout",
     "output_type": "stream",
     "text": [
      "[INFO] Transferrable: Copied: encoders.1.linear_1.bias\n"
     ]
    },
    {
     "name": "stderr",
     "output_type": "stream",
     "text": [
      "INFO:Transferrable:Copied: encoders.1.linear_1.bias\n"
     ]
    },
    {
     "name": "stdout",
     "output_type": "stream",
     "text": [
      "[INFO] Transferrable: Copied: encoders.1.bn_1.weight\n"
     ]
    },
    {
     "name": "stderr",
     "output_type": "stream",
     "text": [
      "INFO:Transferrable:Copied: encoders.1.bn_1.weight\n"
     ]
    },
    {
     "name": "stdout",
     "output_type": "stream",
     "text": [
      "[INFO] Transferrable: Copied: encoders.1.bn_1.bias\n"
     ]
    },
    {
     "name": "stderr",
     "output_type": "stream",
     "text": [
      "INFO:Transferrable:Copied: encoders.1.bn_1.bias\n"
     ]
    },
    {
     "name": "stdout",
     "output_type": "stream",
     "text": [
      "[INFO] Transferrable: Copied: encoders.1.loc.weight\n"
     ]
    },
    {
     "name": "stderr",
     "output_type": "stream",
     "text": [
      "INFO:Transferrable:Copied: encoders.1.loc.weight\n"
     ]
    },
    {
     "name": "stdout",
     "output_type": "stream",
     "text": [
      "[INFO] Transferrable: Copied: encoders.1.loc.bias\n"
     ]
    },
    {
     "name": "stderr",
     "output_type": "stream",
     "text": [
      "INFO:Transferrable:Copied: encoders.1.loc.bias\n"
     ]
    },
    {
     "name": "stdout",
     "output_type": "stream",
     "text": [
      "[INFO] Transferrable: Copied: encoders.1.std_lin.weight\n"
     ]
    },
    {
     "name": "stderr",
     "output_type": "stream",
     "text": [
      "INFO:Transferrable:Copied: encoders.1.std_lin.weight\n"
     ]
    },
    {
     "name": "stdout",
     "output_type": "stream",
     "text": [
      "[INFO] Transferrable: Copied: encoders.1.std_lin.bias\n"
     ]
    },
    {
     "name": "stderr",
     "output_type": "stream",
     "text": [
      "INFO:Transferrable:Copied: encoders.1.std_lin.bias\n"
     ]
    },
    {
     "name": "stdout",
     "output_type": "stream",
     "text": [
      "[INFO] Transferrable: Copied: est_l.weight\n"
     ]
    },
    {
     "name": "stderr",
     "output_type": "stream",
     "text": [
      "INFO:Transferrable:Copied: est_l.weight\n"
     ]
    },
    {
     "name": "stdout",
     "output_type": "stream",
     "text": [
      "[INFO] Transferrable: Copied: est_l.bias\n"
     ]
    },
    {
     "name": "stderr",
     "output_type": "stream",
     "text": [
      "INFO:Transferrable:Copied: est_l.bias\n"
     ]
    },
    {
     "name": "stdout",
     "output_type": "stream",
     "text": [
      "[INFO] Transferrable: Copied: encoders.0.bn_0.running_mean\n"
     ]
    },
    {
     "name": "stderr",
     "output_type": "stream",
     "text": [
      "INFO:Transferrable:Copied: encoders.0.bn_0.running_mean\n"
     ]
    },
    {
     "name": "stdout",
     "output_type": "stream",
     "text": [
      "[INFO] Transferrable: Copied: encoders.0.bn_0.running_var\n"
     ]
    },
    {
     "name": "stderr",
     "output_type": "stream",
     "text": [
      "INFO:Transferrable:Copied: encoders.0.bn_0.running_var\n"
     ]
    },
    {
     "name": "stdout",
     "output_type": "stream",
     "text": [
      "[INFO] Transferrable: Copied: encoders.0.bn_0.num_batches_tracked\n"
     ]
    },
    {
     "name": "stderr",
     "output_type": "stream",
     "text": [
      "INFO:Transferrable:Copied: encoders.0.bn_0.num_batches_tracked\n"
     ]
    },
    {
     "name": "stdout",
     "output_type": "stream",
     "text": [
      "[INFO] Transferrable: Copied: encoders.0.bn_1.running_mean\n"
     ]
    },
    {
     "name": "stderr",
     "output_type": "stream",
     "text": [
      "INFO:Transferrable:Copied: encoders.0.bn_1.running_mean\n"
     ]
    },
    {
     "name": "stdout",
     "output_type": "stream",
     "text": [
      "[INFO] Transferrable: Copied: encoders.0.bn_1.running_var\n"
     ]
    },
    {
     "name": "stderr",
     "output_type": "stream",
     "text": [
      "INFO:Transferrable:Copied: encoders.0.bn_1.running_var\n"
     ]
    },
    {
     "name": "stdout",
     "output_type": "stream",
     "text": [
      "[INFO] Transferrable: Copied: encoders.0.bn_1.num_batches_tracked\n"
     ]
    },
    {
     "name": "stderr",
     "output_type": "stream",
     "text": [
      "INFO:Transferrable:Copied: encoders.0.bn_1.num_batches_tracked\n"
     ]
    },
    {
     "name": "stdout",
     "output_type": "stream",
     "text": [
      "[INFO] Transferrable: Copied: encoders.1.bn_0.running_mean\n"
     ]
    },
    {
     "name": "stderr",
     "output_type": "stream",
     "text": [
      "INFO:Transferrable:Copied: encoders.1.bn_0.running_mean\n"
     ]
    },
    {
     "name": "stdout",
     "output_type": "stream",
     "text": [
      "[INFO] Transferrable: Copied: encoders.1.bn_0.running_var\n"
     ]
    },
    {
     "name": "stderr",
     "output_type": "stream",
     "text": [
      "INFO:Transferrable:Copied: encoders.1.bn_0.running_var\n"
     ]
    },
    {
     "name": "stdout",
     "output_type": "stream",
     "text": [
      "[INFO] Transferrable: Copied: encoders.1.bn_0.num_batches_tracked\n"
     ]
    },
    {
     "name": "stderr",
     "output_type": "stream",
     "text": [
      "INFO:Transferrable:Copied: encoders.1.bn_0.num_batches_tracked\n"
     ]
    },
    {
     "name": "stdout",
     "output_type": "stream",
     "text": [
      "[INFO] Transferrable: Copied: encoders.1.bn_1.running_mean\n"
     ]
    },
    {
     "name": "stderr",
     "output_type": "stream",
     "text": [
      "INFO:Transferrable:Copied: encoders.1.bn_1.running_mean\n"
     ]
    },
    {
     "name": "stdout",
     "output_type": "stream",
     "text": [
      "[INFO] Transferrable: Copied: encoders.1.bn_1.running_var\n"
     ]
    },
    {
     "name": "stderr",
     "output_type": "stream",
     "text": [
      "INFO:Transferrable:Copied: encoders.1.bn_1.running_var\n"
     ]
    },
    {
     "name": "stdout",
     "output_type": "stream",
     "text": [
      "[INFO] Transferrable: Copied: encoders.1.bn_1.num_batches_tracked\n"
     ]
    },
    {
     "name": "stderr",
     "output_type": "stream",
     "text": [
      "INFO:Transferrable:Copied: encoders.1.bn_1.num_batches_tracked\n"
     ]
    },
    {
     "name": "stdout",
     "output_type": "stream",
     "text": [
      "[INFO] BatchedTransferrable: Copied: scale_lin\n"
     ]
    },
    {
     "name": "stderr",
     "output_type": "stream",
     "text": [
      "INFO:BatchedTransferrable:Copied: scale_lin\n"
     ]
    },
    {
     "name": "stdout",
     "output_type": "stream",
     "text": [
      "[INFO] BatchedTransferrable: Copied: bias\n"
     ]
    },
    {
     "name": "stderr",
     "output_type": "stream",
     "text": [
      "INFO:BatchedTransferrable:Copied: bias\n"
     ]
    },
    {
     "name": "stdout",
     "output_type": "stream",
     "text": [
      "[INFO] BatchedTransferrable: Copied: log_theta\n"
     ]
    },
    {
     "name": "stderr",
     "output_type": "stream",
     "text": [
      "INFO:BatchedTransferrable:Copied: log_theta\n"
     ]
    },
    {
     "name": "stdout",
     "output_type": "stream",
     "text": [
      "[INFO] BatchedTransferrable: Copied: linear_0.weight\n"
     ]
    },
    {
     "name": "stderr",
     "output_type": "stream",
     "text": [
      "INFO:BatchedTransferrable:Copied: linear_0.weight\n"
     ]
    },
    {
     "name": "stdout",
     "output_type": "stream",
     "text": [
      "[INFO] BatchedTransferrable: Copied: linear_0.bias\n"
     ]
    },
    {
     "name": "stderr",
     "output_type": "stream",
     "text": [
      "INFO:BatchedTransferrable:Copied: linear_0.bias\n"
     ]
    },
    {
     "name": "stdout",
     "output_type": "stream",
     "text": [
      "[INFO] BatchedTransferrable: Copied: bn_0.weight\n"
     ]
    },
    {
     "name": "stderr",
     "output_type": "stream",
     "text": [
      "INFO:BatchedTransferrable:Copied: bn_0.weight\n"
     ]
    },
    {
     "name": "stdout",
     "output_type": "stream",
     "text": [
      "[INFO] BatchedTransferrable: Copied: bn_0.bias\n"
     ]
    },
    {
     "name": "stderr",
     "output_type": "stream",
     "text": [
      "INFO:BatchedTransferrable:Copied: bn_0.bias\n"
     ]
    },
    {
     "name": "stdout",
     "output_type": "stream",
     "text": [
      "[INFO] BatchedTransferrable: Copied: loc.weight\n"
     ]
    },
    {
     "name": "stderr",
     "output_type": "stream",
     "text": [
      "INFO:BatchedTransferrable:Copied: loc.weight\n"
     ]
    },
    {
     "name": "stdout",
     "output_type": "stream",
     "text": [
      "[INFO] BatchedTransferrable: Copied: loc.bias\n"
     ]
    },
    {
     "name": "stderr",
     "output_type": "stream",
     "text": [
      "INFO:BatchedTransferrable:Copied: loc.bias\n"
     ]
    },
    {
     "name": "stdout",
     "output_type": "stream",
     "text": [
      "[INFO] BatchedTransferrable: Copied: bn_0.running_mean\n"
     ]
    },
    {
     "name": "stderr",
     "output_type": "stream",
     "text": [
      "INFO:BatchedTransferrable:Copied: bn_0.running_mean\n"
     ]
    },
    {
     "name": "stdout",
     "output_type": "stream",
     "text": [
      "[INFO] BatchedTransferrable: Copied: bn_0.running_var\n"
     ]
    },
    {
     "name": "stderr",
     "output_type": "stream",
     "text": [
      "INFO:BatchedTransferrable:Copied: bn_0.running_var\n"
     ]
    },
    {
     "name": "stdout",
     "output_type": "stream",
     "text": [
      "[INFO] BatchedTransferrable: Copied: bn_0.num_batches_tracked\n"
     ]
    },
    {
     "name": "stderr",
     "output_type": "stream",
     "text": [
      "INFO:BatchedTransferrable:Copied: bn_0.num_batches_tracked\n"
     ]
    },
    {
     "name": "stdout",
     "output_type": "stream",
     "text": [
      "[INFO] Transferrable: Copied: encoders.0.linear_0.weight\n"
     ]
    },
    {
     "name": "stderr",
     "output_type": "stream",
     "text": [
      "INFO:Transferrable:Copied: encoders.0.linear_0.weight\n"
     ]
    },
    {
     "name": "stdout",
     "output_type": "stream",
     "text": [
      "[INFO] Transferrable: Copied: encoders.0.linear_0.bias\n"
     ]
    },
    {
     "name": "stderr",
     "output_type": "stream",
     "text": [
      "INFO:Transferrable:Copied: encoders.0.linear_0.bias\n"
     ]
    },
    {
     "name": "stdout",
     "output_type": "stream",
     "text": [
      "[INFO] Transferrable: Copied: encoders.0.bn_0.weight\n"
     ]
    },
    {
     "name": "stderr",
     "output_type": "stream",
     "text": [
      "INFO:Transferrable:Copied: encoders.0.bn_0.weight\n"
     ]
    },
    {
     "name": "stdout",
     "output_type": "stream",
     "text": [
      "[INFO] Transferrable: Copied: encoders.0.bn_0.bias\n"
     ]
    },
    {
     "name": "stderr",
     "output_type": "stream",
     "text": [
      "INFO:Transferrable:Copied: encoders.0.bn_0.bias\n"
     ]
    },
    {
     "name": "stdout",
     "output_type": "stream",
     "text": [
      "[INFO] Transferrable: Copied: encoders.0.linear_1.weight\n"
     ]
    },
    {
     "name": "stderr",
     "output_type": "stream",
     "text": [
      "INFO:Transferrable:Copied: encoders.0.linear_1.weight\n"
     ]
    },
    {
     "name": "stdout",
     "output_type": "stream",
     "text": [
      "[INFO] Transferrable: Copied: encoders.0.linear_1.bias\n"
     ]
    },
    {
     "name": "stderr",
     "output_type": "stream",
     "text": [
      "INFO:Transferrable:Copied: encoders.0.linear_1.bias\n"
     ]
    },
    {
     "name": "stdout",
     "output_type": "stream",
     "text": [
      "[INFO] Transferrable: Copied: encoders.0.bn_1.weight\n"
     ]
    },
    {
     "name": "stderr",
     "output_type": "stream",
     "text": [
      "INFO:Transferrable:Copied: encoders.0.bn_1.weight\n"
     ]
    },
    {
     "name": "stdout",
     "output_type": "stream",
     "text": [
      "[INFO] Transferrable: Copied: encoders.0.bn_1.bias\n"
     ]
    },
    {
     "name": "stderr",
     "output_type": "stream",
     "text": [
      "INFO:Transferrable:Copied: encoders.0.bn_1.bias\n"
     ]
    },
    {
     "name": "stdout",
     "output_type": "stream",
     "text": [
      "[INFO] Transferrable: Copied: encoders.0.loc.weight\n"
     ]
    },
    {
     "name": "stderr",
     "output_type": "stream",
     "text": [
      "INFO:Transferrable:Copied: encoders.0.loc.weight\n"
     ]
    },
    {
     "name": "stdout",
     "output_type": "stream",
     "text": [
      "[INFO] Transferrable: Copied: encoders.0.loc.bias\n"
     ]
    },
    {
     "name": "stderr",
     "output_type": "stream",
     "text": [
      "INFO:Transferrable:Copied: encoders.0.loc.bias\n"
     ]
    },
    {
     "name": "stdout",
     "output_type": "stream",
     "text": [
      "[INFO] Transferrable: Copied: encoders.0.std_lin.weight\n"
     ]
    },
    {
     "name": "stderr",
     "output_type": "stream",
     "text": [
      "INFO:Transferrable:Copied: encoders.0.std_lin.weight\n"
     ]
    },
    {
     "name": "stdout",
     "output_type": "stream",
     "text": [
      "[INFO] Transferrable: Copied: encoders.0.std_lin.bias\n"
     ]
    },
    {
     "name": "stderr",
     "output_type": "stream",
     "text": [
      "INFO:Transferrable:Copied: encoders.0.std_lin.bias\n"
     ]
    },
    {
     "name": "stdout",
     "output_type": "stream",
     "text": [
      "[INFO] Transferrable: Copied: encoders.1.linear_0.weight\n"
     ]
    },
    {
     "name": "stderr",
     "output_type": "stream",
     "text": [
      "INFO:Transferrable:Copied: encoders.1.linear_0.weight\n"
     ]
    },
    {
     "name": "stdout",
     "output_type": "stream",
     "text": [
      "[INFO] Transferrable: Copied: encoders.1.linear_0.bias\n"
     ]
    },
    {
     "name": "stderr",
     "output_type": "stream",
     "text": [
      "INFO:Transferrable:Copied: encoders.1.linear_0.bias\n"
     ]
    },
    {
     "name": "stdout",
     "output_type": "stream",
     "text": [
      "[INFO] Transferrable: Copied: encoders.1.bn_0.weight\n"
     ]
    },
    {
     "name": "stderr",
     "output_type": "stream",
     "text": [
      "INFO:Transferrable:Copied: encoders.1.bn_0.weight\n"
     ]
    },
    {
     "name": "stdout",
     "output_type": "stream",
     "text": [
      "[INFO] Transferrable: Copied: encoders.1.bn_0.bias\n"
     ]
    },
    {
     "name": "stderr",
     "output_type": "stream",
     "text": [
      "INFO:Transferrable:Copied: encoders.1.bn_0.bias\n"
     ]
    },
    {
     "name": "stdout",
     "output_type": "stream",
     "text": [
      "[INFO] Transferrable: Copied: encoders.1.linear_1.weight\n"
     ]
    },
    {
     "name": "stderr",
     "output_type": "stream",
     "text": [
      "INFO:Transferrable:Copied: encoders.1.linear_1.weight\n"
     ]
    },
    {
     "name": "stdout",
     "output_type": "stream",
     "text": [
      "[INFO] Transferrable: Copied: encoders.1.linear_1.bias\n"
     ]
    },
    {
     "name": "stderr",
     "output_type": "stream",
     "text": [
      "INFO:Transferrable:Copied: encoders.1.linear_1.bias\n"
     ]
    },
    {
     "name": "stdout",
     "output_type": "stream",
     "text": [
      "[INFO] Transferrable: Copied: encoders.1.bn_1.weight\n"
     ]
    },
    {
     "name": "stderr",
     "output_type": "stream",
     "text": [
      "INFO:Transferrable:Copied: encoders.1.bn_1.weight\n"
     ]
    },
    {
     "name": "stdout",
     "output_type": "stream",
     "text": [
      "[INFO] Transferrable: Copied: encoders.1.bn_1.bias\n"
     ]
    },
    {
     "name": "stderr",
     "output_type": "stream",
     "text": [
      "INFO:Transferrable:Copied: encoders.1.bn_1.bias\n"
     ]
    },
    {
     "name": "stdout",
     "output_type": "stream",
     "text": [
      "[INFO] Transferrable: Copied: encoders.1.loc.weight\n"
     ]
    },
    {
     "name": "stderr",
     "output_type": "stream",
     "text": [
      "INFO:Transferrable:Copied: encoders.1.loc.weight\n"
     ]
    },
    {
     "name": "stdout",
     "output_type": "stream",
     "text": [
      "[INFO] Transferrable: Copied: encoders.1.loc.bias\n"
     ]
    },
    {
     "name": "stderr",
     "output_type": "stream",
     "text": [
      "INFO:Transferrable:Copied: encoders.1.loc.bias\n"
     ]
    },
    {
     "name": "stdout",
     "output_type": "stream",
     "text": [
      "[INFO] Transferrable: Copied: encoders.1.std_lin.weight\n"
     ]
    },
    {
     "name": "stderr",
     "output_type": "stream",
     "text": [
      "INFO:Transferrable:Copied: encoders.1.std_lin.weight\n"
     ]
    },
    {
     "name": "stdout",
     "output_type": "stream",
     "text": [
      "[INFO] Transferrable: Copied: encoders.1.std_lin.bias\n"
     ]
    },
    {
     "name": "stderr",
     "output_type": "stream",
     "text": [
      "INFO:Transferrable:Copied: encoders.1.std_lin.bias\n"
     ]
    },
    {
     "name": "stdout",
     "output_type": "stream",
     "text": [
      "[INFO] Transferrable: Copied: est_l.weight\n"
     ]
    },
    {
     "name": "stderr",
     "output_type": "stream",
     "text": [
      "INFO:Transferrable:Copied: est_l.weight\n"
     ]
    },
    {
     "name": "stdout",
     "output_type": "stream",
     "text": [
      "[INFO] Transferrable: Copied: est_l.bias\n"
     ]
    },
    {
     "name": "stderr",
     "output_type": "stream",
     "text": [
      "INFO:Transferrable:Copied: est_l.bias\n"
     ]
    },
    {
     "name": "stdout",
     "output_type": "stream",
     "text": [
      "[INFO] Transferrable: Copied: encoders.0.bn_0.running_mean\n"
     ]
    },
    {
     "name": "stderr",
     "output_type": "stream",
     "text": [
      "INFO:Transferrable:Copied: encoders.0.bn_0.running_mean\n"
     ]
    },
    {
     "name": "stdout",
     "output_type": "stream",
     "text": [
      "[INFO] Transferrable: Copied: encoders.0.bn_0.running_var\n"
     ]
    },
    {
     "name": "stderr",
     "output_type": "stream",
     "text": [
      "INFO:Transferrable:Copied: encoders.0.bn_0.running_var\n"
     ]
    },
    {
     "name": "stdout",
     "output_type": "stream",
     "text": [
      "[INFO] Transferrable: Copied: encoders.0.bn_0.num_batches_tracked\n"
     ]
    },
    {
     "name": "stderr",
     "output_type": "stream",
     "text": [
      "INFO:Transferrable:Copied: encoders.0.bn_0.num_batches_tracked\n"
     ]
    },
    {
     "name": "stdout",
     "output_type": "stream",
     "text": [
      "[INFO] Transferrable: Copied: encoders.0.bn_1.running_mean\n"
     ]
    },
    {
     "name": "stderr",
     "output_type": "stream",
     "text": [
      "INFO:Transferrable:Copied: encoders.0.bn_1.running_mean\n"
     ]
    },
    {
     "name": "stdout",
     "output_type": "stream",
     "text": [
      "[INFO] Transferrable: Copied: encoders.0.bn_1.running_var\n"
     ]
    },
    {
     "name": "stderr",
     "output_type": "stream",
     "text": [
      "INFO:Transferrable:Copied: encoders.0.bn_1.running_var\n"
     ]
    },
    {
     "name": "stdout",
     "output_type": "stream",
     "text": [
      "[INFO] Transferrable: Copied: encoders.0.bn_1.num_batches_tracked\n"
     ]
    },
    {
     "name": "stderr",
     "output_type": "stream",
     "text": [
      "INFO:Transferrable:Copied: encoders.0.bn_1.num_batches_tracked\n"
     ]
    },
    {
     "name": "stdout",
     "output_type": "stream",
     "text": [
      "[INFO] Transferrable: Copied: encoders.1.bn_0.running_mean\n"
     ]
    },
    {
     "name": "stderr",
     "output_type": "stream",
     "text": [
      "INFO:Transferrable:Copied: encoders.1.bn_0.running_mean\n"
     ]
    },
    {
     "name": "stdout",
     "output_type": "stream",
     "text": [
      "[INFO] Transferrable: Copied: encoders.1.bn_0.running_var\n"
     ]
    },
    {
     "name": "stderr",
     "output_type": "stream",
     "text": [
      "INFO:Transferrable:Copied: encoders.1.bn_0.running_var\n"
     ]
    },
    {
     "name": "stdout",
     "output_type": "stream",
     "text": [
      "[INFO] Transferrable: Copied: encoders.1.bn_0.num_batches_tracked\n"
     ]
    },
    {
     "name": "stderr",
     "output_type": "stream",
     "text": [
      "INFO:Transferrable:Copied: encoders.1.bn_0.num_batches_tracked\n"
     ]
    },
    {
     "name": "stdout",
     "output_type": "stream",
     "text": [
      "[INFO] Transferrable: Copied: encoders.1.bn_1.running_mean\n"
     ]
    },
    {
     "name": "stderr",
     "output_type": "stream",
     "text": [
      "INFO:Transferrable:Copied: encoders.1.bn_1.running_mean\n"
     ]
    },
    {
     "name": "stdout",
     "output_type": "stream",
     "text": [
      "[INFO] Transferrable: Copied: encoders.1.bn_1.running_var\n"
     ]
    },
    {
     "name": "stderr",
     "output_type": "stream",
     "text": [
      "INFO:Transferrable:Copied: encoders.1.bn_1.running_var\n"
     ]
    },
    {
     "name": "stdout",
     "output_type": "stream",
     "text": [
      "[INFO] Transferrable: Copied: encoders.1.bn_1.num_batches_tracked\n"
     ]
    },
    {
     "name": "stderr",
     "output_type": "stream",
     "text": [
      "INFO:Transferrable:Copied: encoders.1.bn_1.num_batches_tracked\n"
     ]
    },
    {
     "name": "stdout",
     "output_type": "stream",
     "text": [
      "[INFO] BatchedTransferrable: Copied: scale_lin\n"
     ]
    },
    {
     "name": "stderr",
     "output_type": "stream",
     "text": [
      "INFO:BatchedTransferrable:Copied: scale_lin\n"
     ]
    },
    {
     "name": "stdout",
     "output_type": "stream",
     "text": [
      "[INFO] BatchedTransferrable: Copied: bias\n"
     ]
    },
    {
     "name": "stderr",
     "output_type": "stream",
     "text": [
      "INFO:BatchedTransferrable:Copied: bias\n"
     ]
    },
    {
     "name": "stdout",
     "output_type": "stream",
     "text": [
      "[INFO] BatchedTransferrable: Copied: log_theta\n"
     ]
    },
    {
     "name": "stderr",
     "output_type": "stream",
     "text": [
      "INFO:BatchedTransferrable:Copied: log_theta\n"
     ]
    },
    {
     "name": "stdout",
     "output_type": "stream",
     "text": [
      "[INFO] BatchedTransferrable: Copied: linear_0.weight\n"
     ]
    },
    {
     "name": "stderr",
     "output_type": "stream",
     "text": [
      "INFO:BatchedTransferrable:Copied: linear_0.weight\n"
     ]
    },
    {
     "name": "stdout",
     "output_type": "stream",
     "text": [
      "[INFO] BatchedTransferrable: Copied: linear_0.bias\n"
     ]
    },
    {
     "name": "stderr",
     "output_type": "stream",
     "text": [
      "INFO:BatchedTransferrable:Copied: linear_0.bias\n"
     ]
    },
    {
     "name": "stdout",
     "output_type": "stream",
     "text": [
      "[INFO] BatchedTransferrable: Copied: bn_0.weight\n"
     ]
    },
    {
     "name": "stderr",
     "output_type": "stream",
     "text": [
      "INFO:BatchedTransferrable:Copied: bn_0.weight\n"
     ]
    },
    {
     "name": "stdout",
     "output_type": "stream",
     "text": [
      "[INFO] BatchedTransferrable: Copied: bn_0.bias\n"
     ]
    },
    {
     "name": "stderr",
     "output_type": "stream",
     "text": [
      "INFO:BatchedTransferrable:Copied: bn_0.bias\n"
     ]
    },
    {
     "name": "stdout",
     "output_type": "stream",
     "text": [
      "[INFO] BatchedTransferrable: Copied: loc.weight\n"
     ]
    },
    {
     "name": "stderr",
     "output_type": "stream",
     "text": [
      "INFO:BatchedTransferrable:Copied: loc.weight\n"
     ]
    },
    {
     "name": "stdout",
     "output_type": "stream",
     "text": [
      "[INFO] BatchedTransferrable: Copied: loc.bias\n"
     ]
    },
    {
     "name": "stderr",
     "output_type": "stream",
     "text": [
      "INFO:BatchedTransferrable:Copied: loc.bias\n"
     ]
    },
    {
     "name": "stdout",
     "output_type": "stream",
     "text": [
      "[INFO] BatchedTransferrable: Copied: bn_0.running_mean\n"
     ]
    },
    {
     "name": "stderr",
     "output_type": "stream",
     "text": [
      "INFO:BatchedTransferrable:Copied: bn_0.running_mean\n"
     ]
    },
    {
     "name": "stdout",
     "output_type": "stream",
     "text": [
      "[INFO] BatchedTransferrable: Copied: bn_0.running_var\n"
     ]
    },
    {
     "name": "stderr",
     "output_type": "stream",
     "text": [
      "INFO:BatchedTransferrable:Copied: bn_0.running_var\n"
     ]
    },
    {
     "name": "stdout",
     "output_type": "stream",
     "text": [
      "[INFO] BatchedTransferrable: Copied: bn_0.num_batches_tracked\n"
     ]
    },
    {
     "name": "stderr",
     "output_type": "stream",
     "text": [
      "INFO:BatchedTransferrable:Copied: bn_0.num_batches_tracked\n"
     ]
    },
    {
     "name": "stdout",
     "output_type": "stream",
     "text": [
      "[INFO] BatchedTransferrable: Copied: linear_0.weight\n"
     ]
    },
    {
     "name": "stderr",
     "output_type": "stream",
     "text": [
      "INFO:BatchedTransferrable:Copied: linear_0.weight\n"
     ]
    },
    {
     "name": "stdout",
     "output_type": "stream",
     "text": [
      "[INFO] BatchedTransferrable: Copied: linear_0.bias\n"
     ]
    },
    {
     "name": "stderr",
     "output_type": "stream",
     "text": [
      "INFO:BatchedTransferrable:Copied: linear_0.bias\n"
     ]
    },
    {
     "name": "stdout",
     "output_type": "stream",
     "text": [
      "[INFO] BatchedTransferrable: Copied: pred.weight\n"
     ]
    },
    {
     "name": "stderr",
     "output_type": "stream",
     "text": [
      "INFO:BatchedTransferrable:Copied: pred.weight\n"
     ]
    },
    {
     "name": "stdout",
     "output_type": "stream",
     "text": [
      "[INFO] BatchedTransferrable: Copied: pred.bias\n"
     ]
    },
    {
     "name": "stderr",
     "output_type": "stream",
     "text": [
      "INFO:BatchedTransferrable:Copied: pred.bias\n"
     ]
    },
    {
     "name": "stdout",
     "output_type": "stream",
     "text": [
      "[INFO] SCCLUETrainer: Using training directory: \"/tmp/GLUETMPayeec25a\"\n"
     ]
    },
    {
     "name": "stderr",
     "output_type": "stream",
     "text": [
      "INFO:SCCLUETrainer:Using training directory: \"/tmp/GLUETMPayeec25a\"\n"
     ]
    },
    {
     "name": "stdout",
     "output_type": "stream",
     "text": [
      "Epoch 00005: reducing learning rate of group 0 to 1.0000e-04.\n",
      "Epoch 00005: reducing learning rate of group 0 to 1.0000e-04.\n"
     ]
    },
    {
     "name": "stderr",
     "output_type": "stream",
     "text": [
      "2024-02-26 19:37:45,822 ignite.handlers.early_stopping.EarlyStopping INFO: EarlyStopping: Stop training\n"
     ]
    },
    {
     "name": "stdout",
     "output_type": "stream",
     "text": [
      "Epoch 00009: reducing learning rate of group 0 to 1.0000e-05.\n",
      "Epoch 00009: reducing learning rate of group 0 to 1.0000e-05.\n",
      "[INFO] EarlyStopping: Restoring checkpoint \"6\"...\n"
     ]
    },
    {
     "name": "stderr",
     "output_type": "stream",
     "text": [
      "INFO:EarlyStopping:Restoring checkpoint \"6\"...\n"
     ]
    },
    {
     "name": "stdout",
     "output_type": "stream",
     "text": [
      "[INFO] EarlyStopping: Restoring checkpoint \"6\"...\n"
     ]
    },
    {
     "name": "stderr",
     "output_type": "stream",
     "text": [
      "INFO:EarlyStopping:Restoring checkpoint \"6\"...\n"
     ]
    }
   ],
   "source": [
    "input_train_mod1 = ad_bridge_rna\n",
    "input_train_mod2 = ad_bridge_atac\n",
    "input_test_mod1 = ad_test1_rna\n",
    "input_test_mod2 = ad_test2_atac\n",
    "\n",
    "input_train_mod1.X = sps.csr_matrix(input_train_mod1.X)\n",
    "input_train_mod2.X = sps.csr_matrix(input_train_mod2.X)\n",
    "input_train_mod1.layers['counts'] = sps.csr_matrix(input_train_mod1.X)\n",
    "input_train_mod2.layers['counts'] = sps.csr_matrix(input_train_mod2.X)\n",
    "input_test_mod1.X = sps.csr_matrix(input_test_mod1.X)\n",
    "input_test_mod2.X = sps.csr_matrix(input_test_mod2.X)\n",
    "input_test_mod1.layers['counts'] = sps.csr_matrix(input_test_mod1.X)\n",
    "input_test_mod2.layers['counts'] = sps.csr_matrix(input_test_mod2.X)\n",
    "\n",
    "input_train_mod1.obs[\"uid\"] = [f\"train-{i}\" for i in range(input_train_mod1.shape[0])]\n",
    "input_train_mod2.obs[\"uid\"] = [f\"train-{i}\" for i in range(input_train_mod2.shape[0])]\n",
    "input_test_mod1.obs[\"uid\"] = [f\"test-mod1-{i}\" for i in range(input_test_mod1.shape[0])]\n",
    "input_test_mod2.obs[\"uid\"] = [f\"test-mod2-{i}\" for i in range(input_test_mod2.shape[0])]\n",
    "\n",
    "input_train_mod1.obs['batch'] = 's1'\n",
    "input_train_mod2.obs['batch'] = 's1'\n",
    "input_test_mod1.obs['batch'] = 's2'\n",
    "input_test_mod2.obs['batch'] = 's3'\n",
    "\n",
    "print('Reading `h5ad` files...')\n",
    "omics = \"multiome\"\n",
    "\n",
    "gex = input_train_mod1\n",
    "other = input_train_mod2\n",
    "\n",
    "print('Preprocessing GEX...')\n",
    "gex_prep = utils.GEXPreprocessing(n_comps=100, n_genes=n_genes, merge_adt=omics == \"cite\")\n",
    "gex_prep.fit_transform(gex)\n",
    "print('Preprocessing ATAC...')\n",
    "other_prep = utils.ATACPreprocessing(n_comps=100)\n",
    "other_prep.fit_transform(other)\n",
    "\n",
    "with open(os.path.join(out_dir, \"prep.pickle\"), \"wb\") as f:\n",
    "    pickle.dump({\n",
    "        \"gex_prep\": gex_prep,\n",
    "        \"other_prep\": other_prep\n",
    "    }, f)\n",
    "\n",
    "with open(f\"{out_dir}/hyperparams.yaml\", \"w\") as f:\n",
    "    yaml.dump({\n",
    "        \"n_genes\": n_genes,\n",
    "        \"latent_dim\": latent_dim,\n",
    "        \"x2u_h_depth\": x2u_h_depth,\n",
    "        \"x2u_h_dim\": x2u_h_dim,\n",
    "        \"u2x_h_depth\": u2x_h_depth,\n",
    "        \"u2x_h_dim\": u2x_h_dim,\n",
    "        \"du_h_depth\": du_h_depth,\n",
    "        \"du_h_dim\": du_h_dim,\n",
    "        \"dropout\": dropout,\n",
    "        \"lam_data\": lam_data,\n",
    "        \"lam_kl\": lam_kl,\n",
    "        \"lam_align\": lam_align,\n",
    "        \"lam_cross\": lam_cross,\n",
    "        \"lam_cos\": lam_cos,\n",
    "        \"normalize_u\": normalize_u,\n",
    "        \"random_seed\": random_seed\n",
    "    }, f)\n",
    "\n",
    "scglue.models.configure_dataset(\n",
    "    gex, \"NB\", use_highly_variable=True,\n",
    "    use_layer=\"counts\", use_rep=\"X_pca\",\n",
    "    use_batch=\"batch\", use_uid=\"uid\"\n",
    ")\n",
    "scglue.models.configure_dataset(\n",
    "    other, \"NB\", use_highly_variable=True,\n",
    "    use_layer=\"counts\", use_rep=\"X_lsi\",\n",
    "    use_batch=\"batch\", use_uid=\"uid\"\n",
    ")\n",
    "\n",
    "print('Building model...')\n",
    "model = scglue.models.SCCLUEModel(\n",
    "    {\"gex\": gex, \"other\": other},\n",
    "    latent_dim=latent_dim,\n",
    "    x2u_h_depth=x2u_h_depth,\n",
    "    x2u_h_dim=x2u_h_dim,\n",
    "    u2x_h_depth=u2x_h_depth,\n",
    "    u2x_h_dim=u2x_h_dim,\n",
    "    du_h_depth=du_h_depth,\n",
    "    du_h_dim=du_h_dim,\n",
    "    dropout=dropout,\n",
    "    shared_batches=False,\n",
    "    random_seed=random_seed\n",
    ")\n",
    "\n",
    "print('Compiling model...')\n",
    "model.compile(\n",
    "    lam_data=lam_data, lam_kl=lam_kl, lam_align=lam_align,\n",
    "    lam_cross=lam_cross, lam_cos=lam_cos, normalize_u=normalize_u,\n",
    "    domain_weight={\"gex\": 1, \"other\": 1}\n",
    ")\n",
    "\n",
    "# help(model.fit)\n",
    "print('Training model...')\n",
    "model.fit(\n",
    "    {\"gex\": gex, \"other\": other}, max_epochs=max_epochs1,\n",
    ")\n",
    "model.save(os.path.join(out_dir, \"pretrain.dill\"))\n",
    "\n",
    "# ===============================\n",
    "#               stage 2\n",
    "# ===============================\n",
    "\n",
    "logging.info('Concatenating training and test data...')\n",
    "input_mod1 = ad.concat(\n",
    "    {\"train\": input_train_mod1, \"test\": input_test_mod1},\n",
    "    axis=0, join=\"outer\", merge=\"same\", label=\"group\",\n",
    "    fill_value=0, index_unique=\"-\"\n",
    ")\n",
    "input_mod1.uns[\"feature_type\"] = 'GEX'\n",
    "\n",
    "input_mod2 = ad.concat(\n",
    "    {\"train\": input_train_mod2, \"test\": input_test_mod2},\n",
    "    axis=0, join=\"outer\", merge=\"same\", label=\"group\",\n",
    "    fill_value=0, index_unique=\"-\"\n",
    ")\n",
    "input_mod2.uns[\"feature_type\"] = 'ATAC'\n",
    "\n",
    "gex, other = input_mod1, input_mod2\n",
    "\n",
    "logging.info('Reading preprocessors...')\n",
    "with open(os.path.join(\n",
    "       out_dir, \"prep.pickle\"\n",
    "), \"rb\") as f:\n",
    "    prep = pickle.load(f)\n",
    "    gex_prep = prep[\"gex_prep\"]\n",
    "    other_prep = prep[\"other_prep\"]\n",
    "\n",
    "logging.info('Preprocessing...')\n",
    "gex_prep.transform(gex)\n",
    "other_prep.transform(other)\n",
    "\n",
    "logging.info('Fine-tuning model...')\n",
    "scglue.models.configure_dataset(\n",
    "    gex, \"NB\", use_highly_variable=True,\n",
    "    use_layer=\"counts\", use_rep=\"X_pca\",\n",
    "    use_batch=\"batch\", use_uid=\"uid\"\n",
    ")\n",
    "scglue.models.configure_dataset(\n",
    "    other, \"NB\", use_highly_variable=True,\n",
    "    use_layer=\"counts\", use_rep=\"X_lsi\",\n",
    "    use_batch=\"batch\", use_uid=\"uid\"\n",
    ")\n",
    "\n",
    "with open(os.path.join(\n",
    "        out_dir, \"hyperparams.yaml\"\n",
    "), \"r\") as f:\n",
    "    hyperparams = yaml.load(f, Loader=yaml.Loader)\n",
    "\n",
    "logging.info('Building model...')\n",
    "model = scglue.models.SCCLUEModel(\n",
    "    {\"gex\": gex, \"other\": other},\n",
    "    latent_dim=hyperparams[\"latent_dim\"],\n",
    "    x2u_h_depth=hyperparams[\"x2u_h_depth\"],\n",
    "    x2u_h_dim=hyperparams[\"x2u_h_dim\"],\n",
    "    u2x_h_depth=hyperparams[\"u2x_h_depth\"],\n",
    "    u2x_h_dim=hyperparams[\"u2x_h_dim\"],\n",
    "    du_h_depth=hyperparams[\"du_h_depth\"],\n",
    "    du_h_dim=hyperparams[\"du_h_dim\"],\n",
    "    dropout=hyperparams[\"dropout\"],\n",
    "    shared_batches=False,\n",
    "    random_seed=hyperparams[\"random_seed\"]\n",
    ")\n",
    "# print(model.net)\n",
    "\n",
    "logging.info('Adopting pretrained weights...')\n",
    "model.adopt_pretrained_model(scglue.models.load_model(os.path.join(\n",
    "    out_dir, \"pretrain.dill\"\n",
    ")))\n",
    "\n",
    "logging.info('Compiling model...')\n",
    "model.compile(\n",
    "    lam_data=hyperparams[\"lam_data\"],\n",
    "    lam_kl=hyperparams[\"lam_kl\"],\n",
    "    lam_align=hyperparams[\"lam_align\"],\n",
    "    lam_cross=hyperparams[\"lam_cross\"],\n",
    "    lam_cos=hyperparams[\"lam_cos\"],\n",
    "    normalize_u=hyperparams[\"normalize_u\"],\n",
    "    domain_weight={\"gex\": 1, \"other\": 1},\n",
    "    lr=1e-3  # TODO: Fine-tuning learning rate\n",
    ")\n",
    "\n",
    "logging.info('Training model...')\n",
    "model.fit(\n",
    "    {\"gex\": gex, \"other\": other},\n",
    "    align_burnin=0, max_epochs=max_epochs2,\n",
    "    patience=8, reduce_lr_patience=3\n",
    ")\n",
    "\n",
    "logging.info('Projecting cell embeddings...')\n",
    "gex.obsm[\"X_model\"] = model.encode_data(\"gex\", gex)\n",
    "other.obsm[\"X_model\"] = model.encode_data(\"other\", other)\n",
    "\n",
    "input_train_mod1.obsm['emb'] = gex.obsm[\"X_model\"][:input_train_mod1.n_obs]\n",
    "input_test_mod1.obsm['emb'] = gex.obsm[\"X_model\"][input_train_mod1.n_obs:]\n",
    "\n",
    "input_train_mod2.obsm['emb'] = other.obsm[\"X_model\"][:input_train_mod2.n_obs]\n",
    "input_test_mod2.obsm['emb'] = other.obsm[\"X_model\"][input_train_mod2.n_obs:]\n",
    "\n",
    "ad_train_mean_enc = sc.AnnData(\n",
    "    (input_train_mod1.obsm['emb'] + input_train_mod2.obsm['emb'])/2, \n",
    "    obs=input_train_mod1.obs.copy()\n",
    ")\n",
    "ad_train_mean_enc.obsm['emb'] = ad_train_mean_enc.X.copy()\n",
    "ad_train_mean_enc.obsm['spatial'] = input_train_mod1.obsm['spatial']\n",
    "ad_mosaic = sc.concat([ad_train_mean_enc, input_test_mod1, input_test_mod2])\n",
    "# ad_mosaic = get_umap(ad_mosaic, ['emb'])\n",
    "\n",
    "# wrap_warn_plot(ad_mosaic, 'emb_umap', ['batch', 'kmeans', 'louvain_k', 'gt'])\n",
    "# plt.figure(figsize=(18, 6))\n",
    "# wrap_warn_plot(ad_train_mean_enc, 'spatial', ['kmeans', 'louvain_k', 'gt'], s=200)\n",
    "# wrap_warn_plot(input_test_mod1, 'spatial', ['kmeans', 'louvain_k', 'gt'], s=200)\n",
    "# wrap_warn_plot(input_test_mod2, 'spatial', ['kmeans', 'louvain_k', 'gt'], s=200)\n",
    "\n"
   ]
  },
  {
   "cell_type": "code",
   "execution_count": 11,
   "id": "66c87866-8006-490b-a7a1-3ddc5e8170e8",
   "metadata": {},
   "outputs": [
    {
     "name": "stdout",
     "output_type": "stream",
     "text": [
      "fitting ...\n",
      "  |======================================================================| 100%\n",
      "mclust failed, try kmeans\n"
     ]
    }
   ],
   "source": [
    "try:\n",
    "    \n",
    "    # from sklearn.cluster import KMeans\n",
    "    # print(\"mclust failed, try kmeans\")\n",
    "    # kmeans = KMeans(n_clusters=ad_mosaic.obs['Combined_Clusters_annotation'].nunique(), random_state=0).fit(ad_mosaic.obsm['emb'])\n",
    "    # ad_mosaic.obs['kmeans'] = kmeans.labels_.astype('str')\n",
    "    # clust_key = 'kmeans'\n",
    "\n",
    "    ad_mosaic = mclust_R(ad_mosaic, ad_mosaic.obs.Combined_Clusters_annotation.nunique(), used_obsm='emb')  \n",
    "    clust_key = 'mclust'\n",
    "   \n",
    "except:\n",
    "\n",
    "    # ad_mosaic = mclust_R(ad_mosaic, ad_mosaic.obs.Combined_Clusters_annotation.nunique(), used_obsm='emb')  \n",
    "    # clust_key = 'mclust'\n",
    "\n",
    "    from sklearn.cluster import KMeans\n",
    "    print(\"mclust failed, try kmeans\")\n",
    "    kmeans = KMeans(n_clusters=ad_mosaic.obs['Combined_Clusters_annotation'].nunique(), random_state=0).fit(ad_mosaic.obsm['emb'])\n",
    "    ad_mosaic.obs['kmeans'] = kmeans.labels_.astype('str')\n",
    "    clust_key = 'kmeans'\n",
    "    \n",
    "split_ob([ad_train_mean_enc, input_test_mod1, input_test_mod2], ad_mosaic, ob='obs',  key=clust_key)"
   ]
  },
  {
   "cell_type": "code",
   "execution_count": 12,
   "id": "24856cb6-33f0-4bda-b1d7-c29566dc5144",
   "metadata": {},
   "outputs": [],
   "source": [
    "ad_mosaic.obs['before_clust'] = ad_mosaic.obs[clust_key].to_list()"
   ]
  },
  {
   "cell_type": "code",
   "execution_count": 10,
   "id": "af3297d6-f2f6-4dc0-b095-beed2e9a3717",
   "metadata": {},
   "outputs": [
    {
     "data": {
      "text/plain": [
       "[0.16704905074254028,\n",
       " 0.45813672048510334,\n",
       " 0.0766861574767533,\n",
       " 0.2862942513994908]"
      ]
     },
     "execution_count": 10,
     "metadata": {},
     "output_type": "execute_result"
    }
   ],
   "source": [
    "### evaluation\n",
    "from sklearn.metrics import adjusted_rand_score\n",
    "\n",
    "r1 = eval_ads([ad_mosaic, ad_train_mean_enc, input_test_mod1, input_test_mod2], 'Combined_Clusters_annotation', clust_key)\n",
    "r1"
   ]
  },
  {
   "cell_type": "code",
   "execution_count": 11,
   "id": "b42fd90b-34ca-4217-bcd0-0fd3e2562a95",
   "metadata": {},
   "outputs": [
    {
     "name": "stderr",
     "output_type": "stream",
     "text": [
      "/home/xuhua/xuhua_disco/miniforge3/envs/Squidpy/lib/python3.8/site-packages/tqdm/auto.py:21: TqdmWarning: IProgress not found. Please update jupyter and ipywidgets. See https://ipywidgets.readthedocs.io/en/stable/user_install.html\n",
      "  from .autonotebook import tqdm as notebook_tqdm\n"
     ]
    },
    {
     "data": {
      "text/plain": [
       "0.420759504972244"
      ]
     },
     "execution_count": 11,
     "metadata": {},
     "output_type": "execute_result"
    }
   ],
   "source": [
    "lisi_res = eval_lisi(\n",
    "    ad_mosaic,\n",
    "    batch_keys=['batch'],\n",
    "    label_keys = [],\n",
    "    use_rep='emb', use_neighbors=False,\n",
    ")\n",
    "lisi_res['batch_iLISI'][0]"
   ]
  },
  {
   "cell_type": "code",
   "execution_count": 12,
   "id": "15ad6ab5-cacc-46f5-bf4a-2b258183f356",
   "metadata": {},
   "outputs": [
    {
     "data": {
      "text/plain": [
       "0.14303291963520762"
      ]
     },
     "execution_count": 12,
     "metadata": {},
     "output_type": "execute_result"
    }
   ],
   "source": [
    "r4 = eval_labelTransfer(input_test_mod1, input_test_mod2, 'emb', 'Combined_Clusters_annotation', knn=10)\n",
    "r4"
   ]
  },
  {
   "cell_type": "markdown",
   "id": "18d51ae9-4cb0-4511-a33a-753cb83efb27",
   "metadata": {},
   "source": [
    "### batch corr"
   ]
  },
  {
   "cell_type": "code",
   "execution_count": 13,
   "id": "692ac0f9-786c-4405-9079-15299a47aaf3",
   "metadata": {},
   "outputs": [
    {
     "name": "stdout",
     "output_type": "stream",
     "text": [
      "Use GPU mode.\n",
      "\tInitialization is completed.\n",
      "\tCompleted 1 / 10 iteration(s).\n",
      "\tCompleted 2 / 10 iteration(s).\n",
      "\tCompleted 3 / 10 iteration(s).\n",
      "\tCompleted 4 / 10 iteration(s).\n",
      "\tCompleted 5 / 10 iteration(s).\n",
      "\tCompleted 6 / 10 iteration(s).\n",
      "\tCompleted 7 / 10 iteration(s).\n",
      "Reach convergence after 7 iteration(s).\n"
     ]
    }
   ],
   "source": [
    "from batchCorr import HARMONY\n",
    "\n",
    "ad_mosaic.obsm['emb_har'] = HARMONY(pd.DataFrame(ad_mosaic.obsm['emb']), ad_mosaic.obs['batch'].to_list())\n",
    "split_ob([ad_train_mean_enc, input_test_mod1, input_test_mod2], ad_mosaic, ob='obsm', key='emb_har')"
   ]
  },
  {
   "cell_type": "code",
   "execution_count": 14,
   "id": "bc915164-bf70-4e8b-9985-6ad130ceb44a",
   "metadata": {},
   "outputs": [
    {
     "name": "stdout",
     "output_type": "stream",
     "text": [
      "fitting ...\n",
      "  |                                                                      |   0%"
     ]
    },
    {
     "name": "stderr",
     "output_type": "stream",
     "text": [
      "/home/xuhua/xuhua_disco/miniforge3/envs/Squidpy/lib/python3.8/site-packages/rpy2/robjects/numpy2ri.py:252: DeprecationWarning: The global conversion available with activate() is deprecated and will be removed in the next major release. Use a local converter.\n",
      "  warnings.warn('The global conversion available with activate() '\n"
     ]
    },
    {
     "name": "stdout",
     "output_type": "stream",
     "text": [
      "  |======================================================================| 100%\n",
      "mclust failed, try kmeans\n"
     ]
    }
   ],
   "source": [
    "try:\n",
    "    \n",
    "    # from sklearn.cluster import KMeans\n",
    "    # print(\"mclust failed, try kmeans\")\n",
    "    # kmeans = KMeans(n_clusters=ad_mosaic.obs['Combined_Clusters_annotation'].nunique(), random_state=0).fit(ad_mosaic.obsm['emb_har'])\n",
    "    # ad_mosaic.obs['kmeans'] = kmeans.labels_.astype('str')\n",
    "    # clust_key = 'kmeans'\n",
    "\n",
    "    ad_mosaic = mclust_R(ad_mosaic, ad_mosaic.obs.Combined_Clusters_annotation.nunique(), used_obsm='emb_har')  \n",
    "    clust_key = 'mclust'\n",
    "\n",
    "except:\n",
    "\n",
    "    # ad_mosaic = mclust_R(ad_mosaic, ad_mosaic.obs.Combined_Clusters_annotation.nunique(), used_obsm='emb_har')  \n",
    "    # clust_key = 'mclust'\n",
    "\n",
    "    from sklearn.cluster import KMeans\n",
    "    print(\"mclust failed, try kmeans\")\n",
    "    kmeans = KMeans(n_clusters=ad_mosaic.obs['Combined_Clusters_annotation'].nunique(), random_state=0).fit(ad_mosaic.obsm['emb_har'])\n",
    "    ad_mosaic.obs['kmeans'] = kmeans.labels_.astype('str')\n",
    "    clust_key = 'kmeans'\n",
    "    \n",
    "split_ob([ad_train_mean_enc, input_test_mod1, input_test_mod2], ad_mosaic, ob='obs',  key=clust_key)"
   ]
  },
  {
   "cell_type": "code",
   "execution_count": 16,
   "id": "92f80253-e14d-45aa-8bf2-7e0e9f322bf3",
   "metadata": {},
   "outputs": [],
   "source": [
    "ad_mosaic.obs['after_clust'] = ad_mosaic.obs[clust_key].to_list()"
   ]
  },
  {
   "cell_type": "code",
   "execution_count": 15,
   "id": "2c2a5009-b7bb-497d-aa19-e047ebcc0081",
   "metadata": {},
   "outputs": [
    {
     "data": {
      "text/plain": [
       "0.15728716603069234"
      ]
     },
     "execution_count": 15,
     "metadata": {},
     "output_type": "execute_result"
    }
   ],
   "source": [
    "r1 = eval_ads([ad_mosaic, ad_train_mean_enc, input_test_mod1, input_test_mod2], 'Combined_Clusters_annotation', clust_key)\n",
    "lisi_res = eval_lisi(\n",
    "    ad_mosaic,\n",
    "    batch_keys=['batch'],\n",
    "    label_keys = [],\n",
    "    use_rep='emb_har', use_neighbors=False,\n",
    ")\n",
    "r2 = lisi_res['batch_iLISI'][0]\n",
    "\n",
    "r4 = eval_labelTransfer(input_test_mod1, input_test_mod2, 'emb_har', 'Combined_Clusters_annotation', knn=10)\n",
    "r4"
   ]
  },
  {
   "cell_type": "code",
   "execution_count": 16,
   "id": "1157a348-975a-4b3b-aee6-aade2b95e0a0",
   "metadata": {},
   "outputs": [
    {
     "data": {
      "text/plain": [
       "([0.18334025131332868,\n",
       "  0.2945374330501534,\n",
       "  0.10156553574728786,\n",
       "  0.2885515309007884],\n",
       " 0.5316075782306964,\n",
       " 0.15728716603069234)"
      ]
     },
     "execution_count": 16,
     "metadata": {},
     "output_type": "execute_result"
    },
    {
     "name": "stderr",
     "output_type": "stream",
     "text": [
      "/home/xuhua/xuhua_disco/miniforge3/envs/Squidpy/lib/python3.8/tempfile.py:818: ResourceWarning: Implicitly cleaning up <TemporaryDirectory '/tmp/tmpyyto_4ji'>\n",
      "  _warnings.warn(warn_message, ResourceWarning)\n"
     ]
    }
   ],
   "source": [
    "r1, r2, r4"
   ]
  },
  {
   "cell_type": "code",
   "execution_count": 17,
   "id": "f5f6b316-b6c6-4089-83a8-cf5df2fb99b3",
   "metadata": {},
   "outputs": [],
   "source": [
    "fig_dir = f'/disco_500t/xuhua/gitrepo/BridgeNorm/figures/misar_seq/E15-13-18/clue'\n",
    "os.makedirs(fig_dir, exist_ok=True)\n",
    "\n",
    "df = pd.DataFrame(ad_mosaic.obsm['emb'], index=ad_mosaic.obs_names.to_list())\n",
    "df['before_clust'] = ad_mosaic.obs['before_clust'].to_list() \n",
    "df.to_csv(join(fig_dir, 'X_emb.csv'))\n",
    "\n",
    "df = pd.DataFrame(ad_mosaic.obsm['emb_har'], index=ad_mosaic.obs_names.to_list())\n",
    "df['after_clust'] = ad_mosaic.obs['after_clust'].to_list() \n",
    "df.to_csv(join(fig_dir, 'X_emb_har.csv'))"
   ]
  }
 ],
 "metadata": {
  "kernelspec": {
   "display_name": "Squidpy",
   "language": "python",
   "name": "squidpy"
  },
  "language_info": {
   "codemirror_mode": {
    "name": "ipython",
    "version": 3
   },
   "file_extension": ".py",
   "mimetype": "text/x-python",
   "name": "python",
   "nbconvert_exporter": "python",
   "pygments_lexer": "ipython3",
   "version": "3.8.8"
  }
 },
 "nbformat": 4,
 "nbformat_minor": 5
}
