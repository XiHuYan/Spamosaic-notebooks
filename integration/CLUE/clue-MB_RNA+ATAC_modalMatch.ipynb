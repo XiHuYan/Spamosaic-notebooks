{
 "cells": [
  {
   "cell_type": "code",
   "execution_count": 1,
   "id": "edc0b626-2aad-4592-98fa-9de090bddba3",
   "metadata": {},
   "outputs": [],
   "source": [
    "import os\n",
    "os.environ['R_HOME'] = '/disco_500t/xuhua/miniforge3/envs/Seurat5/lib/R'\n",
    "os.environ['R_USER'] = '/disco_500t/xuhua/miniforge3/envs/Seurat5/lib/python3.8/site-packages/rpy2'\n",
    "\n",
    "import psutil\n",
    "\n",
    "# Get the current process\n",
    "# p = psutil.Process(os.getpid())\n",
    "\n",
    "# # Set the process to run only on the first CPU core\n",
    "# p.cpu_affinity([5])"
   ]
  },
  {
   "cell_type": "code",
   "execution_count": 2,
   "id": "ecd9ac5b-c3b7-4127-9b9c-117ad93ac971",
   "metadata": {},
   "outputs": [],
   "source": [
    "import os\n",
    "import gc\n",
    "import pandas as pd\n",
    "import pickle\n",
    "import matplotlib.pyplot as plt\n",
    "\n",
    "import anndata as ad\n",
    "import numpy as np\n",
    "import yaml\n",
    "import sys\n",
    "import h5py\n",
    "import logging\n",
    "import scanpy as sc\n",
    "from os.path import join\n",
    "import scipy.sparse as sps\n",
    "from sklearn.cluster import KMeans\n",
    "\n",
    "import scglue\n",
    "\n",
    "import warnings\n",
    "def wrap_warn_plot(adata, basis, color, **kwargs):\n",
    "    with warnings.catch_warnings():\n",
    "        warnings.simplefilter(\"ignore\", category=UserWarning)\n",
    "        sc.pl.embedding(adata, basis=basis, color=color, **kwargs)\n",
    "\n",
    "def get_umap(ad, use_reps=[]):\n",
    "    for use_rep in use_reps:\n",
    "        umap_add_key = f'{use_rep}_umap'\n",
    "        sc.pp.neighbors(ad, use_rep=use_rep, n_neighbors=15)\n",
    "        sc.tl.umap(ad)\n",
    "        ad.obsm[umap_add_key] = ad.obsm['X_umap']\n",
    "    return ad\n",
    "\n",
    "from sklearn.metrics import adjusted_rand_score\n",
    "\n",
    "def split_ob(ads, ad_ref, ob='obs', key='emb2'):\n",
    "    len_ads = [_.n_obs for _ in ads]\n",
    "    if ob=='obsm':\n",
    "        split_obsms = np.split(ad_ref.obsm[key], np.cumsum(len_ads[:-1]))\n",
    "        for ad, v in zip(ads, split_obsms):\n",
    "            ad.obsm[key] = v\n",
    "    else:\n",
    "        split_obs = np.split(ad_ref.obs[key].to_list(), np.cumsum(len_ads[:-1]))\n",
    "        for ad, v in zip(ads, split_obs):\n",
    "            ad.obs[key] = v\n",
    "\n",
    "def eval_ads(ads, ref_key, src_key):\n",
    "    aris = []\n",
    "    for ad in ads:\n",
    "        aris.append(adjusted_rand_score(ad.obs[src_key], ad.obs[ref_key]))\n",
    "    return aris\n",
    "\n",
    "from sklearn.preprocessing import normalize\n",
    "from sklearn.cluster import KMeans\n",
    "def search_louvain(ad, use_rep, n_neighbors=15, n_clusters=5):\n",
    "    sc.pp.neighbors(ad, n_neighbors=n_neighbors, use_rep=use_rep)\n",
    "    rs = np.arange(0.1, 1.0, 0.1)\n",
    "    n_cs = []\n",
    "    for r in rs:\n",
    "        sc.tl.louvain(ad, resolution=r, key_added=f'r={r}')\n",
    "        n_cs.append(ad.obs[f'r={r}'].nunique())\n",
    "    n_cs = np.array(n_cs)\n",
    "    if (n_cs==n_clusters).sum() >= 1:\n",
    "        ri = np.where(n_cs==n_clusters)[0][0]\n",
    "        ad.obs['louvain_k'] = ad.obs[f'r={rs[ri]}'].to_list()\n",
    "    else:\n",
    "        kmeans = KMeans(n_clusters=n_clusters, random_state=0).fit(ad.obsm[use_rep])\n",
    "        ad.obs['louvain_k'] = kmeans.labels_.astype('str')\n",
    "\n",
    "from sklearn.neighbors import KNeighborsClassifier\n",
    "from sklearn.metrics import f1_score\n",
    "def eval_labelTransfer(ad1, ad2, use_rep, lab_key, knn=10):\n",
    "     with warnings.catch_warnings():\n",
    "        warnings.simplefilter(\"ignore\", category=FutureWarning)\n",
    "        neigh1 = KNeighborsClassifier(n_neighbors=knn)\n",
    "        neigh1.fit(ad1.obsm[use_rep], ad1.obs[lab_key].to_list())\n",
    "        pr_lab2 = neigh1.predict(ad2.obsm[use_rep])\n",
    "        f1_1 = f1_score(ad2.obs[lab_key].values, pr_lab2, #labels=['1.0', '2.0', '3.0', '4.0'], \n",
    "                        average='macro')\n",
    "        # acc1 = (pr_lab2 == ad2.obs[lab_key].values).mean()\n",
    "    \n",
    "        neigh2 = KNeighborsClassifier(n_neighbors=knn)\n",
    "        neigh2.fit(ad2.obsm[use_rep], ad2.obs[lab_key].to_list())\n",
    "        pr_lab1 = neigh2.predict(ad1.obsm[use_rep])\n",
    "        # acc2 = (pr_lab1 == ad1.obs[lab_key].values).mean()\n",
    "        f1_2 = f1_score(ad1.obs[lab_key].values, pr_lab1, #labels=['1.0', '2.0', '3.0', '4.0'], \n",
    "                        average='macro')\n",
    "        return (f1_1+f1_2)/2\n",
    "\n",
    "from scib.metrics import lisi\n",
    "def eval_lisi(\n",
    "        adata,\n",
    "        batch_keys=['domain', 'batch'],\n",
    "        label_keys = ['gt'],\n",
    "        use_rep='X_emb', use_neighbors=False,\n",
    "    ):\n",
    "    res = {}\n",
    "    for key in batch_keys:\n",
    "        adata.obs[key] = adata.obs[key].astype('category')\n",
    "\n",
    "        _lisi = lisi.ilisi_graph(\n",
    "            adata,\n",
    "            key,\n",
    "            'embed' if not use_neighbors else 'knn',\n",
    "            use_rep=use_rep,\n",
    "            k0=90,\n",
    "            subsample=None,\n",
    "            scale=True,\n",
    "            n_cores=1,\n",
    "            verbose=False,\n",
    "        )\n",
    "        res[key+'_iLISI'] = _lisi\n",
    "    for key in label_keys:\n",
    "        adata.obs[key] = adata.obs[key].astype('category')\n",
    "\n",
    "        _lisi = lisi.clisi_graph(\n",
    "            adata,\n",
    "            key,\n",
    "            'embed' if not use_neighbors else 'knn',\n",
    "            use_rep=use_rep,\n",
    "            batch_key=None,\n",
    "            k0=90,\n",
    "            subsample=None,\n",
    "            scale=True,\n",
    "            n_cores=1,\n",
    "            verbose=False,\n",
    "        )\n",
    "        res[key+'_cLISI'] = _lisi\n",
    "    df = pd.DataFrame.from_dict(res, orient='index').T\n",
    "    # df.columns = [_+'_LISI' for _ in df.columns]\n",
    "    return df\n",
    "\n",
    "os.environ['R_HOME'] = '/disco_500t/xuhua/miniforge3/envs/Seurat5/lib/R'\n",
    "os.environ['R_USER'] = '/disco_500t/xuhua/miniforge3/envs/Seurat5/lib/python3.8/site-packages/rpy2'\n",
    "def mclust_R(adata, num_cluster, modelNames='EEE', used_obsm='STAGATE', random_seed=2020):\n",
    "    np.random.seed(random_seed)\n",
    "    import rpy2.robjects as robjects\n",
    "    robjects.r.library(\"mclust\")\n",
    "\n",
    "    import rpy2.robjects.numpy2ri\n",
    "    rpy2.robjects.numpy2ri.activate()\n",
    "    r_random_seed = robjects.r['set.seed']\n",
    "    r_random_seed(random_seed)\n",
    "    rmclust = robjects.r['Mclust']\n",
    "\n",
    "    res = rmclust(rpy2.robjects.numpy2ri.numpy2rpy(adata.obsm[used_obsm]), num_cluster, modelNames)\n",
    "    mclust_res = np.array(res[-2])\n",
    "\n",
    "    adata.obs['mclust'] = mclust_res\n",
    "    adata.obs['mclust'] = adata.obs['mclust'].astype('int')\n",
    "    adata.obs['mclust'] = adata.obs['mclust'].astype('category')\n",
    "    return adata\n",
    "\n",
    "def flip_coords(ads):\n",
    "    for ad in ads:\n",
    "        ad.obsm['spatial'] = -1 * ad.obsm['spatial']\n",
    "        ad.obsm['spatial'] = ad.obsm['spatial'][:, ::-1]\n",
    "\n",
    "def reorder(ad1, ad2):\n",
    "    shared_barcodes = ad1.obs_names.intersection(ad2.obs_names)\n",
    "    ad1 = ad1[shared_barcodes].copy()\n",
    "    ad2 = ad2[shared_barcodes].copy()\n",
    "    return ad1, ad2\n",
    "\n",
    "def load_peak_expr(_dir):\n",
    "    data = sio.mmread(join(_dir, 'data.mtx'))\n",
    "    cname = pd.read_csv(join(_dir, 'barcode.csv'), index_col=0)['x'].to_list()\n",
    "    feat = pd.read_csv(join(_dir, 'feat.csv'), index_col=0)['x'].to_list()\n",
    "    ad = sc.AnnData(sps.csr_matrix(data.T))\n",
    "    ad.obs_names = cname\n",
    "    ad.var_names = feat\n",
    "    return ad"
   ]
  },
  {
   "cell_type": "code",
   "execution_count": 3,
   "id": "b032116d-2ac3-4d8f-a11e-d0f2c0a9f8ca",
   "metadata": {},
   "outputs": [],
   "source": [
    "def set_col2cat(ad, cols=[]):\n",
    "    for col in cols:\n",
    "        ad.obs[col] = ad.obs[col].astype('category')\n",
    "\n",
    "def unify_colors(queries, color_key, ref_color_dict):\n",
    "    for q in queries:\n",
    "        q.obs[color_key] = q.obs[color_key].astype('category')\n",
    "        q.uns[f'{color_key}_colors'] = [ref_color_dict[_] for _ in q.obs[color_key].cat.categories]\n",
    "    return queries\n",
    "\n",
    "def subset_ad(ad, subset_index):\n",
    "    ad = ad[subset_index].copy()\n",
    "    return ad"
   ]
  },
  {
   "cell_type": "markdown",
   "id": "98ec56f7-48ef-4d0b-8612-9f645149eb75",
   "metadata": {},
   "source": [
    "### Training and running"
   ]
  },
  {
   "cell_type": "code",
   "execution_count": 4,
   "id": "53ef4fc0-4bc1-44de-9f71-e19dbfbdc8c5",
   "metadata": {},
   "outputs": [],
   "source": [
    "sys.path.insert(0, './resources')\n",
    "import utils\n",
    "import scipy.io as sio"
   ]
  },
  {
   "cell_type": "code",
   "execution_count": 5,
   "id": "1670e9f5-56e7-443c-8398-739c6b077833",
   "metadata": {},
   "outputs": [],
   "source": [
    "out_dir = './cache/MB_RNA+ATAC_modalMatch'\n",
    "os.makedirs(out_dir, exist_ok=True)\n",
    "## best setting for simulation experiments\n",
    "# n_genes = 10000\n",
    "# x2u_h_depth = 2\n",
    "# x2u_h_dim = 512 \n",
    "# u2x_h_depth = 1\n",
    "# du_h_depth = 2\n",
    "# dropout = 0.2\n",
    "# lam_data = 1.0\n",
    "# lam_kl = 1.0  \n",
    "# lam_align = 2.0   \n",
    "# lam_cross = 2.0 \n",
    "# lam_cos = 1.0 \n",
    "# normalize_u = True\n",
    "# random_seed = 5\n",
    "# latent_dim = 50\n",
    "# u2x_h_dim = 256\n",
    "# du_h_dim  = u2x_h_dim\n",
    "# du_h_depth = 2\n",
    "\n",
    "## multiome setting\n",
    "n_genes = 10000\n",
    "latent_dim = 50\n",
    "x2u_h_depth = 2\n",
    "x2u_h_dim = 512\n",
    "u2x_h_depth = 1\n",
    "u2x_h_dim = 256\n",
    "du_h_depth = 1\n",
    "du_h_dim = 256\n",
    "dropout = 0.2\n",
    "lam_data = 1.0\n",
    "lam_kl = 0.3\n",
    "lam_align = 0.02\n",
    "lam_cross = 1.0\n",
    "lam_cos = 0.02\n",
    "normalize_u = True\n",
    "random_seed = 2\n",
    "\n",
    "max_epochs1 = 400\n",
    "max_epochs2 = 50"
   ]
  },
  {
   "cell_type": "code",
   "execution_count": 6,
   "id": "483008e2-611d-483d-8c83-9907445d3350",
   "metadata": {},
   "outputs": [],
   "source": [
    "data_dir = '/disco_500t/xuhua/data/real_mosaic_cases/mouse_brain_rna+atac/'\n",
    "\n",
    "df_mult_rna = pd.read_csv(join(data_dir, 'rna+atac/GSM6204636_MouseBrain_20um_matrix.tsv'), sep='\\t')\n",
    "df_mult_rna_spatial_pos = pd.read_csv(join(data_dir, 'rna+atac/GSM6204623_MouseBrain_20um_spatial_rna_part/tissue_positions_list.csv'), header=None, index_col=0)\n",
    "ad_mult_rna = sc.AnnData(df_mult_rna.T, obsm={'spatial': df_mult_rna_spatial_pos.loc[df_mult_rna.columns, [2, 3]].values})\n",
    "\n",
    "ad_mult_atac = load_peak_expr(join(data_dir, 'rna+atac/For_Imputation_Task/GSM6204623_peak_data'))\n",
    "df_mult_atac_spatial = pd.read_csv(join(data_dir, 'rna+atac/GSM6204623_MouseBrain_20um_spatial_rna_part/tissue_positions_list.csv'), index_col=0, header=None)\n",
    "ad_mult_atac.obsm['spatial'] = df_mult_atac_spatial.loc[ad_mult_atac.obs_names, [2, 3]].values\n",
    "ad_mult_rna, ad_mult_atac = reorder(ad_mult_rna, ad_mult_atac)\n",
    "\n",
    "df_rna = pd.read_csv(join(data_dir, 'rna+atac/GSM6753041_MouseBrain_20um_repATAC_matrix.tsv'), sep='\\t')\n",
    "df_rna_spatial = pd.read_csv(join(data_dir, 'rna+atac/GSM6753041_MouseBrain_20um_repATAC_spatial/tissue_positions_list.csv'), index_col=0, header=None)\n",
    "ad_rna = sc.AnnData(df_rna.T, obsm={'spatial': df_rna_spatial.loc[df_rna.columns, [2, 3]].values})\n",
    "\n",
    "ad_atac = load_peak_expr(join(data_dir, 'rna+atac/For_Imputation_Task/GSM6758284_peak_data'))\n",
    "df_atac_spatial = pd.read_csv(join(data_dir, 'rna+atac/GSM6753041_MouseBrain_20um_repATAC_spatial/tissue_positions_list.csv'), index_col=0, header=None)\n",
    "ad_atac.obsm['spatial'] = df_atac_spatial.loc[ad_atac.obs_names, [2, 3]].values\n",
    "ad_rna, ad_atac = reorder(ad_rna, ad_atac)\n",
    "\n",
    "ad_atac.layers['counts'] = ad_atac.X.copy()\n",
    "ad_rna.layers['counts'] = ad_rna.X.copy()\n",
    "ad_mult_rna.layers['counts'] = ad_mult_rna.X.copy()\n",
    "ad_mult_atac.layers['counts'] = ad_mult_atac.X.copy()\n",
    "\n",
    "shared_gene = ad_mult_rna.var_names.intersection(ad_rna.var_names)\n",
    "ad_mult_rna = ad_mult_rna[:, shared_gene].copy()\n",
    "ad_rna = ad_rna[:, shared_gene].copy()\n",
    "assert (ad_mult_atac.var_names == ad_atac.var_names).all()\n",
    "\n",
    "ad_mult_rna.obs_names = [f'mult-{_}' for _ in ad_mult_rna.obs_names]\n",
    "ad_mult_atac.obs_names = [f'mult-{_}' for _ in ad_mult_atac.obs_names]\n",
    "ad_rna.obs_names = [f'rna-{_}' for _ in ad_rna.obs_names]\n",
    "ad_atac.obs_names = [f'atac-{_}' for _ in ad_atac.obs_names]\n",
    "\n",
    "ad_mult_rna.obs['src'] = ['mult']*ad_mult_rna.n_obs\n",
    "ad_mult_atac.obs['src'] = ['mult']*ad_mult_atac.n_obs\n",
    "ad_rna.obs['src'] = ['rna']*ad_rna.n_obs\n",
    "ad_atac.obs['src'] = ['atac']*ad_atac.n_obs\n",
    "\n",
    "ad_mult_rna.obsm['spatial'][:, 0] = -1 * ad_mult_rna.obsm['spatial'][:, 0]\n",
    "ad_rna.obsm['spatial'][:, 1] = -1 * ad_rna.obsm['spatial'][:, 1]\n",
    "ad_mult_atac.obsm['spatial'][:, 0] = -1 * ad_mult_atac.obsm['spatial'][:, 0]\n",
    "ad_atac.obsm['spatial'][:, 1] = -1 * ad_atac.obsm['spatial'][:, 1]\n",
    "\n",
    "ad_rna.obs['Sample'] = ['S2']*ad_rna.n_obs\n",
    "ad_atac.obs['Sample'] = ['S2']*ad_atac.n_obs"
   ]
  },
  {
   "cell_type": "code",
   "execution_count": 7,
   "id": "5307794b-6c91-4076-baa0-809c0f72502c",
   "metadata": {},
   "outputs": [],
   "source": [
    "ad_rna_all = sc.concat([ad_mult_rna, ad_rna])\n",
    "ad_atac_all = sc.concat([ad_mult_atac, ad_atac])\n",
    "\n",
    "sc.pp.highly_variable_genes(ad_rna_all, flavor='seurat_v3', n_top_genes=10000, batch_key='src')\n",
    "hvg_names = ad_rna_all.var.query('highly_variable').index.to_numpy()\n",
    "\n",
    "sc.pp.highly_variable_genes(ad_atac_all, flavor='seurat_v3', n_top_genes=100000, batch_key='src')\n",
    "hvp_names = ad_atac_all.var.query('highly_variable').index.to_numpy()"
   ]
  },
  {
   "cell_type": "code",
   "execution_count": 8,
   "id": "9d08e0d5-c172-4496-a5b1-ba7456098398",
   "metadata": {},
   "outputs": [],
   "source": [
    "ad_mult_rna = ad_mult_rna[:, hvg_names].copy()\n",
    "ad_rna = ad_rna[:, hvg_names].copy()\n",
    "ad_mult_atac = ad_mult_atac[:, hvp_names].copy()\n",
    "ad_atac = ad_atac[:, hvp_names].copy()"
   ]
  },
  {
   "cell_type": "code",
   "execution_count": 9,
   "id": "fab5471c-fda8-47f7-b37b-ccd068f22836",
   "metadata": {
    "scrolled": true
   },
   "outputs": [
    {
     "name": "stdout",
     "output_type": "stream",
     "text": [
      "Reading `h5ad` files...\n",
      "Preprocessing GEX...\n",
      "Preprocessing ATAC...\n",
      "Building model...\n",
      "[INFO] autodevice: Using GPU 0 as computation device.\n",
      "Compiling model...\n",
      "Training model...\n",
      "[INFO] SCCLUEModel: Setting `align_burnin` = 360\n",
      "[INFO] SCCLUEModel: Setting `patience` = 270\n",
      "[INFO] SCCLUEModel: Setting `reduce_lr_patience` = 90\n",
      "[INFO] SCCLUETrainer: Using training directory: \"/tmp/GLUETMPo3l8b6g9\"\n",
      "[INFO] SCCLUETrainer: [Epoch 10] train={'dsc_loss': 0.681, 'gen_loss': 1.358, 'cross_loss': 0.681, 'cos_loss': 0.259, 'x_gex_nll': 0.364, 'x_gex_kl': 0.015, 'x_gex_elbo': 0.369, 'x_other_nll': 0.315, 'x_other_kl': 0.007, 'x_other_elbo': 0.317}, val={'dsc_loss': 0.674, 'gen_loss': 1.463, 'cross_loss': 0.732, 'cos_loss': 0.246, 'x_gex_nll': 0.387, 'x_gex_kl': 0.012, 'x_gex_elbo': 0.391, 'x_other_nll': 0.347, 'x_other_kl': 0.006, 'x_other_elbo': 0.349}, 1.1s elapsed\n",
      "[INFO] SCCLUETrainer: [Epoch 20] train={'dsc_loss': 0.647, 'gen_loss': 1.179, 'cross_loss': 0.591, 'cos_loss': 0.234, 'x_gex_nll': 0.305, 'x_gex_kl': 0.018, 'x_gex_elbo': 0.31, 'x_other_nll': 0.284, 'x_other_kl': 0.007, 'x_other_elbo': 0.287}, val={'dsc_loss': 0.66, 'gen_loss': 1.309, 'cross_loss': 0.653, 'cos_loss': 0.245, 'x_gex_nll': 0.335, 'x_gex_kl': 0.015, 'x_gex_elbo': 0.339, 'x_other_nll': 0.322, 'x_other_kl': 0.007, 'x_other_elbo': 0.324}, 0.8s elapsed\n",
      "[INFO] SCCLUETrainer: [Epoch 30] train={'dsc_loss': 0.631, 'gen_loss': 1.058, 'cross_loss': 0.531, 'cos_loss': 0.206, 'x_gex_nll': 0.265, 'x_gex_kl': 0.019, 'x_gex_elbo': 0.27, 'x_other_nll': 0.263, 'x_other_kl': 0.008, 'x_other_elbo': 0.266}, val={'dsc_loss': 0.669, 'gen_loss': 1.202, 'cross_loss': 0.6, 'cos_loss': 0.234, 'x_gex_nll': 0.299, 'x_gex_kl': 0.017, 'x_gex_elbo': 0.304, 'x_other_nll': 0.305, 'x_other_kl': 0.008, 'x_other_elbo': 0.307}, 0.8s elapsed\n",
      "[INFO] SCCLUETrainer: [Epoch 40] train={'dsc_loss': 0.636, 'gen_loss': 0.969, 'cross_loss': 0.486, 'cos_loss': 0.183, 'x_gex_nll': 0.237, 'x_gex_kl': 0.02, 'x_gex_elbo': 0.243, 'x_other_nll': 0.246, 'x_other_kl': 0.008, 'x_other_elbo': 0.248}, val={'dsc_loss': 0.681, 'gen_loss': 1.121, 'cross_loss': 0.558, 'cos_loss': 0.227, 'x_gex_nll': 0.276, 'x_gex_kl': 0.019, 'x_gex_elbo': 0.281, 'x_other_nll': 0.288, 'x_other_kl': 0.008, 'x_other_elbo': 0.291}, 1.0s elapsed\n",
      "[INFO] SCCLUETrainer: [Epoch 50] train={'dsc_loss': 0.65, 'gen_loss': 0.902, 'cross_loss': 0.453, 'cos_loss': 0.177, 'x_gex_nll': 0.22, 'x_gex_kl': 0.019, 'x_gex_elbo': 0.226, 'x_other_nll': 0.23, 'x_other_kl': 0.008, 'x_other_elbo': 0.233}, val={'dsc_loss': 0.675, 'gen_loss': 1.057, 'cross_loss': 0.526, 'cos_loss': 0.23, 'x_gex_nll': 0.258, 'x_gex_kl': 0.018, 'x_gex_elbo': 0.263, 'x_other_nll': 0.274, 'x_other_kl': 0.008, 'x_other_elbo': 0.277}, 1.0s elapsed\n",
      "[INFO] SCCLUETrainer: [Epoch 60] train={'dsc_loss': 0.65, 'gen_loss': 0.854, 'cross_loss': 0.429, 'cos_loss': 0.17, 'x_gex_nll': 0.209, 'x_gex_kl': 0.019, 'x_gex_elbo': 0.214, 'x_other_nll': 0.218, 'x_other_kl': 0.008, 'x_other_elbo': 0.22}, val={'dsc_loss': 0.659, 'gen_loss': 1.013, 'cross_loss': 0.504, 'cos_loss': 0.23, 'x_gex_nll': 0.247, 'x_gex_kl': 0.019, 'x_gex_elbo': 0.253, 'x_other_nll': 0.262, 'x_other_kl': 0.008, 'x_other_elbo': 0.264}, 1.0s elapsed\n",
      "[INFO] SCCLUETrainer: [Epoch 70] train={'dsc_loss': 0.657, 'gen_loss': 0.814, 'cross_loss': 0.409, 'cos_loss': 0.164, 'x_gex_nll': 0.201, 'x_gex_kl': 0.019, 'x_gex_elbo': 0.207, 'x_other_nll': 0.206, 'x_other_kl': 0.008, 'x_other_elbo': 0.208}, val={'dsc_loss': 0.674, 'gen_loss': 0.975, 'cross_loss': 0.485, 'cos_loss': 0.231, 'x_gex_nll': 0.24, 'x_gex_kl': 0.019, 'x_gex_elbo': 0.245, 'x_other_nll': 0.251, 'x_other_kl': 0.008, 'x_other_elbo': 0.254}, 1.0s elapsed\n",
      "[INFO] SCCLUETrainer: [Epoch 80] train={'dsc_loss': 0.65, 'gen_loss': 0.786, 'cross_loss': 0.395, 'cos_loss': 0.158, 'x_gex_nll': 0.195, 'x_gex_kl': 0.019, 'x_gex_elbo': 0.201, 'x_other_nll': 0.198, 'x_other_kl': 0.008, 'x_other_elbo': 0.2}, val={'dsc_loss': 0.672, 'gen_loss': 0.956, 'cross_loss': 0.475, 'cos_loss': 0.235, 'x_gex_nll': 0.237, 'x_gex_kl': 0.019, 'x_gex_elbo': 0.243, 'x_other_nll': 0.245, 'x_other_kl': 0.008, 'x_other_elbo': 0.248}, 1.0s elapsed\n",
      "[INFO] SCCLUETrainer: [Epoch 90] train={'dsc_loss': 0.662, 'gen_loss': 0.765, 'cross_loss': 0.384, 'cos_loss': 0.155, 'x_gex_nll': 0.191, 'x_gex_kl': 0.019, 'x_gex_elbo': 0.197, 'x_other_nll': 0.191, 'x_other_kl': 0.008, 'x_other_elbo': 0.193}, val={'dsc_loss': 0.667, 'gen_loss': 0.935, 'cross_loss': 0.464, 'cos_loss': 0.234, 'x_gex_nll': 0.234, 'x_gex_kl': 0.019, 'x_gex_elbo': 0.239, 'x_other_nll': 0.238, 'x_other_kl': 0.008, 'x_other_elbo': 0.24}, 1.0s elapsed\n",
      "[INFO] SCCLUETrainer: [Epoch 100] train={'dsc_loss': 0.66, 'gen_loss': 0.752, 'cross_loss': 0.378, 'cos_loss': 0.151, 'x_gex_nll': 0.189, 'x_gex_kl': 0.019, 'x_gex_elbo': 0.195, 'x_other_nll': 0.187, 'x_other_kl': 0.008, 'x_other_elbo': 0.189}, val={'dsc_loss': 0.671, 'gen_loss': 0.928, 'cross_loss': 0.461, 'cos_loss': 0.234, 'x_gex_nll': 0.233, 'x_gex_kl': 0.019, 'x_gex_elbo': 0.239, 'x_other_nll': 0.235, 'x_other_kl': 0.008, 'x_other_elbo': 0.238}, 1.0s elapsed\n",
      "[INFO] SCCLUETrainer: [Epoch 110] train={'dsc_loss': 0.657, 'gen_loss': 0.745, 'cross_loss': 0.375, 'cos_loss': 0.147, 'x_gex_nll': 0.188, 'x_gex_kl': 0.02, 'x_gex_elbo': 0.194, 'x_other_nll': 0.185, 'x_other_kl': 0.008, 'x_other_elbo': 0.187}, val={'dsc_loss': 0.669, 'gen_loss': 0.924, 'cross_loss': 0.458, 'cos_loss': 0.234, 'x_gex_nll': 0.232, 'x_gex_kl': 0.019, 'x_gex_elbo': 0.238, 'x_other_nll': 0.234, 'x_other_kl': 0.008, 'x_other_elbo': 0.237}, 0.8s elapsed\n",
      "[INFO] SCCLUETrainer: [Epoch 120] train={'dsc_loss': 0.659, 'gen_loss': 0.741, 'cross_loss': 0.373, 'cos_loss': 0.148, 'x_gex_nll': 0.187, 'x_gex_kl': 0.02, 'x_gex_elbo': 0.193, 'x_other_nll': 0.183, 'x_other_kl': 0.008, 'x_other_elbo': 0.186}, val={'dsc_loss': 0.67, 'gen_loss': 0.929, 'cross_loss': 0.46, 'cos_loss': 0.239, 'x_gex_nll': 0.233, 'x_gex_kl': 0.019, 'x_gex_elbo': 0.239, 'x_other_nll': 0.236, 'x_other_kl': 0.008, 'x_other_elbo': 0.239}, 0.9s elapsed\n",
      "[INFO] SCCLUETrainer: [Epoch 130] train={'dsc_loss': 0.665, 'gen_loss': 0.739, 'cross_loss': 0.372, 'cos_loss': 0.147, 'x_gex_nll': 0.186, 'x_gex_kl': 0.02, 'x_gex_elbo': 0.192, 'x_other_nll': 0.183, 'x_other_kl': 0.008, 'x_other_elbo': 0.186}, val={'dsc_loss': 0.671, 'gen_loss': 0.926, 'cross_loss': 0.459, 'cos_loss': 0.24, 'x_gex_nll': 0.233, 'x_gex_kl': 0.02, 'x_gex_elbo': 0.239, 'x_other_nll': 0.234, 'x_other_kl': 0.008, 'x_other_elbo': 0.237}, 0.7s elapsed\n",
      "[INFO] SCCLUETrainer: [Epoch 140] train={'dsc_loss': 0.659, 'gen_loss': 0.738, 'cross_loss': 0.371, 'cos_loss': 0.143, 'x_gex_nll': 0.186, 'x_gex_kl': 0.02, 'x_gex_elbo': 0.192, 'x_other_nll': 0.183, 'x_other_kl': 0.008, 'x_other_elbo': 0.185}, val={'dsc_loss': 0.661, 'gen_loss': 0.931, 'cross_loss': 0.461, 'cos_loss': 0.239, 'x_gex_nll': 0.234, 'x_gex_kl': 0.02, 'x_gex_elbo': 0.24, 'x_other_nll': 0.236, 'x_other_kl': 0.008, 'x_other_elbo': 0.238}, 0.8s elapsed\n",
      "[INFO] SCCLUETrainer: [Epoch 150] train={'dsc_loss': 0.665, 'gen_loss': 0.735, 'cross_loss': 0.37, 'cos_loss': 0.141, 'x_gex_nll': 0.186, 'x_gex_kl': 0.02, 'x_gex_elbo': 0.192, 'x_other_nll': 0.182, 'x_other_kl': 0.008, 'x_other_elbo': 0.184}, val={'dsc_loss': 0.657, 'gen_loss': 0.941, 'cross_loss': 0.466, 'cos_loss': 0.243, 'x_gex_nll': 0.238, 'x_gex_kl': 0.02, 'x_gex_elbo': 0.244, 'x_other_nll': 0.237, 'x_other_kl': 0.008, 'x_other_elbo': 0.239}, 1.0s elapsed\n",
      "[INFO] SCCLUETrainer: [Epoch 160] train={'dsc_loss': 0.664, 'gen_loss': 0.733, 'cross_loss': 0.369, 'cos_loss': 0.141, 'x_gex_nll': 0.185, 'x_gex_kl': 0.02, 'x_gex_elbo': 0.191, 'x_other_nll': 0.181, 'x_other_kl': 0.008, 'x_other_elbo': 0.184}, val={'dsc_loss': 0.667, 'gen_loss': 0.933, 'cross_loss': 0.462, 'cos_loss': 0.243, 'x_gex_nll': 0.236, 'x_gex_kl': 0.02, 'x_gex_elbo': 0.242, 'x_other_nll': 0.235, 'x_other_kl': 0.008, 'x_other_elbo': 0.238}, 1.0s elapsed\n",
      "[INFO] SCCLUETrainer: [Epoch 170] train={'dsc_loss': 0.654, 'gen_loss': 0.734, 'cross_loss': 0.369, 'cos_loss': 0.142, 'x_gex_nll': 0.186, 'x_gex_kl': 0.02, 'x_gex_elbo': 0.191, 'x_other_nll': 0.181, 'x_other_kl': 0.008, 'x_other_elbo': 0.184}, val={'dsc_loss': 0.663, 'gen_loss': 0.936, 'cross_loss': 0.463, 'cos_loss': 0.247, 'x_gex_nll': 0.236, 'x_gex_kl': 0.02, 'x_gex_elbo': 0.242, 'x_other_nll': 0.236, 'x_other_kl': 0.008, 'x_other_elbo': 0.239}, 0.8s elapsed\n",
      "[INFO] SCCLUETrainer: [Epoch 180] train={'dsc_loss': 0.664, 'gen_loss': 0.73, 'cross_loss': 0.367, 'cos_loss': 0.141, 'x_gex_nll': 0.185, 'x_gex_kl': 0.02, 'x_gex_elbo': 0.19, 'x_other_nll': 0.181, 'x_other_kl': 0.008, 'x_other_elbo': 0.183}, val={'dsc_loss': 0.686, 'gen_loss': 0.934, 'cross_loss': 0.463, 'cos_loss': 0.245, 'x_gex_nll': 0.237, 'x_gex_kl': 0.02, 'x_gex_elbo': 0.243, 'x_other_nll': 0.235, 'x_other_kl': 0.008, 'x_other_elbo': 0.237}, 0.7s elapsed\n",
      "[INFO] SCCLUETrainer: [Epoch 190] train={'dsc_loss': 0.666, 'gen_loss': 0.734, 'cross_loss': 0.369, 'cos_loss': 0.14, 'x_gex_nll': 0.185, 'x_gex_kl': 0.02, 'x_gex_elbo': 0.191, 'x_other_nll': 0.182, 'x_other_kl': 0.008, 'x_other_elbo': 0.184}, val={'dsc_loss': 0.664, 'gen_loss': 0.936, 'cross_loss': 0.463, 'cos_loss': 0.252, 'x_gex_nll': 0.236, 'x_gex_kl': 0.02, 'x_gex_elbo': 0.242, 'x_other_nll': 0.236, 'x_other_kl': 0.008, 'x_other_elbo': 0.239}, 0.8s elapsed\n",
      "[INFO] SCCLUETrainer: [Epoch 200] train={'dsc_loss': 0.658, 'gen_loss': 0.732, 'cross_loss': 0.368, 'cos_loss': 0.14, 'x_gex_nll': 0.185, 'x_gex_kl': 0.02, 'x_gex_elbo': 0.191, 'x_other_nll': 0.181, 'x_other_kl': 0.008, 'x_other_elbo': 0.184}, val={'dsc_loss': 0.674, 'gen_loss': 0.938, 'cross_loss': 0.465, 'cos_loss': 0.253, 'x_gex_nll': 0.238, 'x_gex_kl': 0.02, 'x_gex_elbo': 0.243, 'x_other_nll': 0.235, 'x_other_kl': 0.008, 'x_other_elbo': 0.238}, 0.8s elapsed\n",
      "[INFO] SCCLUETrainer: [Epoch 210] train={'dsc_loss': 0.66, 'gen_loss': 0.731, 'cross_loss': 0.368, 'cos_loss': 0.14, 'x_gex_nll': 0.185, 'x_gex_kl': 0.02, 'x_gex_elbo': 0.191, 'x_other_nll': 0.18, 'x_other_kl': 0.008, 'x_other_elbo': 0.183}, val={'dsc_loss': 0.638, 'gen_loss': 0.933, 'cross_loss': 0.462, 'cos_loss': 0.253, 'x_gex_nll': 0.236, 'x_gex_kl': 0.02, 'x_gex_elbo': 0.242, 'x_other_nll': 0.235, 'x_other_kl': 0.008, 'x_other_elbo': 0.237}, 0.8s elapsed\n",
      "[INFO] SCCLUETrainer: [Epoch 220] train={'dsc_loss': 0.661, 'gen_loss': 0.732, 'cross_loss': 0.368, 'cos_loss': 0.14, 'x_gex_nll': 0.185, 'x_gex_kl': 0.02, 'x_gex_elbo': 0.191, 'x_other_nll': 0.181, 'x_other_kl': 0.008, 'x_other_elbo': 0.183}, val={'dsc_loss': 0.667, 'gen_loss': 0.939, 'cross_loss': 0.465, 'cos_loss': 0.259, 'x_gex_nll': 0.238, 'x_gex_kl': 0.02, 'x_gex_elbo': 0.244, 'x_other_nll': 0.236, 'x_other_kl': 0.008, 'x_other_elbo': 0.238}, 0.8s elapsed\n",
      "[INFO] SCCLUETrainer: [Epoch 230] train={'dsc_loss': 0.669, 'gen_loss': 0.728, 'cross_loss': 0.366, 'cos_loss': 0.138, 'x_gex_nll': 0.184, 'x_gex_kl': 0.02, 'x_gex_elbo': 0.19, 'x_other_nll': 0.18, 'x_other_kl': 0.008, 'x_other_elbo': 0.183}, val={'dsc_loss': 0.657, 'gen_loss': 0.939, 'cross_loss': 0.465, 'cos_loss': 0.255, 'x_gex_nll': 0.237, 'x_gex_kl': 0.02, 'x_gex_elbo': 0.243, 'x_other_nll': 0.236, 'x_other_kl': 0.008, 'x_other_elbo': 0.238}, 0.8s elapsed\n",
      "[INFO] SCCLUETrainer: [Epoch 240] train={'dsc_loss': 0.661, 'gen_loss': 0.729, 'cross_loss': 0.367, 'cos_loss': 0.138, 'x_gex_nll': 0.184, 'x_gex_kl': 0.02, 'x_gex_elbo': 0.19, 'x_other_nll': 0.18, 'x_other_kl': 0.008, 'x_other_elbo': 0.183}, val={'dsc_loss': 0.675, 'gen_loss': 0.94, 'cross_loss': 0.466, 'cos_loss': 0.256, 'x_gex_nll': 0.238, 'x_gex_kl': 0.02, 'x_gex_elbo': 0.244, 'x_other_nll': 0.236, 'x_other_kl': 0.008, 'x_other_elbo': 0.239}, 0.8s elapsed\n",
      "[INFO] SCCLUETrainer: [Epoch 250] train={'dsc_loss': 0.658, 'gen_loss': 0.726, 'cross_loss': 0.365, 'cos_loss': 0.14, 'x_gex_nll': 0.183, 'x_gex_kl': 0.02, 'x_gex_elbo': 0.189, 'x_other_nll': 0.179, 'x_other_kl': 0.008, 'x_other_elbo': 0.182}, val={'dsc_loss': 0.657, 'gen_loss': 0.941, 'cross_loss': 0.466, 'cos_loss': 0.263, 'x_gex_nll': 0.238, 'x_gex_kl': 0.02, 'x_gex_elbo': 0.244, 'x_other_nll': 0.237, 'x_other_kl': 0.008, 'x_other_elbo': 0.239}, 0.8s elapsed\n",
      "[INFO] SCCLUETrainer: [Epoch 260] train={'dsc_loss': 0.664, 'gen_loss': 0.73, 'cross_loss': 0.367, 'cos_loss': 0.137, 'x_gex_nll': 0.185, 'x_gex_kl': 0.02, 'x_gex_elbo': 0.191, 'x_other_nll': 0.18, 'x_other_kl': 0.008, 'x_other_elbo': 0.183}, val={'dsc_loss': 0.652, 'gen_loss': 0.943, 'cross_loss': 0.467, 'cos_loss': 0.259, 'x_gex_nll': 0.239, 'x_gex_kl': 0.02, 'x_gex_elbo': 0.245, 'x_other_nll': 0.237, 'x_other_kl': 0.008, 'x_other_elbo': 0.239}, 0.9s elapsed\n",
      "[INFO] SCCLUETrainer: [Epoch 270] train={'dsc_loss': 0.652, 'gen_loss': 0.727, 'cross_loss': 0.366, 'cos_loss': 0.136, 'x_gex_nll': 0.184, 'x_gex_kl': 0.02, 'x_gex_elbo': 0.189, 'x_other_nll': 0.18, 'x_other_kl': 0.008, 'x_other_elbo': 0.183}, val={'dsc_loss': 0.643, 'gen_loss': 0.939, 'cross_loss': 0.465, 'cos_loss': 0.258, 'x_gex_nll': 0.238, 'x_gex_kl': 0.02, 'x_gex_elbo': 0.244, 'x_other_nll': 0.236, 'x_other_kl': 0.008, 'x_other_elbo': 0.238}, 1.0s elapsed\n",
      "[INFO] SCCLUETrainer: [Epoch 280] train={'dsc_loss': 0.655, 'gen_loss': 0.725, 'cross_loss': 0.365, 'cos_loss': 0.135, 'x_gex_nll': 0.183, 'x_gex_kl': 0.02, 'x_gex_elbo': 0.189, 'x_other_nll': 0.179, 'x_other_kl': 0.008, 'x_other_elbo': 0.181}, val={'dsc_loss': 0.64, 'gen_loss': 0.943, 'cross_loss': 0.467, 'cos_loss': 0.255, 'x_gex_nll': 0.239, 'x_gex_kl': 0.02, 'x_gex_elbo': 0.245, 'x_other_nll': 0.237, 'x_other_kl': 0.008, 'x_other_elbo': 0.239}, 0.8s elapsed\n",
      "[INFO] SCCLUETrainer: [Epoch 290] train={'dsc_loss': 0.668, 'gen_loss': 0.727, 'cross_loss': 0.366, 'cos_loss': 0.133, 'x_gex_nll': 0.184, 'x_gex_kl': 0.02, 'x_gex_elbo': 0.19, 'x_other_nll': 0.18, 'x_other_kl': 0.008, 'x_other_elbo': 0.182}, val={'dsc_loss': 0.634, 'gen_loss': 0.941, 'cross_loss': 0.466, 'cos_loss': 0.257, 'x_gex_nll': 0.238, 'x_gex_kl': 0.02, 'x_gex_elbo': 0.244, 'x_other_nll': 0.236, 'x_other_kl': 0.008, 'x_other_elbo': 0.239}, 0.8s elapsed\n",
      "[INFO] SCCLUETrainer: [Epoch 300] train={'dsc_loss': 0.672, 'gen_loss': 0.725, 'cross_loss': 0.365, 'cos_loss': 0.134, 'x_gex_nll': 0.184, 'x_gex_kl': 0.02, 'x_gex_elbo': 0.19, 'x_other_nll': 0.179, 'x_other_kl': 0.008, 'x_other_elbo': 0.182}, val={'dsc_loss': 0.635, 'gen_loss': 0.945, 'cross_loss': 0.468, 'cos_loss': 0.263, 'x_gex_nll': 0.238, 'x_gex_kl': 0.02, 'x_gex_elbo': 0.244, 'x_other_nll': 0.238, 'x_other_kl': 0.008, 'x_other_elbo': 0.241}, 0.8s elapsed\n",
      "[INFO] SCCLUETrainer: [Epoch 310] train={'dsc_loss': 0.66, 'gen_loss': 0.725, 'cross_loss': 0.365, 'cos_loss': 0.132, 'x_gex_nll': 0.183, 'x_gex_kl': 0.02, 'x_gex_elbo': 0.189, 'x_other_nll': 0.179, 'x_other_kl': 0.008, 'x_other_elbo': 0.182}, val={'dsc_loss': 0.633, 'gen_loss': 0.941, 'cross_loss': 0.465, 'cos_loss': 0.252, 'x_gex_nll': 0.239, 'x_gex_kl': 0.02, 'x_gex_elbo': 0.245, 'x_other_nll': 0.236, 'x_other_kl': 0.008, 'x_other_elbo': 0.239}, 0.8s elapsed\n",
      "[INFO] SCCLUETrainer: [Epoch 320] train={'dsc_loss': 0.666, 'gen_loss': 0.725, 'cross_loss': 0.365, 'cos_loss': 0.132, 'x_gex_nll': 0.183, 'x_gex_kl': 0.02, 'x_gex_elbo': 0.189, 'x_other_nll': 0.179, 'x_other_kl': 0.008, 'x_other_elbo': 0.182}, val={'dsc_loss': 0.633, 'gen_loss': 0.946, 'cross_loss': 0.468, 'cos_loss': 0.258, 'x_gex_nll': 0.24, 'x_gex_kl': 0.02, 'x_gex_elbo': 0.246, 'x_other_nll': 0.237, 'x_other_kl': 0.008, 'x_other_elbo': 0.239}, 0.8s elapsed\n",
      "[INFO] SCCLUETrainer: [Epoch 330] train={'dsc_loss': 0.655, 'gen_loss': 0.724, 'cross_loss': 0.364, 'cos_loss': 0.13, 'x_gex_nll': 0.183, 'x_gex_kl': 0.02, 'x_gex_elbo': 0.189, 'x_other_nll': 0.179, 'x_other_kl': 0.008, 'x_other_elbo': 0.182}, val={'dsc_loss': 0.627, 'gen_loss': 0.941, 'cross_loss': 0.465, 'cos_loss': 0.254, 'x_gex_nll': 0.239, 'x_gex_kl': 0.021, 'x_gex_elbo': 0.245, 'x_other_nll': 0.236, 'x_other_kl': 0.008, 'x_other_elbo': 0.238}, 0.8s elapsed\n",
      "[INFO] SCCLUETrainer: [Epoch 340] train={'dsc_loss': 0.661, 'gen_loss': 0.721, 'cross_loss': 0.363, 'cos_loss': 0.132, 'x_gex_nll': 0.182, 'x_gex_kl': 0.02, 'x_gex_elbo': 0.188, 'x_other_nll': 0.178, 'x_other_kl': 0.008, 'x_other_elbo': 0.181}, val={'dsc_loss': 0.639, 'gen_loss': 0.942, 'cross_loss': 0.466, 'cos_loss': 0.258, 'x_gex_nll': 0.239, 'x_gex_kl': 0.02, 'x_gex_elbo': 0.245, 'x_other_nll': 0.236, 'x_other_kl': 0.008, 'x_other_elbo': 0.239}, 1.0s elapsed\n",
      "[INFO] SCCLUETrainer: [Epoch 350] train={'dsc_loss': 0.656, 'gen_loss': 0.721, 'cross_loss': 0.363, 'cos_loss': 0.132, 'x_gex_nll': 0.183, 'x_gex_kl': 0.02, 'x_gex_elbo': 0.189, 'x_other_nll': 0.178, 'x_other_kl': 0.008, 'x_other_elbo': 0.18}, val={'dsc_loss': 0.624, 'gen_loss': 0.95, 'cross_loss': 0.47, 'cos_loss': 0.258, 'x_gex_nll': 0.241, 'x_gex_kl': 0.021, 'x_gex_elbo': 0.247, 'x_other_nll': 0.238, 'x_other_kl': 0.008, 'x_other_elbo': 0.24}, 1.0s elapsed\n",
      "[INFO] SCCLUETrainer: [Epoch 360] train={'dsc_loss': 0.657, 'gen_loss': 0.721, 'cross_loss': 0.362, 'cos_loss': 0.13, 'x_gex_nll': 0.183, 'x_gex_kl': 0.02, 'x_gex_elbo': 0.189, 'x_other_nll': 0.178, 'x_other_kl': 0.008, 'x_other_elbo': 0.18}, val={'dsc_loss': 0.62, 'gen_loss': 0.946, 'cross_loss': 0.467, 'cos_loss': 0.26, 'x_gex_nll': 0.24, 'x_gex_kl': 0.021, 'x_gex_elbo': 0.246, 'x_other_nll': 0.237, 'x_other_kl': 0.008, 'x_other_elbo': 0.239}, 1.0s elapsed\n",
      "[INFO] SCCLUETrainer: [Epoch 370] train={'dsc_loss': 0.649, 'gen_loss': 0.722, 'cross_loss': 0.363, 'cos_loss': 0.129, 'x_gex_nll': 0.183, 'x_gex_kl': 0.02, 'x_gex_elbo': 0.189, 'x_other_nll': 0.178, 'x_other_kl': 0.008, 'x_other_elbo': 0.181}, val={'dsc_loss': 0.613, 'gen_loss': 0.946, 'cross_loss': 0.467, 'cos_loss': 0.257, 'x_gex_nll': 0.24, 'x_gex_kl': 0.021, 'x_gex_elbo': 0.247, 'x_other_nll': 0.237, 'x_other_kl': 0.008, 'x_other_elbo': 0.239}, 1.0s elapsed\n",
      "[INFO] SCCLUETrainer: [Epoch 380] train={'dsc_loss': 0.655, 'gen_loss': 0.723, 'cross_loss': 0.363, 'cos_loss': 0.127, 'x_gex_nll': 0.183, 'x_gex_kl': 0.02, 'x_gex_elbo': 0.189, 'x_other_nll': 0.178, 'x_other_kl': 0.008, 'x_other_elbo': 0.181}, val={'dsc_loss': 0.638, 'gen_loss': 0.944, 'cross_loss': 0.466, 'cos_loss': 0.246, 'x_gex_nll': 0.24, 'x_gex_kl': 0.021, 'x_gex_elbo': 0.246, 'x_other_nll': 0.237, 'x_other_kl': 0.008, 'x_other_elbo': 0.24}, 0.7s elapsed\n",
      "[INFO] SCCLUETrainer: [Epoch 390] train={'dsc_loss': 0.662, 'gen_loss': 0.724, 'cross_loss': 0.364, 'cos_loss': 0.128, 'x_gex_nll': 0.183, 'x_gex_kl': 0.02, 'x_gex_elbo': 0.189, 'x_other_nll': 0.179, 'x_other_kl': 0.008, 'x_other_elbo': 0.181}, val={'dsc_loss': 0.623, 'gen_loss': 0.944, 'cross_loss': 0.466, 'cos_loss': 0.252, 'x_gex_nll': 0.24, 'x_gex_kl': 0.021, 'x_gex_elbo': 0.246, 'x_other_nll': 0.237, 'x_other_kl': 0.008, 'x_other_elbo': 0.24}, 1.0s elapsed\n",
      "[INFO] SCCLUETrainer: [Epoch 400] train={'dsc_loss': 0.659, 'gen_loss': 0.72, 'cross_loss': 0.362, 'cos_loss': 0.128, 'x_gex_nll': 0.182, 'x_gex_kl': 0.02, 'x_gex_elbo': 0.188, 'x_other_nll': 0.178, 'x_other_kl': 0.008, 'x_other_elbo': 0.18}, val={'dsc_loss': 0.614, 'gen_loss': 0.951, 'cross_loss': 0.469, 'cos_loss': 0.256, 'x_gex_nll': 0.241, 'x_gex_kl': 0.021, 'x_gex_elbo': 0.247, 'x_other_nll': 0.239, 'x_other_kl': 0.008, 'x_other_elbo': 0.241}, 1.0s elapsed\n",
      "[INFO] EarlyStopping: Restoring checkpoint \"394\"...\n",
      "[INFO] Transferrable: Copied: encoders.0.linear_0.weight\n"
     ]
    },
    {
     "name": "stderr",
     "output_type": "stream",
     "text": [
      "INFO:Transferrable:Copied: encoders.0.linear_0.weight\n"
     ]
    },
    {
     "name": "stdout",
     "output_type": "stream",
     "text": [
      "[INFO] Transferrable: Copied: encoders.0.linear_0.bias\n"
     ]
    },
    {
     "name": "stderr",
     "output_type": "stream",
     "text": [
      "INFO:Transferrable:Copied: encoders.0.linear_0.bias\n"
     ]
    },
    {
     "name": "stdout",
     "output_type": "stream",
     "text": [
      "[INFO] Transferrable: Copied: encoders.0.bn_0.weight\n"
     ]
    },
    {
     "name": "stderr",
     "output_type": "stream",
     "text": [
      "INFO:Transferrable:Copied: encoders.0.bn_0.weight\n"
     ]
    },
    {
     "name": "stdout",
     "output_type": "stream",
     "text": [
      "[INFO] Transferrable: Copied: encoders.0.bn_0.bias\n"
     ]
    },
    {
     "name": "stderr",
     "output_type": "stream",
     "text": [
      "INFO:Transferrable:Copied: encoders.0.bn_0.bias\n"
     ]
    },
    {
     "name": "stdout",
     "output_type": "stream",
     "text": [
      "[INFO] Transferrable: Copied: encoders.0.linear_1.weight\n"
     ]
    },
    {
     "name": "stderr",
     "output_type": "stream",
     "text": [
      "INFO:Transferrable:Copied: encoders.0.linear_1.weight\n"
     ]
    },
    {
     "name": "stdout",
     "output_type": "stream",
     "text": [
      "[INFO] Transferrable: Copied: encoders.0.linear_1.bias\n"
     ]
    },
    {
     "name": "stderr",
     "output_type": "stream",
     "text": [
      "INFO:Transferrable:Copied: encoders.0.linear_1.bias\n"
     ]
    },
    {
     "name": "stdout",
     "output_type": "stream",
     "text": [
      "[INFO] Transferrable: Copied: encoders.0.bn_1.weight\n"
     ]
    },
    {
     "name": "stderr",
     "output_type": "stream",
     "text": [
      "INFO:Transferrable:Copied: encoders.0.bn_1.weight\n"
     ]
    },
    {
     "name": "stdout",
     "output_type": "stream",
     "text": [
      "[INFO] Transferrable: Copied: encoders.0.bn_1.bias\n"
     ]
    },
    {
     "name": "stderr",
     "output_type": "stream",
     "text": [
      "INFO:Transferrable:Copied: encoders.0.bn_1.bias\n"
     ]
    },
    {
     "name": "stdout",
     "output_type": "stream",
     "text": [
      "[INFO] Transferrable: Copied: encoders.0.loc.weight\n"
     ]
    },
    {
     "name": "stderr",
     "output_type": "stream",
     "text": [
      "INFO:Transferrable:Copied: encoders.0.loc.weight\n"
     ]
    },
    {
     "name": "stdout",
     "output_type": "stream",
     "text": [
      "[INFO] Transferrable: Copied: encoders.0.loc.bias\n"
     ]
    },
    {
     "name": "stderr",
     "output_type": "stream",
     "text": [
      "INFO:Transferrable:Copied: encoders.0.loc.bias\n"
     ]
    },
    {
     "name": "stdout",
     "output_type": "stream",
     "text": [
      "[INFO] Transferrable: Copied: encoders.0.std_lin.weight\n"
     ]
    },
    {
     "name": "stderr",
     "output_type": "stream",
     "text": [
      "INFO:Transferrable:Copied: encoders.0.std_lin.weight\n"
     ]
    },
    {
     "name": "stdout",
     "output_type": "stream",
     "text": [
      "[INFO] Transferrable: Copied: encoders.0.std_lin.bias\n"
     ]
    },
    {
     "name": "stderr",
     "output_type": "stream",
     "text": [
      "INFO:Transferrable:Copied: encoders.0.std_lin.bias\n"
     ]
    },
    {
     "name": "stdout",
     "output_type": "stream",
     "text": [
      "[INFO] Transferrable: Copied: encoders.1.linear_0.weight\n"
     ]
    },
    {
     "name": "stderr",
     "output_type": "stream",
     "text": [
      "INFO:Transferrable:Copied: encoders.1.linear_0.weight\n"
     ]
    },
    {
     "name": "stdout",
     "output_type": "stream",
     "text": [
      "[INFO] Transferrable: Copied: encoders.1.linear_0.bias\n"
     ]
    },
    {
     "name": "stderr",
     "output_type": "stream",
     "text": [
      "INFO:Transferrable:Copied: encoders.1.linear_0.bias\n"
     ]
    },
    {
     "name": "stdout",
     "output_type": "stream",
     "text": [
      "[INFO] Transferrable: Copied: encoders.1.bn_0.weight\n"
     ]
    },
    {
     "name": "stderr",
     "output_type": "stream",
     "text": [
      "INFO:Transferrable:Copied: encoders.1.bn_0.weight\n"
     ]
    },
    {
     "name": "stdout",
     "output_type": "stream",
     "text": [
      "[INFO] Transferrable: Copied: encoders.1.bn_0.bias\n"
     ]
    },
    {
     "name": "stderr",
     "output_type": "stream",
     "text": [
      "INFO:Transferrable:Copied: encoders.1.bn_0.bias\n"
     ]
    },
    {
     "name": "stdout",
     "output_type": "stream",
     "text": [
      "[INFO] Transferrable: Copied: encoders.1.linear_1.weight\n"
     ]
    },
    {
     "name": "stderr",
     "output_type": "stream",
     "text": [
      "INFO:Transferrable:Copied: encoders.1.linear_1.weight\n"
     ]
    },
    {
     "name": "stdout",
     "output_type": "stream",
     "text": [
      "[INFO] Transferrable: Copied: encoders.1.linear_1.bias\n"
     ]
    },
    {
     "name": "stderr",
     "output_type": "stream",
     "text": [
      "INFO:Transferrable:Copied: encoders.1.linear_1.bias\n"
     ]
    },
    {
     "name": "stdout",
     "output_type": "stream",
     "text": [
      "[INFO] Transferrable: Copied: encoders.1.bn_1.weight\n"
     ]
    },
    {
     "name": "stderr",
     "output_type": "stream",
     "text": [
      "INFO:Transferrable:Copied: encoders.1.bn_1.weight\n"
     ]
    },
    {
     "name": "stdout",
     "output_type": "stream",
     "text": [
      "[INFO] Transferrable: Copied: encoders.1.bn_1.bias\n"
     ]
    },
    {
     "name": "stderr",
     "output_type": "stream",
     "text": [
      "INFO:Transferrable:Copied: encoders.1.bn_1.bias\n"
     ]
    },
    {
     "name": "stdout",
     "output_type": "stream",
     "text": [
      "[INFO] Transferrable: Copied: encoders.1.loc.weight\n"
     ]
    },
    {
     "name": "stderr",
     "output_type": "stream",
     "text": [
      "INFO:Transferrable:Copied: encoders.1.loc.weight\n"
     ]
    },
    {
     "name": "stdout",
     "output_type": "stream",
     "text": [
      "[INFO] Transferrable: Copied: encoders.1.loc.bias\n"
     ]
    },
    {
     "name": "stderr",
     "output_type": "stream",
     "text": [
      "INFO:Transferrable:Copied: encoders.1.loc.bias\n"
     ]
    },
    {
     "name": "stdout",
     "output_type": "stream",
     "text": [
      "[INFO] Transferrable: Copied: encoders.1.std_lin.weight\n"
     ]
    },
    {
     "name": "stderr",
     "output_type": "stream",
     "text": [
      "INFO:Transferrable:Copied: encoders.1.std_lin.weight\n"
     ]
    },
    {
     "name": "stdout",
     "output_type": "stream",
     "text": [
      "[INFO] Transferrable: Copied: encoders.1.std_lin.bias\n"
     ]
    },
    {
     "name": "stderr",
     "output_type": "stream",
     "text": [
      "INFO:Transferrable:Copied: encoders.1.std_lin.bias\n"
     ]
    },
    {
     "name": "stdout",
     "output_type": "stream",
     "text": [
      "[INFO] Transferrable: Copied: est_l.weight\n"
     ]
    },
    {
     "name": "stderr",
     "output_type": "stream",
     "text": [
      "INFO:Transferrable:Copied: est_l.weight\n"
     ]
    },
    {
     "name": "stdout",
     "output_type": "stream",
     "text": [
      "[INFO] Transferrable: Copied: est_l.bias\n"
     ]
    },
    {
     "name": "stderr",
     "output_type": "stream",
     "text": [
      "INFO:Transferrable:Copied: est_l.bias\n"
     ]
    },
    {
     "name": "stdout",
     "output_type": "stream",
     "text": [
      "[INFO] Transferrable: Copied: encoders.0.bn_0.running_mean\n"
     ]
    },
    {
     "name": "stderr",
     "output_type": "stream",
     "text": [
      "INFO:Transferrable:Copied: encoders.0.bn_0.running_mean\n"
     ]
    },
    {
     "name": "stdout",
     "output_type": "stream",
     "text": [
      "[INFO] Transferrable: Copied: encoders.0.bn_0.running_var\n"
     ]
    },
    {
     "name": "stderr",
     "output_type": "stream",
     "text": [
      "INFO:Transferrable:Copied: encoders.0.bn_0.running_var\n"
     ]
    },
    {
     "name": "stdout",
     "output_type": "stream",
     "text": [
      "[INFO] Transferrable: Copied: encoders.0.bn_0.num_batches_tracked\n"
     ]
    },
    {
     "name": "stderr",
     "output_type": "stream",
     "text": [
      "INFO:Transferrable:Copied: encoders.0.bn_0.num_batches_tracked\n"
     ]
    },
    {
     "name": "stdout",
     "output_type": "stream",
     "text": [
      "[INFO] Transferrable: Copied: encoders.0.bn_1.running_mean\n"
     ]
    },
    {
     "name": "stderr",
     "output_type": "stream",
     "text": [
      "INFO:Transferrable:Copied: encoders.0.bn_1.running_mean\n"
     ]
    },
    {
     "name": "stdout",
     "output_type": "stream",
     "text": [
      "[INFO] Transferrable: Copied: encoders.0.bn_1.running_var\n"
     ]
    },
    {
     "name": "stderr",
     "output_type": "stream",
     "text": [
      "INFO:Transferrable:Copied: encoders.0.bn_1.running_var\n"
     ]
    },
    {
     "name": "stdout",
     "output_type": "stream",
     "text": [
      "[INFO] Transferrable: Copied: encoders.0.bn_1.num_batches_tracked\n"
     ]
    },
    {
     "name": "stderr",
     "output_type": "stream",
     "text": [
      "INFO:Transferrable:Copied: encoders.0.bn_1.num_batches_tracked\n"
     ]
    },
    {
     "name": "stdout",
     "output_type": "stream",
     "text": [
      "[INFO] Transferrable: Copied: encoders.1.bn_0.running_mean\n"
     ]
    },
    {
     "name": "stderr",
     "output_type": "stream",
     "text": [
      "INFO:Transferrable:Copied: encoders.1.bn_0.running_mean\n"
     ]
    },
    {
     "name": "stdout",
     "output_type": "stream",
     "text": [
      "[INFO] Transferrable: Copied: encoders.1.bn_0.running_var\n"
     ]
    },
    {
     "name": "stderr",
     "output_type": "stream",
     "text": [
      "INFO:Transferrable:Copied: encoders.1.bn_0.running_var\n"
     ]
    },
    {
     "name": "stdout",
     "output_type": "stream",
     "text": [
      "[INFO] Transferrable: Copied: encoders.1.bn_0.num_batches_tracked\n"
     ]
    },
    {
     "name": "stderr",
     "output_type": "stream",
     "text": [
      "INFO:Transferrable:Copied: encoders.1.bn_0.num_batches_tracked\n"
     ]
    },
    {
     "name": "stdout",
     "output_type": "stream",
     "text": [
      "[INFO] Transferrable: Copied: encoders.1.bn_1.running_mean\n"
     ]
    },
    {
     "name": "stderr",
     "output_type": "stream",
     "text": [
      "INFO:Transferrable:Copied: encoders.1.bn_1.running_mean\n"
     ]
    },
    {
     "name": "stdout",
     "output_type": "stream",
     "text": [
      "[INFO] Transferrable: Copied: encoders.1.bn_1.running_var\n"
     ]
    },
    {
     "name": "stderr",
     "output_type": "stream",
     "text": [
      "INFO:Transferrable:Copied: encoders.1.bn_1.running_var\n"
     ]
    },
    {
     "name": "stdout",
     "output_type": "stream",
     "text": [
      "[INFO] Transferrable: Copied: encoders.1.bn_1.num_batches_tracked\n"
     ]
    },
    {
     "name": "stderr",
     "output_type": "stream",
     "text": [
      "INFO:Transferrable:Copied: encoders.1.bn_1.num_batches_tracked\n"
     ]
    },
    {
     "name": "stdout",
     "output_type": "stream",
     "text": [
      "[INFO] BatchedTransferrable: Copied: scale_lin\n"
     ]
    },
    {
     "name": "stderr",
     "output_type": "stream",
     "text": [
      "INFO:BatchedTransferrable:Copied: scale_lin\n"
     ]
    },
    {
     "name": "stdout",
     "output_type": "stream",
     "text": [
      "[INFO] BatchedTransferrable: Copied: bias\n"
     ]
    },
    {
     "name": "stderr",
     "output_type": "stream",
     "text": [
      "INFO:BatchedTransferrable:Copied: bias\n"
     ]
    },
    {
     "name": "stdout",
     "output_type": "stream",
     "text": [
      "[INFO] BatchedTransferrable: Copied: log_theta\n"
     ]
    },
    {
     "name": "stderr",
     "output_type": "stream",
     "text": [
      "INFO:BatchedTransferrable:Copied: log_theta\n"
     ]
    },
    {
     "name": "stdout",
     "output_type": "stream",
     "text": [
      "[INFO] BatchedTransferrable: Copied: linear_0.weight\n"
     ]
    },
    {
     "name": "stderr",
     "output_type": "stream",
     "text": [
      "INFO:BatchedTransferrable:Copied: linear_0.weight\n"
     ]
    },
    {
     "name": "stdout",
     "output_type": "stream",
     "text": [
      "[INFO] BatchedTransferrable: Copied: linear_0.bias\n"
     ]
    },
    {
     "name": "stderr",
     "output_type": "stream",
     "text": [
      "INFO:BatchedTransferrable:Copied: linear_0.bias\n"
     ]
    },
    {
     "name": "stdout",
     "output_type": "stream",
     "text": [
      "[INFO] BatchedTransferrable: Copied: bn_0.weight\n"
     ]
    },
    {
     "name": "stderr",
     "output_type": "stream",
     "text": [
      "INFO:BatchedTransferrable:Copied: bn_0.weight\n"
     ]
    },
    {
     "name": "stdout",
     "output_type": "stream",
     "text": [
      "[INFO] BatchedTransferrable: Copied: bn_0.bias\n"
     ]
    },
    {
     "name": "stderr",
     "output_type": "stream",
     "text": [
      "INFO:BatchedTransferrable:Copied: bn_0.bias\n"
     ]
    },
    {
     "name": "stdout",
     "output_type": "stream",
     "text": [
      "[INFO] BatchedTransferrable: Copied: loc.weight\n"
     ]
    },
    {
     "name": "stderr",
     "output_type": "stream",
     "text": [
      "INFO:BatchedTransferrable:Copied: loc.weight\n"
     ]
    },
    {
     "name": "stdout",
     "output_type": "stream",
     "text": [
      "[INFO] BatchedTransferrable: Copied: loc.bias\n"
     ]
    },
    {
     "name": "stderr",
     "output_type": "stream",
     "text": [
      "INFO:BatchedTransferrable:Copied: loc.bias\n"
     ]
    },
    {
     "name": "stdout",
     "output_type": "stream",
     "text": [
      "[INFO] BatchedTransferrable: Copied: bn_0.running_mean\n"
     ]
    },
    {
     "name": "stderr",
     "output_type": "stream",
     "text": [
      "INFO:BatchedTransferrable:Copied: bn_0.running_mean\n"
     ]
    },
    {
     "name": "stdout",
     "output_type": "stream",
     "text": [
      "[INFO] BatchedTransferrable: Copied: bn_0.running_var\n"
     ]
    },
    {
     "name": "stderr",
     "output_type": "stream",
     "text": [
      "INFO:BatchedTransferrable:Copied: bn_0.running_var\n"
     ]
    },
    {
     "name": "stdout",
     "output_type": "stream",
     "text": [
      "[INFO] BatchedTransferrable: Copied: bn_0.num_batches_tracked\n"
     ]
    },
    {
     "name": "stderr",
     "output_type": "stream",
     "text": [
      "INFO:BatchedTransferrable:Copied: bn_0.num_batches_tracked\n"
     ]
    },
    {
     "name": "stdout",
     "output_type": "stream",
     "text": [
      "[INFO] Transferrable: Copied: encoders.0.linear_0.weight\n"
     ]
    },
    {
     "name": "stderr",
     "output_type": "stream",
     "text": [
      "INFO:Transferrable:Copied: encoders.0.linear_0.weight\n"
     ]
    },
    {
     "name": "stdout",
     "output_type": "stream",
     "text": [
      "[INFO] Transferrable: Copied: encoders.0.linear_0.bias\n"
     ]
    },
    {
     "name": "stderr",
     "output_type": "stream",
     "text": [
      "INFO:Transferrable:Copied: encoders.0.linear_0.bias\n"
     ]
    },
    {
     "name": "stdout",
     "output_type": "stream",
     "text": [
      "[INFO] Transferrable: Copied: encoders.0.bn_0.weight\n"
     ]
    },
    {
     "name": "stderr",
     "output_type": "stream",
     "text": [
      "INFO:Transferrable:Copied: encoders.0.bn_0.weight\n"
     ]
    },
    {
     "name": "stdout",
     "output_type": "stream",
     "text": [
      "[INFO] Transferrable: Copied: encoders.0.bn_0.bias\n"
     ]
    },
    {
     "name": "stderr",
     "output_type": "stream",
     "text": [
      "INFO:Transferrable:Copied: encoders.0.bn_0.bias\n"
     ]
    },
    {
     "name": "stdout",
     "output_type": "stream",
     "text": [
      "[INFO] Transferrable: Copied: encoders.0.linear_1.weight\n"
     ]
    },
    {
     "name": "stderr",
     "output_type": "stream",
     "text": [
      "INFO:Transferrable:Copied: encoders.0.linear_1.weight\n"
     ]
    },
    {
     "name": "stdout",
     "output_type": "stream",
     "text": [
      "[INFO] Transferrable: Copied: encoders.0.linear_1.bias\n"
     ]
    },
    {
     "name": "stderr",
     "output_type": "stream",
     "text": [
      "INFO:Transferrable:Copied: encoders.0.linear_1.bias\n"
     ]
    },
    {
     "name": "stdout",
     "output_type": "stream",
     "text": [
      "[INFO] Transferrable: Copied: encoders.0.bn_1.weight\n"
     ]
    },
    {
     "name": "stderr",
     "output_type": "stream",
     "text": [
      "INFO:Transferrable:Copied: encoders.0.bn_1.weight\n"
     ]
    },
    {
     "name": "stdout",
     "output_type": "stream",
     "text": [
      "[INFO] Transferrable: Copied: encoders.0.bn_1.bias\n"
     ]
    },
    {
     "name": "stderr",
     "output_type": "stream",
     "text": [
      "INFO:Transferrable:Copied: encoders.0.bn_1.bias\n"
     ]
    },
    {
     "name": "stdout",
     "output_type": "stream",
     "text": [
      "[INFO] Transferrable: Copied: encoders.0.loc.weight\n"
     ]
    },
    {
     "name": "stderr",
     "output_type": "stream",
     "text": [
      "INFO:Transferrable:Copied: encoders.0.loc.weight\n"
     ]
    },
    {
     "name": "stdout",
     "output_type": "stream",
     "text": [
      "[INFO] Transferrable: Copied: encoders.0.loc.bias\n"
     ]
    },
    {
     "name": "stderr",
     "output_type": "stream",
     "text": [
      "INFO:Transferrable:Copied: encoders.0.loc.bias\n"
     ]
    },
    {
     "name": "stdout",
     "output_type": "stream",
     "text": [
      "[INFO] Transferrable: Copied: encoders.0.std_lin.weight\n"
     ]
    },
    {
     "name": "stderr",
     "output_type": "stream",
     "text": [
      "INFO:Transferrable:Copied: encoders.0.std_lin.weight\n"
     ]
    },
    {
     "name": "stdout",
     "output_type": "stream",
     "text": [
      "[INFO] Transferrable: Copied: encoders.0.std_lin.bias\n"
     ]
    },
    {
     "name": "stderr",
     "output_type": "stream",
     "text": [
      "INFO:Transferrable:Copied: encoders.0.std_lin.bias\n"
     ]
    },
    {
     "name": "stdout",
     "output_type": "stream",
     "text": [
      "[INFO] Transferrable: Copied: encoders.1.linear_0.weight\n"
     ]
    },
    {
     "name": "stderr",
     "output_type": "stream",
     "text": [
      "INFO:Transferrable:Copied: encoders.1.linear_0.weight\n"
     ]
    },
    {
     "name": "stdout",
     "output_type": "stream",
     "text": [
      "[INFO] Transferrable: Copied: encoders.1.linear_0.bias\n"
     ]
    },
    {
     "name": "stderr",
     "output_type": "stream",
     "text": [
      "INFO:Transferrable:Copied: encoders.1.linear_0.bias\n"
     ]
    },
    {
     "name": "stdout",
     "output_type": "stream",
     "text": [
      "[INFO] Transferrable: Copied: encoders.1.bn_0.weight\n"
     ]
    },
    {
     "name": "stderr",
     "output_type": "stream",
     "text": [
      "INFO:Transferrable:Copied: encoders.1.bn_0.weight\n"
     ]
    },
    {
     "name": "stdout",
     "output_type": "stream",
     "text": [
      "[INFO] Transferrable: Copied: encoders.1.bn_0.bias\n"
     ]
    },
    {
     "name": "stderr",
     "output_type": "stream",
     "text": [
      "INFO:Transferrable:Copied: encoders.1.bn_0.bias\n"
     ]
    },
    {
     "name": "stdout",
     "output_type": "stream",
     "text": [
      "[INFO] Transferrable: Copied: encoders.1.linear_1.weight\n"
     ]
    },
    {
     "name": "stderr",
     "output_type": "stream",
     "text": [
      "INFO:Transferrable:Copied: encoders.1.linear_1.weight\n"
     ]
    },
    {
     "name": "stdout",
     "output_type": "stream",
     "text": [
      "[INFO] Transferrable: Copied: encoders.1.linear_1.bias\n"
     ]
    },
    {
     "name": "stderr",
     "output_type": "stream",
     "text": [
      "INFO:Transferrable:Copied: encoders.1.linear_1.bias\n"
     ]
    },
    {
     "name": "stdout",
     "output_type": "stream",
     "text": [
      "[INFO] Transferrable: Copied: encoders.1.bn_1.weight\n"
     ]
    },
    {
     "name": "stderr",
     "output_type": "stream",
     "text": [
      "INFO:Transferrable:Copied: encoders.1.bn_1.weight\n"
     ]
    },
    {
     "name": "stdout",
     "output_type": "stream",
     "text": [
      "[INFO] Transferrable: Copied: encoders.1.bn_1.bias\n"
     ]
    },
    {
     "name": "stderr",
     "output_type": "stream",
     "text": [
      "INFO:Transferrable:Copied: encoders.1.bn_1.bias\n"
     ]
    },
    {
     "name": "stdout",
     "output_type": "stream",
     "text": [
      "[INFO] Transferrable: Copied: encoders.1.loc.weight\n"
     ]
    },
    {
     "name": "stderr",
     "output_type": "stream",
     "text": [
      "INFO:Transferrable:Copied: encoders.1.loc.weight\n"
     ]
    },
    {
     "name": "stdout",
     "output_type": "stream",
     "text": [
      "[INFO] Transferrable: Copied: encoders.1.loc.bias\n"
     ]
    },
    {
     "name": "stderr",
     "output_type": "stream",
     "text": [
      "INFO:Transferrable:Copied: encoders.1.loc.bias\n"
     ]
    },
    {
     "name": "stdout",
     "output_type": "stream",
     "text": [
      "[INFO] Transferrable: Copied: encoders.1.std_lin.weight\n"
     ]
    },
    {
     "name": "stderr",
     "output_type": "stream",
     "text": [
      "INFO:Transferrable:Copied: encoders.1.std_lin.weight\n"
     ]
    },
    {
     "name": "stdout",
     "output_type": "stream",
     "text": [
      "[INFO] Transferrable: Copied: encoders.1.std_lin.bias\n"
     ]
    },
    {
     "name": "stderr",
     "output_type": "stream",
     "text": [
      "INFO:Transferrable:Copied: encoders.1.std_lin.bias\n"
     ]
    },
    {
     "name": "stdout",
     "output_type": "stream",
     "text": [
      "[INFO] Transferrable: Copied: est_l.weight\n"
     ]
    },
    {
     "name": "stderr",
     "output_type": "stream",
     "text": [
      "INFO:Transferrable:Copied: est_l.weight\n"
     ]
    },
    {
     "name": "stdout",
     "output_type": "stream",
     "text": [
      "[INFO] Transferrable: Copied: est_l.bias\n"
     ]
    },
    {
     "name": "stderr",
     "output_type": "stream",
     "text": [
      "INFO:Transferrable:Copied: est_l.bias\n"
     ]
    },
    {
     "name": "stdout",
     "output_type": "stream",
     "text": [
      "[INFO] Transferrable: Copied: encoders.0.bn_0.running_mean\n"
     ]
    },
    {
     "name": "stderr",
     "output_type": "stream",
     "text": [
      "INFO:Transferrable:Copied: encoders.0.bn_0.running_mean\n"
     ]
    },
    {
     "name": "stdout",
     "output_type": "stream",
     "text": [
      "[INFO] Transferrable: Copied: encoders.0.bn_0.running_var\n"
     ]
    },
    {
     "name": "stderr",
     "output_type": "stream",
     "text": [
      "INFO:Transferrable:Copied: encoders.0.bn_0.running_var\n"
     ]
    },
    {
     "name": "stdout",
     "output_type": "stream",
     "text": [
      "[INFO] Transferrable: Copied: encoders.0.bn_0.num_batches_tracked\n"
     ]
    },
    {
     "name": "stderr",
     "output_type": "stream",
     "text": [
      "INFO:Transferrable:Copied: encoders.0.bn_0.num_batches_tracked\n"
     ]
    },
    {
     "name": "stdout",
     "output_type": "stream",
     "text": [
      "[INFO] Transferrable: Copied: encoders.0.bn_1.running_mean\n"
     ]
    },
    {
     "name": "stderr",
     "output_type": "stream",
     "text": [
      "INFO:Transferrable:Copied: encoders.0.bn_1.running_mean\n"
     ]
    },
    {
     "name": "stdout",
     "output_type": "stream",
     "text": [
      "[INFO] Transferrable: Copied: encoders.0.bn_1.running_var\n"
     ]
    },
    {
     "name": "stderr",
     "output_type": "stream",
     "text": [
      "INFO:Transferrable:Copied: encoders.0.bn_1.running_var\n"
     ]
    },
    {
     "name": "stdout",
     "output_type": "stream",
     "text": [
      "[INFO] Transferrable: Copied: encoders.0.bn_1.num_batches_tracked\n"
     ]
    },
    {
     "name": "stderr",
     "output_type": "stream",
     "text": [
      "INFO:Transferrable:Copied: encoders.0.bn_1.num_batches_tracked\n"
     ]
    },
    {
     "name": "stdout",
     "output_type": "stream",
     "text": [
      "[INFO] Transferrable: Copied: encoders.1.bn_0.running_mean\n"
     ]
    },
    {
     "name": "stderr",
     "output_type": "stream",
     "text": [
      "INFO:Transferrable:Copied: encoders.1.bn_0.running_mean\n"
     ]
    },
    {
     "name": "stdout",
     "output_type": "stream",
     "text": [
      "[INFO] Transferrable: Copied: encoders.1.bn_0.running_var\n"
     ]
    },
    {
     "name": "stderr",
     "output_type": "stream",
     "text": [
      "INFO:Transferrable:Copied: encoders.1.bn_0.running_var\n"
     ]
    },
    {
     "name": "stdout",
     "output_type": "stream",
     "text": [
      "[INFO] Transferrable: Copied: encoders.1.bn_0.num_batches_tracked\n"
     ]
    },
    {
     "name": "stderr",
     "output_type": "stream",
     "text": [
      "INFO:Transferrable:Copied: encoders.1.bn_0.num_batches_tracked\n"
     ]
    },
    {
     "name": "stdout",
     "output_type": "stream",
     "text": [
      "[INFO] Transferrable: Copied: encoders.1.bn_1.running_mean\n"
     ]
    },
    {
     "name": "stderr",
     "output_type": "stream",
     "text": [
      "INFO:Transferrable:Copied: encoders.1.bn_1.running_mean\n"
     ]
    },
    {
     "name": "stdout",
     "output_type": "stream",
     "text": [
      "[INFO] Transferrable: Copied: encoders.1.bn_1.running_var\n"
     ]
    },
    {
     "name": "stderr",
     "output_type": "stream",
     "text": [
      "INFO:Transferrable:Copied: encoders.1.bn_1.running_var\n"
     ]
    },
    {
     "name": "stdout",
     "output_type": "stream",
     "text": [
      "[INFO] Transferrable: Copied: encoders.1.bn_1.num_batches_tracked\n"
     ]
    },
    {
     "name": "stderr",
     "output_type": "stream",
     "text": [
      "INFO:Transferrable:Copied: encoders.1.bn_1.num_batches_tracked\n"
     ]
    },
    {
     "name": "stdout",
     "output_type": "stream",
     "text": [
      "[INFO] BatchedTransferrable: Copied: scale_lin\n"
     ]
    },
    {
     "name": "stderr",
     "output_type": "stream",
     "text": [
      "INFO:BatchedTransferrable:Copied: scale_lin\n"
     ]
    },
    {
     "name": "stdout",
     "output_type": "stream",
     "text": [
      "[INFO] BatchedTransferrable: Copied: bias\n"
     ]
    },
    {
     "name": "stderr",
     "output_type": "stream",
     "text": [
      "INFO:BatchedTransferrable:Copied: bias\n"
     ]
    },
    {
     "name": "stdout",
     "output_type": "stream",
     "text": [
      "[INFO] BatchedTransferrable: Copied: log_theta\n"
     ]
    },
    {
     "name": "stderr",
     "output_type": "stream",
     "text": [
      "INFO:BatchedTransferrable:Copied: log_theta\n"
     ]
    },
    {
     "name": "stdout",
     "output_type": "stream",
     "text": [
      "[INFO] BatchedTransferrable: Copied: linear_0.weight\n"
     ]
    },
    {
     "name": "stderr",
     "output_type": "stream",
     "text": [
      "INFO:BatchedTransferrable:Copied: linear_0.weight\n"
     ]
    },
    {
     "name": "stdout",
     "output_type": "stream",
     "text": [
      "[INFO] BatchedTransferrable: Copied: linear_0.bias\n"
     ]
    },
    {
     "name": "stderr",
     "output_type": "stream",
     "text": [
      "INFO:BatchedTransferrable:Copied: linear_0.bias\n"
     ]
    },
    {
     "name": "stdout",
     "output_type": "stream",
     "text": [
      "[INFO] BatchedTransferrable: Copied: bn_0.weight\n"
     ]
    },
    {
     "name": "stderr",
     "output_type": "stream",
     "text": [
      "INFO:BatchedTransferrable:Copied: bn_0.weight\n"
     ]
    },
    {
     "name": "stdout",
     "output_type": "stream",
     "text": [
      "[INFO] BatchedTransferrable: Copied: bn_0.bias\n"
     ]
    },
    {
     "name": "stderr",
     "output_type": "stream",
     "text": [
      "INFO:BatchedTransferrable:Copied: bn_0.bias\n"
     ]
    },
    {
     "name": "stdout",
     "output_type": "stream",
     "text": [
      "[INFO] BatchedTransferrable: Copied: loc.weight\n"
     ]
    },
    {
     "name": "stderr",
     "output_type": "stream",
     "text": [
      "INFO:BatchedTransferrable:Copied: loc.weight\n"
     ]
    },
    {
     "name": "stdout",
     "output_type": "stream",
     "text": [
      "[INFO] BatchedTransferrable: Copied: loc.bias\n"
     ]
    },
    {
     "name": "stderr",
     "output_type": "stream",
     "text": [
      "INFO:BatchedTransferrable:Copied: loc.bias\n"
     ]
    },
    {
     "name": "stdout",
     "output_type": "stream",
     "text": [
      "[INFO] BatchedTransferrable: Copied: bn_0.running_mean\n"
     ]
    },
    {
     "name": "stderr",
     "output_type": "stream",
     "text": [
      "INFO:BatchedTransferrable:Copied: bn_0.running_mean\n"
     ]
    },
    {
     "name": "stdout",
     "output_type": "stream",
     "text": [
      "[INFO] BatchedTransferrable: Copied: bn_0.running_var\n"
     ]
    },
    {
     "name": "stderr",
     "output_type": "stream",
     "text": [
      "INFO:BatchedTransferrable:Copied: bn_0.running_var\n"
     ]
    },
    {
     "name": "stdout",
     "output_type": "stream",
     "text": [
      "[INFO] BatchedTransferrable: Copied: bn_0.num_batches_tracked\n"
     ]
    },
    {
     "name": "stderr",
     "output_type": "stream",
     "text": [
      "INFO:BatchedTransferrable:Copied: bn_0.num_batches_tracked\n"
     ]
    },
    {
     "name": "stdout",
     "output_type": "stream",
     "text": [
      "[INFO] BatchedTransferrable: Copied: linear_0.weight\n"
     ]
    },
    {
     "name": "stderr",
     "output_type": "stream",
     "text": [
      "INFO:BatchedTransferrable:Copied: linear_0.weight\n"
     ]
    },
    {
     "name": "stdout",
     "output_type": "stream",
     "text": [
      "[INFO] BatchedTransferrable: Copied: linear_0.bias\n"
     ]
    },
    {
     "name": "stderr",
     "output_type": "stream",
     "text": [
      "INFO:BatchedTransferrable:Copied: linear_0.bias\n"
     ]
    },
    {
     "name": "stdout",
     "output_type": "stream",
     "text": [
      "[INFO] BatchedTransferrable: Copied: pred.weight\n"
     ]
    },
    {
     "name": "stderr",
     "output_type": "stream",
     "text": [
      "INFO:BatchedTransferrable:Copied: pred.weight\n"
     ]
    },
    {
     "name": "stdout",
     "output_type": "stream",
     "text": [
      "[INFO] BatchedTransferrable: Copied: pred.bias\n"
     ]
    },
    {
     "name": "stderr",
     "output_type": "stream",
     "text": [
      "INFO:BatchedTransferrable:Copied: pred.bias\n"
     ]
    },
    {
     "name": "stdout",
     "output_type": "stream",
     "text": [
      "[INFO] SCCLUETrainer: Using training directory: \"/tmp/GLUETMPt_w3xeuf\"\n"
     ]
    },
    {
     "name": "stderr",
     "output_type": "stream",
     "text": [
      "INFO:SCCLUETrainer:Using training directory: \"/tmp/GLUETMPt_w3xeuf\"\n"
     ]
    },
    {
     "name": "stdout",
     "output_type": "stream",
     "text": [
      "Epoch 00006: reducing learning rate of group 0 to 1.0000e-04.\n",
      "Epoch 00006: reducing learning rate of group 0 to 1.0000e-04.\n",
      "[INFO] SCCLUETrainer: [Epoch 10] train={'dsc_loss': 0.676, 'gen_loss': 0.897, 'cross_loss': 0.453, 'cos_loss': 0.086, 'x_gex_nll': 0.232, 'x_gex_kl': 0.016, 'x_gex_elbo': 0.237, 'x_other_nll': 0.216, 'x_other_kl': 0.007, 'x_other_elbo': 0.218}, val={'dsc_loss': 0.657, 'gen_loss': 0.926, 'cross_loss': 0.465, 'cos_loss': 0.104, 'x_gex_nll': 0.24, 'x_gex_kl': 0.015, 'x_gex_elbo': 0.244, 'x_other_nll': 0.226, 'x_other_kl': 0.006, 'x_other_elbo': 0.227}, 2.4s elapsed\n"
     ]
    },
    {
     "name": "stderr",
     "output_type": "stream",
     "text": [
      "INFO:SCCLUETrainer:[Epoch 10] train={'dsc_loss': 0.676, 'gen_loss': 0.897, 'cross_loss': 0.453, 'cos_loss': 0.086, 'x_gex_nll': 0.232, 'x_gex_kl': 0.016, 'x_gex_elbo': 0.237, 'x_other_nll': 0.216, 'x_other_kl': 0.007, 'x_other_elbo': 0.218}, val={'dsc_loss': 0.657, 'gen_loss': 0.926, 'cross_loss': 0.465, 'cos_loss': 0.104, 'x_gex_nll': 0.24, 'x_gex_kl': 0.015, 'x_gex_elbo': 0.244, 'x_other_nll': 0.226, 'x_other_kl': 0.006, 'x_other_elbo': 0.227}, 2.4s elapsed\n",
      "2024-06-06 15:31:43,858 ignite.handlers.early_stopping.EarlyStopping INFO: EarlyStopping: Stop training\n"
     ]
    },
    {
     "name": "stdout",
     "output_type": "stream",
     "text": [
      "Epoch 00010: reducing learning rate of group 0 to 1.0000e-05.\n",
      "Epoch 00010: reducing learning rate of group 0 to 1.0000e-05.\n",
      "[INFO] EarlyStopping: Restoring checkpoint \"8\"...\n"
     ]
    },
    {
     "name": "stderr",
     "output_type": "stream",
     "text": [
      "INFO:EarlyStopping:Restoring checkpoint \"8\"...\n"
     ]
    },
    {
     "name": "stdout",
     "output_type": "stream",
     "text": [
      "[INFO] EarlyStopping: Restoring checkpoint \"8\"...\n"
     ]
    },
    {
     "name": "stderr",
     "output_type": "stream",
     "text": [
      "INFO:EarlyStopping:Restoring checkpoint \"8\"...\n",
      "/home/xuhua/xuhua_disco/miniforge3/envs/Squidpy/lib/python3.8/site-packages/tqdm/auto.py:21: TqdmWarning: IProgress not found. Please update jupyter and ipywidgets. See https://ipywidgets.readthedocs.io/en/stable/user_install.html\n",
      "  from .autonotebook import tqdm as notebook_tqdm\n"
     ]
    },
    {
     "data": {
      "image/png": "[encoded data removed]",
      "text/plain": [
       "<Figure size 640x480 with 1 Axes>"
      ]
     },
     "metadata": {},
     "output_type": "display_data"
    }
   ],
   "source": [
    "input_train_mod1 = ad_mult_rna\n",
    "input_train_mod2 = ad_mult_atac\n",
    "input_test_mod1 = ad_rna\n",
    "input_test_mod2 = ad_atac\n",
    "\n",
    "input_train_mod1.X = sps.csr_matrix(input_train_mod1.X)\n",
    "input_train_mod2.X = sps.csr_matrix(input_train_mod2.X)\n",
    "input_train_mod1.layers['counts'] = sps.csr_matrix(input_train_mod1.X)\n",
    "input_train_mod2.layers['counts'] = sps.csr_matrix(input_train_mod2.X)\n",
    "input_test_mod1.X = sps.csr_matrix(input_test_mod1.X)\n",
    "input_test_mod2.X = sps.csr_matrix(input_test_mod2.X)\n",
    "input_test_mod1.layers['counts'] = sps.csr_matrix(input_test_mod1.X)\n",
    "input_test_mod2.layers['counts'] = sps.csr_matrix(input_test_mod2.X)\n",
    "\n",
    "input_train_mod1.obs[\"uid\"] = [f\"train-{i}\" for i in range(input_train_mod1.shape[0])]\n",
    "input_train_mod2.obs[\"uid\"] = [f\"train-{i}\" for i in range(input_train_mod2.shape[0])]\n",
    "input_test_mod1.obs[\"uid\"] = [f\"test-mod1-{i}\" for i in range(input_test_mod1.shape[0])]\n",
    "input_test_mod2.obs[\"uid\"] = [f\"test-mod2-{i}\" for i in range(input_test_mod2.shape[0])]\n",
    "\n",
    "input_train_mod1.obs['batch'] = 'mult'\n",
    "input_train_mod2.obs['batch'] = 'mult'\n",
    "input_test_mod1.obs['batch'] = 'rna'\n",
    "input_test_mod2.obs['batch'] = 'atac'\n",
    "\n",
    "print('Reading `h5ad` files...')\n",
    "omics = \"multiome\"\n",
    "\n",
    "gex = input_train_mod1\n",
    "other = input_train_mod2\n",
    "\n",
    "print('Preprocessing GEX...')\n",
    "gex_prep = utils.GEXPreprocessing(n_comps=100, n_genes=n_genes, merge_adt=omics == \"cite\")\n",
    "gex_prep.fit_transform(gex)\n",
    "print('Preprocessing ATAC...')\n",
    "other_prep = utils.ATACPreprocessing(n_comps=100)\n",
    "other_prep.fit_transform(other)\n",
    "\n",
    "with open(os.path.join(out_dir, \"prep.pickle\"), \"wb\") as f:\n",
    "    pickle.dump({\n",
    "        \"gex_prep\": gex_prep,\n",
    "        \"other_prep\": other_prep\n",
    "    }, f)\n",
    "\n",
    "with open(f\"{out_dir}/hyperparams.yaml\", \"w\") as f:\n",
    "    yaml.dump({\n",
    "        \"n_genes\": n_genes,\n",
    "        \"latent_dim\": latent_dim,\n",
    "        \"x2u_h_depth\": x2u_h_depth,\n",
    "        \"x2u_h_dim\": x2u_h_dim,\n",
    "        \"u2x_h_depth\": u2x_h_depth,\n",
    "        \"u2x_h_dim\": u2x_h_dim,\n",
    "        \"du_h_depth\": du_h_depth,\n",
    "        \"du_h_dim\": du_h_dim,\n",
    "        \"dropout\": dropout,\n",
    "        \"lam_data\": lam_data,\n",
    "        \"lam_kl\": lam_kl,\n",
    "        \"lam_align\": lam_align,\n",
    "        \"lam_cross\": lam_cross,\n",
    "        \"lam_cos\": lam_cos,\n",
    "        \"normalize_u\": normalize_u,\n",
    "        \"random_seed\": random_seed\n",
    "    }, f)\n",
    "\n",
    "scglue.models.configure_dataset(\n",
    "    gex, \"NB\", use_highly_variable=True,\n",
    "    use_layer=\"counts\", use_rep=\"X_pca\",\n",
    "    use_batch=\"batch\", use_uid=\"uid\"\n",
    ")\n",
    "scglue.models.configure_dataset(\n",
    "    other, \"NB\", use_highly_variable=True,\n",
    "    use_layer=\"counts\", use_rep=\"X_lsi\",\n",
    "    use_batch=\"batch\", use_uid=\"uid\"\n",
    ")\n",
    "\n",
    "print('Building model...')\n",
    "model = scglue.models.SCCLUEModel(\n",
    "    {\"gex\": gex, \"other\": other},\n",
    "    latent_dim=latent_dim,\n",
    "    x2u_h_depth=x2u_h_depth,\n",
    "    x2u_h_dim=x2u_h_dim,\n",
    "    u2x_h_depth=u2x_h_depth,\n",
    "    u2x_h_dim=u2x_h_dim,\n",
    "    du_h_depth=du_h_depth,\n",
    "    du_h_dim=du_h_dim,\n",
    "    dropout=dropout,\n",
    "    shared_batches=False,\n",
    "    random_seed=random_seed\n",
    ")\n",
    "\n",
    "print('Compiling model...')\n",
    "model.compile(\n",
    "    lam_data=lam_data, lam_kl=lam_kl, lam_align=lam_align,\n",
    "    lam_cross=lam_cross, lam_cos=lam_cos, normalize_u=normalize_u,\n",
    "    domain_weight={\"gex\": 1, \"other\": 1}\n",
    ")\n",
    "\n",
    "# help(model.fit)\n",
    "print('Training model...')\n",
    "model.fit(\n",
    "    {\"gex\": gex, \"other\": other}, max_epochs=max_epochs1,\n",
    ")\n",
    "model.save(os.path.join(out_dir, \"pretrain.dill\"))\n",
    "\n",
    "# ===============================\n",
    "#               stage 2\n",
    "# ===============================\n",
    "\n",
    "logging.info('Concatenating training and test data...')\n",
    "input_mod1 = ad.concat(\n",
    "    {\"train\": input_train_mod1, \"test\": input_test_mod1},\n",
    "    axis=0, join=\"outer\", merge=\"same\", label=\"group\",\n",
    "    fill_value=0, index_unique=\"-\"\n",
    ")\n",
    "input_mod1.uns[\"feature_type\"] = 'GEX'\n",
    "\n",
    "input_mod2 = ad.concat(\n",
    "    {\"train\": input_train_mod2, \"test\": input_test_mod2},\n",
    "    axis=0, join=\"outer\", merge=\"same\", label=\"group\",\n",
    "    fill_value=0, index_unique=\"-\"\n",
    ")\n",
    "input_mod2.uns[\"feature_type\"] = 'ATAC'\n",
    "\n",
    "gex, other = input_mod1, input_mod2\n",
    "\n",
    "logging.info('Reading preprocessors...')\n",
    "with open(os.path.join(\n",
    "       out_dir, \"prep.pickle\"\n",
    "), \"rb\") as f:\n",
    "    prep = pickle.load(f)\n",
    "    gex_prep = prep[\"gex_prep\"]\n",
    "    other_prep = prep[\"other_prep\"]\n",
    "\n",
    "logging.info('Preprocessing...')\n",
    "gex_prep.transform(gex)\n",
    "other_prep.transform(other)\n",
    "\n",
    "logging.info('Fine-tuning model...')\n",
    "scglue.models.configure_dataset(\n",
    "    gex, \"NB\", use_highly_variable=True,\n",
    "    use_layer=\"counts\", use_rep=\"X_pca\",\n",
    "    use_batch=\"batch\", use_uid=\"uid\"\n",
    ")\n",
    "scglue.models.configure_dataset(\n",
    "    other, \"NB\", use_highly_variable=True,\n",
    "    use_layer=\"counts\", use_rep=\"X_lsi\",\n",
    "    use_batch=\"batch\", use_uid=\"uid\"\n",
    ")\n",
    "\n",
    "with open(os.path.join(\n",
    "        out_dir, \"hyperparams.yaml\"\n",
    "), \"r\") as f:\n",
    "    hyperparams = yaml.load(f, Loader=yaml.Loader)\n",
    "\n",
    "logging.info('Building model...')\n",
    "model = scglue.models.SCCLUEModel(\n",
    "    {\"gex\": gex, \"other\": other},\n",
    "    latent_dim=hyperparams[\"latent_dim\"],\n",
    "    x2u_h_depth=hyperparams[\"x2u_h_depth\"],\n",
    "    x2u_h_dim=hyperparams[\"x2u_h_dim\"],\n",
    "    u2x_h_depth=hyperparams[\"u2x_h_depth\"],\n",
    "    u2x_h_dim=hyperparams[\"u2x_h_dim\"],\n",
    "    du_h_depth=hyperparams[\"du_h_depth\"],\n",
    "    du_h_dim=hyperparams[\"du_h_dim\"],\n",
    "    dropout=hyperparams[\"dropout\"],\n",
    "    shared_batches=False,\n",
    "    random_seed=hyperparams[\"random_seed\"]\n",
    ")\n",
    "# print(model.net)\n",
    "\n",
    "logging.info('Adopting pretrained weights...')\n",
    "model.adopt_pretrained_model(scglue.models.load_model(os.path.join(\n",
    "    out_dir, \"pretrain.dill\"\n",
    ")))\n",
    "\n",
    "logging.info('Compiling model...')\n",
    "model.compile(\n",
    "    lam_data=hyperparams[\"lam_data\"],\n",
    "    lam_kl=hyperparams[\"lam_kl\"],\n",
    "    lam_align=hyperparams[\"lam_align\"],\n",
    "    lam_cross=hyperparams[\"lam_cross\"],\n",
    "    lam_cos=hyperparams[\"lam_cos\"],\n",
    "    normalize_u=hyperparams[\"normalize_u\"],\n",
    "    domain_weight={\"gex\": 1, \"other\": 1},\n",
    "    lr=1e-3  # TODO: Fine-tuning learning rate\n",
    ")\n",
    "\n",
    "logging.info('Training model...')\n",
    "model.fit(\n",
    "    {\"gex\": gex, \"other\": other},\n",
    "    align_burnin=0, max_epochs=max_epochs2,\n",
    "    patience=8, reduce_lr_patience=3\n",
    ")\n",
    "\n",
    "logging.info('Projecting cell embeddings...')\n",
    "gex.obsm[\"X_model\"] = model.encode_data(\"gex\", gex)\n",
    "other.obsm[\"X_model\"] = model.encode_data(\"other\", other)\n",
    "\n",
    "input_train_mod1.obsm['emb'] = gex.obsm[\"X_model\"][:input_train_mod1.n_obs]\n",
    "input_test_mod1.obsm['emb'] = gex.obsm[\"X_model\"][input_train_mod1.n_obs:]\n",
    "\n",
    "input_train_mod2.obsm['emb'] = other.obsm[\"X_model\"][:input_train_mod2.n_obs]\n",
    "input_test_mod2.obsm['emb'] = other.obsm[\"X_model\"][input_train_mod2.n_obs:]\n",
    "\n",
    "ad_train_mean_enc = sc.AnnData(\n",
    "    (input_train_mod1.obsm['emb'] + input_train_mod2.obsm['emb'])/2, \n",
    "    obs=input_train_mod1.obs.copy()\n",
    ")\n",
    "ad_train_mean_enc.obsm['emb'] = ad_train_mean_enc.X.copy()\n",
    "ad_train_mean_enc.obsm['spatial'] = input_train_mod1.obsm['spatial']\n",
    "ad_mosaic = sc.concat([ad_train_mean_enc, input_test_mod1, input_test_mod2])\n",
    "ad_mosaic = get_umap(ad_mosaic, ['emb'])\n",
    "\n",
    "wrap_warn_plot(ad_mosaic, 'emb_umap', ['batch'])\n",
    "# plt.figure(figsize=(18, 6))\n",
    "# wrap_warn_plot(ad_train_mean_enc, 'spatial', ['kmeans', 'louvain_k', 'gt'], s=200)\n",
    "# wrap_warn_plot(input_test_mod1, 'spatial', ['kmeans', 'louvain_k', 'gt'], s=200)\n",
    "# wrap_warn_plot(input_test_mod2, 'spatial', ['kmeans', 'louvain_k', 'gt'], s=200)\n",
    "\n"
   ]
  },
  {
   "cell_type": "code",
   "execution_count": 10,
   "id": "b42fd90b-34ca-4217-bcd0-0fd3e2562a95",
   "metadata": {},
   "outputs": [],
   "source": [
    "# lisi_res = eval_lisi(\n",
    "#     ad_mosaic,\n",
    "#     batch_keys=['src'],\n",
    "#     label_keys = [],\n",
    "#     use_rep='emb', use_neighbors=False,\n",
    "# )\n",
    "# lisi_res['src_iLISI'][0]"
   ]
  },
  {
   "cell_type": "code",
   "execution_count": 11,
   "id": "babf0cf8-ea75-470a-9be5-f9bdd2ed85e6",
   "metadata": {},
   "outputs": [
    {
     "name": "stdout",
     "output_type": "stream",
     "text": [
      "FOSCTTM=0.11547\n",
      "Match_score=0.01561\n"
     ]
    },
    {
     "data": {
      "text/plain": [
       "{'FOSCTTM': 0.1154671148028816, 'Match_score': 0.015612515798779487}"
      ]
     },
     "execution_count": 11,
     "metadata": {},
     "output_type": "execute_result"
    }
   ],
   "source": [
    "from lisi_bridge import eval_bridge\n",
    "eval_bridge(\n",
    "        ad_rna, ad_atac,\n",
    "        label_key=None,\n",
    "        batch_key='Sample',\n",
    "        use_rep='emb',\n",
    "        use_fosc=True, use_acc=False, use_score=True,\n",
    "    )"
   ]
  },
  {
   "cell_type": "markdown",
   "id": "18d51ae9-4cb0-4511-a33a-753cb83efb27",
   "metadata": {},
   "source": [
    "### batch corr"
   ]
  },
  {
   "cell_type": "code",
   "execution_count": 12,
   "id": "692ac0f9-786c-4405-9079-15299a47aaf3",
   "metadata": {},
   "outputs": [
    {
     "name": "stdout",
     "output_type": "stream",
     "text": [
      "Use GPU mode.\n",
      "\tInitialization is completed.\n",
      "\tCompleted 1 / 10 iteration(s).\n",
      "\tCompleted 2 / 10 iteration(s).\n",
      "\tCompleted 3 / 10 iteration(s).\n",
      "\tCompleted 4 / 10 iteration(s).\n",
      "Reach convergence after 4 iteration(s).\n"
     ]
    }
   ],
   "source": [
    "from batchCorr import HARMONY\n",
    "\n",
    "ad_mosaic.obsm['emb_har'] = HARMONY(pd.DataFrame(ad_mosaic.obsm['emb']), ad_mosaic.obs['src'].to_list())\n",
    "split_ob([ad_train_mean_enc, input_test_mod1, input_test_mod2], ad_mosaic, ob='obsm', key='emb_har')"
   ]
  },
  {
   "cell_type": "code",
   "execution_count": 13,
   "id": "2c2a5009-b7bb-497d-aa19-e047ebcc0081",
   "metadata": {},
   "outputs": [],
   "source": [
    "# lisi_res = eval_lisi(\n",
    "#     ad_mosaic,\n",
    "#     batch_keys=['src'],\n",
    "#     label_keys = [],\n",
    "#     use_rep='emb_har', use_neighbors=False,\n",
    "# )\n",
    "# r2 = lisi_res['src_iLISI'][0]"
   ]
  },
  {
   "cell_type": "code",
   "execution_count": 14,
   "id": "1157a348-975a-4b3b-aee6-aade2b95e0a0",
   "metadata": {},
   "outputs": [
    {
     "name": "stdout",
     "output_type": "stream",
     "text": [
      "FOSCTTM=0.10182\n",
      "Match_score=0.01868\n"
     ]
    },
    {
     "data": {
      "text/plain": [
       "{'FOSCTTM': 0.10182318902827567, 'Match_score': 0.018676136272949045}"
      ]
     },
     "execution_count": 14,
     "metadata": {},
     "output_type": "execute_result"
    }
   ],
   "source": [
    "eval_bridge(\n",
    "        ad_rna, ad_atac,\n",
    "        label_key=None,\n",
    "        batch_key='Sample',\n",
    "        use_rep='emb_har',\n",
    "        use_fosc=True, use_acc=False, use_score=True,\n",
    "    )"
   ]
  },
  {
   "cell_type": "markdown",
   "id": "23380709-e71c-4056-843e-6d4dbb021476",
   "metadata": {},
   "source": [
    "### Vis"
   ]
  },
  {
   "cell_type": "code",
   "execution_count": 15,
   "id": "f5f6b316-b6c6-4089-83a8-cf5df2fb99b3",
   "metadata": {},
   "outputs": [],
   "source": [
    "fig_dir = f'/disco_500t/xuhua/gitrepo/BridgeNorm/figures/MB_RNA+ATAC_modalMatch/clue'\n",
    "os.makedirs(fig_dir, exist_ok=True)\n",
    "\n",
    "df = pd.DataFrame(ad_mosaic.obsm['emb'], index=ad_mosaic.obs_names.to_list())\n",
    "# df['before_clust'] = ad_mosaic.obs['before_clust'].to_list() \n",
    "df.to_csv(join(fig_dir, 'X_emb.csv'))\n",
    "\n",
    "df = pd.DataFrame(ad_mosaic.obsm['emb_har'], index=ad_mosaic.obs_names.to_list())\n",
    "# df['after_clust'] = ad_mosaic.obs['after_clust'].to_list() \n",
    "df.to_csv(join(fig_dir, 'X_emb_har.csv'))"
   ]
  },
  {
   "cell_type": "code",
   "execution_count": 16,
   "id": "48573b6e-4928-4ba2-85b1-dbacf119069d",
   "metadata": {},
   "outputs": [
    {
     "data": {
      "text/plain": [
       "1"
      ]
     },
     "execution_count": 16,
     "metadata": {},
     "output_type": "execute_result"
    }
   ],
   "source": [
    "1"
   ]
  },
  {
   "cell_type": "code",
   "execution_count": null,
   "id": "733b4157-144a-4947-b199-ebb048e1975b",
   "metadata": {},
   "outputs": [],
   "source": []
  }
 ],
 "metadata": {
  "kernelspec": {
   "display_name": "Squidpy",
   "language": "python",
   "name": "squidpy"
  },
  "language_info": {
   "codemirror_mode": {
    "name": "ipython",
    "version": 3
   },
   "file_extension": ".py",
   "mimetype": "text/x-python",
   "name": "python",
   "nbconvert_exporter": "python",
   "pygments_lexer": "ipython3",
   "version": "3.8.8"
  }
 },
 "nbformat": 4,
 "nbformat_minor": 5
}
