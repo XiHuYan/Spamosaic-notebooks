{
 "cells": [
  {
   "cell_type": "code",
   "execution_count": 1,
   "id": "d6cccbfe-3b2f-4324-aa47-20ae947075d1",
   "metadata": {},
   "outputs": [
    {
     "name": "stderr",
     "output_type": "stream",
     "text": [
      "/home/xuhua/xuhua_disco/miniforge3/envs/Squidpy/lib/python3.8/site-packages/tqdm/auto.py:21: TqdmWarning: IProgress not found. Please update jupyter and ipywidgets. See https://ipywidgets.readthedocs.io/en/stable/user_install.html\n",
      "  from .autonotebook import tqdm as notebook_tqdm\n"
     ]
    }
   ],
   "source": [
    "from cobolt.utils import SingleData, MultiomicDataset\n",
    "from cobolt.model import Cobolt\n",
    "import os\n",
    "import gc\n",
    "import numpy as np\n",
    "import pandas as pd\n",
    "import scipy.sparse as sps\n",
    "from pathlib import Path, PurePath\n",
    "import scanpy as sc\n",
    "import h5py\n",
    "import scipy.io as sio\n",
    "import warnings\n",
    "from muon import atac as ac\n",
    "import seaborn as sns\n",
    "\n",
    "from os.path import join\n",
    "import matplotlib.pyplot as plt"
   ]
  },
  {
   "cell_type": "code",
   "execution_count": 2,
   "id": "a6364865-952d-4cd9-b56a-4fa8b3c6008b",
   "metadata": {},
   "outputs": [],
   "source": [
    "def set_col2cat(ad, cols=[]):\n",
    "    for col in cols:\n",
    "        ad.obs[col] = ad.obs[col].astype('category')\n",
    "\n",
    "def unify_colors(queries, color_key, ref_color_dict):\n",
    "    for q in queries:\n",
    "        q.obs[color_key] = q.obs[color_key].astype('category')\n",
    "        q.uns[f'{color_key}_colors'] = [ref_color_dict[_] for _ in q.obs[color_key].cat.categories]\n",
    "    return queries\n",
    "\n",
    "def get_umap(ad, use_reps=[]):\n",
    "    for use_rep in use_reps:\n",
    "        umap_add_key = f'{use_rep}_umap'\n",
    "        sc.pp.neighbors(ad, use_rep=use_rep, n_neighbors=15)\n",
    "        sc.tl.umap(ad)\n",
    "        ad.obsm[umap_add_key] = ad.obsm['X_umap']\n",
    "    return ad\n",
    "\n",
    "def wrap_warn_plot(adata, basis, color, **kwargs):\n",
    "    with warnings.catch_warnings():\n",
    "        warnings.simplefilter(\"ignore\", category=UserWarning)\n",
    "        sc.pl.embedding(adata, basis=basis, color=color, **kwargs)\n",
    "\n",
    "def wrap_warn_comp_plot(ads, basis, colors, figw=5, figh=4, **kwargs):\n",
    "    with warnings.catch_warnings():\n",
    "        warnings.simplefilter(\"ignore\")\n",
    "        for i, color in enumerate(colors):\n",
    "            _, axes = plt.subplots(1, len(ads), figsize=(figw*len(ads), figh))\n",
    "            for j, ad in enumerate(ads):\n",
    "                sc.pl.embedding(ad, basis=basis, color=color, ax=axes[j], show=False, **kwargs)\n",
    "            plt.show()\n",
    "            \n",
    "os.environ['R_HOME'] = '/disco_500t/xuhua/miniforge3/envs/Seurat5/lib/R'\n",
    "os.environ['R_USER'] = '/disco_500t/xuhua/miniforge3/envs/Seurat5/lib/python3.8/site-packages/rpy2'\n",
    "def mclust_R(adata, num_cluster, modelNames='EEE', used_obsm='STAGATE', random_seed=2020):\n",
    "    np.random.seed(random_seed)\n",
    "    import rpy2.robjects as robjects\n",
    "    robjects.r.library(\"mclust\")\n",
    "\n",
    "    import rpy2.robjects.numpy2ri\n",
    "    rpy2.robjects.numpy2ri.activate()\n",
    "    r_random_seed = robjects.r['set.seed']\n",
    "    r_random_seed(random_seed)\n",
    "    rmclust = robjects.r['Mclust']\n",
    "\n",
    "    res = rmclust(rpy2.robjects.numpy2ri.numpy2rpy(adata.obsm[used_obsm]), num_cluster, modelNames)\n",
    "    mclust_res = np.array(res[-2])\n",
    "\n",
    "    adata.obs['mclust'] = mclust_res\n",
    "    adata.obs['mclust'] = adata.obs['mclust'].astype('int')\n",
    "    adata.obs['mclust'] = adata.obs['mclust'].astype('category')\n",
    "    return adata\n",
    "\n",
    "\n",
    "from scib.metrics import lisi\n",
    "def eval_lisi(\n",
    "        adata,\n",
    "        batch_keys=['domain', 'batch'],\n",
    "        label_keys = ['gt'],\n",
    "        use_rep='X_emb', use_neighbors=False,\n",
    "    ):\n",
    "    res = {}\n",
    "    for key in batch_keys:\n",
    "        adata.obs[key] = adata.obs[key].astype('category')\n",
    "\n",
    "        _lisi = lisi.ilisi_graph(\n",
    "            adata,\n",
    "            key,\n",
    "            'embed' if not use_neighbors else 'knn',\n",
    "            use_rep=use_rep,\n",
    "            k0=90,\n",
    "            subsample=None,\n",
    "            scale=True,\n",
    "            n_cores=1,\n",
    "            verbose=False,\n",
    "        )\n",
    "        res[key+'_iLISI'] = _lisi\n",
    "    for key in label_keys:\n",
    "        adata.obs[key] = adata.obs[key].astype('category')\n",
    "\n",
    "        _lisi = lisi.clisi_graph(\n",
    "            adata,\n",
    "            key,\n",
    "            'embed' if not use_neighbors else 'knn',\n",
    "            use_rep=use_rep,\n",
    "            batch_key=None,\n",
    "            k0=90,\n",
    "            subsample=None,\n",
    "            scale=True,\n",
    "            n_cores=1,\n",
    "            verbose=False,\n",
    "        )\n",
    "        res[key+'_cLISI'] = _lisi\n",
    "    df = pd.DataFrame.from_dict(res, orient='index').T\n",
    "    # df.columns = [_+'_LISI' for _ in df.columns]\n",
    "    return df\n",
    "\n",
    "def eval_ads(ads, ref_key, src_key):\n",
    "    aris = []\n",
    "    for ad in ads:\n",
    "        aris.append(adjusted_rand_score(ad.obs[src_key], ad.obs[ref_key]))\n",
    "    return aris\n",
    "\n",
    "from sklearn.preprocessing import normalize\n",
    "from sklearn.neighbors import KNeighborsClassifier\n",
    "from sklearn.metrics import f1_score\n",
    "import json\n",
    "import copy\n",
    "from matplotlib.image import imread\n",
    "def load_spatial(path, adata, library_id='0'):\n",
    "    tissue_positions_file = join(path, \"tissue_positions.csv\")\n",
    "    files = dict(\n",
    "        tissue_positions_file=tissue_positions_file,\n",
    "        scalefactors_json_file=join(path, \"scalefactors_json.json\"),\n",
    "        hires_image=join(path, \"tissue_hires_image.png\"),\n",
    "        lowres_image=join(path, \"tissue_lowres_image.png\"),\n",
    "    )\n",
    "    \n",
    "    adata.uns[\"spatial\"] = dict()\n",
    "    adata.uns[\"spatial\"][library_id] = dict()\n",
    "    adata.uns[\"spatial\"][library_id][\"images\"] = dict()\n",
    "    for res in [\"hires\", \"lowres\"]:\n",
    "        try:\n",
    "            adata.uns[\"spatial\"][library_id][\"images\"][res] = imread(\n",
    "                str(files[f\"{res}_image\"])\n",
    "            )\n",
    "        except Exception:\n",
    "            raise OSError(f\"Could not find '{res}_image'\")\n",
    "\n",
    "    # read json scalefactors\n",
    "    adata.uns[\"spatial\"][library_id][\"scalefactors\"] = json.loads(\n",
    "        Path(files[\"scalefactors_json_file\"]).read_bytes()\n",
    "    )\n",
    "\n",
    "    # read coordinates\n",
    "    positions = pd.read_csv(\n",
    "        files[\"tissue_positions_file\"],\n",
    "        header=0 if Path(tissue_positions_file).name == \"tissue_positions.csv\" else None,\n",
    "        index_col=0,\n",
    "    )\n",
    "    positions.columns = [\n",
    "        \"in_tissue\",\n",
    "        \"array_row\",\n",
    "        \"array_col\",\n",
    "        \"pxl_col_in_fullres\",\n",
    "        \"pxl_row_in_fullres\",\n",
    "    ]\n",
    "    adata.obs = adata.obs.join(positions, how=\"left\")\n",
    "    adata.obsm[\"spatial\"] = adata.obs[\n",
    "        [\"pxl_row_in_fullres\", \"pxl_col_in_fullres\"]\n",
    "    ].to_numpy()\n",
    "   \n",
    "    adata.obs.drop(\n",
    "        columns=[\"pxl_row_in_fullres\", \"pxl_col_in_fullres\"],\n",
    "        inplace=True,\n",
    "    )"
   ]
  },
  {
   "cell_type": "code",
   "execution_count": 3,
   "id": "be92ec3b-5ac8-4cd1-8ebe-2a98473706ef",
   "metadata": {},
   "outputs": [],
   "source": [
    "def split_ob(ads, ad_ref, ob='obs', key='emb2'):\n",
    "    len_ads = [_.n_obs for _ in ads]\n",
    "    if ob=='obsm':\n",
    "        split_obsms = np.split(ad_ref.obsm[key], np.cumsum(len_ads[:-1]))\n",
    "        for ad, v in zip(ads, split_obsms):\n",
    "            ad.obsm[key] = v\n",
    "    else:\n",
    "        split_obs = np.split(ad_ref.obs[key].to_list(), np.cumsum(len_ads[:-1]))\n",
    "        for ad, v in zip(ads, split_obs):\n",
    "            ad.obs[key] = v\n",
    "    \n",
    "def subset_ad(ad, subset_index):\n",
    "    ad = ad[subset_index].copy()\n",
    "    return ad\n",
    "\n",
    "def set_spatial(ad):\n",
    "    ad.obsm['spatial'] = ad.obs[['array_row', 'array_col']].values\n",
    "    ad.obsm['spatial'] = ad.obsm['spatial'][:, ::-1]\n",
    "    ad.obsm['spatial'][:, 1] = -1 * ad.obsm['spatial'][:, 1]\n",
    "    return ad\n",
    "\n",
    "import gzip\n",
    "from scipy.io import mmread\n",
    "def load_data(_dir):\n",
    "    feat_names = pd.read_csv(join(_dir, 'features.tsv.gz'), compression='gzip', sep='\\t', header=None)\n",
    "    barcodes   = pd.read_csv(join(_dir, 'barcodes.tsv.gz'), compression='gzip', sep='\\t', header=None)\n",
    "\n",
    "    with gzip.open(join(_dir, 'matrix.mtx.gz'), 'rb') as gzipped_file:\n",
    "        mat = mmread(gzipped_file)\n",
    "\n",
    "    ad = sc.AnnData(sps.csr_matrix(mat.T))\n",
    "    ad.obs_names = barcodes[0].values\n",
    "    ad.var_names = feat_names[1].values\n",
    "    ad.var['id'] = feat_names[0].values\n",
    "    ad.var['type'] = feat_names[2].values\n",
    "    return ad"
   ]
  },
  {
   "cell_type": "code",
   "execution_count": 4,
   "id": "7efc71fd-1094-424d-b5ac-43c1ac746be7",
   "metadata": {},
   "outputs": [
    {
     "name": "stderr",
     "output_type": "stream",
     "text": [
      "/home/xuhua/xuhua_disco/miniforge3/envs/Squidpy/lib/python3.8/site-packages/anndata/_core/anndata.py:1840: UserWarning: Variable names are not unique. To make them unique, call `.var_names_make_unique`.\n",
      "  utils.warn_names_duplicates(\"var\")\n",
      "/home/xuhua/xuhua_disco/miniforge3/envs/Squidpy/lib/python3.8/site-packages/anndata/_core/anndata.py:1840: UserWarning: Variable names are not unique. To make them unique, call `.var_names_make_unique`.\n",
      "  utils.warn_names_duplicates(\"var\")\n",
      "/home/xuhua/xuhua_disco/miniforge3/envs/Squidpy/lib/python3.8/site-packages/anndata/_core/anndata.py:1840: UserWarning: Variable names are not unique. To make them unique, call `.var_names_make_unique`.\n",
      "  utils.warn_names_duplicates(\"var\")\n",
      "/home/xuhua/xuhua_disco/miniforge3/envs/Squidpy/lib/python3.8/site-packages/anndata/_core/anndata.py:1840: UserWarning: Variable names are not unique. To make them unique, call `.var_names_make_unique`.\n",
      "  utils.warn_names_duplicates(\"var\")\n",
      "/home/xuhua/xuhua_disco/miniforge3/envs/Squidpy/lib/python3.8/site-packages/anndata/_core/anndata.py:1840: UserWarning: Variable names are not unique. To make them unique, call `.var_names_make_unique`.\n",
      "  utils.warn_names_duplicates(\"var\")\n",
      "/home/xuhua/xuhua_disco/miniforge3/envs/Squidpy/lib/python3.8/site-packages/anndata/_core/anndata.py:1840: UserWarning: Variable names are not unique. To make them unique, call `.var_names_make_unique`.\n",
      "  utils.warn_names_duplicates(\"var\")\n"
     ]
    }
   ],
   "source": [
    "data_dir = '/disco_500t/xuhua/data/spatial_multi_omics/lymp_node/TN-2024-new/outs'\n",
    "\n",
    "ad3 = load_data(join(data_dir, 'filtered_feature_bc_matrix'))\n",
    "ad3_rna = ad3[:, ad3.var['type']=='Gene Expression'].copy()\n",
    "ad3_adt = ad3[:, ad3.var['type']=='Antibody Capture'].copy()\n",
    "load_spatial(join(data_dir, 'spatial'), ad3_rna)\n",
    "load_spatial(join(data_dir, 'spatial'), ad3_adt)\n",
    "\n",
    "ad3_rna.obs['src'] = ad3_adt.obs['src'] = ['s3']*ad3_rna.n_obs\n",
    "ad3_rna.obs_names = [f's3-{x}' for x in ad3_rna.obs_names]\n",
    "ad3_adt.obs_names = [f's3-{x}' for x in ad3_adt.obs_names]\n",
    "\n",
    "ad3_rna.var_names_make_unique()\n",
    "ad3_adt.var_names_make_unique()\n",
    "\n",
    "data_dir = '/disco_500t/xuhua/data/spatial_multi_omics/lymp_tonsil_ramen'\n",
    "\n",
    "ad_a1_rna = sc.read_h5ad(join(data_dir, 'tonsil_A1/adata_RNA.h5ad'))\n",
    "ad_a1_adt = sc.read_h5ad(join(data_dir, 'tonsil_A1/adata_ADT.h5ad'))\n",
    "ad_a1_rna.var_names_make_unique()\n",
    "ad_a1_adt.var_names_make_unique()\n",
    "meta1 = pd.read_csv(join(data_dir, 'tonsil_A1/A1_TNSL_Kwoh.csv'), index_col=0) \n",
    "ad_a1_rna.obs['lab'] = meta1.loc[ad_a1_rna.obs_names, 'manual'].to_list()\n",
    "ad_a1_adt.obs['lab'] = meta1.loc[ad_a1_adt.obs_names, 'manual'].to_list()\n",
    "ad_a1_rna.obs['src'] = ad_a1_adt.obs['src'] = ['s1'] * ad_a1_rna.n_obs\n",
    "ad_a1_rna.obs_names = [f's1-{x}' for x in ad_a1_rna.obs_names]\n",
    "ad_a1_adt.obs_names = [f's1-{x}' for x in ad_a1_adt.obs_names]\n",
    "\n",
    "ad_d1_rna = sc.read_h5ad(join(data_dir, 'tonsil_D1/adata_RNA.h5ad'))\n",
    "ad_d1_adt = sc.read_h5ad(join(data_dir, 'tonsil_D1/adata_ADT.h5ad'))\n",
    "ad_d1_rna.var_names_make_unique()\n",
    "ad_d1_adt.var_names_make_unique()\n",
    "meta2 = pd.read_csv(join(data_dir, 'tonsil_D1/D1_TNSL_cloupe_Kwoh.csv'), index_col=0) \n",
    "ad_d1_rna.obs['lab'] = meta2.loc[ad_d1_rna.obs_names, 'manual'].to_list()\n",
    "ad_d1_adt.obs['lab'] = meta2.loc[ad_d1_adt.obs_names, 'manual'].to_list()\n",
    "ad_d1_rna.obs['src'] = ['s2-rna'] * ad_d1_rna.n_obs\n",
    "ad_d1_adt.obs['src'] = ['s2-adt'] * ad_d1_adt.n_obs\n",
    "ad_d1_rna.obs_names = [f's2-rna-{x}' for x in ad_d1_rna.obs_names]\n",
    "ad_d1_adt.obs_names = [f's2-adt-{x}' for x in ad_d1_adt.obs_names]\n",
    "\n",
    "ad_a1_rna.obs['Sample'] = ad_a1_adt.obs['Sample'] = ['S1']*ad_a1_rna.n_obs\n",
    "ad_d1_rna.obs['Sample'] = ad_d1_adt.obs['Sample'] = ['S2']*ad_d1_rna.n_obs"
   ]
  },
  {
   "cell_type": "code",
   "execution_count": 5,
   "id": "07efdabf-ff51-4db6-a29b-4a19e6538949",
   "metadata": {},
   "outputs": [],
   "source": [
    "ad_rna_all = sc.concat([ad_a1_rna, ad_d1_rna, ad3_rna])\n",
    "ad_adt_all = sc.concat([ad_a1_adt, ad_d1_adt, ad3_adt])\n",
    "\n",
    "sc.pp.highly_variable_genes(ad_rna_all, flavor='seurat_v3', n_top_genes=10000, batch_key='src')\n",
    "hvg_names = ad_rna_all.var.query('highly_variable').index.to_numpy()"
   ]
  },
  {
   "cell_type": "code",
   "execution_count": 6,
   "id": "2c829abc-a886-4058-9774-f9b6c6f51844",
   "metadata": {},
   "outputs": [],
   "source": [
    "hvp_names = ad_adt_all.var_names.to_list()"
   ]
  },
  {
   "cell_type": "code",
   "execution_count": 7,
   "id": "5fff7646-ee33-48a5-a513-2a1b92df93d8",
   "metadata": {},
   "outputs": [],
   "source": [
    "def saveR(ad, name, dir):\n",
    "    os.makedirs(dir, exist_ok=True)\n",
    "    sio.mmwrite(join(dir, f'{name}_mat.mtx'), sps.csr_matrix(ad.X))\n",
    "    pd.DataFrame(ad.obs_names).to_csv(join(dir, f'{name}_cname.csv'))\n",
    "    pd.DataFrame(ad.var_names).to_csv(join(dir, f'{name}_feat.csv'))\n",
    "\n",
    "saveR(ad_a1_rna[:, hvg_names], 'bridge_rna', join(data_dir, 'R_data_modalMatch'))\n",
    "saveR(ad_a1_adt[:, hvp_names], 'bridge_adt', join(data_dir, 'R_data_modalMatch'))\n",
    "saveR(ad_d1_rna[:, hvg_names], 'test_rna', join(data_dir, 'R_data_modalMatch'))\n",
    "saveR(ad_d1_adt[:, hvp_names], 'test_adt', join(data_dir, 'R_data_modalMatch'))"
   ]
  },
  {
   "cell_type": "code",
   "execution_count": 8,
   "id": "27c0c489-6bbb-47ef-b30f-a27c168bef79",
   "metadata": {},
   "outputs": [],
   "source": [
    "mult_rna_count = ad_a1_rna[:, hvg_names].X.astype(np.float32)\n",
    "mult_adt_count = ad_a1_adt[:, hvp_names].X.astype(np.float32)\n",
    "mult_rna_count = sps.csr_matrix(mult_rna_count)  \n",
    "mult_adt_count = sps.csr_matrix(mult_adt_count)   # slowly, fuck, fuck, fuck\n",
    "mult_barcode = ad_a1_rna.obs_names.to_numpy()\n",
    "\n",
    "rna_feature = np.array(hvg_names)\n",
    "adt_feature = np.array(hvp_names)"
   ]
  },
  {
   "cell_type": "code",
   "execution_count": 9,
   "id": "c95671f2-791f-48a1-9d38-1e14f0784459",
   "metadata": {},
   "outputs": [],
   "source": [
    "mult_rna = SingleData(\"GeneExpr\", \"Multiome\", rna_feature, mult_rna_count, mult_barcode)\n",
    "mult_adt = SingleData(\"Protein\", \"Multiome\", adt_feature, mult_adt_count, mult_barcode)"
   ]
  },
  {
   "cell_type": "code",
   "execution_count": 10,
   "id": "ad7958a3-72bf-4fcb-816c-0d474d9330f7",
   "metadata": {},
   "outputs": [],
   "source": [
    "single_rna_count = ad_d1_rna[:, hvg_names].X.astype(np.float32)\n",
    "single_adt_count = ad_d1_adt[:, hvp_names].X.astype(np.float32)\n",
    "single_rna_count = sps.csr_matrix(single_rna_count)\n",
    "single_adt_count = sps.csr_matrix(single_adt_count)\n",
    "single_rna_barcode = ad_d1_rna.obs_names.to_numpy()\n",
    "single_adt_barcode = ad_d1_adt.obs_names.to_numpy()"
   ]
  },
  {
   "cell_type": "code",
   "execution_count": 11,
   "id": "94cc97cd-f9f8-44b7-a5d9-5cbe141efe8c",
   "metadata": {},
   "outputs": [],
   "source": [
    "single_rna = SingleData(\"GeneExpr\", \"Single-GEX\", rna_feature, single_rna_count, single_rna_barcode)\n",
    "single_adt = SingleData(\"Protein\", \"Single-Protein\", adt_feature, single_adt_count, single_adt_barcode)"
   ]
  },
  {
   "cell_type": "code",
   "execution_count": 12,
   "id": "d6bb237c-9066-46f4-a68a-704c65d12186",
   "metadata": {},
   "outputs": [
    {
     "name": "stdout",
     "output_type": "stream",
     "text": [
      "A MultiomicDataset object with 2 omics:\n",
      "- GeneExpr: 10000 features, 8856 cells, 2 batches.\n",
      "- Protein: 31 features, 8856 cells, 2 batches.\n",
      "Joint cells:\n",
      "- GeneExpr, Protein: 4337 cells.\n"
     ]
    }
   ],
   "source": [
    "multi_dt = MultiomicDataset.from_singledata(\n",
    "    single_rna, single_adt, mult_adt, mult_rna)\n",
    "print(multi_dt)"
   ]
  },
  {
   "cell_type": "markdown",
   "id": "772742fd-0e82-4508-adde-48ef10bb2078",
   "metadata": {},
   "source": [
    "### Training"
   ]
  },
  {
   "cell_type": "code",
   "execution_count": 13,
   "id": "d284abfb-5c8f-4be3-9456-01c03ec2ac46",
   "metadata": {},
   "outputs": [
    {
     "name": "stderr",
     "output_type": "stream",
     "text": [
      "100%|█████████████████████████████████████████| 100/100 [07:29<00:00,  4.49s/it]\n"
     ]
    }
   ],
   "source": [
    "model = Cobolt(dataset=multi_dt, lr=0.001, n_latent=10, batch_size=128) \n",
    "model.train(num_epochs=100)"
   ]
  },
  {
   "cell_type": "code",
   "execution_count": 14,
   "id": "04ee5904-1451-4371-aa50-94f5d6b151e6",
   "metadata": {},
   "outputs": [
    {
     "data": {
      "text/plain": [
       "[<matplotlib.lines.Line2D at 0x7f0d3d86f3a0>]"
      ]
     },
     "execution_count": 14,
     "metadata": {},
     "output_type": "execute_result"
    },
    {
     "data": {
      "image/png": "[encoded data removed]",
      "text/plain": [
       "<Figure size 640x480 with 1 Axes>"
      ]
     },
     "metadata": {},
     "output_type": "display_data"
    }
   ],
   "source": [
    "plt.plot(model.history['loss'])"
   ]
  },
  {
   "cell_type": "code",
   "execution_count": 15,
   "id": "881cefd3-c6cd-441c-bf15-5324e98b95de",
   "metadata": {},
   "outputs": [],
   "source": [
    "model.calc_all_latent()\n",
    "\n",
    "latent = model.get_all_latent()"
   ]
  },
  {
   "cell_type": "code",
   "execution_count": 16,
   "id": "ab7263dd-f160-4d2a-8d44-b61de3883b57",
   "metadata": {},
   "outputs": [],
   "source": [
    "if True:\n",
    "    latent_barcode = np.array([_.split('~')[1] for _ in latent[1]])\n",
    "    df_latent = pd.DataFrame(latent[0], index=latent_barcode)\n",
    "    # df_latent.to_csv('./outputs/tonsil/res.csv')\n",
    "\n",
    "else:\n",
    "    pass\n",
    "    # df_latent = pd.read_csv('./outputs/tonsil/res.csv', index_col=0)\n",
    "    # df_latent.index = df_latent.index.astype('str')"
   ]
  },
  {
   "cell_type": "code",
   "execution_count": 17,
   "id": "c19d12e8-2d41-47bd-98fa-7ccef124aee4",
   "metadata": {},
   "outputs": [],
   "source": [
    "ad_a1_adt.obsm['X_emb'] = df_latent.loc[ad_a1_adt.obs_names, :].values\n",
    "ad_d1_rna.obsm['X_emb'] = df_latent.loc[ad_d1_rna.obs_names, :].values\n",
    "ad_d1_adt.obsm['X_emb'] = df_latent.loc[ad_d1_adt.obs_names, :].values"
   ]
  },
  {
   "cell_type": "code",
   "execution_count": 18,
   "id": "c6401bb4-0427-4d37-aef9-89a49ae5437a",
   "metadata": {},
   "outputs": [],
   "source": [
    "ad_mosaic = sc.concat([ad_a1_adt, ad_d1_rna, ad_d1_adt])\n",
    "# ad_mosaic = get_umap(ad_mosaic, ['X_emb'])"
   ]
  },
  {
   "cell_type": "code",
   "execution_count": 19,
   "id": "33511f0e-0249-458b-bdbd-53be68fc7ee7",
   "metadata": {},
   "outputs": [],
   "source": [
    "# # plot\n",
    "# wrap_warn_plot(ad_mosaic, 'X_emb_umap', ['src'])"
   ]
  },
  {
   "cell_type": "code",
   "execution_count": 20,
   "id": "cf6af359-253c-4e30-8179-44e56c256127",
   "metadata": {},
   "outputs": [],
   "source": [
    "# lisi_res = eval_lisi(\n",
    "#     ad_mosaic,\n",
    "#     batch_keys=['src'],\n",
    "#     label_keys = [],\n",
    "#     use_rep='X_emb', use_neighbors=False,\n",
    "# )\n",
    "# lisi_res['src_iLISI'][0]"
   ]
  },
  {
   "cell_type": "code",
   "execution_count": 23,
   "id": "ae2bb64c-d844-4f61-b949-5405fda727b5",
   "metadata": {},
   "outputs": [
    {
     "name": "stdout",
     "output_type": "stream",
     "text": [
      "FOSCTTM=0.06799\n",
      "Match_score=0.01202\n"
     ]
    },
    {
     "data": {
      "text/plain": [
       "{'FOSCTTM': 0.06799473355375286, 'Match_score': 0.012020306975234124}"
      ]
     },
     "execution_count": 23,
     "metadata": {},
     "output_type": "execute_result"
    }
   ],
   "source": [
    "from lisi_bridge import eval_bridge\n",
    "eval_bridge(\n",
    "        ad_d1_rna, ad_d1_adt,\n",
    "        label_key=None,\n",
    "        batch_key='Sample',\n",
    "        use_rep='X_emb',\n",
    "        use_fosc=True, use_acc=False, use_score=True,\n",
    "    )"
   ]
  },
  {
   "cell_type": "markdown",
   "id": "51f5dd8b-efb2-423a-9dfd-f2d5538933a7",
   "metadata": {},
   "source": [
    "### batch corr"
   ]
  },
  {
   "cell_type": "code",
   "execution_count": 24,
   "id": "5c5129bf-a640-454c-bbc1-13db8bd124ac",
   "metadata": {},
   "outputs": [
    {
     "name": "stdout",
     "output_type": "stream",
     "text": [
      "Use GPU mode.\n",
      "\tInitialization is completed.\n",
      "\tCompleted 1 / 10 iteration(s).\n",
      "\tCompleted 2 / 10 iteration(s).\n",
      "\tCompleted 3 / 10 iteration(s).\n",
      "\tCompleted 4 / 10 iteration(s).\n",
      "\tCompleted 5 / 10 iteration(s).\n",
      "\tCompleted 6 / 10 iteration(s).\n",
      "\tCompleted 7 / 10 iteration(s).\n",
      "\tCompleted 8 / 10 iteration(s).\n",
      "\tCompleted 9 / 10 iteration(s).\n",
      "Reach convergence after 9 iteration(s).\n"
     ]
    }
   ],
   "source": [
    "from batchCorr import HARMONY\n",
    "\n",
    "ad_mosaic.obsm['X_emb_har'] = HARMONY(pd.DataFrame(ad_mosaic.obsm['X_emb']), ad_mosaic.obs['src'].to_list())\n",
    "# ad_mosaic = get_umap(ad_mosaic, ['X_emb_har'])\n",
    "split_ob([ad_a1_adt, ad_d1_rna, ad_d1_adt], ad_mosaic, ob='obsm', key='X_emb_har')"
   ]
  },
  {
   "cell_type": "code",
   "execution_count": 25,
   "id": "dd6151d9-15c7-4a78-9ba7-4310b3ed8329",
   "metadata": {},
   "outputs": [],
   "source": [
    "# # r1 = eval_ads([ad_mosaic, ad_bridge_rna, ad_test1_rna, ad_test2_atac], 'Combined_Clusters_annotation', clust_key)\n",
    "# lisi_res = eval_lisi(\n",
    "#     ad_mosaic,\n",
    "#     batch_keys=['src'],\n",
    "#     label_keys = [],\n",
    "#     use_rep='X_emb_har', use_neighbors=False,\n",
    "# )\n",
    "# r2 = lisi_res['src_iLISI'][0]"
   ]
  },
  {
   "cell_type": "code",
   "execution_count": 26,
   "id": "60c07d6f-1a2c-4ea4-b24f-33a332d70a8c",
   "metadata": {},
   "outputs": [
    {
     "name": "stdout",
     "output_type": "stream",
     "text": [
      "FOSCTTM=0.07240\n",
      "Match_score=0.01195\n"
     ]
    },
    {
     "data": {
      "text/plain": [
       "{'FOSCTTM': 0.07239710908592233, 'Match_score': 0.011953497929377548}"
      ]
     },
     "execution_count": 26,
     "metadata": {},
     "output_type": "execute_result"
    }
   ],
   "source": [
    "eval_bridge(\n",
    "        ad_d1_rna, ad_d1_adt,\n",
    "        label_key=None,\n",
    "        batch_key='Sample',\n",
    "        use_rep='X_emb_har',\n",
    "        use_fosc=True, use_acc=False, use_score=True,\n",
    "    )"
   ]
  },
  {
   "cell_type": "markdown",
   "id": "c191f48e-164a-48d3-bfaf-038c5ffae1f4",
   "metadata": {},
   "source": [
    "### Vis"
   ]
  },
  {
   "cell_type": "code",
   "execution_count": 28,
   "id": "b7d081c2-93a2-487f-97b6-2fd15a00933e",
   "metadata": {},
   "outputs": [],
   "source": [
    "fig_dir = f'/disco_500t/xuhua/gitrepo/BridgeNorm/figures/Tonsil_modalMatch/cobolt'\n",
    "os.makedirs(fig_dir, exist_ok=True)\n",
    "\n",
    "df = pd.DataFrame(ad_mosaic.obsm['X_emb'], index=ad_mosaic.obs_names)\n",
    "# df['before_clust'] = ad_mosaic.obs['before_clust'].to_list() \n",
    "df.to_csv(join(fig_dir, 'X_emb.csv'))\n",
    "\n",
    "df = pd.DataFrame(ad_mosaic.obsm['X_emb_har'], index=ad_mosaic.obs_names)\n",
    "# df['after_clust'] = ad_mosaic.obs['after_clust'].to_list() \n",
    "df.to_csv(join(fig_dir, 'X_emb_har.csv'))"
   ]
  },
  {
   "cell_type": "code",
   "execution_count": null,
   "id": "c077ddb6-bc37-429a-9c08-025c7b47ab2f",
   "metadata": {},
   "outputs": [],
   "source": []
  }
 ],
 "metadata": {
  "kernelspec": {
   "display_name": "Squidpy",
   "language": "python",
   "name": "squidpy"
  },
  "language_info": {
   "codemirror_mode": {
    "name": "ipython",
    "version": 3
   },
   "file_extension": ".py",
   "mimetype": "text/x-python",
   "name": "python",
   "nbconvert_exporter": "python",
   "pygments_lexer": "ipython3",
   "version": "3.8.8"
  }
 },
 "nbformat": 4,
 "nbformat_minor": 5
}
