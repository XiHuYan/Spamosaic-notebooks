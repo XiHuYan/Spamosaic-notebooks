{
 "cells": [
  {
   "cell_type": "code",
   "execution_count": 1,
   "id": "d6cccbfe-3b2f-4324-aa47-20ae947075d1",
   "metadata": {},
   "outputs": [
    {
     "name": "stderr",
     "output_type": "stream",
     "text": [
      "/home/xuhua/xuhua_disco/miniforge3/envs/Squidpy/lib/python3.8/site-packages/tqdm/auto.py:21: TqdmWarning: IProgress not found. Please update jupyter and ipywidgets. See https://ipywidgets.readthedocs.io/en/stable/user_install.html\n",
      "  from .autonotebook import tqdm as notebook_tqdm\n"
     ]
    }
   ],
   "source": [
    "import os\n",
    "os.environ['CUDA_VISIBLE_DEVICES'] = '3'\n",
    "\n",
    "from cobolt.utils import SingleData, MultiomicDataset\n",
    "from cobolt.model import Cobolt\n",
    "import gc\n",
    "import numpy as np\n",
    "import pandas as pd\n",
    "import scipy.sparse as sps\n",
    "import scanpy as sc\n",
    "import h5py\n",
    "import scipy.io as sio\n",
    "import warnings\n",
    "from muon import atac as ac\n",
    "import seaborn as sns\n",
    "\n",
    "from os.path import join\n",
    "import matplotlib.pyplot as plt"
   ]
  },
  {
   "cell_type": "code",
   "execution_count": 2,
   "id": "a6364865-952d-4cd9-b56a-4fa8b3c6008b",
   "metadata": {},
   "outputs": [],
   "source": [
    "def set_col2cat(ad, cols=[]):\n",
    "    for col in cols:\n",
    "        ad.obs[col] = ad.obs[col].astype('category')\n",
    "\n",
    "def unify_colors(queries, color_key, ref_color_dict):\n",
    "    for q in queries:\n",
    "        q.obs[color_key] = q.obs[color_key].astype('category')\n",
    "        q.uns[f'{color_key}_colors'] = [ref_color_dict[_] for _ in q.obs[color_key].cat.categories]\n",
    "    return queries\n",
    "\n",
    "def get_umap(ad, use_reps=[]):\n",
    "    for use_rep in use_reps:\n",
    "        umap_add_key = f'{use_rep}_umap'\n",
    "        sc.pp.neighbors(ad, use_rep=use_rep, n_neighbors=15)\n",
    "        sc.tl.umap(ad)\n",
    "        ad.obsm[umap_add_key] = ad.obsm['X_umap']\n",
    "    return ad\n",
    "\n",
    "def wrap_warn_plot(adata, basis, color, **kwargs):\n",
    "    with warnings.catch_warnings():\n",
    "        warnings.simplefilter(\"ignore\", category=UserWarning)\n",
    "        sc.pl.embedding(adata, basis=basis, color=color, **kwargs)\n",
    "\n",
    "def wrap_warn_comp_plot(ads, basis, colors, figw=5, figh=4, **kwargs):\n",
    "    with warnings.catch_warnings():\n",
    "        warnings.simplefilter(\"ignore\")\n",
    "        for i, color in enumerate(colors):\n",
    "            _, axes = plt.subplots(1, len(ads), figsize=(figw*len(ads), figh))\n",
    "            for j, ad in enumerate(ads):\n",
    "                sc.pl.embedding(ad, basis=basis, color=color, ax=axes[j], show=False, **kwargs)\n",
    "            plt.show()\n",
    "            \n",
    "os.environ['R_HOME'] = '/disco_500t/xuhua/miniforge3/envs/Seurat5/lib/R'\n",
    "os.environ['R_USER'] = '/disco_500t/xuhua/miniforge3/envs/Seurat5/lib/python3.8/site-packages/rpy2'\n",
    "def mclust_R(adata, num_cluster, modelNames='EEE', used_obsm='STAGATE', random_seed=2020):\n",
    "    np.random.seed(random_seed)\n",
    "    import rpy2.robjects as robjects\n",
    "    robjects.r.library(\"mclust\")\n",
    "\n",
    "    import rpy2.robjects.numpy2ri\n",
    "    rpy2.robjects.numpy2ri.activate()\n",
    "    r_random_seed = robjects.r['set.seed']\n",
    "    r_random_seed(random_seed)\n",
    "    rmclust = robjects.r['Mclust']\n",
    "\n",
    "    res = rmclust(rpy2.robjects.numpy2ri.numpy2rpy(adata.obsm[used_obsm]), num_cluster, modelNames)\n",
    "    mclust_res = np.array(res[-2])\n",
    "\n",
    "    adata.obs['mclust'] = mclust_res\n",
    "    adata.obs['mclust'] = adata.obs['mclust'].astype('int')\n",
    "    adata.obs['mclust'] = adata.obs['mclust'].astype('category')\n",
    "    return adata\n",
    "\n",
    "def load_h5(path):\n",
    "    with h5py.File(path, 'r') as f:\n",
    "        print(f['matrix'].keys())\n",
    "        print(f['matrix']['features'].keys())\n",
    "\n",
    "        barcodes = [_.decode('utf-8') for _ in f['matrix']['barcodes'][:]]\n",
    "        data = f['matrix']['data'][:]\n",
    "        indices = f['matrix']['indices'][:]\n",
    "        indptr = f['matrix']['indptr'][:]\n",
    "        shape = f['matrix']['shape'][:]\n",
    "\n",
    "        feature_type = [_.decode('utf-8') for _ in f['matrix']['features']['feature_type'][:]]\n",
    "        feature_id   = [_.decode('utf-8') for _ in f['matrix']['features']['id'][:]]\n",
    "        feature_name = [_.decode('utf-8') for _ in f['matrix']['features']['name'][:]]\n",
    "        feature_interval = [_.decode('utf-8') for _ in f['matrix']['features']['interval'][:]]\n",
    "\n",
    "\n",
    "        X = sps.csc_matrix(\n",
    "            (data, indices, indptr), \n",
    "            shape = shape\n",
    "        ).tocsc().astype(np.float32).T.toarray()\n",
    "\n",
    "        adata = sc.AnnData(X)\n",
    "        adata.obs_names = barcodes\n",
    "        adata.var_names = feature_id\n",
    "        adata.var['type'] = feature_type\n",
    "        adata.var['name'] = feature_name\n",
    "        adata.var['interval'] = feature_interval\n",
    "    return adata\n",
    "\n",
    "from scib.metrics import lisi\n",
    "def eval_lisi(\n",
    "        adata,\n",
    "        batch_keys=['domain', 'batch'],\n",
    "        label_keys = ['gt'],\n",
    "        use_rep='X_emb', use_neighbors=False,\n",
    "    ):\n",
    "    res = {}\n",
    "    for key in batch_keys:\n",
    "        adata.obs[key] = adata.obs[key].astype('category')\n",
    "\n",
    "        _lisi = lisi.ilisi_graph(\n",
    "            adata,\n",
    "            key,\n",
    "            'embed' if not use_neighbors else 'knn',\n",
    "            use_rep=use_rep,\n",
    "            k0=90,\n",
    "            subsample=None,\n",
    "            scale=True,\n",
    "            n_cores=1,\n",
    "            verbose=False,\n",
    "        )\n",
    "        res[key+'_iLISI'] = _lisi\n",
    "    for key in label_keys:\n",
    "        adata.obs[key] = adata.obs[key].astype('category')\n",
    "\n",
    "        _lisi = lisi.clisi_graph(\n",
    "            adata,\n",
    "            key,\n",
    "            'embed' if not use_neighbors else 'knn',\n",
    "            use_rep=use_rep,\n",
    "            batch_key=None,\n",
    "            k0=90,\n",
    "            subsample=None,\n",
    "            scale=True,\n",
    "            n_cores=1,\n",
    "            verbose=False,\n",
    "        )\n",
    "        res[key+'_cLISI'] = _lisi\n",
    "    df = pd.DataFrame.from_dict(res, orient='index').T\n",
    "    # df.columns = [_+'_LISI' for _ in df.columns]\n",
    "    return df\n",
    "\n",
    "def eval_ads(ads, ref_key, src_key):\n",
    "    aris = []\n",
    "    for ad in ads:\n",
    "        aris.append(adjusted_rand_score(ad.obs[src_key], ad.obs[ref_key]))\n",
    "    return aris\n",
    "\n",
    "from sklearn.preprocessing import normalize\n",
    "from sklearn.neighbors import KNeighborsClassifier\n",
    "from sklearn.metrics import f1_score\n",
    "def eval_labelTransfer(ad1, ad2, use_rep, lab_key, knn=10):\n",
    "     with warnings.catch_warnings():\n",
    "        warnings.simplefilter(\"ignore\", category=FutureWarning)\n",
    "        neigh1 = KNeighborsClassifier(n_neighbors=knn)\n",
    "        neigh1.fit(ad1.obsm[use_rep], ad1.obs[lab_key].to_list())\n",
    "        pr_lab2 = neigh1.predict(ad2.obsm[use_rep])\n",
    "        f1_1 = f1_score(ad2.obs[lab_key].values, pr_lab2, #labels=['1.0', '2.0', '3.0', '4.0'], \n",
    "                        average='macro')\n",
    "        # acc1 = (pr_lab2 == ad2.obs[lab_key].values).mean()\n",
    "    \n",
    "        neigh2 = KNeighborsClassifier(n_neighbors=knn)\n",
    "        neigh2.fit(ad2.obsm[use_rep], ad2.obs[lab_key].to_list())\n",
    "        pr_lab1 = neigh2.predict(ad1.obsm[use_rep])\n",
    "        # acc2 = (pr_lab1 == ad1.obs[lab_key].values).mean()\n",
    "        f1_2 = f1_score(ad1.obs[lab_key].values, pr_lab1, #labels=['1.0', '2.0', '3.0', '4.0'], \n",
    "                        average='macro')\n",
    "        return (f1_1+f1_2)/2\n"
   ]
  },
  {
   "cell_type": "code",
   "execution_count": 3,
   "id": "be92ec3b-5ac8-4cd1-8ebe-2a98473706ef",
   "metadata": {},
   "outputs": [],
   "source": [
    "def split_ob(ads, ad_ref, ob='obs', key='emb2'):\n",
    "    len_ads = [_.n_obs for _ in ads]\n",
    "    if ob=='obsm':\n",
    "        split_obsms = np.split(ad_ref.obsm[key], np.cumsum(len_ads[:-1]))\n",
    "        for ad, v in zip(ads, split_obsms):\n",
    "            ad.obsm[key] = v\n",
    "    else:\n",
    "        split_obs = np.split(ad_ref.obs[key].to_list(), np.cumsum(len_ads[:-1]))\n",
    "        for ad, v in zip(ads, split_obs):\n",
    "            ad.obs[key] = v\n",
    "    \n",
    "def subset_ad(ad, subset_index):\n",
    "    ad = ad[subset_index].copy()\n",
    "    return ad\n",
    "\n",
    "def set_spatial(ad):\n",
    "    ad.obsm['spatial'] = ad.obs[['array_row', 'array_col']].values\n",
    "    ad.obsm['spatial'] = ad.obsm['spatial'][:, ::-1]\n",
    "    ad.obsm['spatial'][:, 1] = -1 * ad.obsm['spatial'][:, 1]\n",
    "    return ad"
   ]
  },
  {
   "cell_type": "code",
   "execution_count": 6,
   "id": "7efc71fd-1094-424d-b5ac-43c1ac746be7",
   "metadata": {},
   "outputs": [
    {
     "name": "stdout",
     "output_type": "stream",
     "text": [
      "<KeysViewHDF5 ['barcodes', 'data', 'features', 'indices', 'indptr', 'shape']>\n",
      "<KeysViewHDF5 ['_all_tag_keys', 'feature_type', 'genome', 'id', 'interval', 'name']>\n",
      "<KeysViewHDF5 ['barcodes', 'data', 'features', 'indices', 'indptr', 'shape']>\n",
      "<KeysViewHDF5 ['_all_tag_keys', 'feature_type', 'genome', 'id', 'interval', 'name']>\n",
      "<KeysViewHDF5 ['barcodes', 'data', 'features', 'indices', 'indptr', 'shape']>\n",
      "<KeysViewHDF5 ['_all_tag_keys', 'feature_type', 'genome', 'id', 'interval', 'name']>\n"
     ]
    },
    {
     "data": {
      "text/plain": [
       "2418"
      ]
     },
     "execution_count": 6,
     "metadata": {},
     "output_type": "execute_result"
    }
   ],
   "source": [
    "data_dir = '/disco_500t/xuhua/data/MISAR_seq/'\n",
    "ad_bridge = load_h5(join(data_dir, 'E15_5-S1_raw_feature_bc_matrix.h5'))\n",
    "ad_test1 = load_h5(join(data_dir, 'E18_5-S1_raw_feature_bc_matrix.h5'))\n",
    "ad_test2 = load_h5(join(data_dir, 'E18_5-S1_raw_feature_bc_matrix.h5'))  # inconsistent peak name across batches\n",
    "peak_mat = sps.csr_matrix(sio.mmread(join(data_dir, 'BaiduDisk/section1/peak_mat.mtx')).T)\n",
    "peak_spot_name = pd.read_csv(join(data_dir, 'BaiduDisk/section1/peak_spot_names.csv')).x.values\n",
    "\n",
    "meta = pd.read_csv(join(data_dir, 'BaiduDisk/section1/meta_data.csv'), index_col=0)\n",
    "\n",
    "ad_bridge.obs_names = [f'E15_5-S1#{_}' for _ in ad_bridge.obs_names]\n",
    "ad_test1.obs_names = [f'E18_5-S1#{_}' for _ in ad_test1.obs_names]\n",
    "ad_test2.obs_names = [f'E18_5-S1#{_}' for _ in ad_test2.obs_names]\n",
    "\n",
    "# split rna and peak\n",
    "ad_bridge_rna = ad_bridge[:, ad_bridge.var['type'] == 'Gene Expression'].copy()\n",
    "ad_test1_rna = ad_test1[:, ad_test1.var['type'] == 'Gene Expression'].copy()\n",
    "\n",
    "# subset peak matrices\n",
    "bridge_mask = np.in1d(peak_spot_name, ad_bridge.obs_names)\n",
    "ad_bridge_atac = sc.AnnData(peak_mat[bridge_mask])\n",
    "ad_bridge_atac.obs_names = peak_spot_name[bridge_mask]\n",
    "test2_mask = np.in1d(peak_spot_name, ad_test2.obs_names)\n",
    "ad_test2_atac = sc.AnnData(peak_mat[test2_mask])\n",
    "ad_test2_atac.obs_names = peak_spot_name[test2_mask]\n",
    "\n",
    "ad_bridge_rna = subset_ad(ad_bridge_rna, ad_bridge_rna.obs_names.intersection(meta.index))\n",
    "ad_test1_rna = subset_ad(ad_test1_rna, ad_test1_rna.obs_names.intersection(meta.index))\n",
    "\n",
    "ad_bridge_rna.obs = meta.loc[ad_bridge_rna.obs_names].copy()\n",
    "ad_bridge_atac.obs = meta.loc[ad_bridge_atac.obs_names].copy()\n",
    "ad_test1_rna.obs = meta.loc[ad_test1_rna.obs_names].copy()\n",
    "ad_test2_atac.obs = meta.loc[ad_test2_atac.obs_names].copy()\n",
    "ad_bridge_rna = set_spatial(ad_bridge_rna)\n",
    "ad_bridge_atac = set_spatial(ad_bridge_atac)\n",
    "ad_test1_rna = set_spatial(ad_test1_rna)\n",
    "ad_test2_atac = set_spatial(ad_test2_atac)\n",
    "\n",
    "set_col2cat(ad_bridge_rna, cols=['ATAC_Clusters', 'RNA_Clusters', 'Combined_Clusters', 'Sample'])\n",
    "set_col2cat(ad_bridge_atac, cols=['ATAC_Clusters', 'RNA_Clusters', 'Combined_Clusters', 'Sample'])\n",
    "set_col2cat(ad_test1_rna, cols=['ATAC_Clusters', 'RNA_Clusters', 'Combined_Clusters', 'Sample'])\n",
    "set_col2cat(ad_test2_atac, cols=['ATAC_Clusters', 'RNA_Clusters', 'Combined_Clusters', 'Sample'])\n",
    "\n",
    "del peak_mat, ad_bridge, ad_test1, ad_test2\n",
    "gc.collect()"
   ]
  },
  {
   "cell_type": "code",
   "execution_count": 7,
   "id": "218b1255-7817-4e2d-a39d-767faba3ee37",
   "metadata": {},
   "outputs": [
    {
     "name": "stdout",
     "output_type": "stream",
     "text": [
      "True\n"
     ]
    }
   ],
   "source": [
    "ad_bridge_atac = ad_bridge_atac[ad_bridge_rna.obs_names].copy()\n",
    "assert (ad_bridge_rna.obs_names == ad_bridge_atac.obs_names).all()\n",
    "\n",
    "ad_test2_atac = ad_test2_atac[ad_test1_rna.obs_names].copy()\n",
    "print((ad_test1_rna.obs_names == ad_test2_atac.obs_names).all())\n",
    "\n",
    "ad_test1_rna.obs_names = [f'rna_{_}' for _ in ad_test1_rna.obs_names]\n",
    "ad_test2_atac.obs_names = [f'atac_{_}' for _ in ad_test2_atac.obs_names]\n",
    "\n",
    "ad_bridge_rna.obs['src'] = ad_bridge_atac.obs['src'] = ['s1']*ad_bridge_rna.n_obs\n",
    "ad_test1_rna.obs['src'] = ['s2-rna']*ad_test1_rna.n_obs\n",
    "ad_test2_atac.obs['src'] = ['s2-atac']*ad_test2_atac.n_obs\n",
    "ad_test1_rna.obs['Sample'] = ['S2']*ad_test1_rna.n_obs\n",
    "ad_test2_atac.obs['Sample'] = ['S2']*ad_test2_atac.n_obs"
   ]
  },
  {
   "cell_type": "code",
   "execution_count": 8,
   "id": "d26963f3-1df5-4ab6-bdb4-ea3ff629ff4f",
   "metadata": {},
   "outputs": [
    {
     "data": {
      "text/plain": [
       "(True, True)"
      ]
     },
     "execution_count": 8,
     "metadata": {},
     "output_type": "execute_result"
    }
   ],
   "source": [
    "(ad_test1_rna.var_names == ad_bridge_rna.var_names).all(), (ad_test2_atac.var_names == ad_bridge_atac.var_names).all()"
   ]
  },
  {
   "cell_type": "code",
   "execution_count": 10,
   "id": "cfc52d92-a6e5-4734-9099-ba911c39a230",
   "metadata": {},
   "outputs": [],
   "source": [
    "ad_rna_all = sc.concat([ad_bridge_rna, ad_test1_rna])\n",
    "ad_atac_all = sc.concat([ad_bridge_atac, ad_test2_atac])\n",
    "\n",
    "sc.pp.highly_variable_genes(ad_rna_all, flavor='seurat_v3', n_top_genes=10000, batch_key='Sample')\n",
    "hvg_names = ad_rna_all.var.query('highly_variable').index.to_numpy()\n",
    "\n",
    "# ac.pp.tfidf(ad_atac_all, scale_factor=1e4)\n",
    "sc.pp.highly_variable_genes(ad_atac_all, flavor='seurat_v3', n_top_genes=50000, batch_key='Sample')\n",
    "\n",
    "hvp_names = ad_atac_all.var.query('highly_variable').index.to_numpy()"
   ]
  },
  {
   "cell_type": "code",
   "execution_count": 11,
   "id": "27c0c489-6bbb-47ef-b30f-a27c168bef79",
   "metadata": {},
   "outputs": [],
   "source": [
    "mult_rna_count = ad_bridge_rna[:, hvg_names].X.astype(np.float32)\n",
    "mult_atac_count = ad_bridge_atac[:, hvp_names].X.astype(np.float32)\n",
    "mult_rna_count = sps.csr_matrix(mult_rna_count)  \n",
    "mult_atac_count = sps.csr_matrix(mult_atac_count)   # slowly, fuck, fuck, fuck\n",
    "mult_barcode = ad_bridge_rna.obs_names.to_numpy()\n",
    "\n",
    "rna_feature = hvg_names\n",
    "atac_feature = hvp_names"
   ]
  },
  {
   "cell_type": "code",
   "execution_count": 12,
   "id": "c95671f2-791f-48a1-9d38-1e14f0784459",
   "metadata": {},
   "outputs": [],
   "source": [
    "mult_rna = SingleData(\"GeneExpr\", \"Multiome\", rna_feature, mult_rna_count, mult_barcode)\n",
    "mult_atac = SingleData(\"ATAC\", \"Multiome\", atac_feature, mult_atac_count, mult_barcode)"
   ]
  },
  {
   "cell_type": "code",
   "execution_count": 13,
   "id": "ad7958a3-72bf-4fcb-816c-0d474d9330f7",
   "metadata": {},
   "outputs": [],
   "source": [
    "single_rna_count = ad_test1_rna[:, hvg_names].X.astype(np.float32)\n",
    "single_atac_count = ad_test2_atac[:, hvp_names].X.astype(np.float32)\n",
    "single_rna_count = sps.csr_matrix(single_rna_count)\n",
    "single_atac_count = sps.csr_matrix(single_atac_count)\n",
    "single_rna_barcode = ad_test1_rna.obs_names.to_numpy()\n",
    "single_atac_barcode = ad_test2_atac.obs_names.to_numpy()\n",
    "\n",
    "rna_feature = hvg_names\n",
    "atac_feature = hvp_names"
   ]
  },
  {
   "cell_type": "code",
   "execution_count": 14,
   "id": "94cc97cd-f9f8-44b7-a5d9-5cbe141efe8c",
   "metadata": {},
   "outputs": [],
   "source": [
    "single_rna = SingleData(\"GeneExpr\", \"Single-GEX\", rna_feature, single_rna_count, single_rna_barcode)\n",
    "single_atac = SingleData(\"ATAC\", \"Single-ATAC\", atac_feature, single_atac_count, single_atac_barcode)"
   ]
  },
  {
   "cell_type": "code",
   "execution_count": 15,
   "id": "d6bb237c-9066-46f4-a68a-704c65d12186",
   "metadata": {},
   "outputs": [
    {
     "name": "stdout",
     "output_type": "stream",
     "text": [
      "A MultiomicDataset object with 2 omics:\n",
      "- GeneExpr: 10000 features, 4078 cells, 2 batches.\n",
      "- ATAC: 50000 features, 4078 cells, 2 batches.\n",
      "Joint cells:\n",
      "- GeneExpr, ATAC: 1949 cells.\n"
     ]
    }
   ],
   "source": [
    "multi_dt = MultiomicDataset.from_singledata(\n",
    "    single_rna, single_atac, mult_atac, mult_rna)\n",
    "print(multi_dt)"
   ]
  },
  {
   "cell_type": "code",
   "execution_count": 27,
   "id": "b152b711-a310-41ad-b2cc-3db74a891ec7",
   "metadata": {},
   "outputs": [],
   "source": [
    "# def saveR(ad, name, dir):\n",
    "#     os.makedirs(dir, exist_ok=True)\n",
    "#     sio.mmwrite(join(dir, f'{name}_mat.mtx'), sps.csr_matrix(ad.X))\n",
    "#     pd.DataFrame(ad.obs_names).to_csv(join(dir, f'{name}_cname.csv'))\n",
    "#     pd.DataFrame(ad.var_names).to_csv(join(dir, f'{name}_feat.csv'))\n",
    "\n",
    "# saveR(ad_bridge_rna[:, hvg_names], 'bridge_rna', join(data_dir, 'R_data_modalMatch'))\n",
    "# saveR(ad_bridge_atac[:, hvp_names], 'bridge_atac', join(data_dir, 'R_data_modalMatch'))\n",
    "# saveR(ad_test1_rna[:, hvg_names], 'test_rna', join(data_dir, 'R_data_modalMatch'))\n",
    "# saveR(ad_test2_atac[:, hvp_names], 'test_atac', join(data_dir, 'R_data_modalMatch'))"
   ]
  },
  {
   "cell_type": "markdown",
   "id": "772742fd-0e82-4508-adde-48ef10bb2078",
   "metadata": {},
   "source": [
    "### Training"
   ]
  },
  {
   "cell_type": "code",
   "execution_count": 16,
   "id": "d284abfb-5c8f-4be3-9456-01c03ec2ac46",
   "metadata": {},
   "outputs": [
    {
     "name": "stderr",
     "output_type": "stream",
     "text": [
      "100%|█████████████████████████████████████████| 100/100 [04:22<00:00,  2.62s/it]\n"
     ]
    }
   ],
   "source": [
    "model = Cobolt(dataset=multi_dt, lr=0.001, n_latent=10, batch_size=128) \n",
    "model.train(num_epochs=100)"
   ]
  },
  {
   "cell_type": "code",
   "execution_count": 17,
   "id": "04ee5904-1451-4371-aa50-94f5d6b151e6",
   "metadata": {},
   "outputs": [
    {
     "data": {
      "text/plain": [
       "[<matplotlib.lines.Line2D at 0x7f5ce210e820>]"
      ]
     },
     "execution_count": 17,
     "metadata": {},
     "output_type": "execute_result"
    },
    {
     "data": {
      "image/png": "[encoded data removed]",
      "text/plain": [
       "<Figure size 640x480 with 1 Axes>"
      ]
     },
     "metadata": {},
     "output_type": "display_data"
    }
   ],
   "source": [
    "plt.plot(model.history['loss'])"
   ]
  },
  {
   "cell_type": "code",
   "execution_count": 18,
   "id": "881cefd3-c6cd-441c-bf15-5324e98b95de",
   "metadata": {},
   "outputs": [],
   "source": [
    "model.calc_all_latent()\n",
    "\n",
    "latent = model.get_all_latent()"
   ]
  },
  {
   "cell_type": "code",
   "execution_count": 19,
   "id": "ab7263dd-f160-4d2a-8d44-b61de3883b57",
   "metadata": {},
   "outputs": [],
   "source": [
    "if True:\n",
    "    latent_barcode = np.array([_.split('~')[1] for _ in latent[1]])\n",
    "    df_latent = pd.DataFrame(latent[0], index=latent_barcode)\n",
    "    # df_latent.to_csv('./outputs/misar_seq/E15-18-18.csv')\n",
    "\n",
    "else:\n",
    "    # df_latent = pd.read_csv('./outputs/misar_seq/E15-18-18.csv', index_col=0)\n",
    "    # df_latent.index = df_latent.index.astype('str')\n",
    "    pass"
   ]
  },
  {
   "cell_type": "code",
   "execution_count": 20,
   "id": "c19d12e8-2d41-47bd-98fa-7ccef124aee4",
   "metadata": {},
   "outputs": [],
   "source": [
    "ad_bridge_rna.obsm['X_emb'] = df_latent.loc[ad_bridge_rna.obs_names, :].values\n",
    "ad_test1_rna.obsm['X_emb'] = df_latent.loc[ad_test1_rna.obs_names, :].values\n",
    "ad_test2_atac.obsm['X_emb'] = df_latent.loc[ad_test2_atac.obs_names, :].values"
   ]
  },
  {
   "cell_type": "code",
   "execution_count": 21,
   "id": "c6401bb4-0427-4d37-aef9-89a49ae5437a",
   "metadata": {},
   "outputs": [],
   "source": [
    "ad_mosaic = sc.concat([ad_bridge_rna, ad_test1_rna, ad_test2_atac])\n",
    "ad_mosaic = get_umap(ad_mosaic, ['X_emb'])"
   ]
  },
  {
   "cell_type": "code",
   "execution_count": 22,
   "id": "5d8948ff-2ad7-4af5-aa24-117dd1e9ad41",
   "metadata": {},
   "outputs": [
    {
     "name": "stdout",
     "output_type": "stream",
     "text": [
      "FOSCTTM=0.18344\n",
      "Match_score=0.00704\n"
     ]
    },
    {
     "data": {
      "text/plain": [
       "{'FOSCTTM': 0.1834448172709906, 'Match_score': 0.007039576466537481}"
      ]
     },
     "execution_count": 22,
     "metadata": {},
     "output_type": "execute_result"
    }
   ],
   "source": [
    "from lisi_bridge import eval_bridge\n",
    "eval_bridge(\n",
    "        ad_test1_rna, ad_test2_atac,\n",
    "        label_key=None,\n",
    "        batch_key='Sample',\n",
    "        use_rep='X_emb',\n",
    "        use_fosc=True, use_acc=False, use_score=True,\n",
    "    )"
   ]
  },
  {
   "cell_type": "markdown",
   "id": "8405b3dc-a010-4f1b-a983-03c5aeedaa8a",
   "metadata": {},
   "source": [
    "## batch corr"
   ]
  },
  {
   "cell_type": "code",
   "execution_count": 23,
   "id": "83e04159-a680-48d9-809d-20d6af868510",
   "metadata": {},
   "outputs": [
    {
     "name": "stdout",
     "output_type": "stream",
     "text": [
      "Use GPU mode.\n",
      "\tInitialization is completed.\n",
      "\tCompleted 1 / 10 iteration(s).\n",
      "\tCompleted 2 / 10 iteration(s).\n",
      "\tCompleted 3 / 10 iteration(s).\n",
      "\tCompleted 4 / 10 iteration(s).\n",
      "\tCompleted 5 / 10 iteration(s).\n",
      "\tCompleted 6 / 10 iteration(s).\n",
      "\tCompleted 7 / 10 iteration(s).\n",
      "\tCompleted 8 / 10 iteration(s).\n",
      "Reach convergence after 8 iteration(s).\n"
     ]
    }
   ],
   "source": [
    "from batchCorr import HARMONY\n",
    "\n",
    "ad_mosaic.obsm['X_emb_har'] = HARMONY(pd.DataFrame(ad_mosaic.obsm['X_emb']), ad_mosaic.obs['src'].to_list())\n",
    "split_ob([ad_bridge_rna, ad_test1_rna, ad_test2_atac], ad_mosaic, ob='obsm', key='X_emb_har')"
   ]
  },
  {
   "cell_type": "code",
   "execution_count": 24,
   "id": "b9f3fa8e-3edf-41a9-9d8f-d04b4a99165c",
   "metadata": {},
   "outputs": [
    {
     "name": "stdout",
     "output_type": "stream",
     "text": [
      "FOSCTTM=0.18778\n",
      "Match_score=0.00536\n"
     ]
    }
   ],
   "source": [
    "r3 = eval_bridge(\n",
    "        ad_test1_rna, ad_test2_atac,\n",
    "        label_key=None,\n",
    "        batch_key='Sample',\n",
    "        use_rep='X_emb_har',\n",
    "        use_fosc=True, use_acc=False, use_score=True,\n",
    "    )"
   ]
  },
  {
   "cell_type": "markdown",
   "id": "78198228-0157-4a09-9547-db454e2c976f",
   "metadata": {},
   "source": [
    "### Vis"
   ]
  },
  {
   "cell_type": "code",
   "execution_count": 25,
   "id": "55260091-0975-4683-9ef3-f6855518dec1",
   "metadata": {},
   "outputs": [],
   "source": [
    "fig_dir = f'/disco_500t/xuhua/gitrepo/BridgeNorm/figures/misar_seq/E15-18-18_modalMatch/cobolt'\n",
    "os.makedirs(fig_dir, exist_ok=True)\n",
    "\n",
    "df = pd.DataFrame(ad_mosaic.obsm['X_emb'], index=ad_mosaic.obs_names)\n",
    "df.to_csv(join(fig_dir, 'X_emb.csv'))\n",
    "\n",
    "df = pd.DataFrame(ad_mosaic.obsm['X_emb_har'], index=ad_mosaic.obs_names)\n",
    "df.to_csv(join(fig_dir, 'X_emb_har.csv'))"
   ]
  },
  {
   "cell_type": "code",
   "execution_count": null,
   "id": "ee78a360-3574-4f0d-b577-9871ae7203b3",
   "metadata": {},
   "outputs": [],
   "source": []
  }
 ],
 "metadata": {
  "kernelspec": {
   "display_name": "Squidpy",
   "language": "python",
   "name": "squidpy"
  },
  "language_info": {
   "codemirror_mode": {
    "name": "ipython",
    "version": 3
   },
   "file_extension": ".py",
   "mimetype": "text/x-python",
   "name": "python",
   "nbconvert_exporter": "python",
   "pygments_lexer": "ipython3",
   "version": "3.8.8"
  }
 },
 "nbformat": 4,
 "nbformat_minor": 5
}
