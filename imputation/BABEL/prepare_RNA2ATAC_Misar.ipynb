{
 "cells": [
  {
   "cell_type": "code",
   "execution_count": 1,
   "id": "18642be8-e40a-4aef-a59a-5a49ff18143e",
   "metadata": {},
   "outputs": [],
   "source": [
    "import pandas as pd\n",
    "import anndata as ad\n",
    "from scipy.sparse import csr_matrix, coo_matrix, csc_matrix\n",
    "from scipy.io import mmread, mmwrite\n",
    "import os\n",
    "from os.path import join\n",
    "import numpy as np\n",
    "import scanpy as sc\n",
    "import scipy.io as sio\n",
    "import scipy.sparse as sps\n",
    "import h5py\n",
    "import gzip\n",
    "import gc"
   ]
  },
  {
   "cell_type": "code",
   "execution_count": 5,
   "id": "36fa77ec-2134-44c5-8b3d-e6e0ff697589",
   "metadata": {},
   "outputs": [],
   "source": [
    "def reorder(ad1, ad2):\n",
    "    shared_barcodes = ad1.obs_names.intersection(ad2.obs_names)\n",
    "    ad1 = ad1[shared_barcodes].copy()\n",
    "    ad2 = ad2[shared_barcodes].copy()\n",
    "    return ad1, ad2\n",
    "\n",
    "def subset_ad(ad, subset_index):\n",
    "    ad = ad[subset_index].copy()\n",
    "    return ad\n",
    "\n",
    "def load_peak_expr(_dir):\n",
    "    data = sio.mmread(join(_dir, 'data.mtx'))\n",
    "    cname = pd.read_csv(join(_dir, 'barcode.csv'), index_col=0).index.to_list()\n",
    "    feat = pd.read_csv(join(_dir, 'feat.csv'), index_col=0)['x'].to_list()\n",
    "    ad = sc.AnnData(sps.csr_matrix(data.T))\n",
    "    ad.obs_names = cname\n",
    "    ad.var_names = feat\n",
    "    return ad\n",
    "\n",
    "def set_ad(ad_ref, ref_batch_key='src', tg_batch_key='batch'):\n",
    "    cell_names = pd.DataFrame(np.reshape(ad_ref.obs_names.to_list(), (-1, 1)))\n",
    "    cell_names.columns = ['cell_ids'] \n",
    "\n",
    "    gene_names = pd.DataFrame(np.reshape(ad_ref.var_names.to_list(), (-1, 1)))\n",
    "    gene_names.columns = ['gene_ids'] \n",
    "    ad_new = ad.AnnData(ad_ref.X.copy(), obs=pd.DataFrame(index=cell_names.cell_ids), var=pd.DataFrame(index = gene_names.gene_ids))\n",
    "    ad_new.obs[tg_batch_key] = ad_ref.obs[ref_batch_key].to_list()\n",
    "    ad_new.var_names_make_unique()\n",
    "    return ad_new\n",
    "\n",
    "def load_h5(path):\n",
    "    with h5py.File(path, 'r') as f:\n",
    "        print(f['matrix'].keys())\n",
    "        print(f['matrix']['features'].keys())\n",
    "\n",
    "        barcodes = [_.decode('utf-8') for _ in f['matrix']['barcodes'][:]]\n",
    "        data = f['matrix']['data'][:]\n",
    "        indices = f['matrix']['indices'][:]\n",
    "        indptr = f['matrix']['indptr'][:]\n",
    "        shape = f['matrix']['shape'][:]\n",
    "\n",
    "        feature_type = [_.decode('utf-8') for _ in f['matrix']['features']['feature_type'][:]]\n",
    "        feature_id   = [_.decode('utf-8') for _ in f['matrix']['features']['id'][:]]\n",
    "        feature_name = [_.decode('utf-8') for _ in f['matrix']['features']['name'][:]]\n",
    "        feature_interval = [_.decode('utf-8') for _ in f['matrix']['features']['interval'][:]]\n",
    "\n",
    "\n",
    "        X = sps.csc_matrix(\n",
    "            (data, indices, indptr), \n",
    "            shape = shape\n",
    "        ).tocsc().astype(np.float32).T.toarray()\n",
    "\n",
    "        adata = sc.AnnData(X)\n",
    "        adata.obs_names = barcodes\n",
    "        adata.var_names = feature_id\n",
    "        adata.var['type'] = feature_type\n",
    "        adata.var['name'] = feature_name\n",
    "        adata.var['interval'] = feature_interval\n",
    "    return adata"
   ]
  },
  {
   "cell_type": "code",
   "execution_count": 3,
   "id": "2c6e7808-4277-407d-9ff7-0be22fb89866",
   "metadata": {},
   "outputs": [],
   "source": [
    "work_dir = '/disco_500t/xuhua/gitrepo/dance/data'\n",
    "# tmp_path = join(work_dir, 'Misar/')\n",
    "# os.makedirs(tmp_path, exist_ok=True)"
   ]
  },
  {
   "cell_type": "code",
   "execution_count": 6,
   "id": "22dc7fdb-2b60-4e28-8000-1efb550935cc",
   "metadata": {},
   "outputs": [
    {
     "data": {
      "text/plain": [
       "1823"
      ]
     },
     "execution_count": 6,
     "metadata": {},
     "output_type": "execute_result"
    }
   ],
   "source": [
    "data_dir = '/disco_500t/xuhua/data/MISAR_seq/'\n",
    "ad_bridge = load_h5(join(data_dir, 'E15_5-S1_raw_feature_bc_matrix.h5'))\n",
    "ad_test1 = load_h5(join(data_dir, 'E13_5-S1_raw_feature_bc_matrix.h5'))\n",
    "ad_test2 = load_h5(join(data_dir, 'E18_5-S1_raw_feature_bc_matrix.h5'))  # inconsistent peak name across batches\n",
    "peak_mat = sps.csr_matrix(sio.mmread(join(data_dir, 'BaiduDisk/section1/peak_mat.mtx')).T)\n",
    "peak_spot_name = pd.read_csv(join(data_dir, 'BaiduDisk/section1/peak_spot_names.csv')).x.values\n",
    "\n",
    "meta = pd.read_csv(join(data_dir, 'BaiduDisk/section1/meta_data.csv'), index_col=0)\n",
    "\n",
    "ad_bridge.obs_names = [f'E15_5-S1#{_}' for _ in ad_bridge.obs_names]\n",
    "ad_test1.obs_names = [f'E13_5-S1#{_}' for _ in ad_test1.obs_names]\n",
    "ad_test2.obs_names = [f'E18_5-S1#{_}' for _ in ad_test2.obs_names]\n",
    "\n",
    "# split rna and peak\n",
    "ad15_rna = ad_bridge[:, ad_bridge.var['type'] == 'Gene Expression'].copy()\n",
    "ad13_rna = ad_test1[:, ad_test1.var['type'] == 'Gene Expression'].copy()\n",
    "ad18_rna = ad_test2[:, ad_test2.var['type'] == 'Gene Expression'].copy()\n",
    "\n",
    "ad13_atac = load_peak_expr(join(data_dir, 'S1-E13-E15-18-peak_data/E13'))\n",
    "ad15_atac = load_peak_expr(join(data_dir, 'S1-E13-E15-18-peak_data/E15'))\n",
    "ad18_atac = load_peak_expr(join(data_dir, 'S1-E13-E15-18-peak_data/E18'))\n",
    "ad13_atac.obs_names = [f'E13_5-S1#{_}' for _ in ad13_atac.obs_names]\n",
    "ad15_atac.obs_names = [f'E15_5-S1#{_}' for _ in ad15_atac.obs_names]\n",
    "ad18_atac.obs_names = [f'E18_5-S1#{_}' for _ in ad18_atac.obs_names]\n",
    "\n",
    "ad15_rna = subset_ad(ad15_rna, ad15_rna.obs_names.intersection(meta.index))\n",
    "ad13_rna = subset_ad(ad13_rna, ad13_rna.obs_names.intersection(meta.index))\n",
    "ad18_rna = subset_ad(ad18_rna, ad18_rna.obs_names.intersection(meta.index))\n",
    "\n",
    "ad15_rna.obs = meta.loc[ad15_rna.obs_names].copy()\n",
    "ad15_atac.obs = meta.loc[ad15_atac.obs_names].copy()\n",
    "ad13_rna.obs = meta.loc[ad13_rna.obs_names].copy()\n",
    "ad13_atac.obs = meta.loc[ad13_atac.obs_names].copy()\n",
    "ad18_rna.obs = meta.loc[ad18_rna.obs_names].copy()\n",
    "ad18_atac.obs = meta.loc[ad18_atac.obs_names].copy()\n",
    "\n",
    "ad15_atac = ad15_atac[ad15_rna.obs_names].copy()\n",
    "ad13_atac = ad13_atac[ad13_rna.obs_names].copy()\n",
    "ad18_rna  = ad18_rna[ad18_atac.obs_names].copy()  # 这是要和当初E18取atac的obs_name顺序一致\n",
    "\n",
    "del peak_mat, ad_bridge, ad_test1, ad_test2\n",
    "gc.collect()"
   ]
  },
  {
   "cell_type": "code",
   "execution_count": 7,
   "id": "18744d7a-81c1-4982-ad9e-8a9b26d62c10",
   "metadata": {},
   "outputs": [],
   "source": [
    "ad13_rna.obs['src'] = ad13_atac.obs['src'] = ['e13']*ad13_rna.n_obs\n",
    "ad15_rna.obs['src'] = ad15_atac.obs['src'] = ['e15']*ad15_rna.n_obs\n",
    "ad18_rna.obs['src'] = ad18_atac.obs['src'] = ['e18']*ad18_rna.n_obs"
   ]
  },
  {
   "cell_type": "code",
   "execution_count": 9,
   "id": "1e694146-1d9c-44c5-b6d0-35b74c5093fd",
   "metadata": {},
   "outputs": [],
   "source": [
    "ad_rna_all = sc.concat([ad13_rna, ad15_rna, ad18_rna])\n",
    "ad_atac_all = sc.concat([ad13_atac, ad15_atac, ad18_atac])\n",
    "\n",
    "sc.pp.highly_variable_genes(ad_rna_all, flavor='seurat_v3', n_top_genes=5000, batch_key='src')\n",
    "hvg_names = ad_rna_all.var.query('highly_variable').index.to_numpy()\n",
    "\n",
    "sc.pp.highly_variable_genes(ad_atac_all, flavor='seurat_v3', n_top_genes=50000, batch_key='src')\n",
    "hvp_names = ad_atac_all.var.query('highly_variable').index.to_numpy()"
   ]
  },
  {
   "cell_type": "code",
   "execution_count": 10,
   "id": "4462f616-e47b-4b65-8a18-e0b651f43c85",
   "metadata": {},
   "outputs": [],
   "source": [
    "ad13_rna = ad13_rna[:, hvg_names].copy(); ad13_atac = ad13_atac[:, hvp_names].copy()\n",
    "ad15_rna = ad15_rna[:, hvg_names].copy(); ad15_atac = ad15_atac[:, hvp_names].copy()\n",
    "ad18_rna = ad18_rna[:, hvg_names].copy(); ad18_atac = ad18_atac[:, hvp_names].copy()\n",
    "\n",
    "## filter feat names\n",
    "filtered_atac_feats = [_ for _ in ad13_atac.var_names if _.startswith('chr')]\n",
    "ad13_atac = ad13_atac[:, filtered_atac_feats].copy()\n",
    "ad15_atac = ad15_atac[:, filtered_atac_feats].copy()\n",
    "ad18_atac = ad18_atac[:, filtered_atac_feats].copy()"
   ]
  },
  {
   "cell_type": "code",
   "execution_count": 11,
   "id": "c971eed2-91eb-402f-b4f8-69a21ceaa708",
   "metadata": {},
   "outputs": [],
   "source": [
    "RNA_ADS = [ad13_rna, ad15_rna, ad18_rna]\n",
    "ATAC_ADS = [ad13_atac, ad15_atac, ad18_atac]\n",
    "mod_dict = {'rna': RNA_ADS, 'atac':ATAC_ADS}\n",
    "n_batches = 3\n",
    "mod_sets = ['rna', 'atac']"
   ]
  },
  {
   "cell_type": "code",
   "execution_count": 12,
   "id": "9ebe40cb-bf4a-41f3-b461-73db4a9df093",
   "metadata": {},
   "outputs": [],
   "source": [
    "work_dir = '/disco_500t/xuhua/gitrepo/dance/data'\n",
    "for i in range(3):\n",
    "    tmp_path = join(work_dir, f'Misar_cv{i+1}/')\n",
    "    os.makedirs(tmp_path, exist_ok=True)\n",
    "    \n",
    "    train_idx = list(set(np.arange(3)) - set({i}))\n",
    "    test_idx  = [i]\n",
    "    train_rna_data = sc.concat([RNA_ADS[idx] for idx in train_idx])\n",
    "    test_rna_data  = sc.concat([RNA_ADS[idx] for idx in test_idx])\n",
    "    train_atac_data = sc.concat([ATAC_ADS[idx] for idx in train_idx])\n",
    "    test_atac_data  = sc.concat([ATAC_ADS[idx] for idx in test_idx])\n",
    "\n",
    "    input_train_mod1 = set_ad(train_rna_data, ref_batch_key='src', tg_batch_key='batch')\n",
    "    input_test_mod1 = set_ad(test_rna_data, ref_batch_key='src', tg_batch_key='batch')\n",
    "    input_train_mod2 = set_ad(train_atac_data, ref_batch_key='src', tg_batch_key='batch')\n",
    "    input_test_mod2 = set_ad(test_atac_data, ref_batch_key='src', tg_batch_key='batch')\n",
    "\n",
    "    input_train_mod1.var['feature_types'] = pd.Categorical(len(input_train_mod1.var_names)*['GEX'])\n",
    "    input_train_mod1.uns = {'dataset_id': 'mouse_brain', 'organism': 'mouse'}\n",
    "    input_train_mod1.layers['counts'] = input_train_mod1.X.copy()\n",
    "    input_train_mod2.var['feature_types'] = pd.Categorical(len(input_train_mod2.var_names)*['ATAC'])\n",
    "    input_train_mod2.uns = {'dataset_id': 'mouse_brain', 'organism': 'mouse'}\n",
    "    input_train_mod2.layers['counts'] = input_train_mod2.X.copy()\n",
    "    input_test_mod1.var['feature_types'] = pd.Categorical(len(input_test_mod1.var_names)*['GEX'])\n",
    "    input_test_mod1.uns = {'dataset_id': 'mouse_brain', 'organism': 'mouse'}\n",
    "    input_test_mod1.layers['counts'] = input_test_mod1.X.copy()\n",
    "    input_test_mod2.var['feature_types'] = pd.Categorical(len(input_test_mod2.var_names)*['ATAC'])\n",
    "    input_test_mod2.uns = {'dataset_id': 'mouse_brain', 'organism': 'mouse'}\n",
    "    input_test_mod2.layers['counts'] = input_test_mod2.X.copy()\n",
    "\n",
    "    input_train_mod1.write_h5ad(tmp_path + \"openproblems_bmmc_multiome_phase2_rna.censor_dataset.output_train_mod1.h5ad\", compression = None)\n",
    "    input_train_mod2.write_h5ad(tmp_path + \"openproblems_bmmc_multiome_phase2_rna.censor_dataset.output_train_mod2.h5ad\", compression = None)\n",
    "    input_test_mod1.write_h5ad(tmp_path + \"openproblems_bmmc_multiome_phase2_rna.censor_dataset.output_test_mod1.h5ad\", compression = None)\n",
    "    input_test_mod2.write_h5ad(tmp_path + \"openproblems_bmmc_multiome_phase2_rna.censor_dataset.output_test_mod2.h5ad\", compression = None)"
   ]
  },
  {
   "cell_type": "code",
   "execution_count": 13,
   "id": "0478ed8e-af08-464f-af17-2b817509ab8b",
   "metadata": {},
   "outputs": [],
   "source": [
    "import csv\n",
    "def csv_read(path, header=True, index=True):\n",
    "    res = []\n",
    "    with open(path, mode='r', newline='') as file:\n",
    "        reader = csv.reader(file)\n",
    "\n",
    "        for i,row in enumerate(reader):\n",
    "            if header and i==0:\n",
    "                continue\n",
    "            try:\n",
    "                float_row = [float(item) for item in row]\n",
    "                if index:\n",
    "                    float_row = float_row[1:]\n",
    "                res.append(float_row)  # Each row is now a list of floats\n",
    "            except ValueError as e:\n",
    "                print(f\"Error converting to float: {e}\")\n",
    "    res = np.vstack(res)   \n",
    "    return res"
   ]
  },
  {
   "cell_type": "code",
   "execution_count": 14,
   "id": "62492262-7a0b-4908-8882-1fedc599717c",
   "metadata": {},
   "outputs": [
    {
     "name": "stdout",
     "output_type": "stream",
     "text": [
      "(1777, 49988)\n",
      "(1949, 49988)\n",
      "(2129, 49988)\n"
     ]
    }
   ],
   "source": [
    "out_dir = '/disco_500t/xuhua/gitrepo/dance/output/RNA2ATAC'\n",
    "\n",
    "for cv in range(3):\n",
    "    _dir = join(out_dir, f'Misar_3slices_cv{cv+1}')\n",
    "    pr_X = csv_read(join(_dir, 'babel.csv'), index=True, header=True)\n",
    "    print(pr_X.shape)\n",
    "    ad_pr = sc.AnnData(pr_X, obs=ATAC_ADS[cv].obs.copy(), var=ATAC_ADS[cv].var.copy())\n",
    "    ad_pr.write_h5ad(f'/disco_500t/xuhua/gitrepo/BridgeNorm/figures/imputation/Misar_E13-E15-E18/babel/cv{cv+1}_imputedATAC.h5ad')"
   ]
  }
 ],
 "metadata": {
  "kernelspec": {
   "display_name": "dance",
   "language": "python",
   "name": "dance"
  },
  "language_info": {
   "codemirror_mode": {
    "name": "ipython",
    "version": 3
   },
   "file_extension": ".py",
   "mimetype": "text/x-python",
   "name": "python",
   "nbconvert_exporter": "python",
   "pygments_lexer": "ipython3",
   "version": "3.11.9"
  }
 },
 "nbformat": 4,
 "nbformat_minor": 5
}
