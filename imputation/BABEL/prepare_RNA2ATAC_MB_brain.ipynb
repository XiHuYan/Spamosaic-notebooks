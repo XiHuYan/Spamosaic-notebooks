{
 "cells": [
  {
   "cell_type": "code",
   "execution_count": 1,
   "id": "18642be8-e40a-4aef-a59a-5a49ff18143e",
   "metadata": {},
   "outputs": [],
   "source": [
    "import pandas as pd\n",
    "import anndata as ad\n",
    "from scipy.sparse import csr_matrix, coo_matrix, csc_matrix\n",
    "from scipy.io import mmread, mmwrite\n",
    "import os\n",
    "from os.path import join\n",
    "import numpy as np\n",
    "import scanpy as sc\n",
    "import scipy.io as sio\n",
    "import scipy.sparse as sps\n",
    "import h5py\n",
    "import gzip\n",
    "import gc"
   ]
  },
  {
   "cell_type": "code",
   "execution_count": 2,
   "id": "36fa77ec-2134-44c5-8b3d-e6e0ff697589",
   "metadata": {},
   "outputs": [],
   "source": [
    "def reorder(ad1, ad2):\n",
    "    shared_barcodes = ad1.obs_names.intersection(ad2.obs_names)\n",
    "    ad1 = ad1[shared_barcodes].copy()\n",
    "    ad2 = ad2[shared_barcodes].copy()\n",
    "    return ad1, ad2\n",
    "\n",
    "def load_peak_expr(_dir):\n",
    "    data = sio.mmread(join(_dir, 'data.mtx'))\n",
    "    cname = pd.read_csv(join(_dir, 'barcode.csv'), index_col=0)['x'].to_list()\n",
    "    feat = pd.read_csv(join(_dir, 'feat.csv'), index_col=0)['x'].to_list()\n",
    "    ad = sc.AnnData(sps.csr_matrix(data.T))\n",
    "    ad.obs_names = cname\n",
    "    ad.var_names = feat\n",
    "    return ad\n",
    "\n",
    "def set_ad(ad_ref, ref_batch_key='src', tg_batch_key='batch'):\n",
    "    cell_names = pd.DataFrame(np.reshape(ad_ref.obs_names.to_list(), (-1, 1)))\n",
    "    cell_names.columns = ['cell_ids'] \n",
    "\n",
    "    gene_names = pd.DataFrame(np.reshape(ad_ref.var_names.to_list(), (-1, 1)))\n",
    "    gene_names.columns = ['gene_ids'] \n",
    "    ad_new = ad.AnnData(ad_ref.X.copy(), obs=pd.DataFrame(index=cell_names.cell_ids), var=pd.DataFrame(index = gene_names.gene_ids))\n",
    "    ad_new.obs[tg_batch_key] = ad_ref.obs[ref_batch_key].to_list()\n",
    "    ad_new.var_names_make_unique()\n",
    "    return ad_new"
   ]
  },
  {
   "cell_type": "code",
   "execution_count": 3,
   "id": "22dc7fdb-2b60-4e28-8000-1efb550935cc",
   "metadata": {},
   "outputs": [],
   "source": [
    "data_dir = '/disco_500t/xuhua/data/real_mosaic_cases/mouse_brain_rna+atac/'\n",
    "\n",
    "df1_rna = pd.read_csv(join(data_dir, 'rna+atac/GSM6204636_MouseBrain_20um_matrix.tsv'), sep='\\t')\n",
    "df1_spatial_pos = pd.read_csv(join(data_dir, 'rna+atac/GSM6204623_MouseBrain_20um_spatial_rna_part/tissue_positions_list.csv'), header=None, index_col=0)\n",
    "ad1_rna = sc.AnnData(df1_rna.T, obsm={'spatial': df1_spatial_pos.loc[df1_rna.columns, [2, 3]].values})\n",
    "\n",
    "ad1_atac = load_peak_expr(join(data_dir, 'rna+atac/For_Imputation_Task/GSM6204623_peak_data'))\n",
    "df1_atac_spatial = pd.read_csv(join(data_dir, 'rna+atac/GSM6204623_MouseBrain_20um_spatial_rna_part/tissue_positions_list.csv'), index_col=0, header=None)\n",
    "ad1_atac.obsm['spatial'] = df1_atac_spatial.loc[ad1_atac.obs_names, [2, 3]].values\n",
    "ad1_rna, ad1_atac = reorder(ad1_rna, ad1_atac)\n",
    "\n",
    "# ===\n",
    "df2_rna = pd.read_csv(join(data_dir, 'rna+atac/GSM6753041_MouseBrain_20um_repATAC_matrix.tsv'), sep='\\t')\n",
    "df2_rna_spatial = pd.read_csv(join(data_dir, 'rna+atac/GSM6753041_MouseBrain_20um_repATAC_spatial/tissue_positions_list.csv'), index_col=0, header=None)\n",
    "ad2_rna = sc.AnnData(df2_rna.T, obsm={'spatial': df2_rna_spatial.loc[df2_rna.columns, [2, 3]].values})\n",
    "\n",
    "ad2_atac = load_peak_expr(join(data_dir, 'rna+atac/For_Imputation_Task/GSM6758284_peak_data'))\n",
    "df2_atac_spatial = pd.read_csv(join(data_dir, 'rna+atac//GSM6753041_MouseBrain_20um_repATAC_spatial/tissue_positions_list.csv'), index_col=0, header=None)\n",
    "ad2_atac.obsm['spatial'] = df2_atac_spatial.loc[ad2_atac.obs_names, [2, 3]].values\n",
    "ad2_rna, ad2_atac = reorder(ad2_rna, ad2_atac)\n",
    "\n",
    "# ===\n",
    "df3_rna = pd.read_csv(join(data_dir, 'rna+atac/GSM6753043_MouseBrain_20um_100barcodes_ATAC_matrix.tsv'), sep='\\t')\n",
    "df3_rna_spatial = pd.read_csv(join(data_dir, 'rna+atac/GSM6753043_MouseBrain_20um_100barcodes_ATAC_spatial/tissue_positions_list.csv'), index_col=0, header=None)\n",
    "ad3_rna = sc.AnnData(df3_rna.T, obsm={'spatial': df3_rna_spatial.loc[df3_rna.columns, [2, 3]].values})\n",
    "\n",
    "ad3_atac = load_peak_expr(join(data_dir, 'rna+atac/For_Imputation_Task/GSM6758285_peak_data'))\n",
    "df3_atac_spatial = pd.read_csv(join(data_dir, 'rna+atac//GSM6753043_MouseBrain_20um_100barcodes_ATAC_spatial/tissue_positions_list.csv'), index_col=0, header=None)\n",
    "ad3_atac.obsm['spatial'] = df3_atac_spatial.loc[ad3_atac.obs_names, [2, 3]].values\n",
    "ad3_rna, ad3_atac = reorder(ad3_rna, ad3_atac)\n",
    "\n",
    "shared_gene = ad1_rna.var_names.intersection(ad2_rna.var_names).intersection(ad3_rna.var_names)\n",
    "shared_peak = ad1_atac.var_names.intersection(ad2_atac.var_names).intersection(ad3_atac.var_names)\n",
    "ad1_rna = ad1_rna[:, shared_gene].copy(); ad2_rna = ad2_rna[:, shared_gene].copy(); ad3_rna = ad3_rna[:, shared_gene].copy()\n",
    "ad1_atac = ad1_atac[:, shared_peak].copy(); ad2_atac = ad2_atac[:, shared_peak].copy(); ad3_atac = ad3_atac[:, shared_peak].copy()\n",
    "\n",
    "ad1_rna.obs_names = [f's1-{_}' for _ in ad1_rna.obs_names]\n",
    "ad1_atac.obs_names = [f's1-{_}' for _ in ad1_atac.obs_names]\n",
    "ad2_rna.obs_names = [f's2-{_}' for _ in ad2_rna.obs_names]\n",
    "ad2_atac.obs_names = [f's2-{_}' for _ in ad2_atac.obs_names]\n",
    "ad3_rna.obs_names = [f's3-{_}' for _ in ad3_rna.obs_names]\n",
    "ad3_atac.obs_names = [f's3-{_}' for _ in ad3_atac.obs_names]\n",
    "\n",
    "ad1_rna.obs['src'] = ['s1']*ad1_rna.n_obs\n",
    "ad1_atac.obs['src'] = ['s1']*ad1_atac.n_obs\n",
    "ad2_rna.obs['src'] = ['s2']*ad2_rna.n_obs\n",
    "ad2_atac.obs['src'] = ['s2']*ad2_atac.n_obs\n",
    "ad3_rna.obs['src'] = ['s3']*ad3_rna.n_obs\n",
    "ad3_atac.obs['src'] = ['s3']*ad3_atac.n_obs"
   ]
  },
  {
   "cell_type": "code",
   "execution_count": 4,
   "id": "4462f616-e47b-4b65-8a18-e0b651f43c85",
   "metadata": {},
   "outputs": [],
   "source": [
    "ad_rna_all = sc.concat([ad1_rna, ad2_rna, ad3_rna])\n",
    "ad_atac_all = sc.concat([ad1_atac, ad2_atac, ad3_atac])\n",
    "\n",
    "sc.pp.highly_variable_genes(ad_rna_all, flavor='seurat_v3', n_top_genes=5000, batch_key='src')\n",
    "hvg_names = ad_rna_all.var.query('highly_variable').index.to_numpy()\n",
    "\n",
    "# ac.pp.tfidf(ad_atac_all, scale_factor=1e4)\n",
    "sc.pp.highly_variable_genes(ad_atac_all, flavor='seurat_v3', n_top_genes=50000, batch_key='src')\n",
    "hvp_names = ad_atac_all.var.query('highly_variable').index.to_numpy()"
   ]
  },
  {
   "cell_type": "code",
   "execution_count": 5,
   "id": "e4a62d77-d8bf-4c21-b2ed-057d36e14921",
   "metadata": {},
   "outputs": [],
   "source": [
    "ad1_rna = ad1_rna[:, hvg_names].copy(); ad1_atac = ad1_atac[:, hvp_names].copy()\n",
    "ad2_rna = ad2_rna[:, hvg_names].copy(); ad2_atac = ad2_atac[:, hvp_names].copy()\n",
    "ad3_rna = ad3_rna[:, hvg_names].copy(); ad3_atac = ad3_atac[:, hvp_names].copy()\n",
    "\n",
    "## filter feat names\n",
    "filtered_atac_feats = [_ for _ in ad1_atac.var_names if _.startswith('chr')]\n",
    "ad1_atac = ad1_atac[:, filtered_atac_feats].copy()\n",
    "ad2_atac = ad2_atac[:, filtered_atac_feats].copy()\n",
    "ad3_atac = ad3_atac[:, filtered_atac_feats].copy()"
   ]
  },
  {
   "cell_type": "code",
   "execution_count": 6,
   "id": "c971eed2-91eb-402f-b4f8-69a21ceaa708",
   "metadata": {},
   "outputs": [],
   "source": [
    "RNA_ADS = [ad1_rna, ad2_rna, ad3_rna]\n",
    "ATAC_ADS = [ad1_atac, ad2_atac, ad3_atac]\n",
    "mod_dict = {'rna': RNA_ADS, 'atac':ATAC_ADS}\n",
    "n_batches = 3\n",
    "mod_sets = ['rna', 'atac']"
   ]
  },
  {
   "cell_type": "code",
   "execution_count": 7,
   "id": "9ebe40cb-bf4a-41f3-b461-73db4a9df093",
   "metadata": {
    "scrolled": true
   },
   "outputs": [],
   "source": [
    "work_dir = '/disco_500t/xuhua/gitrepo/dance/data'\n",
    "for i in range(3):\n",
    "    tmp_path = join(work_dir, f'MB_cv{i+1}/')\n",
    "    os.makedirs(tmp_path, exist_ok=True)\n",
    "    \n",
    "    train_idx = list(set(np.arange(3)) - set({i}))\n",
    "    test_idx  = [i]\n",
    "    train_rna_data = sc.concat([RNA_ADS[idx] for idx in train_idx])\n",
    "    test_rna_data  = sc.concat([RNA_ADS[idx] for idx in test_idx])\n",
    "    train_atac_data = sc.concat([ATAC_ADS[idx] for idx in train_idx])\n",
    "    test_atac_data  = sc.concat([ATAC_ADS[idx] for idx in test_idx])\n",
    "\n",
    "    input_train_mod1 = set_ad(train_rna_data, ref_batch_key='src', tg_batch_key='batch')\n",
    "    input_test_mod1 = set_ad(test_rna_data, ref_batch_key='src', tg_batch_key='batch')\n",
    "    input_train_mod2 = set_ad(train_atac_data, ref_batch_key='src', tg_batch_key='batch')\n",
    "    input_test_mod2 = set_ad(test_atac_data, ref_batch_key='src', tg_batch_key='batch')\n",
    "\n",
    "    input_train_mod1.var['feature_types'] = pd.Categorical(len(input_train_mod1.var_names)*['GEX'])\n",
    "    input_train_mod1.uns = {'dataset_id': 'mouse_brain', 'organism': 'mouse'}\n",
    "    input_train_mod1.layers['counts'] = input_train_mod1.X.copy()\n",
    "    input_train_mod2.var['feature_types'] = pd.Categorical(len(input_train_mod2.var_names)*['ATAC'])\n",
    "    input_train_mod2.uns = {'dataset_id': 'mouse_brain', 'organism': 'mouse'}\n",
    "    input_train_mod2.layers['counts'] = input_train_mod2.X.copy()\n",
    "    input_test_mod1.var['feature_types'] = pd.Categorical(len(input_test_mod1.var_names)*['GEX'])\n",
    "    input_test_mod1.uns = {'dataset_id': 'mouse_brain', 'organism': 'mouse'}\n",
    "    input_test_mod1.layers['counts'] = input_test_mod1.X.copy()\n",
    "    input_test_mod2.var['feature_types'] = pd.Categorical(len(input_test_mod2.var_names)*['ATAC'])\n",
    "    input_test_mod2.uns = {'dataset_id': 'mouse_brain', 'organism': 'mouse'}\n",
    "    input_test_mod2.layers['counts'] = input_test_mod2.X.copy()\n",
    "\n",
    "    input_train_mod1.write_h5ad(tmp_path + \"openproblems_bmmc_multiome_phase2_rna.censor_dataset.output_train_mod1.h5ad\", compression = None)\n",
    "    input_train_mod2.write_h5ad(tmp_path + \"openproblems_bmmc_multiome_phase2_rna.censor_dataset.output_train_mod2.h5ad\", compression = None)\n",
    "    input_test_mod1.write_h5ad(tmp_path + \"openproblems_bmmc_multiome_phase2_rna.censor_dataset.output_test_mod1.h5ad\", compression = None)\n",
    "    input_test_mod2.write_h5ad(tmp_path + \"openproblems_bmmc_multiome_phase2_rna.censor_dataset.output_test_mod2.h5ad\", compression = None)"
   ]
  },
  {
   "cell_type": "code",
   "execution_count": 8,
   "id": "0478ed8e-af08-464f-af17-2b817509ab8b",
   "metadata": {},
   "outputs": [],
   "source": [
    "import csv\n",
    "def csv_read(path, header=True, index=True):\n",
    "    res = []\n",
    "    with open(path, mode='r', newline='') as file:\n",
    "        reader = csv.reader(file)\n",
    "\n",
    "        for i,row in enumerate(reader):\n",
    "            if header and i==0:\n",
    "                continue\n",
    "            try:\n",
    "                float_row = [float(item) for item in row]\n",
    "                if index:\n",
    "                    float_row = float_row[1:]\n",
    "                res.append(float_row)  # Each row is now a list of floats\n",
    "            except ValueError as e:\n",
    "                print(f\"Error converting to float: {e}\")\n",
    "    res = np.vstack(res)   \n",
    "    return res"
   ]
  },
  {
   "cell_type": "code",
   "execution_count": 9,
   "id": "82a7bd17-c7fc-41c1-9d43-470a1ccfe30f",
   "metadata": {},
   "outputs": [
    {
     "name": "stdout",
     "output_type": "stream",
     "text": [
      "(2372, 49991)\n",
      "(2497, 49991)\n",
      "(9215, 49991)\n"
     ]
    }
   ],
   "source": [
    "out_dir = '/disco_500t/xuhua/gitrepo/dance/output/RNA2ATAC'\n",
    "\n",
    "for cv in range(3):\n",
    "    _dir = join(out_dir, f'MB_3slices_cv{cv+1}')\n",
    "    pr_X = csv_read(join(_dir, 'babel.csv'), index=True, header=True)\n",
    "    print(pr_X.shape)\n",
    "    ad_pr = sc.AnnData(pr_X, obs=ATAC_ADS[cv].obs.copy(), var=ATAC_ADS[cv].var.copy())\n",
    "    ad_pr.write_h5ad(f'/disco_500t/xuhua/gitrepo/BridgeNorm/figures/imputation/3slices_MB_RNA+ATAC/babel/cv{cv+1}_imputedATAC.h5ad')"
   ]
  },
  {
   "cell_type": "code",
   "execution_count": null,
   "id": "9f5c8c26-ab78-4dfc-be72-8e0be4463855",
   "metadata": {},
   "outputs": [],
   "source": []
  }
 ],
 "metadata": {
  "kernelspec": {
   "display_name": "dance",
   "language": "python",
   "name": "dance"
  },
  "language_info": {
   "codemirror_mode": {
    "name": "ipython",
    "version": 3
   },
   "file_extension": ".py",
   "mimetype": "text/x-python",
   "name": "python",
   "nbconvert_exporter": "python",
   "pygments_lexer": "ipython3",
   "version": "3.11.9"
  }
 },
 "nbformat": 4,
 "nbformat_minor": 5
}
